{
 "cells": [
  {
   "cell_type": "markdown",
   "metadata": {},
   "source": [
    "##SETUP"
   ]
  },
  {
   "cell_type": "code",
   "execution_count": 3,
   "metadata": {},
   "outputs": [
    {
     "data": {
      "text/html": [
       "<div>\n",
       "<style scoped>\n",
       "    .dataframe tbody tr th:only-of-type {\n",
       "        vertical-align: middle;\n",
       "    }\n",
       "\n",
       "    .dataframe tbody tr th {\n",
       "        vertical-align: top;\n",
       "    }\n",
       "\n",
       "    .dataframe thead th {\n",
       "        text-align: right;\n",
       "    }\n",
       "</style>\n",
       "<table border=\"1\" class=\"dataframe\">\n",
       "  <thead>\n",
       "    <tr style=\"text-align: right;\">\n",
       "      <th></th>\n",
       "      <th>grid_id</th>\n",
       "      <th>unit</th>\n",
       "      <th>probability</th>\n",
       "      <th>rank</th>\n",
       "      <th>rank_error</th>\n",
       "      <th>position</th>\n",
       "      <th>Age</th>\n",
       "    </tr>\n",
       "  </thead>\n",
       "  <tbody>\n",
       "    <tr>\n",
       "      <th>0</th>\n",
       "      <td>icon_0</td>\n",
       "      <td>crystal.png</td>\n",
       "      <td>185.0</td>\n",
       "      <td>2</td>\n",
       "      <td>605.0</td>\n",
       "      <td>[0, 0]</td>\n",
       "      <td>0.0</td>\n",
       "    </tr>\n",
       "    <tr>\n",
       "      <th>1</th>\n",
       "      <td>icon_1</td>\n",
       "      <td>crystal.png</td>\n",
       "      <td>385.0</td>\n",
       "      <td>3</td>\n",
       "      <td>178.5</td>\n",
       "      <td>[0, 1]</td>\n",
       "      <td>0.0</td>\n",
       "    </tr>\n",
       "    <tr>\n",
       "      <th>2</th>\n",
       "      <td>icon_2</td>\n",
       "      <td>dryad.png</td>\n",
       "      <td>291.0</td>\n",
       "      <td>2</td>\n",
       "      <td>585.0</td>\n",
       "      <td>[0, 2]</td>\n",
       "      <td>0.0</td>\n",
       "    </tr>\n",
       "    <tr>\n",
       "      <th>3</th>\n",
       "      <td>icon_3</td>\n",
       "      <td>monkey.png</td>\n",
       "      <td>556.0</td>\n",
       "      <td>2</td>\n",
       "      <td>610.0</td>\n",
       "      <td>[0, 3]</td>\n",
       "      <td>0.0</td>\n",
       "    </tr>\n",
       "    <tr>\n",
       "      <th>4</th>\n",
       "      <td>icon_4</td>\n",
       "      <td>hunter.png</td>\n",
       "      <td>249.0</td>\n",
       "      <td>3</td>\n",
       "      <td>213.0</td>\n",
       "      <td>[0, 4]</td>\n",
       "      <td>0.0</td>\n",
       "    </tr>\n",
       "    <tr>\n",
       "      <th>5</th>\n",
       "      <td>icon_5</td>\n",
       "      <td>monkey.png</td>\n",
       "      <td>324.0</td>\n",
       "      <td>1</td>\n",
       "      <td>1217.0</td>\n",
       "      <td>[1, 0]</td>\n",
       "      <td>0.0</td>\n",
       "    </tr>\n",
       "    <tr>\n",
       "      <th>6</th>\n",
       "      <td>icon_6</td>\n",
       "      <td>dryad.png</td>\n",
       "      <td>664.0</td>\n",
       "      <td>2</td>\n",
       "      <td>275.0</td>\n",
       "      <td>[1, 1]</td>\n",
       "      <td>0.0</td>\n",
       "    </tr>\n",
       "    <tr>\n",
       "      <th>7</th>\n",
       "      <td>icon_7</td>\n",
       "      <td>empty.png</td>\n",
       "      <td>999.0</td>\n",
       "      <td>0</td>\n",
       "      <td>0.0</td>\n",
       "      <td>[1, 2]</td>\n",
       "      <td>0.0</td>\n",
       "    </tr>\n",
       "    <tr>\n",
       "      <th>8</th>\n",
       "      <td>icon_8</td>\n",
       "      <td>hunter.png</td>\n",
       "      <td>670.0</td>\n",
       "      <td>1</td>\n",
       "      <td>1489.0</td>\n",
       "      <td>[1, 3]</td>\n",
       "      <td>0.0</td>\n",
       "    </tr>\n",
       "    <tr>\n",
       "      <th>9</th>\n",
       "      <td>icon_9</td>\n",
       "      <td>crystal.png</td>\n",
       "      <td>270.0</td>\n",
       "      <td>2</td>\n",
       "      <td>605.0</td>\n",
       "      <td>[1, 4]</td>\n",
       "      <td>0.0</td>\n",
       "    </tr>\n",
       "    <tr>\n",
       "      <th>10</th>\n",
       "      <td>icon_10</td>\n",
       "      <td>dryad.png</td>\n",
       "      <td>319.0</td>\n",
       "      <td>2</td>\n",
       "      <td>580.0</td>\n",
       "      <td>[2, 0]</td>\n",
       "      <td>0.0</td>\n",
       "    </tr>\n",
       "    <tr>\n",
       "      <th>11</th>\n",
       "      <td>icon_11</td>\n",
       "      <td>empty.png</td>\n",
       "      <td>999.0</td>\n",
       "      <td>0</td>\n",
       "      <td>0.0</td>\n",
       "      <td>[2, 1]</td>\n",
       "      <td>0.0</td>\n",
       "    </tr>\n",
       "    <tr>\n",
       "      <th>12</th>\n",
       "      <td>icon_12</td>\n",
       "      <td>monkey.png</td>\n",
       "      <td>581.0</td>\n",
       "      <td>3</td>\n",
       "      <td>213.0</td>\n",
       "      <td>[2, 2]</td>\n",
       "      <td>0.0</td>\n",
       "    </tr>\n",
       "    <tr>\n",
       "      <th>13</th>\n",
       "      <td>icon_13</td>\n",
       "      <td>dryad.png</td>\n",
       "      <td>458.0</td>\n",
       "      <td>1</td>\n",
       "      <td>1982.5</td>\n",
       "      <td>[2, 3]</td>\n",
       "      <td>0.0</td>\n",
       "    </tr>\n",
       "    <tr>\n",
       "      <th>14</th>\n",
       "      <td>icon_14</td>\n",
       "      <td>crystal.png</td>\n",
       "      <td>368.0</td>\n",
       "      <td>1</td>\n",
       "      <td>2216.5</td>\n",
       "      <td>[2, 4]</td>\n",
       "      <td>0.0</td>\n",
       "    </tr>\n",
       "  </tbody>\n",
       "</table>\n",
       "</div>"
      ],
      "text/plain": [
       "    grid_id         unit  probability  rank  rank_error position  Age\n",
       "0    icon_0  crystal.png        185.0     2       605.0   [0, 0]  0.0\n",
       "1    icon_1  crystal.png        385.0     3       178.5   [0, 1]  0.0\n",
       "2    icon_2    dryad.png        291.0     2       585.0   [0, 2]  0.0\n",
       "3    icon_3   monkey.png        556.0     2       610.0   [0, 3]  0.0\n",
       "4    icon_4   hunter.png        249.0     3       213.0   [0, 4]  0.0\n",
       "5    icon_5   monkey.png        324.0     1      1217.0   [1, 0]  0.0\n",
       "6    icon_6    dryad.png        664.0     2       275.0   [1, 1]  0.0\n",
       "7    icon_7    empty.png        999.0     0         0.0   [1, 2]  0.0\n",
       "8    icon_8   hunter.png        670.0     1      1489.0   [1, 3]  0.0\n",
       "9    icon_9  crystal.png        270.0     2       605.0   [1, 4]  0.0\n",
       "10  icon_10    dryad.png        319.0     2       580.0   [2, 0]  0.0\n",
       "11  icon_11    empty.png        999.0     0         0.0   [2, 1]  0.0\n",
       "12  icon_12   monkey.png        581.0     3       213.0   [2, 2]  0.0\n",
       "13  icon_13    dryad.png        458.0     1      1982.5   [2, 3]  0.0\n",
       "14  icon_14  crystal.png        368.0     1      2216.5   [2, 4]  0.0"
      ]
     },
     "metadata": {},
     "output_type": "display_data"
    }
   ],
   "source": [
    "import os\n",
    "import time\n",
    "import pandas as pd\n",
    "import numpy as np\n",
    "# Android ADB\n",
    "from scrcpy import Client, const\n",
    "\n",
    "# Image processing\n",
    "from PIL import Image\n",
    "import cv2\n",
    "import pytesseract\n",
    "# Notebook\n",
    "from IPython.display import display,clear_output\n",
    "from tqdm.notebook import trange, tqdm\n",
    "# internal\n",
    "import bot_core\n",
    "import bot_perception\n",
    "\n",
    "import importlib\n",
    "importlib.reload(bot_core)\n",
    "importlib.reload(bot_perception)\n",
    "\n",
    "bot = bot_core.Bot()\n",
    "# Evaluate grid to update OCR images\n",
    "names=bot.scan_grid()\n",
    "grid_df=bot_perception.grid_status(names)\n",
    "display(grid_df)"
   ]
  },
  {
   "cell_type": "code",
   "execution_count": 13,
   "metadata": {},
   "outputs": [
    {
     "data": {
      "text/plain": [
       "b'\\x01\\x00\\x00\\x00\\x04test'"
      ]
     },
     "execution_count": 13,
     "metadata": {},
     "output_type": "execute_result"
    }
   ],
   "source": [
    "# Check if alive\n",
    "bot.client.control.text(\"test\")\n"
   ]
  },
  {
   "cell_type": "code",
   "execution_count": 51,
   "metadata": {},
   "outputs": [],
   "source": [
    "bot.getScreen()"
   ]
  },
  {
   "cell_type": "markdown",
   "metadata": {},
   "source": [
    "## Get grid meta"
   ]
  },
  {
   "cell_type": "code",
   "execution_count": 4,
   "metadata": {},
   "outputs": [
    {
     "data": {
      "text/html": [
       "<div>\n",
       "<style scoped>\n",
       "    .dataframe tbody tr th:only-of-type {\n",
       "        vertical-align: middle;\n",
       "    }\n",
       "\n",
       "    .dataframe tbody tr th {\n",
       "        vertical-align: top;\n",
       "    }\n",
       "\n",
       "    .dataframe thead th {\n",
       "        text-align: right;\n",
       "    }\n",
       "</style>\n",
       "<table border=\"1\" class=\"dataframe\">\n",
       "  <thead>\n",
       "    <tr style=\"text-align: right;\">\n",
       "      <th></th>\n",
       "      <th>grid_id</th>\n",
       "      <th>unit</th>\n",
       "      <th>probability</th>\n",
       "      <th>rank</th>\n",
       "      <th>rank_error</th>\n",
       "      <th>position</th>\n",
       "      <th>Age</th>\n",
       "    </tr>\n",
       "  </thead>\n",
       "  <tbody>\n",
       "    <tr>\n",
       "      <th>0</th>\n",
       "      <td>icon_0</td>\n",
       "      <td>crystal.png</td>\n",
       "      <td>185.0</td>\n",
       "      <td>2</td>\n",
       "      <td>605.0</td>\n",
       "      <td>[0, 0]</td>\n",
       "      <td>1.0</td>\n",
       "    </tr>\n",
       "    <tr>\n",
       "      <th>1</th>\n",
       "      <td>icon_1</td>\n",
       "      <td>crystal.png</td>\n",
       "      <td>385.0</td>\n",
       "      <td>3</td>\n",
       "      <td>178.5</td>\n",
       "      <td>[0, 1]</td>\n",
       "      <td>1.0</td>\n",
       "    </tr>\n",
       "    <tr>\n",
       "      <th>2</th>\n",
       "      <td>icon_2</td>\n",
       "      <td>dryad.png</td>\n",
       "      <td>291.0</td>\n",
       "      <td>2</td>\n",
       "      <td>585.0</td>\n",
       "      <td>[0, 2]</td>\n",
       "      <td>1.0</td>\n",
       "    </tr>\n",
       "    <tr>\n",
       "      <th>3</th>\n",
       "      <td>icon_3</td>\n",
       "      <td>monkey.png</td>\n",
       "      <td>556.0</td>\n",
       "      <td>2</td>\n",
       "      <td>610.0</td>\n",
       "      <td>[0, 3]</td>\n",
       "      <td>1.0</td>\n",
       "    </tr>\n",
       "    <tr>\n",
       "      <th>4</th>\n",
       "      <td>icon_4</td>\n",
       "      <td>hunter.png</td>\n",
       "      <td>249.0</td>\n",
       "      <td>3</td>\n",
       "      <td>213.0</td>\n",
       "      <td>[0, 4]</td>\n",
       "      <td>1.0</td>\n",
       "    </tr>\n",
       "    <tr>\n",
       "      <th>5</th>\n",
       "      <td>icon_5</td>\n",
       "      <td>monkey.png</td>\n",
       "      <td>324.0</td>\n",
       "      <td>1</td>\n",
       "      <td>1217.0</td>\n",
       "      <td>[1, 0]</td>\n",
       "      <td>1.0</td>\n",
       "    </tr>\n",
       "    <tr>\n",
       "      <th>6</th>\n",
       "      <td>icon_6</td>\n",
       "      <td>dryad.png</td>\n",
       "      <td>664.0</td>\n",
       "      <td>2</td>\n",
       "      <td>275.0</td>\n",
       "      <td>[1, 1]</td>\n",
       "      <td>1.0</td>\n",
       "    </tr>\n",
       "    <tr>\n",
       "      <th>7</th>\n",
       "      <td>icon_7</td>\n",
       "      <td>empty.png</td>\n",
       "      <td>999.0</td>\n",
       "      <td>0</td>\n",
       "      <td>0.0</td>\n",
       "      <td>[1, 2]</td>\n",
       "      <td>1.0</td>\n",
       "    </tr>\n",
       "    <tr>\n",
       "      <th>8</th>\n",
       "      <td>icon_8</td>\n",
       "      <td>hunter.png</td>\n",
       "      <td>670.0</td>\n",
       "      <td>1</td>\n",
       "      <td>1489.0</td>\n",
       "      <td>[1, 3]</td>\n",
       "      <td>1.0</td>\n",
       "    </tr>\n",
       "    <tr>\n",
       "      <th>9</th>\n",
       "      <td>icon_9</td>\n",
       "      <td>crystal.png</td>\n",
       "      <td>270.0</td>\n",
       "      <td>2</td>\n",
       "      <td>605.0</td>\n",
       "      <td>[1, 4]</td>\n",
       "      <td>1.0</td>\n",
       "    </tr>\n",
       "    <tr>\n",
       "      <th>10</th>\n",
       "      <td>icon_10</td>\n",
       "      <td>dryad.png</td>\n",
       "      <td>319.0</td>\n",
       "      <td>2</td>\n",
       "      <td>580.0</td>\n",
       "      <td>[2, 0]</td>\n",
       "      <td>1.0</td>\n",
       "    </tr>\n",
       "    <tr>\n",
       "      <th>11</th>\n",
       "      <td>icon_11</td>\n",
       "      <td>empty.png</td>\n",
       "      <td>999.0</td>\n",
       "      <td>0</td>\n",
       "      <td>0.0</td>\n",
       "      <td>[2, 1]</td>\n",
       "      <td>1.0</td>\n",
       "    </tr>\n",
       "    <tr>\n",
       "      <th>12</th>\n",
       "      <td>icon_12</td>\n",
       "      <td>monkey.png</td>\n",
       "      <td>581.0</td>\n",
       "      <td>3</td>\n",
       "      <td>213.0</td>\n",
       "      <td>[2, 2]</td>\n",
       "      <td>1.0</td>\n",
       "    </tr>\n",
       "    <tr>\n",
       "      <th>13</th>\n",
       "      <td>icon_13</td>\n",
       "      <td>dryad.png</td>\n",
       "      <td>458.0</td>\n",
       "      <td>1</td>\n",
       "      <td>1982.5</td>\n",
       "      <td>[2, 3]</td>\n",
       "      <td>1.0</td>\n",
       "    </tr>\n",
       "    <tr>\n",
       "      <th>14</th>\n",
       "      <td>icon_14</td>\n",
       "      <td>crystal.png</td>\n",
       "      <td>368.0</td>\n",
       "      <td>1</td>\n",
       "      <td>2216.5</td>\n",
       "      <td>[2, 4]</td>\n",
       "      <td>1.0</td>\n",
       "    </tr>\n",
       "  </tbody>\n",
       "</table>\n",
       "</div>"
      ],
      "text/plain": [
       "    grid_id         unit  probability  rank  rank_error position  Age\n",
       "0    icon_0  crystal.png        185.0     2       605.0   [0, 0]  1.0\n",
       "1    icon_1  crystal.png        385.0     3       178.5   [0, 1]  1.0\n",
       "2    icon_2    dryad.png        291.0     2       585.0   [0, 2]  1.0\n",
       "3    icon_3   monkey.png        556.0     2       610.0   [0, 3]  1.0\n",
       "4    icon_4   hunter.png        249.0     3       213.0   [0, 4]  1.0\n",
       "5    icon_5   monkey.png        324.0     1      1217.0   [1, 0]  1.0\n",
       "6    icon_6    dryad.png        664.0     2       275.0   [1, 1]  1.0\n",
       "7    icon_7    empty.png        999.0     0         0.0   [1, 2]  1.0\n",
       "8    icon_8   hunter.png        670.0     1      1489.0   [1, 3]  1.0\n",
       "9    icon_9  crystal.png        270.0     2       605.0   [1, 4]  1.0\n",
       "10  icon_10    dryad.png        319.0     2       580.0   [2, 0]  1.0\n",
       "11  icon_11    empty.png        999.0     0         0.0   [2, 1]  1.0\n",
       "12  icon_12   monkey.png        581.0     3       213.0   [2, 2]  1.0\n",
       "13  icon_13    dryad.png        458.0     1      1982.5   [2, 3]  1.0\n",
       "14  icon_14  crystal.png        368.0     1      2216.5   [2, 4]  1.0"
      ]
     },
     "metadata": {},
     "output_type": "display_data"
    }
   ],
   "source": [
    "names=bot.scan_grid()\n",
    "grid_df=bot_perception.grid_status(names)\n",
    "grid_df=bot_perception.grid_status(names,grid_df)\n",
    "display(grid_df)\n",
    "prev_grid= grid_df.copy()"
   ]
  },
  {
   "cell_type": "code",
   "execution_count": 16,
   "metadata": {},
   "outputs": [
    {
     "data": {
      "text/html": [
       "<div>\n",
       "<style scoped>\n",
       "    .dataframe tbody tr th:only-of-type {\n",
       "        vertical-align: middle;\n",
       "    }\n",
       "\n",
       "    .dataframe tbody tr th {\n",
       "        vertical-align: top;\n",
       "    }\n",
       "\n",
       "    .dataframe thead th {\n",
       "        text-align: right;\n",
       "    }\n",
       "</style>\n",
       "<table border=\"1\" class=\"dataframe\">\n",
       "  <thead>\n",
       "    <tr style=\"text-align: right;\">\n",
       "      <th></th>\n",
       "      <th>grid_id</th>\n",
       "      <th>unit</th>\n",
       "      <th>probability</th>\n",
       "      <th>rank</th>\n",
       "      <th>rank_error</th>\n",
       "      <th>position</th>\n",
       "      <th>Age</th>\n",
       "    </tr>\n",
       "  </thead>\n",
       "  <tbody>\n",
       "    <tr>\n",
       "      <th>2</th>\n",
       "      <td>icon_2</td>\n",
       "      <td>dryad.png</td>\n",
       "      <td>291.0</td>\n",
       "      <td>2</td>\n",
       "      <td>585.0</td>\n",
       "      <td>[0, 2]</td>\n",
       "      <td>1.0</td>\n",
       "    </tr>\n",
       "    <tr>\n",
       "      <th>10</th>\n",
       "      <td>icon_10</td>\n",
       "      <td>dryad.png</td>\n",
       "      <td>319.0</td>\n",
       "      <td>2</td>\n",
       "      <td>580.0</td>\n",
       "      <td>[2, 0]</td>\n",
       "      <td>1.0</td>\n",
       "    </tr>\n",
       "  </tbody>\n",
       "</table>\n",
       "</div>"
      ],
      "text/plain": [
       "    grid_id       unit  probability  rank  rank_error position  Age\n",
       "2    icon_2  dryad.png        291.0     2       585.0   [0, 2]  1.0\n",
       "10  icon_10  dryad.png        319.0     2       580.0   [2, 0]  1.0"
      ]
     },
     "execution_count": 16,
     "metadata": {},
     "output_type": "execute_result"
    }
   ],
   "source": [
    "df_split,unit_series, df_groups, group_keys=bot_core.grid_meta_info(grid_df)\n",
    "#unit_series.drop(labels='empty.png',level=0)\n",
    "merge_series = unit_series[unit_series>2]\n",
    "merge_target =  merge_series.sample().index[0]\n",
    "merge_df=df_split.get_group(merge_target)\n",
    "merge_df.sample(n=2)"
   ]
  },
  {
   "cell_type": "code",
   "execution_count": 82,
   "metadata": {},
   "outputs": [],
   "source": [
    "# Returns all elements which match tokens value\n",
    "def filter_keys(unit_series,tokens,remove=False):\n",
    "    # Add detection of dimension in input tokens\n",
    "    merge_series= unit_series\n",
    "    for level in tokens:\n",
    "        series= []\n",
    "        for token in level:\n",
    "            # check if given token is int, assume unit rank filter\n",
    "            if isinstance(token,int):\n",
    "                exists = merge_series.index.get_level_values('rank').isin([token]).any()\n",
    "                series.append(merge_series.xs(token, level='rank',drop_level=False) if exists else pd.Series(dtype=object))\n",
    "            else:\n",
    "                series.append(merge_series.xs(token, level='unit',drop_level=False) if token in merge_series else pd.Series(dtype=object))\n",
    "        merge_series = pd.concat(series)\n",
    "    if remove:\n",
    "        merge_series = unit_series[~unit_series.index.isin(merge_series.index)]\n",
    "    return merge_series\n",
    "# Remove tuple tokens from unit series\n",
    "def remove_keys(unit_series,tokens = [('empty.png', 0)]):\n",
    "    return unit_series[~unit_series.index.isin(tokens)]"
   ]
  },
  {
   "cell_type": "code",
   "execution_count": 76,
   "metadata": {},
   "outputs": [
    {
     "name": "stdout",
     "output_type": "stream",
     "text": [
      "3\n",
      "4\n",
      "5\n"
     ]
    }
   ],
   "source": [
    "for level in [[3,4,5]]:\n",
    "    for token in level:\n",
    "        print(token)"
   ]
  },
  {
   "cell_type": "code",
   "execution_count": 85,
   "metadata": {},
   "outputs": [
    {
     "data": {
      "text/plain": [
       "unit         rank\n",
       "dryad.png    2       3\n",
       "crystal.png  2       2\n",
       "empty.png    0       2\n",
       "crystal.png  1       1\n",
       "dryad.png    1       1\n",
       "hunter.png   1       1\n",
       "             3       1\n",
       "monkey.png   1       1\n",
       "             2       1\n",
       "             3       1\n",
       "Name: unit, dtype: int64"
      ]
     },
     "execution_count": 85,
     "metadata": {},
     "output_type": "execute_result"
    }
   ],
   "source": [
    "merge_series = unit_series\n",
    "filter_keys(merge_series,[\n",
    "    [3,4,5],\n",
    "    ['crystal.png']\n",
    "    ],remove=True)"
   ]
  },
  {
   "cell_type": "code",
   "execution_count": 74,
   "metadata": {},
   "outputs": [
    {
     "ename": "TypeError",
     "evalue": "unhashable type: 'list'",
     "output_type": "error",
     "traceback": [
      "\u001b[1;31m---------------------------------------------------------------------------\u001b[0m",
      "\u001b[1;31mTypeError\u001b[0m                                 Traceback (most recent call last)",
      "\u001b[1;32mc:\\Code\\Rush-Royale-Bot\\combat_logic.ipynb Cell 11'\u001b[0m in \u001b[0;36m<cell line: 1>\u001b[1;34m()\u001b[0m\n\u001b[1;32m----> <a href='vscode-notebook-cell:/c%3A/Code/Rush-Royale-Bot/combat_logic.ipynb#ch0000034?line=0'>1</a>\u001b[0m keep_series \u001b[39m=\u001b[39m filter_keys(merge_series,[[\u001b[39m3\u001b[39;49m,\u001b[39m4\u001b[39;49m,\u001b[39m5\u001b[39;49m]])\n",
      "\u001b[1;32mc:\\Code\\Rush-Royale-Bot\\combat_logic.ipynb Cell 8'\u001b[0m in \u001b[0;36mfilter_keys\u001b[1;34m(unit_series, tokens, remove)\u001b[0m\n\u001b[0;32m      <a href='vscode-notebook-cell:/c%3A/Code/Rush-Royale-Bot/combat_logic.ipynb#ch0000024?line=8'>9</a>\u001b[0m             series\u001b[39m.\u001b[39mappend(unit_series\u001b[39m.\u001b[39mxs(token, level\u001b[39m=\u001b[39m\u001b[39m'\u001b[39m\u001b[39mrank\u001b[39m\u001b[39m'\u001b[39m,drop_level\u001b[39m=\u001b[39m\u001b[39mFalse\u001b[39;00m) \u001b[39mif\u001b[39;00m exists \u001b[39melse\u001b[39;00m pd\u001b[39m.\u001b[39mSeries(dtype\u001b[39m=\u001b[39m\u001b[39mobject\u001b[39m))\n\u001b[0;32m     <a href='vscode-notebook-cell:/c%3A/Code/Rush-Royale-Bot/combat_logic.ipynb#ch0000024?line=9'>10</a>\u001b[0m         \u001b[39melse\u001b[39;00m:\n\u001b[1;32m---> <a href='vscode-notebook-cell:/c%3A/Code/Rush-Royale-Bot/combat_logic.ipynb#ch0000024?line=10'>11</a>\u001b[0m             series\u001b[39m.\u001b[39mappend(unit_series\u001b[39m.\u001b[39mxs(token, level\u001b[39m=\u001b[39m\u001b[39m'\u001b[39m\u001b[39munit\u001b[39m\u001b[39m'\u001b[39m,drop_level\u001b[39m=\u001b[39m\u001b[39mFalse\u001b[39;00m) \u001b[39mif\u001b[39;00m token \u001b[39min\u001b[39;49;00m unit_series \u001b[39melse\u001b[39;00m pd\u001b[39m.\u001b[39mSeries(dtype\u001b[39m=\u001b[39m\u001b[39mobject\u001b[39m))\n\u001b[0;32m     <a href='vscode-notebook-cell:/c%3A/Code/Rush-Royale-Bot/combat_logic.ipynb#ch0000024?line=11'>12</a>\u001b[0m filtered_series \u001b[39m=\u001b[39m pd\u001b[39m.\u001b[39mconcat(series)\n\u001b[0;32m     <a href='vscode-notebook-cell:/c%3A/Code/Rush-Royale-Bot/combat_logic.ipynb#ch0000024?line=12'>13</a>\u001b[0m \u001b[39mif\u001b[39;00m remove:\n",
      "File \u001b[1;32mc:\\Users\\axelb\\.conda\\envs\\Rush-Royale-Bot\\lib\\site-packages\\pandas\\core\\generic.py:1994\u001b[0m, in \u001b[0;36mNDFrame.__contains__\u001b[1;34m(self, key)\u001b[0m\n\u001b[0;32m   <a href='file:///c%3A/Users/axelb/.conda/envs/Rush-Royale-Bot/lib/site-packages/pandas/core/generic.py?line=1990'>1991</a>\u001b[0m \u001b[39m@final\u001b[39m\n\u001b[0;32m   <a href='file:///c%3A/Users/axelb/.conda/envs/Rush-Royale-Bot/lib/site-packages/pandas/core/generic.py?line=1991'>1992</a>\u001b[0m \u001b[39mdef\u001b[39;00m \u001b[39m__contains__\u001b[39m(\u001b[39mself\u001b[39m, key) \u001b[39m-\u001b[39m\u001b[39m>\u001b[39m bool_t:\n\u001b[0;32m   <a href='file:///c%3A/Users/axelb/.conda/envs/Rush-Royale-Bot/lib/site-packages/pandas/core/generic.py?line=1992'>1993</a>\u001b[0m     \u001b[39m\"\"\"True if the key is in the info axis\"\"\"\u001b[39;00m\n\u001b[1;32m-> <a href='file:///c%3A/Users/axelb/.conda/envs/Rush-Royale-Bot/lib/site-packages/pandas/core/generic.py?line=1993'>1994</a>\u001b[0m     \u001b[39mreturn\u001b[39;00m key \u001b[39min\u001b[39;49;00m \u001b[39mself\u001b[39;49m\u001b[39m.\u001b[39;49m_info_axis\n",
      "File \u001b[1;32mc:\\Users\\axelb\\.conda\\envs\\Rush-Royale-Bot\\lib\\site-packages\\pandas\\core\\indexes\\multi.py:1223\u001b[0m, in \u001b[0;36mMultiIndex.__contains__\u001b[1;34m(self, key)\u001b[0m\n\u001b[0;32m   <a href='file:///c%3A/Users/axelb/.conda/envs/Rush-Royale-Bot/lib/site-packages/pandas/core/indexes/multi.py?line=1220'>1221</a>\u001b[0m \u001b[39m@doc\u001b[39m(Index\u001b[39m.\u001b[39m\u001b[39m__contains__\u001b[39m)\n\u001b[0;32m   <a href='file:///c%3A/Users/axelb/.conda/envs/Rush-Royale-Bot/lib/site-packages/pandas/core/indexes/multi.py?line=1221'>1222</a>\u001b[0m \u001b[39mdef\u001b[39;00m \u001b[39m__contains__\u001b[39m(\u001b[39mself\u001b[39m, key: Any) \u001b[39m-\u001b[39m\u001b[39m>\u001b[39m \u001b[39mbool\u001b[39m:\n\u001b[1;32m-> <a href='file:///c%3A/Users/axelb/.conda/envs/Rush-Royale-Bot/lib/site-packages/pandas/core/indexes/multi.py?line=1222'>1223</a>\u001b[0m     \u001b[39mhash\u001b[39;49m(key)\n\u001b[0;32m   <a href='file:///c%3A/Users/axelb/.conda/envs/Rush-Royale-Bot/lib/site-packages/pandas/core/indexes/multi.py?line=1223'>1224</a>\u001b[0m     \u001b[39mtry\u001b[39;00m:\n\u001b[0;32m   <a href='file:///c%3A/Users/axelb/.conda/envs/Rush-Royale-Bot/lib/site-packages/pandas/core/indexes/multi.py?line=1224'>1225</a>\u001b[0m         \u001b[39mself\u001b[39m\u001b[39m.\u001b[39mget_loc(key)\n",
      "\u001b[1;31mTypeError\u001b[0m: unhashable type: 'list'"
     ]
    }
   ],
   "source": [
    "keep_series = filter_keys(merge_series,[[3,4,5],['crystal.png']],True)\n"
   ]
  },
  {
   "cell_type": "code",
   "execution_count": 66,
   "metadata": {},
   "outputs": [
    {
     "data": {
      "text/plain": [
       "unit        rank\n",
       "hunter.png  3       1\n",
       "monkey.png  3       1\n",
       "dtype: int64"
      ]
     },
     "execution_count": 66,
     "metadata": {},
     "output_type": "execute_result"
    }
   ],
   "source": [
    "merge_series = unit_series\n",
    "# Remove all high level crystals\n",
    "keep_series = filter_keys(merge_series,[3,4,5])\n",
    "merge_series = filter_keys(keep_series,['crystal.png'],True)\n",
    "merge_series"
   ]
  },
  {
   "cell_type": "code",
   "execution_count": 61,
   "metadata": {},
   "outputs": [
    {
     "data": {
      "text/plain": [
       "unit        rank\n",
       "hunter.png  3       1\n",
       "monkey.png  3       1\n",
       "dtype: int64"
      ]
     },
     "execution_count": 61,
     "metadata": {},
     "output_type": "execute_result"
    }
   ],
   "source": [
    "filter_keys(filter_keys(unit_series,[3,4,5]),['crystal.png'],True)\n"
   ]
  },
  {
   "cell_type": "code",
   "execution_count": 34,
   "metadata": {},
   "outputs": [
    {
     "data": {
      "text/plain": [
       "array([False,  True, False,  True, False, False, False, False, False,\n",
       "       False, False])"
      ]
     },
     "execution_count": 34,
     "metadata": {},
     "output_type": "execute_result"
    }
   ],
   "source": [
    "# Remove tuple tokens from unit series\n",
    "def remove_keys(unit_series,tokens = [('empty.png', 0)]):\n",
    "    return unit_series[~unit_series.index.isin([tokens])]\n",
    "merge_series "
   ]
  },
  {
   "cell_type": "code",
   "execution_count": 37,
   "metadata": {},
   "outputs": [
    {
     "data": {
      "text/plain": [
       "unit         rank\n",
       "dryad.png    2       3\n",
       "empty.png    0       2\n",
       "crystal.png  3       1\n",
       "dryad.png    1       1\n",
       "hunter.png   1       1\n",
       "             3       1\n",
       "monkey.png   1       1\n",
       "             2       1\n",
       "             3       1\n",
       "Name: unit, dtype: int64"
      ]
     },
     "execution_count": 37,
     "metadata": {},
     "output_type": "execute_result"
    }
   ],
   "source": [
    "merge_series[~merge_series.index.isin([('crystal.png', 1),('crystal.png', 2)])]"
   ]
  },
  {
   "cell_type": "code",
   "execution_count": 30,
   "metadata": {},
   "outputs": [
    {
     "data": {
      "text/plain": [
       "unit         rank\n",
       "dryad.png    2       3\n",
       "crystal.png  2       2\n",
       "empty.png    0       2\n",
       "crystal.png  3       1\n",
       "dryad.png    1       1\n",
       "hunter.png   1       1\n",
       "             3       1\n",
       "monkey.png   1       1\n",
       "             2       1\n",
       "             3       1\n",
       "Name: unit, dtype: int64"
      ]
     },
     "execution_count": 30,
     "metadata": {},
     "output_type": "execute_result"
    }
   ],
   "source": [
    "merge_series[merge_series.index !=('crystal.png', 1)]"
   ]
  },
  {
   "cell_type": "code",
   "execution_count": 29,
   "metadata": {},
   "outputs": [
    {
     "data": {
      "text/plain": [
       "unit         rank\n",
       "dryad.png    2       3\n",
       "crystal.png  2       2\n",
       "empty.png    0       2\n",
       "crystal.png  1       1\n",
       "             3       1\n",
       "dryad.png    1       1\n",
       "hunter.png   1       1\n",
       "             3       1\n",
       "monkey.png   1       1\n",
       "             2       1\n",
       "             3       1\n",
       "Name: unit, dtype: int64"
      ]
     },
     "execution_count": 29,
     "metadata": {},
     "output_type": "execute_result"
    }
   ],
   "source": [
    "merge_series"
   ]
  },
  {
   "cell_type": "code",
   "execution_count": null,
   "metadata": {},
   "outputs": [],
   "source": []
  }
 ],
 "metadata": {
  "interpreter": {
   "hash": "222f52f3d4ea82340b8e438915cd2cce29310e9a34a09f1d931c12bfa7062449"
  },
  "kernelspec": {
   "display_name": "Python 3.9.12 ('Rush-Royale-Bot')",
   "language": "python",
   "name": "python3"
  },
  "language_info": {
   "codemirror_mode": {
    "name": "ipython",
    "version": 3
   },
   "file_extension": ".py",
   "mimetype": "text/x-python",
   "name": "python",
   "nbconvert_exporter": "python",
   "pygments_lexer": "ipython3",
   "version": "3.9.12"
  },
  "orig_nbformat": 4
 },
 "nbformat": 4,
 "nbformat_minor": 2
}
