{
 "cells": [
  {
   "cell_type": "markdown",
   "metadata": {},
   "source": [
    "##SETUP"
   ]
  },
  {
   "cell_type": "code",
   "execution_count": 3,
   "metadata": {},
   "outputs": [
    {
     "name": "stdout",
     "output_type": "stream",
     "text": [
      "Log file is already open\n"
     ]
    }
   ],
   "source": [
    "import os\n",
    "import sys\n",
    "import time\n",
    "import pandas as pd\n",
    "import numpy as np\n",
    "# Android ADB\n",
    "from scrcpy import Client, const\n",
    "\n",
    "# Image processing\n",
    "from PIL import Image\n",
    "import cv2\n",
    "# Notebook\n",
    "from IPython.display import display,clear_output\n",
    "from tqdm.notebook import trange, tqdm\n",
    "# internal\n",
    "sys.path.append('./src')\n",
    "import bot_core\n",
    "import bot_perception\n",
    "import port_scan\n",
    "\n",
    "\n",
    "import importlib\n",
    "# reload all internal to update changes\n",
    "importlib.reload(bot_core)\n",
    "importlib.reload(bot_perception)\n",
    "\n",
    "\n",
    "\n",
    "bot = bot_core.Bot()"
   ]
  },
  {
   "cell_type": "code",
   "execution_count": null,
   "metadata": {},
   "outputs": [],
   "source": []
  },
  {
   "cell_type": "code",
   "execution_count": null,
   "metadata": {},
   "outputs": [],
   "source": [
    "# Check if alive\n",
    "bot.client.control.text(\"test\")\n"
   ]
  },
  {
   "cell_type": "markdown",
   "metadata": {},
   "source": [
    "## Curse detection"
   ]
  },
  {
   "cell_type": "code",
   "execution_count": 2,
   "metadata": {},
   "outputs": [
    {
     "data": {
      "image/png": "[encoded data removed]",
      "text/plain": [
       "<PIL.Image.Image image mode=RGB size=5x5>"
      ]
     },
     "metadata": {},
     "output_type": "display_data"
    }
   ],
   "source": [
    "filename = 'curse_unit.png'\n",
    "img_rgb = cv2.imread(filename)\n",
    "# Take 5x5 pixels from each corner\n",
    "img_rgb = img_rgb[y:y + 5, x:x + 5]\n",
    "cv2.imwrite(name, img_rgb)\n",
    "img_rgb = cv2.cvtColor(img_rgb, cv2.COLOR_BGR2RGB)\n",
    "display(Image.fromarray(img_rgb))\n"
   ]
  },
  {
   "cell_type": "code",
   "execution_count": null,
   "metadata": {},
   "outputs": [],
   "source": [
    "import numpy\n",
    "\n",
    "# Check for cursed tiles\n",
    "def is_cursed(filename):\n",
    "    img_rgb = cv2.imread(filename)\n",
    "    #crop_unit = img_rgb[15:15 + 90, 17:17 + 90]\n",
    "    # Create empyty numpy array for color values\n",
    "    avg_color = []\n",
    "    # Take 5x5 pixels from each corner and looks at color to determine if it is a cursed tile\n",
    "    for x in [0,115]:\n",
    "        img_edge = img_rgb[5:105, x:x + 5]\n",
    "        avg_color_per_row = np.average(img_edge, axis=1)\n",
    "\n",
    "        color = np.average(avg_color_per_row, axis=0)\n",
    "        print('\\n',color)\n",
    "        print(avg_color_per_row)\n",
    "        avg_color.append(color)\n",
    "        img_edge = cv2.cvtColor(img_edge, cv2.COLOR_BGR2RGB)\n",
    "        display(Image.fromarray(img_edge))\n",
    "    # Check how far each corner is from reference color (cv2 BGR format)\n",
    "    delta_color = np.array(avg_color) - [153, 36, 91]\n",
    "\n",
    "    return np.all(delta_color < 10)\n",
    "\n",
    "#for i in range(15):\n",
    "#    filename = f'OCR_inputs/icon_{str(i)}.png'\n",
    "#    print(filename,is_cursed(filename))\n",
    "filename = 'curse_unit.png'\n",
    "print(filename,is_cursed(filename))"
   ]
  },
  {
   "cell_type": "code",
   "execution_count": 26,
   "metadata": {},
   "outputs": [
    {
     "data": {
      "text/plain": [
       "array([0., 0., 0.])"
      ]
     },
     "execution_count": 26,
     "metadata": {},
     "output_type": "execute_result"
    }
   ],
   "source": [
    "np.zeros(3)\n"
   ]
  },
  {
   "cell_type": "code",
   "execution_count": 13,
   "metadata": {},
   "outputs": [
    {
     "data": {
      "text/plain": [
       "(0, 0)"
      ]
     },
     "execution_count": 13,
     "metadata": {},
     "output_type": "execute_result"
    }
   ],
   "source": [
    "next(zip(x_val,y_val))"
   ]
  },
  {
   "cell_type": "markdown",
   "metadata": {},
   "source": [
    "## Look for icons"
   ]
  },
  {
   "cell_type": "code",
   "execution_count": null,
   "metadata": {},
   "outputs": [],
   "source": [
    "# Check current screen\n",
    "bot.get_current_icons(False,available=True)"
   ]
  },
  {
   "cell_type": "code",
   "execution_count": null,
   "metadata": {},
   "outputs": [],
   "source": [
    "bot.getScreen()"
   ]
  },
  {
   "cell_type": "code",
   "execution_count": 36,
   "metadata": {},
   "outputs": [
    {
     "data": {
      "text/html": [
       "<div>\n",
       "<style scoped>\n",
       "    .dataframe tbody tr th:only-of-type {\n",
       "        vertical-align: middle;\n",
       "    }\n",
       "\n",
       "    .dataframe tbody tr th {\n",
       "        vertical-align: top;\n",
       "    }\n",
       "\n",
       "    .dataframe thead th {\n",
       "        text-align: right;\n",
       "    }\n",
       "</style>\n",
       "<table border=\"1\" class=\"dataframe\">\n",
       "  <thead>\n",
       "    <tr style=\"text-align: right;\">\n",
       "      <th></th>\n",
       "      <th>grid_pos</th>\n",
       "      <th>unit</th>\n",
       "      <th>probability</th>\n",
       "      <th>rank</th>\n",
       "      <th>rank_prob</th>\n",
       "      <th>Age</th>\n",
       "    </tr>\n",
       "  </thead>\n",
       "  <tbody>\n",
       "    <tr>\n",
       "      <th>0</th>\n",
       "      <td>[0, 0]</td>\n",
       "      <td>empty.png</td>\n",
       "      <td>999.0</td>\n",
       "      <td>0</td>\n",
       "      <td>1.000000</td>\n",
       "      <td>0.0</td>\n",
       "    </tr>\n",
       "    <tr>\n",
       "      <th>1</th>\n",
       "      <td>[0, 1]</td>\n",
       "      <td>dryad.png</td>\n",
       "      <td>291.0</td>\n",
       "      <td>2</td>\n",
       "      <td>0.999996</td>\n",
       "      <td>0.0</td>\n",
       "    </tr>\n",
       "    <tr>\n",
       "      <th>2</th>\n",
       "      <td>[0, 2]</td>\n",
       "      <td>dryad.png</td>\n",
       "      <td>368.0</td>\n",
       "      <td>2</td>\n",
       "      <td>1.000000</td>\n",
       "      <td>0.0</td>\n",
       "    </tr>\n",
       "    <tr>\n",
       "      <th>3</th>\n",
       "      <td>[0, 3]</td>\n",
       "      <td>dryad.png</td>\n",
       "      <td>585.0</td>\n",
       "      <td>2</td>\n",
       "      <td>0.999999</td>\n",
       "      <td>0.0</td>\n",
       "    </tr>\n",
       "    <tr>\n",
       "      <th>4</th>\n",
       "      <td>[0, 4]</td>\n",
       "      <td>empty.png</td>\n",
       "      <td>700.0</td>\n",
       "      <td>1</td>\n",
       "      <td>0.999460</td>\n",
       "      <td>0.0</td>\n",
       "    </tr>\n",
       "    <tr>\n",
       "      <th>5</th>\n",
       "      <td>[1, 0]</td>\n",
       "      <td>dryad.png</td>\n",
       "      <td>449.0</td>\n",
       "      <td>2</td>\n",
       "      <td>1.000000</td>\n",
       "      <td>0.0</td>\n",
       "    </tr>\n",
       "    <tr>\n",
       "      <th>6</th>\n",
       "      <td>[1, 1]</td>\n",
       "      <td>dryad.png</td>\n",
       "      <td>216.0</td>\n",
       "      <td>2</td>\n",
       "      <td>0.999999</td>\n",
       "      <td>0.0</td>\n",
       "    </tr>\n",
       "    <tr>\n",
       "      <th>7</th>\n",
       "      <td>[1, 2]</td>\n",
       "      <td>empty.png</td>\n",
       "      <td>700.0</td>\n",
       "      <td>1</td>\n",
       "      <td>1.000000</td>\n",
       "      <td>0.0</td>\n",
       "    </tr>\n",
       "    <tr>\n",
       "      <th>8</th>\n",
       "      <td>[1, 3]</td>\n",
       "      <td>zealot.png</td>\n",
       "      <td>462.0</td>\n",
       "      <td>2</td>\n",
       "      <td>1.000000</td>\n",
       "      <td>0.0</td>\n",
       "    </tr>\n",
       "    <tr>\n",
       "      <th>9</th>\n",
       "      <td>[1, 4]</td>\n",
       "      <td>dryad.png</td>\n",
       "      <td>242.0</td>\n",
       "      <td>1</td>\n",
       "      <td>1.000000</td>\n",
       "      <td>0.0</td>\n",
       "    </tr>\n",
       "    <tr>\n",
       "      <th>10</th>\n",
       "      <td>[2, 0]</td>\n",
       "      <td>zealot.png</td>\n",
       "      <td>485.0</td>\n",
       "      <td>1</td>\n",
       "      <td>1.000000</td>\n",
       "      <td>0.0</td>\n",
       "    </tr>\n",
       "    <tr>\n",
       "      <th>11</th>\n",
       "      <td>[2, 1]</td>\n",
       "      <td>dryad.png</td>\n",
       "      <td>218.0</td>\n",
       "      <td>2</td>\n",
       "      <td>0.999999</td>\n",
       "      <td>0.0</td>\n",
       "    </tr>\n",
       "    <tr>\n",
       "      <th>12</th>\n",
       "      <td>[2, 2]</td>\n",
       "      <td>empty.png</td>\n",
       "      <td>999.0</td>\n",
       "      <td>0</td>\n",
       "      <td>1.000000</td>\n",
       "      <td>0.0</td>\n",
       "    </tr>\n",
       "    <tr>\n",
       "      <th>13</th>\n",
       "      <td>[2, 3]</td>\n",
       "      <td>dryad.png</td>\n",
       "      <td>588.0</td>\n",
       "      <td>2</td>\n",
       "      <td>0.999995</td>\n",
       "      <td>0.0</td>\n",
       "    </tr>\n",
       "    <tr>\n",
       "      <th>14</th>\n",
       "      <td>[2, 4]</td>\n",
       "      <td>empty.png</td>\n",
       "      <td>700.0</td>\n",
       "      <td>1</td>\n",
       "      <td>0.999762</td>\n",
       "      <td>0.0</td>\n",
       "    </tr>\n",
       "  </tbody>\n",
       "</table>\n",
       "</div>"
      ],
      "text/plain": [
       "   grid_pos        unit  probability  rank  rank_prob  Age\n",
       "0    [0, 0]   empty.png        999.0     0   1.000000  0.0\n",
       "1    [0, 1]   dryad.png        291.0     2   0.999996  0.0\n",
       "2    [0, 2]   dryad.png        368.0     2   1.000000  0.0\n",
       "3    [0, 3]   dryad.png        585.0     2   0.999999  0.0\n",
       "4    [0, 4]   empty.png        700.0     1   0.999460  0.0\n",
       "5    [1, 0]   dryad.png        449.0     2   1.000000  0.0\n",
       "6    [1, 1]   dryad.png        216.0     2   0.999999  0.0\n",
       "7    [1, 2]   empty.png        700.0     1   1.000000  0.0\n",
       "8    [1, 3]  zealot.png        462.0     2   1.000000  0.0\n",
       "9    [1, 4]   dryad.png        242.0     1   1.000000  0.0\n",
       "10   [2, 0]  zealot.png        485.0     1   1.000000  0.0\n",
       "11   [2, 1]   dryad.png        218.0     2   0.999999  0.0\n",
       "12   [2, 2]   empty.png        999.0     0   1.000000  0.0\n",
       "13   [2, 3]   dryad.png        588.0     2   0.999995  0.0\n",
       "14   [2, 4]   empty.png        700.0     1   0.999762  0.0"
      ]
     },
     "metadata": {},
     "output_type": "display_data"
    }
   ],
   "source": [
    "names=bot.scan_grid(new=False)\n",
    "grid_df=bot_perception.grid_status(names)\n",
    "df_split,unit_series, df_groups, group_keys=bot_core.grid_meta_info(grid_df)\n",
    "display(grid_df)"
   ]
  },
  {
   "cell_type": "code",
   "execution_count": 13,
   "metadata": {},
   "outputs": [
    {
     "data": {
      "text/plain": [
       "'empty'"
      ]
     },
     "execution_count": 13,
     "metadata": {},
     "output_type": "execute_result"
    }
   ],
   "source": [
    "unit_guess= bot_perception.match_unit('machine_learning/raw_input/2_raw_690.png')\n",
    "unit_guess[1].split('.')[0]"
   ]
  },
  {
   "cell_type": "markdown",
   "metadata": {},
   "source": [
    "## Unit v2"
   ]
  },
  {
   "cell_type": "code",
   "execution_count": 6,
   "metadata": {},
   "outputs": [],
   "source": [
    "dataset = os.listdir(\"units\")\n",
    "\n",
    "units = [cv2.imread('units/'+unit) for unit in dataset]"
   ]
  },
  {
   "cell_type": "code",
   "execution_count": 10,
   "metadata": {},
   "outputs": [
    {
     "data": {
      "image/png": "[encoded data removed]",
      "text/plain": [
       "<PIL.Image.Image image mode=RGB size=20x20>"
      ]
     },
     "metadata": {},
     "output_type": "display_data"
    },
    {
     "data": {
      "image/png": "[encoded data removed]",
      "text/plain": [
       "<PIL.Image.Image image mode=RGB size=20x20>"
      ]
     },
     "metadata": {},
     "output_type": "display_data"
    },
    {
     "data": {
      "image/png": "[encoded data removed]",
      "text/plain": [
       "<PIL.Image.Image image mode=RGB size=20x20>"
      ]
     },
     "metadata": {},
     "output_type": "display_data"
    },
    {
     "data": {
      "image/png": "[encoded data removed]",
      "text/plain": [
       "<PIL.Image.Image image mode=RGB size=20x20>"
      ]
     },
     "metadata": {},
     "output_type": "display_data"
    },
    {
     "data": {
      "image/png": "[encoded data removed]",
      "text/plain": [
       "<PIL.Image.Image image mode=RGB size=20x20>"
      ]
     },
     "metadata": {},
     "output_type": "display_data"
    }
   ],
   "source": [
    "# RGB mode\n",
    "x=10;y=60;dy=20;dx=20\n",
    "unit_crop = [unit[y:y + dy, x:x + dx] for unit in units]\n",
    "unit_crop\n",
    "for unit in unit_crop:\n",
    "    img_rgb = cv2.cvtColor(unit, cv2.COLOR_BGR2RGB)\n",
    "    display(Image.fromarray(img_rgb))\n"
   ]
  },
  {
   "cell_type": "code",
   "execution_count": 5,
   "metadata": {},
   "outputs": [
    {
     "ename": "NameError",
     "evalue": "name 'units' is not defined",
     "output_type": "error",
     "traceback": [
      "\u001b[1;31m---------------------------------------------------------------------------\u001b[0m",
      "\u001b[1;31mNameError\u001b[0m                                 Traceback (most recent call last)",
      "\u001b[1;32mc:\\Code\\Rush-Royale-Bot\\recognize.ipynb Cell 12\u001b[0m in \u001b[0;36m<cell line: 1>\u001b[1;34m()\u001b[0m\n\u001b[1;32m----> <a href='vscode-notebook-cell:/c%3A/Code/Rush-Royale-Bot/recognize.ipynb#ch0000011?line=0'>1</a>\u001b[0m unit_rgb \u001b[39m=\u001b[39m [cv2\u001b[39m.\u001b[39mcvtColor(unit, cv2\u001b[39m.\u001b[39mCOLOR_BGR2RGB) \u001b[39mfor\u001b[39;00m unit \u001b[39min\u001b[39;00m units]\n\u001b[0;32m      <a href='vscode-notebook-cell:/c%3A/Code/Rush-Royale-Bot/recognize.ipynb#ch0000011?line=1'>2</a>\u001b[0m display(Image\u001b[39m.\u001b[39mfromarray(np\u001b[39m.\u001b[39mhstack(unit_rgb)))\n\u001b[0;32m      <a href='vscode-notebook-cell:/c%3A/Code/Rush-Royale-Bot/recognize.ipynb#ch0000011?line=2'>3</a>\u001b[0m unit_grays \u001b[39m=\u001b[39m [cv2\u001b[39m.\u001b[39mcvtColor(unit, cv2\u001b[39m.\u001b[39mCOLOR_BGR2GRAY) \u001b[39mfor\u001b[39;00m unit \u001b[39min\u001b[39;00m units]\n",
      "\u001b[1;31mNameError\u001b[0m: name 'units' is not defined"
     ]
    }
   ],
   "source": [
    "unit_rgb = [cv2.cvtColor(unit, cv2.COLOR_BGR2RGB) for unit in units]\n",
    "display(Image.fromarray(np.hstack(unit_rgb)))\n",
    "unit_grays = [cv2.cvtColor(unit, cv2.COLOR_BGR2GRAY) for unit in units]\n",
    "display(Image.fromarray(np.hstack(unit_grays)))\n",
    "for color in range(3):\n",
    "    unit_grays = [cv2.cvtColor(unit, cv2.COLOR_BGR2RGB)[:,:,color] for unit in units]\n",
    "    display(Image.fromarray(np.hstack(unit_grays)))\n",
    "#img_rgb = cv2.cvtColor(units[0], cv2.COLOR_BGR2RGB)\n",
    "#display(Image.fromarray(img_grey))\n"
   ]
  },
  {
   "cell_type": "code",
   "execution_count": 99,
   "metadata": {},
   "outputs": [],
   "source": [
    "#Feature detection in query image with ORB detector\n",
    "def feature_match(img_query,img_train):\n",
    "        # Initiate ORB detector\n",
    "        orb = cv2.ORB_create()\n",
    "        orb.setFastThreshold(0)\n",
    "        # find the keypoints and descriptors with ORB\n",
    "        kp1, des1 = orb.detectAndCompute(img_query,None) # queryImage\n",
    "        kp2, des2 = orb.detectAndCompute(img_train,None) # trainImage\n",
    "        if des2 is None: # if no features are found, return\n",
    "            return 'No Matches'\n",
    "        # create BFMatcher object\n",
    "        bf = cv2.BFMatcher(cv2.NORM_HAMMING, crossCheck=True)\n",
    "        # Match descriptors.\n",
    "        matches = bf.match(des1,des2)\n",
    "        # Sort them in the order of their distance.\n",
    "        matches = sorted(matches, key = lambda x:x.distance)\n",
    "        return matches\n",
    "\n",
    "def match_unit(file_name,guess_unit=True):\n",
    "    # Compare each channel\n",
    "    current_icons=[]\n",
    "    img_rgb = cv2.imread(file_name)\n",
    "    # Check every target in dir\n",
    "    for target in os.listdir(\"units\"):\n",
    "        # Load icon, 90x90 pixel out of 120 pixel box\n",
    "        imgSrc=f'units/{target}'\n",
    "        template_rgb = cv2.imread(imgSrc)\n",
    "        match=0\n",
    "        for color in range(3):\n",
    "            template = template_rgb[:,:,color]\n",
    "            img_color = img_rgb[:,:,color]\n",
    "            # Do feature detection\n",
    "            matches = feature_match(template,img_color)\n",
    "            # Check matches\n",
    "            if matches == 'No Matches':\n",
    "                 return ['empty.png', 999]\n",
    "            if len(matches)>=10:\n",
    "                for i in range(10):\n",
    "                    match+=matches[i].distance\n",
    "        current_icons.append([target,match,len(matches)])\n",
    "    unit_df=pd.DataFrame(current_icons, columns=['unit','feature_distance','num_match'])\n",
    "    if not guess_unit:\n",
    "        return unit_df\n",
    "    if guess_unit:\n",
    "        guess=unit_df.loc[unit_df['feature_distance'].idxmin()] # select empty if all 700\n",
    "        # Certainty of guess (estimate)\n",
    "        certainty = round(1 - (guess[1]/unit_df['feature_distance'].sum()),3)\n",
    "        return [guess[0],certainty]\n",
    " "
   ]
  },
  {
   "cell_type": "code",
   "execution_count": 101,
   "metadata": {},
   "outputs": [
    {
     "data": {
      "text/plain": [
       "['bruser.png', 0.854]"
      ]
     },
     "execution_count": 101,
     "metadata": {},
     "output_type": "execute_result"
    }
   ],
   "source": [
    "#match_unit('units/bruser.png',guess_unit=False)\n",
    "match_unit('OCR_inputs/icon_5.png',guess_unit=True)"
   ]
  },
  {
   "cell_type": "code",
   "execution_count": 90,
   "metadata": {},
   "outputs": [
    {
     "name": "stdout",
     "output_type": "stream",
     "text": [
      "Sat Jul 16 15:28:59 2022    profile.txt\n",
      "\n",
      "         71204 function calls (70604 primitive calls) in 1.191 seconds\n",
      "\n",
      "   Ordered by: internal time\n",
      "   List reduced from 140 to 5 due to restriction <5>\n",
      "\n",
      "   ncalls  tottime  percall  cumtime  percall filename:lineno(function)\n",
      "     1000    0.781    0.001    0.781    0.001 {method 'detectAndCompute' of 'cv2.Feature2D' objects}\n",
      "      600    0.273    0.000    0.273    0.000 {imread}\n",
      "      500    0.043    0.000    0.043    0.000 {method 'match' of 'cv2.DescriptorMatcher' objects}\n",
      "      100    0.008    0.000    1.190    0.012 C:\\Users\\axelb\\AppData\\Local\\Temp\\ipykernel_16020\\63947828.py:21(match_unit)\n",
      "      500    0.008    0.000    0.012    0.000 {pandas._libs.lib.maybe_convert_objects}\n",
      "\n",
      "\n"
     ]
    },
    {
     "data": {
      "text/plain": [
       "<pstats.Stats at 0x20ce1b11f70>"
      ]
     },
     "execution_count": 90,
     "metadata": {},
     "output_type": "execute_result"
    }
   ],
   "source": [
    "# profile bot.try_merge\n",
    "import cProfile\n",
    "cProfile.run(\"[match_unit('units/cauldron.png',guess_unit=False) for i in range(100)]\",'profile.txt')\n",
    "# sort by time\n",
    "import pstats\n",
    "p = pstats.Stats('profile.txt')\n",
    "p.sort_stats('time').print_stats(5)"
   ]
  },
  {
   "cell_type": "code",
   "execution_count": 45,
   "metadata": {},
   "outputs": [
    {
     "ename": "UFuncTypeError",
     "evalue": "ufunc 'add' did not contain a loop with signature matching types (dtype('<U6'), dtype('uint8')) -> None",
     "output_type": "error",
     "traceback": [
      "\u001b[1;31m---------------------------------------------------------------------------\u001b[0m",
      "\u001b[1;31mUFuncTypeError\u001b[0m                            Traceback (most recent call last)",
      "\u001b[1;32mc:\\Code\\Rush-Royale-Bot\\recognize.ipynb Cell 16\u001b[0m in \u001b[0;36m<cell line: 9>\u001b[1;34m()\u001b[0m\n\u001b[0;32m      <a href='vscode-notebook-cell:/c%3A/Code/Rush-Royale-Bot/recognize.ipynb#ch0000010?line=5'>6</a>\u001b[0m img1 \u001b[39m=\u001b[39m cv2\u001b[39m.\u001b[39mhconcat(units)\n\u001b[0;32m      <a href='vscode-notebook-cell:/c%3A/Code/Rush-Royale-Bot/recognize.ipynb#ch0000010?line=6'>7</a>\u001b[0m \u001b[39m#display(Image.fromarray(img_units))\u001b[39;00m\n\u001b[1;32m----> <a href='vscode-notebook-cell:/c%3A/Code/Rush-Royale-Bot/recognize.ipynb#ch0000010?line=8'>9</a>\u001b[0m img1 \u001b[39m=\u001b[39m cv2\u001b[39m.\u001b[39mimread(\u001b[39m'\u001b[39;49m\u001b[39munits/\u001b[39;49m\u001b[39m'\u001b[39;49m\u001b[39m+\u001b[39;49munit,\u001b[39m0\u001b[39m)\n\u001b[0;32m     <a href='vscode-notebook-cell:/c%3A/Code/Rush-Royale-Bot/recognize.ipynb#ch0000010?line=9'>10</a>\u001b[0m img2 \u001b[39m=\u001b[39m cv2\u001b[39m.\u001b[39mimread(\u001b[39m'\u001b[39m\u001b[39mOCR_inputs/icon_11.png\u001b[39m\u001b[39m'\u001b[39m,cv2\u001b[39m.\u001b[39mIMREAD_GRAYSCALE) \u001b[39m# trainImage\u001b[39;00m\n\u001b[0;32m     <a href='vscode-notebook-cell:/c%3A/Code/Rush-Royale-Bot/recognize.ipynb#ch0000010?line=10'>11</a>\u001b[0m \u001b[39m# Initiate ORB detector\u001b[39;00m\n",
      "\u001b[1;31mUFuncTypeError\u001b[0m: ufunc 'add' did not contain a loop with signature matching types (dtype('<U6'), dtype('uint8')) -> None"
     ]
    }
   ],
   "source": [
    "# MERGE UNITS\n",
    "\n",
    "unit_names = os.listdir(\"units\")\n",
    "units = [cv2.imread('units/'+unit,0) for unit in unit_names]\n",
    "# Merge all images into one\n",
    "img1 = cv2.hconcat(units)\n",
    "#display(Image.fromarray(img_units))\n",
    "\n",
    "img1 = cv2.imread('units/'+unit,0)\n",
    "img2 = cv2.imread('OCR_inputs/icon_11.png',cv2.IMREAD_GRAYSCALE) # trainImage\n",
    "# Initiate ORB detector\n",
    "orb = cv2.ORB_create()\n",
    "# find the keypoints and descriptors with ORB\n",
    "kp1, des1 = orb.detectAndCompute(img1,None)\n",
    "kp2, des2 = orb.detectAndCompute(img2,None)\n",
    "# Create BFMatcher object\n",
    "bf = cv2.BFMatcher(cv2.NORM_HAMMING, crossCheck=True)\n",
    "# Match descriptors.\n",
    "matches = bf.match(des1,des2)\n",
    "# Sort them in the order of their distance.\n",
    "matches = sorted(matches, key = lambda x:x.distance)\n",
    "# Get location of matched features\n",
    "#matched_locations = [kp1[m.trainIdx].pt for m in matches]\n",
    "#matched_unit= [match[0]//90 for match in matched_locations]\n",
    "## Get max number of occurences\n",
    "#matched_unit_count = [matched_unit.count(i) for i in range(len(units))]\n",
    "#unit_names[np.array(matched_unit_count).argmax()]"
   ]
  },
  {
   "cell_type": "markdown",
   "metadata": {},
   "source": [
    "## Rank v3 (Logistical Regression)"
   ]
  },
  {
   "cell_type": "code",
   "execution_count": null,
   "metadata": {},
   "outputs": [],
   "source": [
    "bot_perception.add_grid_to_dataset()"
   ]
  },
  {
   "cell_type": "code",
   "execution_count": null,
   "metadata": {},
   "outputs": [],
   "source": [
    "from sklearn.linear_model import LogisticRegression\n",
    "from sklearn.metrics import confusion_matrix,classification_report\n",
    "\n",
    "def load_dataset(folder):\n",
    "    X_train=[]\n",
    "    Y_train=[]\n",
    "    for file in os.listdir(folder):\n",
    "        if file.endswith(\".png\"):\n",
    "            X_train.append(cv2.imread(folder+file,0))\n",
    "            Y_train.append(file.split('_input')[0])\n",
    "    X_train=np.array(X_train)\n",
    "    data_shape = X_train.shape\n",
    "    X_train=X_train.reshape(data_shape[0],data_shape[1]*data_shape[2])\n",
    "    Y_train=np.array(Y_train, dtype=int)\n",
    "    return X_train,Y_train\n",
    "\n",
    "X_train,Y_train = load_dataset(\"machine_learning\\\\inputs\\\\\")\n",
    "X_val,Y_val = load_dataset(\"machine_learning\\\\validation\\\\\")\n",
    "# train logistic regression model\n",
    "logreg =  LogisticRegression()\n",
    "logreg.fit(X_train,Y_train)\n",
    "# Evaluate model\n",
    "y_pred=logreg.predict(X_val)\n",
    "print(classification_report(Y_val,y_pred))"
   ]
  },
  {
   "cell_type": "code",
   "execution_count": null,
   "metadata": {},
   "outputs": [],
   "source": [
    "import pickle\n",
    "# Save model\n",
    "with open('machine_learning\\\\model.pkl', 'wb') as f:\n",
    "    pickle.dump(logreg, f)\n"
   ]
  },
  {
   "cell_type": "code",
   "execution_count": null,
   "metadata": {},
   "outputs": [],
   "source": [
    "import pickle\n",
    "import cv2\n",
    "\n",
    "def match_rank(filename):\n",
    "    img = cv2.imread(filename,0)\n",
    "    edges = cv2.Canny(img,50,100)\n",
    "    # Load model (will be cached)\n",
    "    with open('rank_model.pkl', 'rb') as f:\n",
    "        logreg = pickle.load(f)\n",
    "        classes = logreg.classes_\n",
    "    prob = logreg.predict_proba(edges.reshape(1,-1))\n",
    "    return prob.argmax(),prob.max()\n",
    "\n",
    "for i in range(15):\n",
    "    rank_guess,prob = match_rank(f'OCR_inputs/icon_{i}.png')\n",
    "    print(rank_guess,prob)"
   ]
  },
  {
   "cell_type": "code",
   "execution_count": null,
   "metadata": {},
   "outputs": [],
   "source": [
    "prob\n"
   ]
  },
  {
   "cell_type": "code",
   "execution_count": null,
   "metadata": {},
   "outputs": [],
   "source": [
    "def quick_train_model():\n",
    "    X_train,Y_train = load_dataset(\"machine_learning\\\\inputs\\\\\")\n",
    "    # train logistic regression model\n",
    "    logreg =  LogisticRegression()\n",
    "    logreg.fit(X_train,Y_train)\n",
    "    return logreg\n",
    "\n",
    "quick_train_model()"
   ]
  },
  {
   "cell_type": "markdown",
   "metadata": {},
   "source": [
    "## Rank v2"
   ]
  },
  {
   "cell_type": "code",
   "execution_count": null,
   "metadata": {},
   "outputs": [],
   "source": [
    "def get_poly(filename,ref,i=4,shape=(120, 120),debug=False):\n",
    "    # read image as grayscale\n",
    "    img = cv2.imread(filename,0)\n",
    "    # Find edges in image\n",
    "    edges = cv2.Canny(img,50,100)\n",
    "    # read reference image\n",
    "    img_ref = cv2.imread(ref,0)\n",
    "    img_ref = cv2.GaussianBlur(img_ref,(5,5),0)\n",
    "    # Apply filter\n",
    "    img_match = edges &img_ref\n",
    "    img_match = cv2.GaussianBlur(img_match,(5,5),0)\n",
    "    # pick top polygon\n",
    "    cnts=bot_perception.find_polygon(img_match,1)\n",
    "    # Approximate Polygon         # Change arclength to expect of rank polygon\n",
    "    i=3\n",
    "    approx=cv2.approxPolyDP(cnts,1.5**i*0.01*cv2.arcLength(cnts,True),True)\n",
    "    if debug:\n",
    "        return approx,cnts,img_match,edges,img\n",
    "    if approx is None:\n",
    "       return 0, [0]*4\n",
    "    return approx\n",
    "# Returns guess of unit rank\n",
    "def match_rank(filename):\n",
    "    # Load dictionary with expected corner positions\n",
    "    corner_dict={\n",
    "    'rank2':np.array([[10,10],[110,110]]),\n",
    "    'rank3':np.array([[5,10],[115,10],[60,110]]),\n",
    "    'rank4':np.array([[60,0],[0,60],[60,120],[120,60]]),\n",
    "    'rank5':np.array([[15,10],[15,80],[60,115],[105,80],[105,10]]),    \n",
    "        }\n",
    "    match_errors=[]\n",
    "    for rank in corner_dict:\n",
    "        target=f'unit_rank/{rank}_bin.png'\n",
    "        # Get polygon of image\n",
    "        target_corners=get_poly(filename,target)\n",
    "        polygon_error = 0\n",
    "        # Take mean square loss for each corner\n",
    "        for corner in corner_dict[rank]:\n",
    "            polygon_error += bot_perception.mean_square(target_corners,corner)\n",
    "        match_errors.append(polygon_error)\n",
    "    # Prefer higher ranks \n",
    "    match_errors = match_errors *np.array([10,3,2,1])\n",
    "    np.array(match_errors)\n",
    "    rank_guess=np.array(match_errors).argmin()\n",
    "    if match_errors[rank_guess]>1000:\n",
    "        rank_guess = -1 # rank 1 if none are good match\n",
    "    return rank_guess+2, match_errors[rank_guess]\n",
    "\n"
   ]
  },
  {
   "cell_type": "code",
   "execution_count": null,
   "metadata": {},
   "outputs": [],
   "source": [
    "# Scan grid\n",
    "names=bot.scan_grid()\n",
    "grid_df=bot_perception.grid_status(names)\n",
    "display(grid_df)\n",
    "# Non empty names\n",
    "curr_units_df=grid_df[grid_df['unit']!='empty.png'].reset_index(drop=True)\n",
    "live_units=list(curr_units_df['grid_id']+'.png')\n",
    "\n",
    "for row in curr_units_df.iterrows():\n",
    "    target = row[1]['grid_id']+'.png'\n",
    "    unit = row[1]['unit']\n",
    "    filename=f'OCR_inputs/{target}'\n",
    "    rank_guess,match_errors = match_rank(filename) # Rank 3, check first if rank 5 is better match, then rank 3\n",
    "    print(f'Guessed rank: {rank_guess} for {target}', match_errors)\n"
   ]
  },
  {
   "cell_type": "code",
   "execution_count": null,
   "metadata": {},
   "outputs": [],
   "source": [
    "grid_df['Age'].mean()"
   ]
  },
  {
   "cell_type": "code",
   "execution_count": null,
   "metadata": {},
   "outputs": [],
   "source": [
    "target = 'OCR_inputs/icon_13.png'\n",
    "for ref in os.listdir(\"unit_rank\")[1:]:\n",
    "    figs = []\n",
    "    ref=f'unit_rank/{ref}'\n",
    "    approx,cnts,img_match,edges,img = get_poly(target,ref,debug=True)\n",
    "    figs.insert(0,bot_perception.show_contour(approx))\n",
    "    figs.insert(0,bot_perception.show_contour(cnts))\n",
    "    figs.insert(0,img_match)\n",
    "    figs.insert(0,edges)\n",
    "    figs.insert(0,img)\n",
    "    display(Image.fromarray(np.hstack(figs)))\n",
    "rank_guess,match_errors = match_rank(target) # Rank 3, check first if rank 5 is better match, then rank 3\n",
    "print(f'Guessed rank: {rank_guess} for {target}', match_errors)"
   ]
  },
  {
   "cell_type": "code",
   "execution_count": null,
   "metadata": {},
   "outputs": [],
   "source": [
    "target = 'OCR_inputs/icon_4.png'\n",
    "approx,cnts,img_cnt,cnts_raw,edges,img = get_poly(target,debug=True)\n",
    "#for cnt in cnts:\n",
    "#    print(cv2.contourArea(cnt))\n",
    "print(len(cnts_raw))\n",
    "#figs=[show_contour(polygon) for polygon in cnts_raw[0:10]]\n",
    "figs=[bot_perception.show_contour(polygon) for polygon in bot_perception.find_polygon(edges,5)]\n",
    "figs.insert(0,edges)\n",
    "figs.insert(0,img)\n",
    "display(Image.fromarray(np.hstack(figs)))\n",
    "rank_guess,match_errors = bot_perception.match_rank(target) # Rank 3, check first if rank 5 is better match, then rank 3\n",
    "fig=bot_perception.show_contour(approx)\n",
    "display(Image.fromarray(np.hstack([img_cnt,bot_perception.show_contour(cnts),fig])))\n",
    "print(f'Guessed rank: {rank_guess} for {target}', match_errors)"
   ]
  },
  {
   "cell_type": "code",
   "execution_count": null,
   "metadata": {},
   "outputs": [],
   "source": [
    "# read image as grayscale\n",
    "img = cv2.imread('OCR_inputs/icon_11.png',0)\n",
    "# Find edges in image\n",
    "img = cv2.Canny(img,50,100)\n",
    "for target in os.listdir(\"unit_rank\"):\n",
    "    target=f'unit_rank/{target}'\n",
    "    img_ref = cv2.imread(target,0)\n",
    "    img_ref = cv2.GaussianBlur(img_ref,(9,9),0)\n",
    "\n",
    "    # Apply filter\n",
    "    img_match = img &img_ref\n",
    "    img_match = cv2.GaussianBlur(img_match,(5,5),0)\n",
    "    #display(Image.fromarray(np.hstack([img,img_ref,img &img_ref])))\n",
    "    figs=[bot_perception.show_contour(polygon) for polygon in bot_perception.find_polygon(img_match,5)]\n",
    "    figs.insert(0,img_match)\n",
    "    figs.insert(0,img_ref)\n",
    "    figs.insert(0,img)\n",
    "    display(Image.fromarray(np.hstack(figs)))"
   ]
  },
  {
   "cell_type": "markdown",
   "metadata": {},
   "source": [
    "## OpenCV Feature2D - unit detection"
   ]
  },
  {
   "cell_type": "code",
   "execution_count": 33,
   "metadata": {},
   "outputs": [
    {
     "name": "stdout",
     "output_type": "stream",
     "text": [
      "30\n"
     ]
    },
    {
     "data": {
      "image/png": "[encoded data removed]",
      "text/plain": [
       "<Figure size 432x288 with 1 Axes>"
      ]
     },
     "metadata": {
      "needs_background": "light"
     },
     "output_type": "display_data"
    },
    {
     "data": {
      "text/html": [
       "<div>\n",
       "<style scoped>\n",
       "    .dataframe tbody tr th:only-of-type {\n",
       "        vertical-align: middle;\n",
       "    }\n",
       "\n",
       "    .dataframe tbody tr th {\n",
       "        vertical-align: top;\n",
       "    }\n",
       "\n",
       "    .dataframe thead th {\n",
       "        text-align: right;\n",
       "    }\n",
       "</style>\n",
       "<table border=\"1\" class=\"dataframe\">\n",
       "  <thead>\n",
       "    <tr style=\"text-align: right;\">\n",
       "      <th></th>\n",
       "      <th>icon_11</th>\n",
       "      <th>feature_distance</th>\n",
       "      <th>num_match</th>\n",
       "    </tr>\n",
       "  </thead>\n",
       "  <tbody>\n",
       "    <tr>\n",
       "      <th>0</th>\n",
       "      <td>cauldron.png</td>\n",
       "      <td>747.0</td>\n",
       "      <td>11</td>\n",
       "    </tr>\n",
       "    <tr>\n",
       "      <th>1</th>\n",
       "      <td>dryad.png</td>\n",
       "      <td>218.0</td>\n",
       "      <td>20</td>\n",
       "    </tr>\n",
       "    <tr>\n",
       "      <th>2</th>\n",
       "      <td>harlequin.png</td>\n",
       "      <td>729.0</td>\n",
       "      <td>30</td>\n",
       "    </tr>\n",
       "    <tr>\n",
       "      <th>3</th>\n",
       "      <td>knight_statue.png</td>\n",
       "      <td>713.0</td>\n",
       "      <td>29</td>\n",
       "    </tr>\n",
       "    <tr>\n",
       "      <th>4</th>\n",
       "      <td>zealot.png</td>\n",
       "      <td>712.0</td>\n",
       "      <td>18</td>\n",
       "    </tr>\n",
       "  </tbody>\n",
       "</table>\n",
       "</div>"
      ],
      "text/plain": [
       "             icon_11  feature_distance  num_match\n",
       "0       cauldron.png             747.0         11\n",
       "1          dryad.png             218.0         20\n",
       "2      harlequin.png             729.0         30\n",
       "3  knight_statue.png             713.0         29\n",
       "4         zealot.png             712.0         18"
      ]
     },
     "metadata": {},
     "output_type": "display_data"
    },
    {
     "data": {
      "text/plain": [
       "['icon_11', 'dryad.png', 218.0]"
      ]
     },
     "execution_count": 33,
     "metadata": {},
     "output_type": "execute_result"
    }
   ],
   "source": [
    "import matplotlib.pyplot as plt \n",
    "#img1 = cv2.imread('units/crystal.png',cv2.IMREAD_GRAYSCALE)          # queryImage\n",
    "units = [cv2.imread('units/'+unit,cv2.IMREAD_GRAYSCALE) for unit in os.listdir(\"units\")]\n",
    "# Merge all images into one\n",
    "img1 = cv2.hconcat(units)\n",
    "img2 = cv2.imread('OCR_inputs/icon_14.png',cv2.IMREAD_GRAYSCALE) # trainImage\n",
    "# Initiate ORB detector\n",
    "orb = cv2.ORB_create()\n",
    "# find the keypoints and descriptors with ORB\n",
    "kp1, des1 = orb.detectAndCompute(img1,None)\n",
    "kp2, des2 = orb.detectAndCompute(img2,None)\n",
    "\n",
    "# create BFMatcher object\n",
    "bf = cv2.BFMatcher(cv2.NORM_HAMMING, crossCheck=True)\n",
    "# Match descriptors.\n",
    "matches = bf.match(des1,des2)\n",
    "# Sort them in the order of their distance.\n",
    "matches = sorted(matches, key = lambda x:x.distance)\n",
    "print(len(matches))\n",
    "# Draw first 10 matches.\n",
    "img3 = cv2.drawMatches(img1,kp1,img2,kp2,matches[:10],None,flags=cv2.DrawMatchesFlags_NOT_DRAW_SINGLE_POINTS)\n",
    "plt.imshow(img3)\n",
    "plt.show()\n",
    "unit_df= bot_perception.match_unit('OCR_inputs/icon_11.png',guess_unit=False)\n",
    "display(unit_df)\n",
    "bot_perception.match_unit('OCR_inputs/icon_11.png',guess_unit=True)\n"
   ]
  },
  {
   "cell_type": "code",
   "execution_count": null,
   "metadata": {},
   "outputs": [],
   "source": [
    "bot_perception.match_unit('OCR_inputs/icon_2.png')"
   ]
  },
  {
   "cell_type": "markdown",
   "metadata": {},
   "source": [
    "## Unit Rank"
   ]
  },
  {
   "cell_type": "code",
   "execution_count": null,
   "metadata": {},
   "outputs": [],
   "source": [
    "rank_guess,match_errors =bot_perception.match_rank('OCR_inputs/icon_2.png')\n",
    "print(f'Guessed rank: {rank_guess},', match_errors)"
   ]
  },
  {
   "cell_type": "code",
   "execution_count": null,
   "metadata": {},
   "outputs": [],
   "source": [
    "def unit_rank(filename):\n",
    "    cnts=get_poly(filename)\n",
    "    rank_guess,match_errors = bot_core.match_rank(cnts) # Rank 3, check first if rank 5 is better match, then rank 3\n",
    "    fig=bot_core.show_contour(cnts)\n",
    "    display(Image.fromarray(fig))\n",
    "    print(f'Guessed rank: {rank_guess},', match_errors)\n",
    "\n",
    "# Scan grid\n",
    "names=bot.scan_grid()\n",
    "grid_df=bot_perception.grid_status(names)\n",
    "# Non empty names\n",
    "curr_units_df=grid_df[grid_df['unit']!='empty.png'].reset_index(drop=True)\n",
    "live_units=list(curr_units_df['grid_id']+'.png')\n",
    "contour=[]\n",
    "guesses=[]\n",
    "for row in curr_units_df.iterrows():\n",
    "    target = row[1]['grid_id']+'.png'\n",
    "    unit = row[1]['unit']\n",
    "    filename=f'OCR_inputs/{target}'\n",
    "    cnts=bot_perception.get_poly(filename)\n",
    "    rank_guess,match_errors = bot_perception.match_rank(filename) # Rank 3, check first if rank 5 is better match, then rank 3\n",
    "    print(f'Guessed rank: {rank_guess} for {target}', match_errors)\n",
    "    contour.append(cnts)\n",
    "    guesses.append(rank_guess)\n",
    "\n",
    "figs=[bot_perception.show_contour(polygon) for polygon in contour]\n",
    "display(Image.fromarray(np.hstack(figs)))\n",
    "\n",
    "# failed: 4 and 12 both marked 2 instead of 1"
   ]
  },
  {
   "cell_type": "code",
   "execution_count": null,
   "metadata": {},
   "outputs": [],
   "source": [
    "target = 'OCR_inputs/icon_5.png'\n",
    "approx,cnts,img_cnt,cnts_raw,edges,img = bot_perception.get_poly(target,debug=True)\n",
    "#for cnt in cnts:\n",
    "#    print(cv2.contourArea(cnt))\n",
    "print(len(cnts_raw))\n",
    "#figs=[show_contour(polygon) for polygon in cnts_raw[0:10]]\n",
    "figs=[bot_perception.show_contour(polygon) for polygon in bot_perception.find_polygon(edges,5)]\n",
    "figs.insert(0,edges)\n",
    "figs.insert(0,img)\n",
    "display(Image.fromarray(np.hstack(figs)))\n",
    "rank_guess,match_errors = bot_perception.match_rank(target) # Rank 3, check first if rank 5 is better match, then rank 3\n",
    "fig=bot_perception.show_contour(approx)\n",
    "display(Image.fromarray(np.hstack([img_cnt,bot_perception.show_contour(cnts),fig])))\n",
    "print(f'Guessed rank: {rank_guess} for {target}', match_errors)"
   ]
  },
  {
   "cell_type": "code",
   "execution_count": null,
   "metadata": {},
   "outputs": [],
   "source": [
    "from matplotlib import pyplot as plt\n",
    "\n",
    "\n",
    "for target in os.listdir(\"OCR_inputs\"):\n",
    "    target=f'OCR_inputs/{target}'\n",
    "    img = cv2.imread(target,0)\n",
    "    keep=5\n",
    "    img=img[keep:-keep,keep:-keep]\n",
    "    #img = cv2.GaussianBlur(img,(3,3),0)\n",
    "    edges = cv2.Canny(img,100,200)\n",
    "\n",
    "    plt.subplot(121),plt.imshow(img,cmap = 'gray')\n",
    "    plt.title('Original Image'), plt.xticks([]), plt.yticks([])\n",
    "    plt.subplot(122),plt.imshow(edges,cmap = 'gray')\n",
    "    plt.title('Edge Image'), plt.xticks([]), plt.yticks([])\n",
    "    plt.show()"
   ]
  },
  {
   "cell_type": "code",
   "execution_count": null,
   "metadata": {},
   "outputs": [],
   "source": [
    "match_errors *np.array([4,3,2,1])"
   ]
  },
  {
   "cell_type": "code",
   "execution_count": null,
   "metadata": {},
   "outputs": [],
   "source": [
    "img[115].mean()\n",
    "img[0:5].mean()"
   ]
  },
  {
   "cell_type": "code",
   "execution_count": null,
   "metadata": {},
   "outputs": [],
   "source": [
    "cnts[0]\n",
    "import matplotlib.pyplot as plt\n",
    "cords=cnts[0]\n",
    "cords[:,0,1]\n",
    "\n",
    "plt.plot(cords[:,0,0],cords[:,0,1])\n",
    "plt.show()"
   ]
  },
  {
   "cell_type": "code",
   "execution_count": null,
   "metadata": {},
   "outputs": [],
   "source": [
    "#Feature detection in query image with ORB detector\n",
    "def feature_match(img_query,img_train):\n",
    "        # Initiate SIFT detector\n",
    "        sift = cv2.SIFT_create()\n",
    "        # find the keypoints and descriptors with SIFT\n",
    "        kp1, des1 = sift.detectAndCompute(img_query,None) # queryImage\n",
    "        kp2, des2 = sift.detectAndCompute(img_train,None) # trainImage\n",
    "        # BFMatcher with default params\n",
    "        bf = cv2.BFMatcher()\n",
    "        matches = bf.knnMatch(des1,des2, k=2)\n",
    "        matches = sorted(matches, key = lambda x:x[0].distance)\n",
    "        return matches"
   ]
  },
  {
   "cell_type": "code",
   "execution_count": null,
   "metadata": {},
   "outputs": [],
   "source": [
    "# Update units in current deck from database\n",
    "\n",
    "# check images in all files folder,\n",
    "# move current units into special folder during fight"
   ]
  },
  {
   "cell_type": "markdown",
   "metadata": {},
   "source": [
    "## Match Unit"
   ]
  },
  {
   "cell_type": "code",
   "execution_count": null,
   "metadata": {},
   "outputs": [],
   "source": [
    "unit_df= bot_perception.match_unit('OCR_inputs/icon_5.png',guess_unit=False)\n",
    "display(unit_df)\n",
    "bot_perception.match_unit('OCR_inputs/icon_5.png')\n"
   ]
  },
  {
   "cell_type": "code",
   "execution_count": null,
   "metadata": {},
   "outputs": [],
   "source": []
  }
 ],
 "metadata": {
  "kernelspec": {
   "display_name": "Python 3.9.12 ('Rush-Royale-Bot')",
   "language": "python",
   "name": "python3"
  },
  "language_info": {
   "codemirror_mode": {
    "name": "ipython",
    "version": 3
   },
   "file_extension": ".py",
   "mimetype": "text/x-python",
   "name": "python",
   "nbconvert_exporter": "python",
   "pygments_lexer": "ipython3",
   "version": "3.9.12"
  },
  "orig_nbformat": 4,
  "vscode": {
   "interpreter": {
    "hash": "222f52f3d4ea82340b8e438915cd2cce29310e9a34a09f1d931c12bfa7062449"
   }
  }
 },
 "nbformat": 4,
 "nbformat_minor": 2
}
