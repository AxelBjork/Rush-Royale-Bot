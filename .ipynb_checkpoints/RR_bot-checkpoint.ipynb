{
 "cells": [
  {
   "cell_type": "markdown",
   "metadata": {},
   "source": [
    "## SETUP"
   ]
  },
  {
   "cell_type": "code",
   "execution_count": 1,
   "metadata": {},
   "outputs": [
    {
     "name": "stdout",
     "output_type": "stream",
     "text": [
      "Found ADB device! emulator-5554\n",
      "Log file is already open\n"
     ]
    }
   ],
   "source": [
    "import time\n",
    "import pandas as pd\n",
    "# Android ADB\n",
    "from subprocess import check_output,Popen\n",
    "# Notebook\n",
    "from IPython.display import display,clear_output\n",
    "from tqdm.notebook import trange, tqdm\n",
    "import configparser\n",
    "import sys\n",
    "import os\n",
    "# internal\n",
    "sys.path.append('./src')\n",
    "import bot_core\n",
    "import bot_perception\n",
    "import port_scan\n",
    "\n",
    "import importlib\n",
    "[importlib.reload(lib) for lib in [bot_core,bot_perception,port_scan]]\n",
    "\n",
    "config = configparser.ConfigParser()\n",
    "# Read the config file\n",
    "config.read('config.ini')\n",
    "# Get the values from the config file\n",
    "scrcpy_path=config['bot']['scrcpy_path']\n",
    "\n",
    "device = port_scan.get_device()\n",
    "if device is None:\n",
    "    raise Exception(\"No device found!\")\n",
    "# Start Scrcpy once per restart\n",
    "if 'started_scrcpy' not in vars():\n",
    "    started_scrcpy=True\n",
    "    proc = Popen([os.path.join(scrcpy_path,'scrcpy'),'-s',device], shell=True)\n",
    "    time.sleep(1) # <-- sleep for 1 second\n",
    "    proc.terminate() # <-- terminate the process (Scrcpy window can be closed)\n",
    "\n",
    "# Selected units in deck (order does not matter)\n",
    "#sel_units= ['crystal.png','chemist.png','monkey.png','dryad.png','hunter.png']\n",
    "sel_units= ['chemist.png','knight_statue.png','harlequin.png','dryad.png','demon_hunter.png']\n",
    "bot_core.select_units(sel_units,show=False)\n",
    "bot = bot_core.Bot(device)"
   ]
  },
  {
   "cell_type": "code",
   "execution_count": 7,
   "metadata": {},
   "outputs": [
    {
     "name": "stdout",
     "output_type": "stream",
     "text": [
      "['alchemist.png', 'archer.png', 'banner.png', 'blade_dancer.png', 'bruser.png', 'catapult.png', 'cauldron.png', 'chemist.png', 'clock.png', 'cold_mage.png', 'corsair.png', 'crystal.png', 'cultist.png', 'cultist_off.png', 'demo.png', 'demon_hunter.png', 'dryad.png', 'empty.png', 'engineer.png', 'executioner.png', 'fire_mage.png', 'flinger.png', 'gargoyle.png', 'harlequin.png', 'hex.png', 'hunter.png', 'inquisitor.png', 'ivy.png', 'knight_statue.png', 'lightning.png', 'meteor.png', 'mime.png', 'monkey.png', 'old', 'old_icon', 'poisoner.png', 'portal_keeper.png', 'portal_mage.png', 'priest.png', 'pyro.png', 'reaper.png', 'rogue.png', 'sentry.png', 'shaman.png', 'sharpshooter.png', 'sharpstone.png', 'summoner.png', 'thunder.png', 'time_keeper.png', 'trapper.png', 'unit_rank', 'vampire.png', 'wind_arch.png', 'witch_doc.png', 'zealot.png']\n",
      "Chosen:\n",
      " ['cauldron.png', 'knight_statue.png', 'harlequin.png', 'dryad.png', 'zealot.png']\n"
     ]
    }
   ],
   "source": [
    "bot_core.select_units(sel_units,show=True)"
   ]
  },
  {
   "cell_type": "markdown",
   "metadata": {},
   "source": [
    "## RUN BOT"
   ]
  },
  {
   "cell_type": "code",
   "execution_count": null,
   "metadata": {},
   "outputs": [
    {
     "data": {
      "text/plain": [
       "['4, 3/8 fighting, need more units!',\n",
       " 'Average age: 11.67',\n",
       "    grid_pos               unit  u_prob  rank  r_prob   Age\n",
       " 0    [0, 0]  knight_statue.png   0.949     1   1.000   8.0\n",
       " 1    [0, 1]  knight_statue.png   0.877     1   1.000   8.0\n",
       " 2    [0, 2]      harlequin.png   0.915     4   1.000  19.0\n",
       " 3    [0, 3]        chemist.png   0.919     2   1.000  26.0\n",
       " 4    [0, 4]          empty.png   0.000     0   0.999  15.0\n",
       " 5    [1, 0]          empty.png   0.000     0   0.999  12.0\n",
       " 6    [1, 1]  knight_statue.png   0.934     2   1.000   8.0\n",
       " 7    [1, 2]      harlequin.png   0.930     1   1.000   4.0\n",
       " 8    [1, 3]          empty.png   0.000     0   1.000   6.0\n",
       " 9    [1, 4]          dryad.png   0.916     3   1.000   7.0\n",
       " 10   [2, 0]          empty.png   0.000     0   1.000  19.0\n",
       " 11   [2, 1]  knight_statue.png   0.935     3   1.000   9.0\n",
       " 12   [2, 2]  knight_statue.png   0.896     3   1.000   8.0\n",
       " 13   [2, 3]   demon_hunter.png   0.840     4   1.000  12.0\n",
       " 14   [2, 4]   demon_hunter.png   0.851     4   1.000  14.0,\n",
       " unit               rank\n",
       " empty.png          0       4\n",
       " demon_hunter.png   4       2\n",
       " knight_statue.png  1       2\n",
       "                    3       2\n",
       " chemist.png        2       1\n",
       " dryad.png          3       1\n",
       " harlequin.png      1       1\n",
       "                    4       1\n",
       " knight_statue.png  2       1\n",
       " Name: unit, dtype: int64,\n",
       " None]"
      ]
     },
     "metadata": {},
     "output_type": "display_data"
    }
   ],
   "source": [
    "wait=0\n",
    "combat = 0\n",
    "grid_df =None\n",
    "watch_ad = False\n",
    "train_ai = False\n",
    "# Main loop\n",
    "while(1):\n",
    "    output = bot.battle_screen(start=False)\n",
    "    if output[1]=='fighting':\n",
    "        watch_ad = True \n",
    "        wait = 0\n",
    "        combat+=1\n",
    "        if combat>50:\n",
    "            bot.restart_RR()\n",
    "            combat = 0\n",
    "            continue\n",
    "        battle_bar=trange(8)\n",
    "        for i in battle_bar:\n",
    "                time.sleep(0.2)\n",
    "                # Upgrade units\n",
    "                bot.mana_level([2,3,5],hero_power=True)\n",
    "                # Spawn units\n",
    "                bot.click(450,1360)\n",
    "                # Try to merge units\n",
    "                grid_df,unit_series,merge_series,df_groups,info = bot.try_merge(prev_grid=grid_df,merge_target='demon_hunter.png')\n",
    "                clear_output()\n",
    "                display([f'{combat}, {i+1}/8 {output[1]}, {info}', 'Average age: '+ str(grid_df['Age'].mean().round(2)),grid_df,unit_series,df_groups])\n",
    "        # Wait until late stage in combat and if consistency is ok, not stagnate save all units for ML model\n",
    "        if combat==25 and 5<grid_df['Age'].mean()<50 and train_ai:\n",
    "            bot_perception.add_grid_to_dataset()\n",
    "    elif output[1]=='home' and watch_ad:\n",
    "        for i in range(3):\n",
    "            bot.watch_ads()\n",
    "        watch_ad = False\n",
    "    else:\n",
    "        combat=0\n",
    "        output = bot.battle_screen(start=True,pve=True,floor=7) #(only 1,2,4,5,7,8,10 possible)\n",
    "        wait+=1\n",
    "        if wait>40:\n",
    "            print('RESTARTING')\n",
    "            bot.restart_RR(),\n",
    "            \n",
    "            wait=0\n",
    "        print(output[1],'wait count:',wait)"
   ]
  },
  {
   "cell_type": "markdown",
   "metadata": {},
   "source": [
    "## Quick restart"
   ]
  },
  {
   "cell_type": "code",
   "execution_count": 32,
   "metadata": {},
   "outputs": [],
   "source": [
    "# Drop co-op game\n",
    "bot.restart_RR(quick_disconnect=True)"
   ]
  },
  {
   "cell_type": "code",
   "execution_count": null,
   "metadata": {},
   "outputs": [],
   "source": [
    "# Restart game\n",
    "bot.restart_RR()"
   ]
  }
 ],
 "metadata": {
  "kernelspec": {
   "display_name": "Python 3 (ipykernel)",
   "language": "python",
   "name": "python3"
  },
  "language_info": {
   "codemirror_mode": {
    "name": "ipython",
    "version": 3
   },
   "file_extension": ".py",
   "mimetype": "text/x-python",
   "name": "python",
   "nbconvert_exporter": "python",
   "pygments_lexer": "ipython3",
   "version": "3.9.12"
  },
  "vscode": {
   "interpreter": {
    "hash": "222f52f3d4ea82340b8e438915cd2cce29310e9a34a09f1d931c12bfa7062449"
   }
  }
 },
 "nbformat": 4,
 "nbformat_minor": 2
}
