{
 "cells": [
  {
   "cell_type": "markdown",
   "metadata": {},
   "source": [
    "##SETUP"
   ]
  },
  {
   "cell_type": "code",
   "execution_count": 351,
   "metadata": {},
   "outputs": [
    {
     "data": {
      "text/html": [
       "<div>\n",
       "<style scoped>\n",
       "    .dataframe tbody tr th:only-of-type {\n",
       "        vertical-align: middle;\n",
       "    }\n",
       "\n",
       "    .dataframe tbody tr th {\n",
       "        vertical-align: top;\n",
       "    }\n",
       "\n",
       "    .dataframe thead th {\n",
       "        text-align: right;\n",
       "    }\n",
       "</style>\n",
       "<table border=\"1\" class=\"dataframe\">\n",
       "  <thead>\n",
       "    <tr style=\"text-align: right;\">\n",
       "      <th></th>\n",
       "      <th>grid_id</th>\n",
       "      <th>unit</th>\n",
       "      <th>probability</th>\n",
       "      <th>rank</th>\n",
       "      <th>rank_error</th>\n",
       "      <th>position</th>\n",
       "      <th>Age</th>\n",
       "    </tr>\n",
       "  </thead>\n",
       "  <tbody>\n",
       "    <tr>\n",
       "      <th>0</th>\n",
       "      <td>icon_0</td>\n",
       "      <td>hunter.png</td>\n",
       "      <td>197.0</td>\n",
       "      <td>4</td>\n",
       "      <td>287.0</td>\n",
       "      <td>[0, 0]</td>\n",
       "      <td>0.0</td>\n",
       "    </tr>\n",
       "    <tr>\n",
       "      <th>1</th>\n",
       "      <td>icon_1</td>\n",
       "      <td>hunter.png</td>\n",
       "      <td>174.0</td>\n",
       "      <td>3</td>\n",
       "      <td>120.0</td>\n",
       "      <td>[0, 1]</td>\n",
       "      <td>0.0</td>\n",
       "    </tr>\n",
       "    <tr>\n",
       "      <th>2</th>\n",
       "      <td>icon_2</td>\n",
       "      <td>empty.png</td>\n",
       "      <td>700.0</td>\n",
       "      <td>0</td>\n",
       "      <td>0.0</td>\n",
       "      <td>[0, 2]</td>\n",
       "      <td>0.0</td>\n",
       "    </tr>\n",
       "    <tr>\n",
       "      <th>3</th>\n",
       "      <td>icon_3</td>\n",
       "      <td>zealot.png</td>\n",
       "      <td>365.0</td>\n",
       "      <td>3</td>\n",
       "      <td>172.5</td>\n",
       "      <td>[0, 3]</td>\n",
       "      <td>0.0</td>\n",
       "    </tr>\n",
       "    <tr>\n",
       "      <th>4</th>\n",
       "      <td>icon_4</td>\n",
       "      <td>crystal.png</td>\n",
       "      <td>219.0</td>\n",
       "      <td>1</td>\n",
       "      <td>1744.0</td>\n",
       "      <td>[0, 4]</td>\n",
       "      <td>0.0</td>\n",
       "    </tr>\n",
       "    <tr>\n",
       "      <th>5</th>\n",
       "      <td>icon_5</td>\n",
       "      <td>hunter.png</td>\n",
       "      <td>244.0</td>\n",
       "      <td>2</td>\n",
       "      <td>335.0</td>\n",
       "      <td>[1, 0]</td>\n",
       "      <td>0.0</td>\n",
       "    </tr>\n",
       "    <tr>\n",
       "      <th>6</th>\n",
       "      <td>icon_6</td>\n",
       "      <td>zealot.png</td>\n",
       "      <td>363.0</td>\n",
       "      <td>1</td>\n",
       "      <td>1103.0</td>\n",
       "      <td>[1, 1]</td>\n",
       "      <td>0.0</td>\n",
       "    </tr>\n",
       "    <tr>\n",
       "      <th>7</th>\n",
       "      <td>icon_7</td>\n",
       "      <td>crystal.png</td>\n",
       "      <td>207.0</td>\n",
       "      <td>2</td>\n",
       "      <td>345.0</td>\n",
       "      <td>[1, 2]</td>\n",
       "      <td>0.0</td>\n",
       "    </tr>\n",
       "    <tr>\n",
       "      <th>8</th>\n",
       "      <td>icon_8</td>\n",
       "      <td>hunter.png</td>\n",
       "      <td>191.0</td>\n",
       "      <td>2</td>\n",
       "      <td>270.0</td>\n",
       "      <td>[1, 3]</td>\n",
       "      <td>0.0</td>\n",
       "    </tr>\n",
       "    <tr>\n",
       "      <th>9</th>\n",
       "      <td>icon_9</td>\n",
       "      <td>chemist.png</td>\n",
       "      <td>195.0</td>\n",
       "      <td>3</td>\n",
       "      <td>130.5</td>\n",
       "      <td>[1, 4]</td>\n",
       "      <td>0.0</td>\n",
       "    </tr>\n",
       "    <tr>\n",
       "      <th>10</th>\n",
       "      <td>icon_10</td>\n",
       "      <td>monkey.png</td>\n",
       "      <td>213.0</td>\n",
       "      <td>2</td>\n",
       "      <td>345.0</td>\n",
       "      <td>[2, 0]</td>\n",
       "      <td>0.0</td>\n",
       "    </tr>\n",
       "    <tr>\n",
       "      <th>11</th>\n",
       "      <td>icon_11</td>\n",
       "      <td>hunter.png</td>\n",
       "      <td>186.0</td>\n",
       "      <td>4</td>\n",
       "      <td>273.0</td>\n",
       "      <td>[2, 1]</td>\n",
       "      <td>0.0</td>\n",
       "    </tr>\n",
       "    <tr>\n",
       "      <th>12</th>\n",
       "      <td>icon_12</td>\n",
       "      <td>monkey.png</td>\n",
       "      <td>218.0</td>\n",
       "      <td>3</td>\n",
       "      <td>120.0</td>\n",
       "      <td>[2, 2]</td>\n",
       "      <td>0.0</td>\n",
       "    </tr>\n",
       "    <tr>\n",
       "      <th>13</th>\n",
       "      <td>icon_13</td>\n",
       "      <td>hunter.png</td>\n",
       "      <td>188.0</td>\n",
       "      <td>3</td>\n",
       "      <td>912.0</td>\n",
       "      <td>[2, 3]</td>\n",
       "      <td>0.0</td>\n",
       "    </tr>\n",
       "    <tr>\n",
       "      <th>14</th>\n",
       "      <td>icon_14</td>\n",
       "      <td>hunter.png</td>\n",
       "      <td>207.0</td>\n",
       "      <td>3</td>\n",
       "      <td>100.5</td>\n",
       "      <td>[2, 4]</td>\n",
       "      <td>0.0</td>\n",
       "    </tr>\n",
       "  </tbody>\n",
       "</table>\n",
       "</div>"
      ],
      "text/plain": [
       "    grid_id         unit  probability  rank  rank_error position  Age\n",
       "0    icon_0   hunter.png        197.0     4       287.0   [0, 0]  0.0\n",
       "1    icon_1   hunter.png        174.0     3       120.0   [0, 1]  0.0\n",
       "2    icon_2    empty.png        700.0     0         0.0   [0, 2]  0.0\n",
       "3    icon_3   zealot.png        365.0     3       172.5   [0, 3]  0.0\n",
       "4    icon_4  crystal.png        219.0     1      1744.0   [0, 4]  0.0\n",
       "5    icon_5   hunter.png        244.0     2       335.0   [1, 0]  0.0\n",
       "6    icon_6   zealot.png        363.0     1      1103.0   [1, 1]  0.0\n",
       "7    icon_7  crystal.png        207.0     2       345.0   [1, 2]  0.0\n",
       "8    icon_8   hunter.png        191.0     2       270.0   [1, 3]  0.0\n",
       "9    icon_9  chemist.png        195.0     3       130.5   [1, 4]  0.0\n",
       "10  icon_10   monkey.png        213.0     2       345.0   [2, 0]  0.0\n",
       "11  icon_11   hunter.png        186.0     4       273.0   [2, 1]  0.0\n",
       "12  icon_12   monkey.png        218.0     3       120.0   [2, 2]  0.0\n",
       "13  icon_13   hunter.png        188.0     3       912.0   [2, 3]  0.0\n",
       "14  icon_14   hunter.png        207.0     3       100.5   [2, 4]  0.0"
      ]
     },
     "metadata": {},
     "output_type": "display_data"
    }
   ],
   "source": [
    "import os\n",
    "import time\n",
    "import pandas as pd\n",
    "import numpy as np\n",
    "# Android ADB\n",
    "from scrcpy import Client, const\n",
    "\n",
    "# Image processing\n",
    "from PIL import Image\n",
    "import cv2\n",
    "import pytesseract\n",
    "# Notebook\n",
    "from IPython.display import display,clear_output\n",
    "from tqdm.notebook import trange, tqdm\n",
    "# internal\n",
    "import bot_core\n",
    "import bot_perception\n",
    "\n",
    "import importlib\n",
    "importlib.reload(bot_core)\n",
    "importlib.reload(bot_perception)\n",
    "\n",
    "bot = bot_core.Bot()\n",
    "# Evaluate grid to update OCR images\n",
    "names=bot.scan_grid()\n",
    "grid_df=bot_perception.grid_status(names)\n",
    "display(grid_df)"
   ]
  },
  {
   "cell_type": "code",
   "execution_count": 13,
   "metadata": {},
   "outputs": [
    {
     "data": {
      "text/plain": [
       "b'\\x01\\x00\\x00\\x00\\x04test'"
      ]
     },
     "execution_count": 13,
     "metadata": {},
     "output_type": "execute_result"
    }
   ],
   "source": [
    "# Check if alive\n",
    "bot.client.control.text(\"test\")\n"
   ]
  },
  {
   "cell_type": "code",
   "execution_count": 187,
   "metadata": {},
   "outputs": [],
   "source": [
    "bot.getScreen()"
   ]
  },
  {
   "cell_type": "code",
   "execution_count": 39,
   "metadata": {},
   "outputs": [],
   "source": [
    "# Restart game\n",
    "bot.restart_RR()"
   ]
  },
  {
   "cell_type": "markdown",
   "metadata": {},
   "source": [
    "## Watch ads"
   ]
  },
  {
   "cell_type": "code",
   "execution_count": 186,
   "metadata": {},
   "outputs": [
    {
     "data": {
      "text/plain": [
       "array([ 81, 306], dtype=int64)"
      ]
     },
     "execution_count": 186,
     "metadata": {},
     "output_type": "execute_result"
    }
   ],
   "source": [
    "avail_buttons = bot.get_current_icons(available=True)\n",
    "pos = bot_core.get_button_pos(avail_buttons,'refresh_button.png')\n"
   ]
  },
  {
   "cell_type": "code",
   "execution_count": 200,
   "metadata": {},
   "outputs": [
    {
     "data": {
      "text/html": [
       "<div>\n",
       "<style scoped>\n",
       "    .dataframe tbody tr th:only-of-type {\n",
       "        vertical-align: middle;\n",
       "    }\n",
       "\n",
       "    .dataframe tbody tr th {\n",
       "        vertical-align: top;\n",
       "    }\n",
       "\n",
       "    .dataframe thead th {\n",
       "        text-align: right;\n",
       "    }\n",
       "</style>\n",
       "<table border=\"1\" class=\"dataframe\">\n",
       "  <thead>\n",
       "    <tr style=\"text-align: right;\">\n",
       "      <th></th>\n",
       "      <th>icon</th>\n",
       "      <th>available</th>\n",
       "      <th>pos [X,Y]</th>\n",
       "    </tr>\n",
       "  </thead>\n",
       "  <tbody>\n",
       "    <tr>\n",
       "      <th>0</th>\n",
       "      <td>battle_icon.png</td>\n",
       "      <td>True</td>\n",
       "      <td>(359, 1419)</td>\n",
       "    </tr>\n",
       "    <tr>\n",
       "      <th>1</th>\n",
       "      <td>pvp_button.png</td>\n",
       "      <td>True</td>\n",
       "      <td>(140, 1259)</td>\n",
       "    </tr>\n",
       "  </tbody>\n",
       "</table>\n",
       "</div>"
      ],
      "text/plain": [
       "              icon  available    pos [X,Y]\n",
       "0  battle_icon.png       True  (359, 1419)\n",
       "1   pvp_button.png       True  (140, 1259)"
      ]
     },
     "metadata": {},
     "output_type": "display_data"
    }
   ],
   "source": [
    "avail_buttons = bot.get_current_icons(available=True)\n",
    "display(avail_buttons)"
   ]
  },
  {
   "cell_type": "markdown",
   "metadata": {},
   "source": [
    "## Get grid meta"
   ]
  },
  {
   "cell_type": "code",
   "execution_count": 4,
   "metadata": {},
   "outputs": [
    {
     "data": {
      "text/html": [
       "<div>\n",
       "<style scoped>\n",
       "    .dataframe tbody tr th:only-of-type {\n",
       "        vertical-align: middle;\n",
       "    }\n",
       "\n",
       "    .dataframe tbody tr th {\n",
       "        vertical-align: top;\n",
       "    }\n",
       "\n",
       "    .dataframe thead th {\n",
       "        text-align: right;\n",
       "    }\n",
       "</style>\n",
       "<table border=\"1\" class=\"dataframe\">\n",
       "  <thead>\n",
       "    <tr style=\"text-align: right;\">\n",
       "      <th></th>\n",
       "      <th>grid_id</th>\n",
       "      <th>unit</th>\n",
       "      <th>probability</th>\n",
       "      <th>rank</th>\n",
       "      <th>rank_error</th>\n",
       "      <th>position</th>\n",
       "      <th>Age</th>\n",
       "    </tr>\n",
       "  </thead>\n",
       "  <tbody>\n",
       "    <tr>\n",
       "      <th>0</th>\n",
       "      <td>icon_0</td>\n",
       "      <td>crystal.png</td>\n",
       "      <td>185.0</td>\n",
       "      <td>2</td>\n",
       "      <td>605.0</td>\n",
       "      <td>[0, 0]</td>\n",
       "      <td>1.0</td>\n",
       "    </tr>\n",
       "    <tr>\n",
       "      <th>1</th>\n",
       "      <td>icon_1</td>\n",
       "      <td>crystal.png</td>\n",
       "      <td>385.0</td>\n",
       "      <td>3</td>\n",
       "      <td>178.5</td>\n",
       "      <td>[0, 1]</td>\n",
       "      <td>1.0</td>\n",
       "    </tr>\n",
       "    <tr>\n",
       "      <th>2</th>\n",
       "      <td>icon_2</td>\n",
       "      <td>dryad.png</td>\n",
       "      <td>291.0</td>\n",
       "      <td>2</td>\n",
       "      <td>585.0</td>\n",
       "      <td>[0, 2]</td>\n",
       "      <td>1.0</td>\n",
       "    </tr>\n",
       "    <tr>\n",
       "      <th>3</th>\n",
       "      <td>icon_3</td>\n",
       "      <td>monkey.png</td>\n",
       "      <td>556.0</td>\n",
       "      <td>2</td>\n",
       "      <td>610.0</td>\n",
       "      <td>[0, 3]</td>\n",
       "      <td>1.0</td>\n",
       "    </tr>\n",
       "    <tr>\n",
       "      <th>4</th>\n",
       "      <td>icon_4</td>\n",
       "      <td>hunter.png</td>\n",
       "      <td>249.0</td>\n",
       "      <td>3</td>\n",
       "      <td>213.0</td>\n",
       "      <td>[0, 4]</td>\n",
       "      <td>1.0</td>\n",
       "    </tr>\n",
       "    <tr>\n",
       "      <th>5</th>\n",
       "      <td>icon_5</td>\n",
       "      <td>monkey.png</td>\n",
       "      <td>324.0</td>\n",
       "      <td>1</td>\n",
       "      <td>1217.0</td>\n",
       "      <td>[1, 0]</td>\n",
       "      <td>1.0</td>\n",
       "    </tr>\n",
       "    <tr>\n",
       "      <th>6</th>\n",
       "      <td>icon_6</td>\n",
       "      <td>dryad.png</td>\n",
       "      <td>664.0</td>\n",
       "      <td>2</td>\n",
       "      <td>275.0</td>\n",
       "      <td>[1, 1]</td>\n",
       "      <td>1.0</td>\n",
       "    </tr>\n",
       "    <tr>\n",
       "      <th>7</th>\n",
       "      <td>icon_7</td>\n",
       "      <td>empty.png</td>\n",
       "      <td>999.0</td>\n",
       "      <td>0</td>\n",
       "      <td>0.0</td>\n",
       "      <td>[1, 2]</td>\n",
       "      <td>1.0</td>\n",
       "    </tr>\n",
       "    <tr>\n",
       "      <th>8</th>\n",
       "      <td>icon_8</td>\n",
       "      <td>hunter.png</td>\n",
       "      <td>670.0</td>\n",
       "      <td>1</td>\n",
       "      <td>1489.0</td>\n",
       "      <td>[1, 3]</td>\n",
       "      <td>1.0</td>\n",
       "    </tr>\n",
       "    <tr>\n",
       "      <th>9</th>\n",
       "      <td>icon_9</td>\n",
       "      <td>crystal.png</td>\n",
       "      <td>270.0</td>\n",
       "      <td>2</td>\n",
       "      <td>605.0</td>\n",
       "      <td>[1, 4]</td>\n",
       "      <td>1.0</td>\n",
       "    </tr>\n",
       "    <tr>\n",
       "      <th>10</th>\n",
       "      <td>icon_10</td>\n",
       "      <td>dryad.png</td>\n",
       "      <td>319.0</td>\n",
       "      <td>2</td>\n",
       "      <td>580.0</td>\n",
       "      <td>[2, 0]</td>\n",
       "      <td>1.0</td>\n",
       "    </tr>\n",
       "    <tr>\n",
       "      <th>11</th>\n",
       "      <td>icon_11</td>\n",
       "      <td>empty.png</td>\n",
       "      <td>999.0</td>\n",
       "      <td>0</td>\n",
       "      <td>0.0</td>\n",
       "      <td>[2, 1]</td>\n",
       "      <td>1.0</td>\n",
       "    </tr>\n",
       "    <tr>\n",
       "      <th>12</th>\n",
       "      <td>icon_12</td>\n",
       "      <td>monkey.png</td>\n",
       "      <td>581.0</td>\n",
       "      <td>3</td>\n",
       "      <td>213.0</td>\n",
       "      <td>[2, 2]</td>\n",
       "      <td>1.0</td>\n",
       "    </tr>\n",
       "    <tr>\n",
       "      <th>13</th>\n",
       "      <td>icon_13</td>\n",
       "      <td>dryad.png</td>\n",
       "      <td>458.0</td>\n",
       "      <td>1</td>\n",
       "      <td>1982.5</td>\n",
       "      <td>[2, 3]</td>\n",
       "      <td>1.0</td>\n",
       "    </tr>\n",
       "    <tr>\n",
       "      <th>14</th>\n",
       "      <td>icon_14</td>\n",
       "      <td>crystal.png</td>\n",
       "      <td>368.0</td>\n",
       "      <td>1</td>\n",
       "      <td>2216.5</td>\n",
       "      <td>[2, 4]</td>\n",
       "      <td>1.0</td>\n",
       "    </tr>\n",
       "  </tbody>\n",
       "</table>\n",
       "</div>"
      ],
      "text/plain": [
       "    grid_id         unit  probability  rank  rank_error position  Age\n",
       "0    icon_0  crystal.png        185.0     2       605.0   [0, 0]  1.0\n",
       "1    icon_1  crystal.png        385.0     3       178.5   [0, 1]  1.0\n",
       "2    icon_2    dryad.png        291.0     2       585.0   [0, 2]  1.0\n",
       "3    icon_3   monkey.png        556.0     2       610.0   [0, 3]  1.0\n",
       "4    icon_4   hunter.png        249.0     3       213.0   [0, 4]  1.0\n",
       "5    icon_5   monkey.png        324.0     1      1217.0   [1, 0]  1.0\n",
       "6    icon_6    dryad.png        664.0     2       275.0   [1, 1]  1.0\n",
       "7    icon_7    empty.png        999.0     0         0.0   [1, 2]  1.0\n",
       "8    icon_8   hunter.png        670.0     1      1489.0   [1, 3]  1.0\n",
       "9    icon_9  crystal.png        270.0     2       605.0   [1, 4]  1.0\n",
       "10  icon_10    dryad.png        319.0     2       580.0   [2, 0]  1.0\n",
       "11  icon_11    empty.png        999.0     0         0.0   [2, 1]  1.0\n",
       "12  icon_12   monkey.png        581.0     3       213.0   [2, 2]  1.0\n",
       "13  icon_13    dryad.png        458.0     1      1982.5   [2, 3]  1.0\n",
       "14  icon_14  crystal.png        368.0     1      2216.5   [2, 4]  1.0"
      ]
     },
     "metadata": {},
     "output_type": "display_data"
    }
   ],
   "source": [
    "names=bot.scan_grid()\n",
    "grid_df=bot_perception.grid_status(names)\n",
    "grid_df=bot_perception.grid_status(names,grid_df)\n",
    "display(grid_df)\n",
    "prev_grid= grid_df.copy()"
   ]
  },
  {
   "cell_type": "code",
   "execution_count": 278,
   "metadata": {},
   "outputs": [
    {
     "data": {
      "text/plain": [
       "unit         rank\n",
       "empty.png    0       8\n",
       "crystal.png  2       2\n",
       "chemist.png  2       1\n",
       "             3       1\n",
       "hunter.png   3       1\n",
       "             5       1\n",
       "zealot.png   4       1\n",
       "Name: unit, dtype: int64"
      ]
     },
     "metadata": {},
     "output_type": "display_data"
    }
   ],
   "source": [
    "names=bot.scan_grid()\n",
    "grid_df=bot_perception.grid_status(names)\n",
    "df_split,unit_series, df_groups, group_keys=bot_core.grid_meta_info(grid_df)\n",
    "display(unit_series)\n",
    "#merge_series = unit_series[unit_series>=2]\n"
   ]
  },
  {
   "cell_type": "code",
   "execution_count": 250,
   "metadata": {},
   "outputs": [
    {
     "data": {
      "text/plain": [
       "False"
      ]
     },
     "execution_count": 250,
     "metadata": {},
     "output_type": "execute_result"
    }
   ],
   "source": [
    "#('empty.png',0) in group_keys\n",
    "df_groups['empty.png']<=2"
   ]
  },
  {
   "cell_type": "code",
   "execution_count": 252,
   "metadata": {},
   "outputs": [
    {
     "data": {
      "text/plain": [
       "unit         rank\n",
       "chemist.png  3       1\n",
       "monkey.png   4       1\n",
       "Name: unit, dtype: int64"
      ]
     },
     "execution_count": 252,
     "metadata": {},
     "output_type": "execute_result"
    }
   ],
   "source": [
    "merge_series = unit_series\n",
    "\n",
    "bot_core.adv_filter_keys(merge_series,[['chemist.png','monkey.png']])"
   ]
  },
  {
   "cell_type": "code",
   "execution_count": 437,
   "metadata": {},
   "outputs": [
    {
     "name": "stdout",
     "output_type": "stream",
     "text": [
      "[4, 5] 4\n",
      "[4, 5] 5\n",
      "123\n",
      "['zealot.png', 'crystal.png'] zealot.png\n",
      "['zealot.png', 'crystal.png'] crystal.png\n",
      "123\n"
     ]
    },
    {
     "data": {
      "text/plain": [
       "unit         rank\n",
       "monkey.png   1       2\n",
       "             4       2\n",
       "crystal.png  2       2\n",
       "zealot.png   2       2\n",
       "dtype: int64"
      ]
     },
     "execution_count": 437,
     "metadata": {},
     "output_type": "execute_result"
    }
   ],
   "source": [
    "# Setup test\n",
    "multi_index=pd.MultiIndex.from_tuples([\n",
    "            ( 'monkey.png', 1),\n",
    "            ( 'monkey.png', 4),\n",
    "            ('crystal.png', 2),\n",
    "            ('crystal.png', 4),\n",
    "            ('zealot.png', 2),\n",
    "            ('zealot.png', 4),],\n",
    "           names=['unit', 'rank'])\n",
    "unit_series_test=pd.Series([2,2,2,2,2,2],index=multi_index)\n",
    "# Pre-condition\n",
    "merge_series = unit_series_test.copy()\n",
    "merge_series = bot_core.adv_filter_keys(merge_series,'empty.png',remove=True)\n",
    "merge_chemist = bot_core.adv_filter_keys(unit_series,'chemist.png',remove=False)\n",
    "if not merge_chemist.empty:\n",
    "    max_chemist = merge_chemist.index.max()\n",
    "    # Remove 1 count of highest rank chemist\n",
    "    merge_series[merge_series.index == max_chemist] = merge_series[merge_series.index == max_chemist] - 1\n",
    "## Select stuff to merge\n",
    "merge_series = merge_series[merge_series>=2] # At least 2 units ## ADD MIME to every count, use sample rank and check if mime exist\n",
    "# Remain\n",
    "#merge_series = bot_core.adv_filter_keys(merge_series,[[3,4,5],'crystal.png'],remove=True)\n",
    "adv_filter_keys(merge_series,[[4,5],['zealot.png','crystal.png']],remove=True)\n",
    "\n",
    "#bot_core.adv_filter_keys(merge_series,[['zealot.png','crystal.png']],remove=True)\n"
   ]
  },
  {
   "cell_type": "code",
   "execution_count": null,
   "metadata": {},
   "outputs": [],
   "source": []
  },
  {
   "cell_type": "code",
   "execution_count": 427,
   "metadata": {},
   "outputs": [],
   "source": [
    "# Returns all elements which match tokens value with multiple levels\n",
    "# Either provide nested list of list, simple list or unit type/unit rank and if remove or not\n",
    "# Criteria example:  [[3,4,5],['zealot.png','crystal.png']]\n",
    "def adv_filter_keys(unit_series,tokens,remove=False):\n",
    "    if unit_series.empty:\n",
    "        return pd.Series(dtype=object)\n",
    "    if not isinstance(tokens, list): # Make token a list if not already\n",
    "        tokens = [tokens]\n",
    "    # Add detection of dimension in input tokens\n",
    "    merge_series= unit_series.copy()\n",
    "    for level in tokens:\n",
    "        merge_series_temp= merge_series.copy()\n",
    "        if not isinstance(level, list): # Make token a list if not already\n",
    "            level = [level]\n",
    "        series= []\n",
    "        for token in level:\n",
    "            print(level,token)\n",
    "            # check if given token is int, assume unit rank filter\n",
    "            if isinstance(token,int):\n",
    "                exists = merge_series.index.get_level_values('rank').isin([token]).any()\n",
    "                if exists:\n",
    "                    series.append(merge_series.xs(token, level='rank',drop_level=False))\n",
    "                else: continue # skip if nothing matches criteria\n",
    "            elif isinstance(token,str):\n",
    "                if token in merge_series: \n",
    "                    series.append(merge_series.xs(token, level='unit',drop_level=False))\n",
    "                else: continue\n",
    "        # Every iteration\n",
    "        # If any matches are found\n",
    "        if not len(series)==0:\n",
    "            merge_series = pd.concat(series)\n",
    "            # Select matches in previous matches \n",
    "            merge_series = merge_series_temp[merge_series_temp.index.isin(merge_series.index)]\n",
    "         # return empty list if empty and nothing matches criteria\n",
    "        elif not remove:\n",
    "            return pd.Series(dtype=object)\n",
    "        # if removing matches from initial series and no matches are found, do nothing this loop, keep list same\n",
    "        else: \n",
    "            continue\n",
    "    # LOOP DONE\n",
    "    if remove:\n",
    "        # Remove all matches found from original series\n",
    "        merge_series = unit_series[~unit_series.index.isin(merge_series.index)]\n",
    "    # Return matches found\n",
    "    return merge_series\n",
    "\n",
    "\n",
    "\n",
    "        # Otherwise Do next loop with unchanged merge series otherwise\n",
    "    # Return result of all criterias\n",
    "    print(555)\n",
    "    return merge_series\n",
    "#unit_series"
   ]
  },
  {
   "cell_type": "code",
   "execution_count": 331,
   "metadata": {},
   "outputs": [
    {
     "data": {
      "text/plain": [
       "unit         rank\n",
       "crystal.png  2       2\n",
       "chemist.png  2       1\n",
       "             3       0\n",
       "hunter.png   3       1\n",
       "             5       1\n",
       "zealot.png   4       1\n",
       "Name: unit, dtype: int64"
      ]
     },
     "metadata": {},
     "output_type": "display_data"
    },
    {
     "data": {
      "text/plain": [
       "unit         rank\n",
       "crystal.png  2       2\n",
       "Name: unit, dtype: int64"
      ]
     },
     "metadata": {},
     "output_type": "display_data"
    }
   ],
   "source": [
    "\n",
    "merge_series = unit_series.copy()\n",
    "merge_series = adv_filter_keys(merge_series,'empty.png',remove=True)\n",
    "merge_chemist = adv_filter_keys(unit_series,'chemist.png',remove=False)\n",
    "if not merge_chemist.empty:\n",
    "    max_chemist = merge_chemist.index.max()\n",
    "    # Remove 1 count of highest rank chemist\n",
    "    merge_series[merge_series.index == max_chemist] = merge_series[merge_series.index == max_chemist] - 1\n",
    "    display(merge_series)\n",
    "## Select stuff to merge\n",
    "merge_series = merge_series[merge_series>=2] # At least 2 units ## ADD MIME to every count, use sample rank and check if mime exist\n",
    "merge_prio = adv_filter_keys(merge_series,[['chemist.png','monkey.png']],remove=True)\n",
    "#if not merge_prio.empty:\n",
    "#    print('merge!')\n",
    "display(merge_prio)"
   ]
  },
  {
   "cell_type": "code",
   "execution_count": 311,
   "metadata": {},
   "outputs": [
    {
     "data": {
      "text/plain": [
       "unit         rank\n",
       "crystal.png  2       2\n",
       "Name: unit, dtype: int64"
      ]
     },
     "execution_count": 311,
     "metadata": {},
     "output_type": "execute_result"
    }
   ],
   "source": [
    "merge_series"
   ]
  },
  {
   "cell_type": "code",
   "execution_count": 287,
   "metadata": {},
   "outputs": [
    {
     "data": {
      "text/plain": [
       "unit         rank\n",
       "empty.png    0       8\n",
       "crystal.png  2       2\n",
       "chemist.png  2       1\n",
       "             3       1\n",
       "hunter.png   3       1\n",
       "             5       1\n",
       "zealot.png   4       1\n",
       "Name: unit, dtype: int64"
      ]
     },
     "execution_count": 287,
     "metadata": {},
     "output_type": "execute_result"
    }
   ],
   "source": [
    "unit_series"
   ]
  },
  {
   "cell_type": "code",
   "execution_count": 205,
   "metadata": {},
   "outputs": [
    {
     "data": {
      "text/plain": [
       "unit         rank\n",
       "monkey.png   1       2\n",
       "crystal.png  2       2\n",
       "             4       2\n",
       "zealot.png   2       2\n",
       "             4       2\n",
       "dtype: int64"
      ]
     },
     "execution_count": 205,
     "metadata": {},
     "output_type": "execute_result"
    }
   ],
   "source": [
    "merge_series = unit_series_test\n",
    "adv_filter_keys(merge_series,[[3,4,5],['zealot.png','crystal.png']],remove=True)\n"
   ]
  },
  {
   "cell_type": "code",
   "execution_count": null,
   "metadata": {},
   "outputs": [],
   "source": [
    "bot_core.adv_filter_keys(merge_series,[\n",
    "    [3,4,5],\n",
    "    ['crystal.png','zealot.png']\n",
    "    ],remove=True)"
   ]
  },
  {
   "cell_type": "code",
   "execution_count": 97,
   "metadata": {},
   "outputs": [
    {
     "data": {
      "text/plain": [
       "unit         rank\n",
       "chemist.png  4       0\n",
       "Name: unit, dtype: int64"
      ]
     },
     "execution_count": 97,
     "metadata": {},
     "output_type": "execute_result"
    }
   ],
   "source": [
    "# Find highest chemist rank\n",
    "merge_series = adv_filter_keys(unit_series,'chemist.png',remove=False)\n",
    "max_chemist = merge_series.index.max()\n",
    "# Remove 1 count of highest rank chemist\n",
    "merge_series[merge_series.index == max_chemist] = merge_series[merge_series.index == max_chemist] - 1\n",
    "merge_series"
   ]
  },
  {
   "cell_type": "code",
   "execution_count": 100,
   "metadata": {},
   "outputs": [
    {
     "data": {
      "text/plain": [
       "unit         rank\n",
       "empty.png    0       3\n",
       "hunter.png   1       2\n",
       "monkey.png   1       2\n",
       "chemist.png  4       1\n",
       "crystal.png  2       1\n",
       "monkey.png   2       1\n",
       "             4       1\n",
       "zealot.png   2       1\n",
       "Name: unit, dtype: int64"
      ]
     },
     "execution_count": 100,
     "metadata": {},
     "output_type": "execute_result"
    }
   ],
   "source": [
    "merge_series = unit_series\n",
    "merge_prio = adv_filter_keys(merge_series,[['chemist.png','monkey.png']])\n",
    "if not merge_prio.empty:\n",
    "    merge_df = self.merge_unit(df_split,merge_prio)\n",
    "\n",
    "adv_filter_keys(merge_series,[[3,4,5],['zealot.png','crystal.png']],remove=True)\n"
   ]
  },
  {
   "cell_type": "code",
   "execution_count": 34,
   "metadata": {},
   "outputs": [
    {
     "data": {
      "text/plain": [
       "array([False,  True, False,  True, False, False, False, False, False,\n",
       "       False, False])"
      ]
     },
     "execution_count": 34,
     "metadata": {},
     "output_type": "execute_result"
    }
   ],
   "source": [
    "# Remove tuple tokens from unit series\n",
    "def remove_keys(unit_series,tokens = [('empty.png', 0)]):\n",
    "    return unit_series[~unit_series.index.isin([tokens])]\n",
    "merge_series "
   ]
  },
  {
   "cell_type": "code",
   "execution_count": 37,
   "metadata": {},
   "outputs": [
    {
     "data": {
      "text/plain": [
       "unit         rank\n",
       "dryad.png    2       3\n",
       "empty.png    0       2\n",
       "crystal.png  3       1\n",
       "dryad.png    1       1\n",
       "hunter.png   1       1\n",
       "             3       1\n",
       "monkey.png   1       1\n",
       "             2       1\n",
       "             3       1\n",
       "Name: unit, dtype: int64"
      ]
     },
     "execution_count": 37,
     "metadata": {},
     "output_type": "execute_result"
    }
   ],
   "source": [
    "merge_series[~merge_series.index.isin([('crystal.png', 1),('crystal.png', 2)])]"
   ]
  }
 ],
 "metadata": {
  "interpreter": {
   "hash": "222f52f3d4ea82340b8e438915cd2cce29310e9a34a09f1d931c12bfa7062449"
  },
  "kernelspec": {
   "display_name": "Python 3.9.12 ('Rush-Royale-Bot')",
   "language": "python",
   "name": "python3"
  },
  "language_info": {
   "codemirror_mode": {
    "name": "ipython",
    "version": 3
   },
   "file_extension": ".py",
   "mimetype": "text/x-python",
   "name": "python",
   "nbconvert_exporter": "python",
   "pygments_lexer": "ipython3",
   "version": "3.9.12"
  },
  "orig_nbformat": 4
 },
 "nbformat": 4,
 "nbformat_minor": 2
}
