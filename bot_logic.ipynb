{
 "cells": [
  {
   "cell_type": "markdown",
   "metadata": {},
   "source": [
    "##SETUP"
   ]
  },
  {
   "cell_type": "code",
   "execution_count": 1,
   "metadata": {},
   "outputs": [
    {
     "name": "stdout",
     "output_type": "stream",
     "text": [
      "Found ADB device! emulator-5554\n",
      "Log file is already open\n"
     ]
    }
   ],
   "source": [
    "import os\n",
    "import sys\n",
    "import time\n",
    "import pandas as pd\n",
    "import numpy as np\n",
    "# Android ADB\n",
    "from scrcpy import Client, const\n",
    "\n",
    "# Image processing\n",
    "from PIL import Image\n",
    "import cv2\n",
    "# Notebook\n",
    "from IPython.display import display,clear_output\n",
    "from tqdm.notebook import trange, tqdm\n",
    "# internal\n",
    "sys.path.append('./src')\n",
    "import bot_core\n",
    "import bot_perception\n",
    "import port_scan\n",
    "\n",
    "import importlib\n",
    "[importlib.reload(lib) for lib in [bot_core,bot_perception,port_scan]]\n",
    "\n",
    "device = port_scan.get_device()\n",
    "if device is None:\n",
    "    raise Exception(\"No device found!\")\n",
    "\n",
    "bot = bot_core.Bot(device)\n"
   ]
  },
  {
   "cell_type": "code",
   "execution_count": 24,
   "metadata": {},
   "outputs": [
    {
     "data": {
      "text/html": [
       "<div>\n",
       "<style scoped>\n",
       "    .dataframe tbody tr th:only-of-type {\n",
       "        vertical-align: middle;\n",
       "    }\n",
       "\n",
       "    .dataframe tbody tr th {\n",
       "        vertical-align: top;\n",
       "    }\n",
       "\n",
       "    .dataframe thead th {\n",
       "        text-align: right;\n",
       "    }\n",
       "</style>\n",
       "<table border=\"1\" class=\"dataframe\">\n",
       "  <thead>\n",
       "    <tr style=\"text-align: right;\">\n",
       "      <th></th>\n",
       "      <th>grid_pos</th>\n",
       "      <th>unit</th>\n",
       "      <th>probability</th>\n",
       "      <th>rank</th>\n",
       "      <th>rank_prob</th>\n",
       "      <th>Age</th>\n",
       "    </tr>\n",
       "  </thead>\n",
       "  <tbody>\n",
       "    <tr>\n",
       "      <th>0</th>\n",
       "      <td>[0, 0]</td>\n",
       "      <td>empty.png</td>\n",
       "      <td>0.000</td>\n",
       "      <td>0</td>\n",
       "      <td>0.930004</td>\n",
       "      <td>0.0</td>\n",
       "    </tr>\n",
       "    <tr>\n",
       "      <th>1</th>\n",
       "      <td>[0, 1]</td>\n",
       "      <td>dryad.png</td>\n",
       "      <td>0.817</td>\n",
       "      <td>1</td>\n",
       "      <td>1.000000</td>\n",
       "      <td>0.0</td>\n",
       "    </tr>\n",
       "    <tr>\n",
       "      <th>2</th>\n",
       "      <td>[0, 2]</td>\n",
       "      <td>scrapper.png</td>\n",
       "      <td>0.906</td>\n",
       "      <td>1</td>\n",
       "      <td>1.000000</td>\n",
       "      <td>0.0</td>\n",
       "    </tr>\n",
       "    <tr>\n",
       "      <th>3</th>\n",
       "      <td>[0, 3]</td>\n",
       "      <td>demon_hunter.png</td>\n",
       "      <td>0.833</td>\n",
       "      <td>2</td>\n",
       "      <td>0.999999</td>\n",
       "      <td>0.0</td>\n",
       "    </tr>\n",
       "    <tr>\n",
       "      <th>4</th>\n",
       "      <td>[0, 4]</td>\n",
       "      <td>knight_statue.png</td>\n",
       "      <td>0.927</td>\n",
       "      <td>2</td>\n",
       "      <td>1.000000</td>\n",
       "      <td>0.0</td>\n",
       "    </tr>\n",
       "    <tr>\n",
       "      <th>5</th>\n",
       "      <td>[1, 0]</td>\n",
       "      <td>chemist.png</td>\n",
       "      <td>0.907</td>\n",
       "      <td>2</td>\n",
       "      <td>0.999997</td>\n",
       "      <td>0.0</td>\n",
       "    </tr>\n",
       "    <tr>\n",
       "      <th>6</th>\n",
       "      <td>[1, 1]</td>\n",
       "      <td>knight_statue.png</td>\n",
       "      <td>0.920</td>\n",
       "      <td>2</td>\n",
       "      <td>0.999999</td>\n",
       "      <td>0.0</td>\n",
       "    </tr>\n",
       "    <tr>\n",
       "      <th>7</th>\n",
       "      <td>[1, 2]</td>\n",
       "      <td>scrapper.png</td>\n",
       "      <td>0.814</td>\n",
       "      <td>1</td>\n",
       "      <td>0.999990</td>\n",
       "      <td>0.0</td>\n",
       "    </tr>\n",
       "    <tr>\n",
       "      <th>8</th>\n",
       "      <td>[1, 3]</td>\n",
       "      <td>scrapper.png</td>\n",
       "      <td>0.850</td>\n",
       "      <td>2</td>\n",
       "      <td>1.000000</td>\n",
       "      <td>0.0</td>\n",
       "    </tr>\n",
       "    <tr>\n",
       "      <th>9</th>\n",
       "      <td>[1, 4]</td>\n",
       "      <td>knight_statue.png</td>\n",
       "      <td>0.941</td>\n",
       "      <td>1</td>\n",
       "      <td>0.999999</td>\n",
       "      <td>0.0</td>\n",
       "    </tr>\n",
       "    <tr>\n",
       "      <th>10</th>\n",
       "      <td>[2, 0]</td>\n",
       "      <td>scrapper.png</td>\n",
       "      <td>0.858</td>\n",
       "      <td>1</td>\n",
       "      <td>0.999984</td>\n",
       "      <td>0.0</td>\n",
       "    </tr>\n",
       "    <tr>\n",
       "      <th>11</th>\n",
       "      <td>[2, 1]</td>\n",
       "      <td>knight_statue.png</td>\n",
       "      <td>0.869</td>\n",
       "      <td>1</td>\n",
       "      <td>1.000000</td>\n",
       "      <td>0.0</td>\n",
       "    </tr>\n",
       "    <tr>\n",
       "      <th>12</th>\n",
       "      <td>[2, 2]</td>\n",
       "      <td>demon_hunter.png</td>\n",
       "      <td>0.897</td>\n",
       "      <td>1</td>\n",
       "      <td>1.000000</td>\n",
       "      <td>0.0</td>\n",
       "    </tr>\n",
       "    <tr>\n",
       "      <th>13</th>\n",
       "      <td>[2, 3]</td>\n",
       "      <td>knight_statue.png</td>\n",
       "      <td>0.942</td>\n",
       "      <td>1</td>\n",
       "      <td>1.000000</td>\n",
       "      <td>0.0</td>\n",
       "    </tr>\n",
       "    <tr>\n",
       "      <th>14</th>\n",
       "      <td>[2, 4]</td>\n",
       "      <td>chemist.png</td>\n",
       "      <td>0.906</td>\n",
       "      <td>2</td>\n",
       "      <td>0.999999</td>\n",
       "      <td>0.0</td>\n",
       "    </tr>\n",
       "  </tbody>\n",
       "</table>\n",
       "</div>"
      ],
      "text/plain": [
       "   grid_pos               unit  probability  rank  rank_prob  Age\n",
       "0    [0, 0]          empty.png        0.000     0   0.930004  0.0\n",
       "1    [0, 1]          dryad.png        0.817     1   1.000000  0.0\n",
       "2    [0, 2]       scrapper.png        0.906     1   1.000000  0.0\n",
       "3    [0, 3]   demon_hunter.png        0.833     2   0.999999  0.0\n",
       "4    [0, 4]  knight_statue.png        0.927     2   1.000000  0.0\n",
       "5    [1, 0]        chemist.png        0.907     2   0.999997  0.0\n",
       "6    [1, 1]  knight_statue.png        0.920     2   0.999999  0.0\n",
       "7    [1, 2]       scrapper.png        0.814     1   0.999990  0.0\n",
       "8    [1, 3]       scrapper.png        0.850     2   1.000000  0.0\n",
       "9    [1, 4]  knight_statue.png        0.941     1   0.999999  0.0\n",
       "10   [2, 0]       scrapper.png        0.858     1   0.999984  0.0\n",
       "11   [2, 1]  knight_statue.png        0.869     1   1.000000  0.0\n",
       "12   [2, 2]   demon_hunter.png        0.897     1   1.000000  0.0\n",
       "13   [2, 3]  knight_statue.png        0.942     1   1.000000  0.0\n",
       "14   [2, 4]        chemist.png        0.906     2   0.999999  0.0"
      ]
     },
     "metadata": {},
     "output_type": "display_data"
    },
    {
     "data": {
      "text/plain": [
       "unit               rank\n",
       "knight_statue.png  1       3\n",
       "scrapper.png       1       3\n",
       "chemist.png        2       2\n",
       "knight_statue.png  2       2\n",
       "demon_hunter.png   1       1\n",
       "                   2       1\n",
       "dryad.png          1       1\n",
       "empty.png          0       1\n",
       "scrapper.png       2       1\n",
       "Name: unit, dtype: int64"
      ]
     },
     "execution_count": 24,
     "metadata": {},
     "output_type": "execute_result"
    }
   ],
   "source": [
    "# Evaluate grid to update OCR images\n",
    "names=bot.scan_grid()\n",
    "grid_df=bot_perception.grid_status(names)\n",
    "display(grid_df)\n",
    "df_split,unit_series, df_groups, group_keys=bot_core.grid_meta_info(grid_df)\n",
    "merge_series = unit_series.copy()\n",
    "merge_series"
   ]
  },
  {
   "cell_type": "code",
   "execution_count": 13,
   "metadata": {},
   "outputs": [
    {
     "data": {
      "text/plain": [
       "b'\\x01\\x00\\x00\\x00\\x04test'"
      ]
     },
     "execution_count": 13,
     "metadata": {},
     "output_type": "execute_result"
    }
   ],
   "source": [
    "# Check if alive\n",
    "bot.client.control.text(\"test\")\n"
   ]
  },
  {
   "cell_type": "code",
   "execution_count": null,
   "metadata": {},
   "outputs": [],
   "source": [
    "grid_df=bot_perception.grid_status(names,prev_grid=grid_df)\n",
    "df_split,unit_series, df_groups, group_keys=bot_core.grid_meta_info(grid_df)\n",
    "grid_df"
   ]
  },
  {
   "cell_type": "code",
   "execution_count": 23,
   "metadata": {},
   "outputs": [],
   "source": [
    "bot.getScreen()"
   ]
  },
  {
   "cell_type": "code",
   "execution_count": 39,
   "metadata": {},
   "outputs": [],
   "source": [
    "# Restart game\n",
    "bot.restart_RR()"
   ]
  },
  {
   "cell_type": "code",
   "execution_count": 10,
   "metadata": {},
   "outputs": [
    {
     "name": "stdout",
     "output_type": "stream",
     "text": [
      "Found ADB device! emulator-5554\n"
     ]
    }
   ],
   "source": [
    "device = port_scan.get_device()"
   ]
  },
  {
   "cell_type": "markdown",
   "metadata": {},
   "source": [
    "## Performance Optimizations"
   ]
  },
  {
   "cell_type": "code",
   "execution_count": 16,
   "metadata": {},
   "outputs": [
    {
     "name": "stdout",
     "output_type": "stream",
     "text": [
      "Mon Jul 18 20:18:15 2022    profile.txt\n",
      "\n",
      "         22236 function calls (22020 primitive calls) in 0.949 seconds\n",
      "\n",
      "   Ordered by: internal time\n",
      "   List reduced from 792 to 5 due to restriction <5>\n",
      "\n",
      "   ncalls  tottime  percall  cumtime  percall filename:lineno(function)\n",
      "        2    0.619    0.310    0.619    0.310 {built-in method _winapi.WaitForSingleObject}\n",
      "      180    0.163    0.001    0.163    0.001 {method 'detectAndCompute' of 'cv2.Feature2D' objects}\n",
      "       52    0.101    0.002    0.101    0.002 {imread}\n",
      "       90    0.011    0.000    0.011    0.000 {method 'match' of 'cv2.DescriptorMatcher' objects}\n",
      "       15    0.010    0.001    0.010    0.001 {imwrite}\n",
      "\n",
      "\n"
     ]
    },
    {
     "data": {
      "text/plain": [
       "<pstats.Stats at 0x1e56b4ed100>"
      ]
     },
     "execution_count": 16,
     "metadata": {},
     "output_type": "execute_result"
    }
   ],
   "source": [
    "# profile bot.try_merge\n",
    "import cProfile\n",
    "cProfile.run('bot.try_merge(prev_grid=grid_df)','profile.txt')\n",
    "# sort by time\n",
    "import pstats\n",
    "p = pstats.Stats('profile.txt')\n",
    "p.sort_stats('time').print_stats(5)"
   ]
  },
  {
   "cell_type": "markdown",
   "metadata": {},
   "source": [
    "## Merge Logic"
   ]
  },
  {
   "cell_type": "code",
   "execution_count": 31,
   "metadata": {},
   "outputs": [
    {
     "data": {
      "text/plain": [
       "['',\n",
       " 'Average age: 6.2',\n",
       "    grid_pos         unit  probability  rank  rank_prob   Age\n",
       " 0    [0, 0]    dryad.png        0.811     1   0.999976   2.0\n",
       " 1    [0, 1]    empty.png        0.000     0   0.956905   5.0\n",
       " 2    [0, 2]    empty.png        0.000     0   0.996836  11.0\n",
       " 3    [0, 3]    empty.png        0.000     0   0.746426   0.0\n",
       " 4    [0, 4]    dryad.png        0.815     7   0.997909   1.0\n",
       " 5    [1, 0]    dryad.png        0.809     2   0.999983  11.0\n",
       " 6    [1, 1]    dryad.png        0.815     3   0.999860   1.0\n",
       " 7    [1, 2]    empty.png        0.000     0   0.696451   7.0\n",
       " 8    [1, 3]    empty.png        0.000     0   1.000000  11.0\n",
       " 9    [1, 4]    empty.png        0.000     0   0.996963  11.0\n",
       " 10   [2, 0]    dryad.png        0.809     5   0.227527   0.0\n",
       " 11   [2, 1]    empty.png        0.000     0   0.999225   7.0\n",
       " 12   [2, 2]  chemist.png        0.905     4   1.000000   4.0\n",
       " 13   [2, 3]    empty.png        0.000     0   0.999998  11.0\n",
       " 14   [2, 4]    empty.png        0.000     0   1.000000  11.0,\n",
       " unit         rank\n",
       " empty.png    0       9\n",
       " chemist.png  4       1\n",
       " dryad.png    1       1\n",
       "              2       1\n",
       "              3       1\n",
       "              5       1\n",
       "              7       1\n",
       " Name: unit, dtype: int64,\n",
       " None]"
      ]
     },
     "metadata": {},
     "output_type": "display_data"
    },
    {
     "ename": "KeyboardInterrupt",
     "evalue": "",
     "output_type": "error",
     "traceback": [
      "\u001b[1;31m---------------------------------------------------------------------------\u001b[0m",
      "\u001b[1;31mKeyboardInterrupt\u001b[0m                         Traceback (most recent call last)",
      "\u001b[1;32mc:\\vscode\\Rush-Royale-Bot\\bot_logic.ipynb Cell 11\u001b[0m in \u001b[0;36m<cell line: 35>\u001b[1;34m()\u001b[0m\n\u001b[0;32m     <a href='vscode-notebook-cell:/c%3A/vscode/Rush-Royale-Bot/bot_logic.ipynb#ch0000009?line=33'>34</a>\u001b[0m     \u001b[39mreturn\u001b[39;00m grid_df,unit_series,merge_series,merge_df,info\n\u001b[0;32m     <a href='vscode-notebook-cell:/c%3A/vscode/Rush-Royale-Bot/bot_logic.ipynb#ch0000009?line=34'>35</a>\u001b[0m \u001b[39mfor\u001b[39;00m i \u001b[39min\u001b[39;00m \u001b[39mrange\u001b[39m(\u001b[39m1000\u001b[39m):\n\u001b[1;32m---> <a href='vscode-notebook-cell:/c%3A/vscode/Rush-Royale-Bot/bot_logic.ipynb#ch0000009?line=35'>36</a>\u001b[0m     grid_df,unit_series,merge_series,df_groups,info \u001b[39m=\u001b[39mtry_merge(bot,prev_grid\u001b[39m=\u001b[39;49mgrid_df,merge_target\u001b[39m=\u001b[39;49m\u001b[39m'\u001b[39;49m\u001b[39mdemon_hunter.png\u001b[39;49m\u001b[39m'\u001b[39;49m)\n\u001b[0;32m     <a href='vscode-notebook-cell:/c%3A/vscode/Rush-Royale-Bot/bot_logic.ipynb#ch0000009?line=36'>37</a>\u001b[0m     clear_output()\n\u001b[0;32m     <a href='vscode-notebook-cell:/c%3A/vscode/Rush-Royale-Bot/bot_logic.ipynb#ch0000009?line=37'>38</a>\u001b[0m     display([\u001b[39mf\u001b[39m\u001b[39m'\u001b[39m\u001b[39m{\u001b[39;00minfo\u001b[39m}\u001b[39;00m\u001b[39m'\u001b[39m, \u001b[39m'\u001b[39m\u001b[39mAverage age: \u001b[39m\u001b[39m'\u001b[39m\u001b[39m+\u001b[39m \u001b[39mstr\u001b[39m(grid_df[\u001b[39m'\u001b[39m\u001b[39mAge\u001b[39m\u001b[39m'\u001b[39m]\u001b[39m.\u001b[39mmean()\u001b[39m.\u001b[39mround(\u001b[39m2\u001b[39m)),grid_df,unit_series,df_groups])\n",
      "\u001b[1;32mc:\\vscode\\Rush-Royale-Bot\\bot_logic.ipynb Cell 11\u001b[0m in \u001b[0;36mtry_merge\u001b[1;34m(self, rank, prev_grid, merge_target)\u001b[0m\n\u001b[0;32m     <a href='vscode-notebook-cell:/c%3A/vscode/Rush-Royale-Bot/bot_logic.ipynb#ch0000009?line=18'>19</a>\u001b[0m info\u001b[39m=\u001b[39m\u001b[39m'\u001b[39m\u001b[39m'\u001b[39m\n\u001b[0;32m     <a href='vscode-notebook-cell:/c%3A/vscode/Rush-Royale-Bot/bot_logic.ipynb#ch0000009?line=19'>20</a>\u001b[0m merge_df \u001b[39m=\u001b[39m\u001b[39mNone\u001b[39;00m\n\u001b[1;32m---> <a href='vscode-notebook-cell:/c%3A/vscode/Rush-Royale-Bot/bot_logic.ipynb#ch0000009?line=20'>21</a>\u001b[0m names\u001b[39m=\u001b[39m\u001b[39mself\u001b[39;49m\u001b[39m.\u001b[39;49mscan_grid(new\u001b[39m=\u001b[39;49m\u001b[39mTrue\u001b[39;49;00m)\n\u001b[0;32m     <a href='vscode-notebook-cell:/c%3A/vscode/Rush-Royale-Bot/bot_logic.ipynb#ch0000009?line=21'>22</a>\u001b[0m grid_df\u001b[39m=\u001b[39mbot_perception\u001b[39m.\u001b[39mgrid_status(names,prev_grid\u001b[39m=\u001b[39mprev_grid)\n\u001b[0;32m     <a href='vscode-notebook-cell:/c%3A/vscode/Rush-Royale-Bot/bot_logic.ipynb#ch0000009?line=22'>23</a>\u001b[0m df_split,unit_series, df_groups, group_keys\u001b[39m=\u001b[39mbot_core\u001b[39m.\u001b[39mgrid_meta_info(grid_df)\n",
      "File \u001b[1;32mc:\\vscode\\Rush-Royale-Bot\\./src\\bot_core.py:152\u001b[0m, in \u001b[0;36mBot.scan_grid\u001b[1;34m(self, new)\u001b[0m\n\u001b[0;32m    150\u001b[0m boxes,box_size \u001b[39m=\u001b[39m get_grid()\n\u001b[0;32m    151\u001b[0m \u001b[39m# should be enabled by default\u001b[39;00m\n\u001b[1;32m--> 152\u001b[0m \u001b[39mif\u001b[39;00m new: \u001b[39mself\u001b[39;49m\u001b[39m.\u001b[39;49mgetScreen()\n\u001b[0;32m    153\u001b[0m box_list \u001b[39m=\u001b[39m boxes\u001b[39m.\u001b[39mreshape(\u001b[39m15\u001b[39m,\u001b[39m2\u001b[39m)\n\u001b[0;32m    154\u001b[0m names\u001b[39m=\u001b[39m[]\n",
      "File \u001b[1;32mc:\\vscode\\Rush-Royale-Bot\\./src\\bot_core.py:77\u001b[0m, in \u001b[0;36mBot.getScreen\u001b[1;34m(self)\u001b[0m\n\u001b[0;32m     75\u001b[0m \u001b[39mdef\u001b[39;00m \u001b[39mgetScreen\u001b[39m(\u001b[39mself\u001b[39m):\n\u001b[0;32m     76\u001b[0m     p\u001b[39m=\u001b[39mPopen([\u001b[39m'\u001b[39m\u001b[39madb\u001b[39m\u001b[39m'\u001b[39m,\u001b[39m'\u001b[39m\u001b[39m-s\u001b[39m\u001b[39m'\u001b[39m,\u001b[39mself\u001b[39m\u001b[39m.\u001b[39mdevice, \u001b[39m'\u001b[39m\u001b[39mshell\u001b[39m\u001b[39m'\u001b[39m,\u001b[39m'\u001b[39m\u001b[39m/system/bin/screencap\u001b[39m\u001b[39m'\u001b[39m, \u001b[39m'\u001b[39m\u001b[39m-p\u001b[39m\u001b[39m'\u001b[39m, \u001b[39m'\u001b[39m\u001b[39m/sdcard/bot_feed.png\u001b[39m\u001b[39m'\u001b[39m])\n\u001b[1;32m---> 77\u001b[0m     p\u001b[39m.\u001b[39;49mwait()\n\u001b[0;32m     78\u001b[0m     \u001b[39m# Using the adb command to upload the screenshot of the mobile phone to the current directory\u001b[39;00m\n\u001b[0;32m     79\u001b[0m     p\u001b[39m=\u001b[39mPopen([\u001b[39m'\u001b[39m\u001b[39madb\u001b[39m\u001b[39m'\u001b[39m,\u001b[39m'\u001b[39m\u001b[39m-s\u001b[39m\u001b[39m'\u001b[39m,\u001b[39mself\u001b[39m\u001b[39m.\u001b[39mdevice, \u001b[39m'\u001b[39m\u001b[39mpull\u001b[39m\u001b[39m'\u001b[39m, \u001b[39m'\u001b[39m\u001b[39m/sdcard/bot_feed.png\u001b[39m\u001b[39m'\u001b[39m])\n",
      "File \u001b[1;32mc:\\Users\\axelb\\.conda\\envs\\rr_bot\\lib\\subprocess.py:1189\u001b[0m, in \u001b[0;36mPopen.wait\u001b[1;34m(self, timeout)\u001b[0m\n\u001b[0;32m   1187\u001b[0m     endtime \u001b[39m=\u001b[39m _time() \u001b[39m+\u001b[39m timeout\n\u001b[0;32m   1188\u001b[0m \u001b[39mtry\u001b[39;00m:\n\u001b[1;32m-> 1189\u001b[0m     \u001b[39mreturn\u001b[39;00m \u001b[39mself\u001b[39;49m\u001b[39m.\u001b[39;49m_wait(timeout\u001b[39m=\u001b[39;49mtimeout)\n\u001b[0;32m   1190\u001b[0m \u001b[39mexcept\u001b[39;00m \u001b[39mKeyboardInterrupt\u001b[39;00m:\n\u001b[0;32m   1191\u001b[0m     \u001b[39m# https://bugs.python.org/issue25942\u001b[39;00m\n\u001b[0;32m   1192\u001b[0m     \u001b[39m# The first keyboard interrupt waits briefly for the child to\u001b[39;00m\n\u001b[0;32m   1193\u001b[0m     \u001b[39m# exit under the common assumption that it also received the ^C\u001b[39;00m\n\u001b[0;32m   1194\u001b[0m     \u001b[39m# generated SIGINT and will exit rapidly.\u001b[39;00m\n\u001b[0;32m   1195\u001b[0m     \u001b[39mif\u001b[39;00m timeout \u001b[39mis\u001b[39;00m \u001b[39mnot\u001b[39;00m \u001b[39mNone\u001b[39;00m:\n",
      "File \u001b[1;32mc:\\Users\\axelb\\.conda\\envs\\rr_bot\\lib\\subprocess.py:1470\u001b[0m, in \u001b[0;36mPopen._wait\u001b[1;34m(self, timeout)\u001b[0m\n\u001b[0;32m   1467\u001b[0m     timeout_millis \u001b[39m=\u001b[39m \u001b[39mint\u001b[39m(timeout \u001b[39m*\u001b[39m \u001b[39m1000\u001b[39m)\n\u001b[0;32m   1468\u001b[0m \u001b[39mif\u001b[39;00m \u001b[39mself\u001b[39m\u001b[39m.\u001b[39mreturncode \u001b[39mis\u001b[39;00m \u001b[39mNone\u001b[39;00m:\n\u001b[0;32m   1469\u001b[0m     \u001b[39m# API note: Returns immediately if timeout_millis == 0.\u001b[39;00m\n\u001b[1;32m-> 1470\u001b[0m     result \u001b[39m=\u001b[39m _winapi\u001b[39m.\u001b[39;49mWaitForSingleObject(\u001b[39mself\u001b[39;49m\u001b[39m.\u001b[39;49m_handle,\n\u001b[0;32m   1471\u001b[0m                                          timeout_millis)\n\u001b[0;32m   1472\u001b[0m     \u001b[39mif\u001b[39;00m result \u001b[39m==\u001b[39m _winapi\u001b[39m.\u001b[39mWAIT_TIMEOUT:\n\u001b[0;32m   1473\u001b[0m         \u001b[39mraise\u001b[39;00m TimeoutExpired(\u001b[39mself\u001b[39m\u001b[39m.\u001b[39margs, timeout)\n",
      "\u001b[1;31mKeyboardInterrupt\u001b[0m: "
     ]
    }
   ],
   "source": [
    "## DEMON HUNTER\n",
    "\n",
    "def scrapper_merge(self,df_split,merge_series):\n",
    "    merge_df = None\n",
    "    # Try to merge with scrappers\n",
    "    scrap_series=bot_core.adv_filter_keys(merge_series,'scrapper.png')\n",
    "    if not scrap_series.empty:\n",
    "        scrap_rank = scrap_series.index.get_level_values('rank')\n",
    "        for rank in scrap_rank:\n",
    "            merge_series_scrap=bot_core.adv_filter_keys(merge_series,rank)\n",
    "            if len(merge_series_scrap.index)>=2:\n",
    "                merge_df = bot.merge_special_unit(df_split,merge_series_scrap,special_type='scrapper.png')\n",
    "                break\n",
    "    return merge_df\n",
    "\n",
    "\n",
    "# Try to find a merge target and merge it\n",
    "def try_merge(self,rank=1,prev_grid=None,merge_target='zealot.png'):\n",
    "    info=''\n",
    "    merge_df =None\n",
    "    names=self.scan_grid(new=True)\n",
    "    grid_df=bot_perception.grid_status(names,prev_grid=prev_grid)\n",
    "    df_split,unit_series, df_groups, group_keys=bot_core.grid_meta_info(grid_df)\n",
    "    # Select stuff to merge\n",
    "    merge_series = unit_series.copy()\n",
    "    # Do special merge with dryad/Harley\n",
    "    self.special_merge(df_split,merge_series,merge_target)\n",
    "    merge_demon = bot_core.adv_filter_keys(unit_series,'demon_hunter.png',remove=False)\n",
    "    if not merge_demon.empty:\n",
    "        max_demon = merge_demon.index.max()\n",
    "        # Remove 1 count of highest rank demon hunter\n",
    "        merge_series[merge_series.index == max_demon] = merge_series[merge_series.index == max_demon] - 1\n",
    "    scrapper_merge(self,df_split,merge_series)\n",
    "    return grid_df,unit_series,merge_series,merge_df,info\n",
    "for i in range(1000):\n",
    "    grid_df,unit_series,merge_series,df_groups,info =try_merge(bot,prev_grid=grid_df,merge_target='demon_hunter.png')\n",
    "    clear_output()\n",
    "    display([f'{info}', 'Average age: '+ str(grid_df['Age'].mean().round(2)),grid_df,unit_series,df_groups])"
   ]
  },
  {
   "cell_type": "code",
   "execution_count": 30,
   "metadata": {},
   "outputs": [
    {
     "name": "stdout",
     "output_type": "stream",
     "text": [
      "unit          rank\n",
      "scrapper.png  1       3\n",
      "Name: unit, dtype: int64 unit               rank\n",
      "knight_statue.png  1       3\n",
      "demon_hunter.png   1       1\n",
      "dryad.png          1       1\n",
      "Name: unit, dtype: int64 unit               rank\n",
      "knight_statue.png  1       3\n",
      "scrapper.png       1       3\n",
      "demon_hunter.png   1       1\n",
      "dryad.png          1       1\n",
      "Name: unit, dtype: int64\n",
      "Merged special!\n"
     ]
    }
   ],
   "source": [
    "# Merge special units ['harlequin.png','dryad.png','mime.png','scrapper.png']\n",
    "def merge_special_unit(self,df_split,merge_series,special_type):\n",
    "    # Get special merge unit\n",
    "    special_unit, normal_unit=[bot_core.adv_filter_keys(merge_series,special_type,remove=remove) for remove in [False,True]] # scrapper support not tested\n",
    "    # Get corresponding dataframes\n",
    "    special_df, normal_df = [df_split.get_group(unit.index[0]).sample() for unit in [special_unit, normal_unit]]\n",
    "    merge_df=pd.concat([special_df, normal_df])\n",
    "    # Merge 'em\n",
    "    unit_chosen=merge_df['grid_pos'].tolist()\n",
    "    #self.swipe(*unit_chosen)\n",
    "    time.sleep(0.2)\n",
    "    print('Merged special!')\n",
    "    return merge_df\n",
    "\n",
    "def scrapper_merge(self,df_split,merge_series):\n",
    "    merge_df = None\n",
    "    # Try to merge with scrappers\n",
    "    scrap_series=bot_core.adv_filter_keys(merge_series,'scrapper.png')\n",
    "    if not scrap_series.empty:\n",
    "        scrap_rank = scrap_series.index.get_level_values('rank')\n",
    "        for rank in scrap_rank:\n",
    "            merge_series_scrap=bot_core.adv_filter_keys(merge_series,rank)\n",
    "            if len(merge_series_scrap.index)>=2:\n",
    "                merge_df = merge_special_unit(bot,df_split,merge_series_scrap,special_type='scrapper.png')\n",
    "                break\n",
    "    return merge_df\n",
    "scrapper_merge(bot,df_split,merge_series)\n",
    "pass"
   ]
  },
  {
   "cell_type": "code",
   "execution_count": 45,
   "metadata": {},
   "outputs": [
    {
     "name": "stdout",
     "output_type": "stream",
     "text": [
      "unit              rank\n",
      "demon_hunter.png  1       4\n",
      "Name: unit, dtype: int64\n"
     ]
    }
   ],
   "source": [
    "    scrap_series=bot_core.adv_filter_keys(merge_series,'scrapper.png')\n",
    "    if not scrap_series.empty:\n",
    "        scrap_rank = scrap_series.index.get_level_values('rank')\n",
    "        for rank in scrap_rank:\n",
    "            merge_series_scrap=bot_core.adv_filter_keys(merge_series,rank)\n",
    "            if len(merge_series_scrap.index)>=2:\n",
    "                merge_df = bot.merge_special_unit(df_split,merge_series_scrap,special_type='harlequin.png')\n",
    "                break"
   ]
  },
  {
   "cell_type": "code",
   "execution_count": null,
   "metadata": {},
   "outputs": [],
   "source": [
    "## From Try_merge\n",
    "# Remove all high level crystals and zealots\n",
    "merge_series = bot_core.adv_filter_keys(merge_series,[[3,4,5],['zealot.png','crystal.png']],remove=True)\n",
    "# Select stuff to merge\n",
    "# Find highest chemist rank\n",
    "merge_chemist = bot_core.adv_filter_keys(unit_series,'chemist.png',remove=False)\n",
    "if not merge_chemist.empty:\n",
    "    max_chemist = merge_chemist.index.max()\n",
    "    # Remove 1 count of highest rank chemist\n",
    "    merge_series[merge_series.index == max_chemist] = merge_series[merge_series.index == max_chemist] - 1\n",
    "# Select stuff to merge\n",
    "merge_series = merge_series[merge_series>=2] # At least 2 units ## ADD MIME to every count, use sample rank and check if mime exist"
   ]
  },
  {
   "cell_type": "code",
   "execution_count": null,
   "metadata": {},
   "outputs": [],
   "source": [
    "grid_df =None\n",
    "battle_bar=trange(100)\n",
    "for i in battle_bar:\n",
    "    # live test\n",
    "    merge_df = None\n",
    "    names=bot.scan_grid(new=True)\n",
    "    grid_df=bot_perception.grid_status(names)\n",
    "    df_split,unit_series, df_groups, group_keys=bot_core.grid_meta_info(grid_df)\n",
    "    merge_series = unit_series.copy()\n",
    "    bot.special_merge(df_split,merge_series)\n",
    "    print(df_groups)\n",
    "    print(merge_df)"
   ]
  },
  {
   "cell_type": "markdown",
   "metadata": {},
   "source": [
    "## Watch ads"
   ]
  },
  {
   "cell_type": "code",
   "execution_count": 27,
   "metadata": {},
   "outputs": [
    {
     "data": {
      "text/plain": [
       "'spin_only'"
      ]
     },
     "execution_count": 27,
     "metadata": {},
     "output_type": "execute_result"
    }
   ],
   "source": [
    "store_state = bot.get_store_state()\n",
    "store_state"
   ]
  },
  {
   "cell_type": "code",
   "execution_count": 25,
   "metadata": {},
   "outputs": [
    {
     "data": {
      "text/plain": [
       "True"
      ]
     },
     "execution_count": 25,
     "metadata": {},
     "output_type": "execute_result"
    }
   ],
   "source": [
    "'spin_only' in ['nothing','spin_only']"
   ]
  },
  {
   "cell_type": "code",
   "execution_count": 21,
   "metadata": {},
   "outputs": [
    {
     "data": {
      "text/plain": [
       "array([ 80, 153, 193], dtype=uint8)"
      ]
     },
     "execution_count": 21,
     "metadata": {},
     "output_type": "execute_result"
    }
   ],
   "source": [
    "x,y = [140,1412]\n",
    "img_rgb = cv2.imread(bot.screenshotName)\n",
    "store_rgb = img_rgb[y:y + 1, x:x + 1]\n",
    "store_rgb = store_rgb[0][0]\n",
    "store_rgb"
   ]
  },
  {
   "cell_type": "code",
   "execution_count": 18,
   "metadata": {},
   "outputs": [
    {
     "name": "stdout",
     "output_type": "stream",
     "text": [
      "refreshed!\n"
     ]
    },
    {
     "data": {
      "text/plain": [
       "'refresh'"
      ]
     },
     "execution_count": 18,
     "metadata": {},
     "output_type": "execute_result"
    }
   ],
   "source": [
    "bot.refresh_shop()"
   ]
  },
  {
   "cell_type": "code",
   "execution_count": null,
   "metadata": {},
   "outputs": [],
   "source": [
    "# Navigate and locate store refresh button from battle screen\n",
    "def find_store_refresh(self):\n",
    "    self.click_button((100,1500)) # Click store button\n",
    "    [self.swipe([0,0],[2,0]) for i in range(20)] # swipe to top\n",
    "    self.swipe([2,0],[0,0]) # Swipe down once\n",
    "    time.sleep(1)\n",
    "    self.click(30,150) # stop scroll\n",
    "    avail_buttons = self.get_current_icons(available=True)\n",
    "    if (avail_buttons == 'refresh_button.png').any(axis=None):\n",
    "        pos = bot_core.get_button_pos(avail_buttons,'refresh_button.png')\n",
    "        return pos\n",
    "# Refresh items in shop when available \n",
    "def refresh_shop(self):\n",
    "    store_state = self.get_store_state()\n",
    "    if store_state == 'nothing':\n",
    "        return store_state\n",
    "    elif store_state == 'new_offer':\n",
    "        self.click_button((100,1500)) # Click store button\n",
    "        self.click_button((500,1500)) # Click battle button\n",
    "        self.click_button((100,1500)) # Click store button\n",
    "    elif store_state == 'refresh':    \n",
    "        pos = self.find_store_refresh()\n",
    "        if not pos is None:\n",
    "            self.click_button(pos)\n",
    "            print('refreshed!')\n",
    "    elif store_state == 'new_store':    \n",
    "        pos = self.find_store_refresh()\n",
    "        if not pos is None:\n",
    "            # Buy first and last item (possible legendary) before refresh\n",
    "            self.click_button(pos-[300,820]) # Click first (free) item\n",
    "            self.click(400,1150) # buy\n",
    "            self.click(30,150) # remove pop-up\n",
    "            self.click_button(pos+[400,-400]) # Click first (free) item\n",
    "            self.click(400,1150) # buy\n",
    "            print('Bought!')\n",
    "    return store_state\n",
    "\n",
    "refresh_shop(bot)"
   ]
  },
  {
   "cell_type": "code",
   "execution_count": 186,
   "metadata": {},
   "outputs": [
    {
     "data": {
      "text/plain": [
       "array([ 81, 306], dtype=int64)"
      ]
     },
     "execution_count": 186,
     "metadata": {},
     "output_type": "execute_result"
    }
   ],
   "source": [
    "avail_buttons = bot.get_current_icons(available=True)\n",
    "pos = bot_core.get_button_pos(avail_buttons,'refresh_button.png')\n"
   ]
  },
  {
   "cell_type": "code",
   "execution_count": 200,
   "metadata": {},
   "outputs": [
    {
     "data": {
      "text/html": [
       "<div>\n",
       "<style scoped>\n",
       "    .dataframe tbody tr th:only-of-type {\n",
       "        vertical-align: middle;\n",
       "    }\n",
       "\n",
       "    .dataframe tbody tr th {\n",
       "        vertical-align: top;\n",
       "    }\n",
       "\n",
       "    .dataframe thead th {\n",
       "        text-align: right;\n",
       "    }\n",
       "</style>\n",
       "<table border=\"1\" class=\"dataframe\">\n",
       "  <thead>\n",
       "    <tr style=\"text-align: right;\">\n",
       "      <th></th>\n",
       "      <th>icon</th>\n",
       "      <th>available</th>\n",
       "      <th>pos [X,Y]</th>\n",
       "    </tr>\n",
       "  </thead>\n",
       "  <tbody>\n",
       "    <tr>\n",
       "      <th>0</th>\n",
       "      <td>battle_icon.png</td>\n",
       "      <td>True</td>\n",
       "      <td>(359, 1419)</td>\n",
       "    </tr>\n",
       "    <tr>\n",
       "      <th>1</th>\n",
       "      <td>pvp_button.png</td>\n",
       "      <td>True</td>\n",
       "      <td>(140, 1259)</td>\n",
       "    </tr>\n",
       "  </tbody>\n",
       "</table>\n",
       "</div>"
      ],
      "text/plain": [
       "              icon  available    pos [X,Y]\n",
       "0  battle_icon.png       True  (359, 1419)\n",
       "1   pvp_button.png       True  (140, 1259)"
      ]
     },
     "metadata": {},
     "output_type": "display_data"
    }
   ],
   "source": [
    "avail_buttons = bot.get_current_icons(available=True)\n",
    "display(avail_buttons)"
   ]
  },
  {
   "cell_type": "markdown",
   "metadata": {},
   "source": [
    "## Get grid meta"
   ]
  },
  {
   "cell_type": "code",
   "execution_count": 4,
   "metadata": {},
   "outputs": [
    {
     "data": {
      "text/html": [
       "<div>\n",
       "<style scoped>\n",
       "    .dataframe tbody tr th:only-of-type {\n",
       "        vertical-align: middle;\n",
       "    }\n",
       "\n",
       "    .dataframe tbody tr th {\n",
       "        vertical-align: top;\n",
       "    }\n",
       "\n",
       "    .dataframe thead th {\n",
       "        text-align: right;\n",
       "    }\n",
       "</style>\n",
       "<table border=\"1\" class=\"dataframe\">\n",
       "  <thead>\n",
       "    <tr style=\"text-align: right;\">\n",
       "      <th></th>\n",
       "      <th>grid_id</th>\n",
       "      <th>unit</th>\n",
       "      <th>probability</th>\n",
       "      <th>rank</th>\n",
       "      <th>rank_error</th>\n",
       "      <th>position</th>\n",
       "      <th>Age</th>\n",
       "    </tr>\n",
       "  </thead>\n",
       "  <tbody>\n",
       "    <tr>\n",
       "      <th>0</th>\n",
       "      <td>icon_0</td>\n",
       "      <td>crystal.png</td>\n",
       "      <td>185.0</td>\n",
       "      <td>2</td>\n",
       "      <td>605.0</td>\n",
       "      <td>[0, 0]</td>\n",
       "      <td>1.0</td>\n",
       "    </tr>\n",
       "    <tr>\n",
       "      <th>1</th>\n",
       "      <td>icon_1</td>\n",
       "      <td>crystal.png</td>\n",
       "      <td>385.0</td>\n",
       "      <td>3</td>\n",
       "      <td>178.5</td>\n",
       "      <td>[0, 1]</td>\n",
       "      <td>1.0</td>\n",
       "    </tr>\n",
       "    <tr>\n",
       "      <th>2</th>\n",
       "      <td>icon_2</td>\n",
       "      <td>dryad.png</td>\n",
       "      <td>291.0</td>\n",
       "      <td>2</td>\n",
       "      <td>585.0</td>\n",
       "      <td>[0, 2]</td>\n",
       "      <td>1.0</td>\n",
       "    </tr>\n",
       "    <tr>\n",
       "      <th>3</th>\n",
       "      <td>icon_3</td>\n",
       "      <td>monkey.png</td>\n",
       "      <td>556.0</td>\n",
       "      <td>2</td>\n",
       "      <td>610.0</td>\n",
       "      <td>[0, 3]</td>\n",
       "      <td>1.0</td>\n",
       "    </tr>\n",
       "    <tr>\n",
       "      <th>4</th>\n",
       "      <td>icon_4</td>\n",
       "      <td>hunter.png</td>\n",
       "      <td>249.0</td>\n",
       "      <td>3</td>\n",
       "      <td>213.0</td>\n",
       "      <td>[0, 4]</td>\n",
       "      <td>1.0</td>\n",
       "    </tr>\n",
       "    <tr>\n",
       "      <th>5</th>\n",
       "      <td>icon_5</td>\n",
       "      <td>monkey.png</td>\n",
       "      <td>324.0</td>\n",
       "      <td>1</td>\n",
       "      <td>1217.0</td>\n",
       "      <td>[1, 0]</td>\n",
       "      <td>1.0</td>\n",
       "    </tr>\n",
       "    <tr>\n",
       "      <th>6</th>\n",
       "      <td>icon_6</td>\n",
       "      <td>dryad.png</td>\n",
       "      <td>664.0</td>\n",
       "      <td>2</td>\n",
       "      <td>275.0</td>\n",
       "      <td>[1, 1]</td>\n",
       "      <td>1.0</td>\n",
       "    </tr>\n",
       "    <tr>\n",
       "      <th>7</th>\n",
       "      <td>icon_7</td>\n",
       "      <td>empty.png</td>\n",
       "      <td>999.0</td>\n",
       "      <td>0</td>\n",
       "      <td>0.0</td>\n",
       "      <td>[1, 2]</td>\n",
       "      <td>1.0</td>\n",
       "    </tr>\n",
       "    <tr>\n",
       "      <th>8</th>\n",
       "      <td>icon_8</td>\n",
       "      <td>hunter.png</td>\n",
       "      <td>670.0</td>\n",
       "      <td>1</td>\n",
       "      <td>1489.0</td>\n",
       "      <td>[1, 3]</td>\n",
       "      <td>1.0</td>\n",
       "    </tr>\n",
       "    <tr>\n",
       "      <th>9</th>\n",
       "      <td>icon_9</td>\n",
       "      <td>crystal.png</td>\n",
       "      <td>270.0</td>\n",
       "      <td>2</td>\n",
       "      <td>605.0</td>\n",
       "      <td>[1, 4]</td>\n",
       "      <td>1.0</td>\n",
       "    </tr>\n",
       "    <tr>\n",
       "      <th>10</th>\n",
       "      <td>icon_10</td>\n",
       "      <td>dryad.png</td>\n",
       "      <td>319.0</td>\n",
       "      <td>2</td>\n",
       "      <td>580.0</td>\n",
       "      <td>[2, 0]</td>\n",
       "      <td>1.0</td>\n",
       "    </tr>\n",
       "    <tr>\n",
       "      <th>11</th>\n",
       "      <td>icon_11</td>\n",
       "      <td>empty.png</td>\n",
       "      <td>999.0</td>\n",
       "      <td>0</td>\n",
       "      <td>0.0</td>\n",
       "      <td>[2, 1]</td>\n",
       "      <td>1.0</td>\n",
       "    </tr>\n",
       "    <tr>\n",
       "      <th>12</th>\n",
       "      <td>icon_12</td>\n",
       "      <td>monkey.png</td>\n",
       "      <td>581.0</td>\n",
       "      <td>3</td>\n",
       "      <td>213.0</td>\n",
       "      <td>[2, 2]</td>\n",
       "      <td>1.0</td>\n",
       "    </tr>\n",
       "    <tr>\n",
       "      <th>13</th>\n",
       "      <td>icon_13</td>\n",
       "      <td>dryad.png</td>\n",
       "      <td>458.0</td>\n",
       "      <td>1</td>\n",
       "      <td>1982.5</td>\n",
       "      <td>[2, 3]</td>\n",
       "      <td>1.0</td>\n",
       "    </tr>\n",
       "    <tr>\n",
       "      <th>14</th>\n",
       "      <td>icon_14</td>\n",
       "      <td>crystal.png</td>\n",
       "      <td>368.0</td>\n",
       "      <td>1</td>\n",
       "      <td>2216.5</td>\n",
       "      <td>[2, 4]</td>\n",
       "      <td>1.0</td>\n",
       "    </tr>\n",
       "  </tbody>\n",
       "</table>\n",
       "</div>"
      ],
      "text/plain": [
       "    grid_id         unit  probability  rank  rank_error position  Age\n",
       "0    icon_0  crystal.png        185.0     2       605.0   [0, 0]  1.0\n",
       "1    icon_1  crystal.png        385.0     3       178.5   [0, 1]  1.0\n",
       "2    icon_2    dryad.png        291.0     2       585.0   [0, 2]  1.0\n",
       "3    icon_3   monkey.png        556.0     2       610.0   [0, 3]  1.0\n",
       "4    icon_4   hunter.png        249.0     3       213.0   [0, 4]  1.0\n",
       "5    icon_5   monkey.png        324.0     1      1217.0   [1, 0]  1.0\n",
       "6    icon_6    dryad.png        664.0     2       275.0   [1, 1]  1.0\n",
       "7    icon_7    empty.png        999.0     0         0.0   [1, 2]  1.0\n",
       "8    icon_8   hunter.png        670.0     1      1489.0   [1, 3]  1.0\n",
       "9    icon_9  crystal.png        270.0     2       605.0   [1, 4]  1.0\n",
       "10  icon_10    dryad.png        319.0     2       580.0   [2, 0]  1.0\n",
       "11  icon_11    empty.png        999.0     0         0.0   [2, 1]  1.0\n",
       "12  icon_12   monkey.png        581.0     3       213.0   [2, 2]  1.0\n",
       "13  icon_13    dryad.png        458.0     1      1982.5   [2, 3]  1.0\n",
       "14  icon_14  crystal.png        368.0     1      2216.5   [2, 4]  1.0"
      ]
     },
     "metadata": {},
     "output_type": "display_data"
    }
   ],
   "source": [
    "names=bot.scan_grid()\n",
    "grid_df=bot_perception.grid_status(names)\n",
    "grid_df=bot_perception.grid_status(names,grid_df)\n",
    "display(grid_df)\n",
    "prev_grid= grid_df.copy()"
   ]
  },
  {
   "cell_type": "code",
   "execution_count": 278,
   "metadata": {},
   "outputs": [
    {
     "data": {
      "text/plain": [
       "unit         rank\n",
       "empty.png    0       8\n",
       "crystal.png  2       2\n",
       "chemist.png  2       1\n",
       "             3       1\n",
       "hunter.png   3       1\n",
       "             5       1\n",
       "zealot.png   4       1\n",
       "Name: unit, dtype: int64"
      ]
     },
     "metadata": {},
     "output_type": "display_data"
    }
   ],
   "source": [
    "names=bot.scan_grid()\n",
    "grid_df=bot_perception.grid_status(names)\n",
    "df_split,unit_series, df_groups, group_keys=bot_core.grid_meta_info(grid_df)\n",
    "display(unit_series)\n",
    "#merge_series = unit_series[unit_series>=2]\n"
   ]
  },
  {
   "cell_type": "code",
   "execution_count": 250,
   "metadata": {},
   "outputs": [
    {
     "data": {
      "text/plain": [
       "False"
      ]
     },
     "execution_count": 250,
     "metadata": {},
     "output_type": "execute_result"
    }
   ],
   "source": [
    "#('empty.png',0) in group_keys\n",
    "df_groups['empty.png']<=2"
   ]
  },
  {
   "cell_type": "markdown",
   "metadata": {},
   "source": [
    "## Advanced key filtering"
   ]
  },
  {
   "cell_type": "code",
   "execution_count": 252,
   "metadata": {},
   "outputs": [
    {
     "data": {
      "text/plain": [
       "unit         rank\n",
       "chemist.png  3       1\n",
       "monkey.png   4       1\n",
       "Name: unit, dtype: int64"
      ]
     },
     "execution_count": 252,
     "metadata": {},
     "output_type": "execute_result"
    }
   ],
   "source": [
    "merge_series = unit_series\n",
    "\n",
    "bot_core.adv_filter_keys(merge_series,[['chemist.png','monkey.png']])"
   ]
  },
  {
   "cell_type": "code",
   "execution_count": 437,
   "metadata": {},
   "outputs": [
    {
     "name": "stdout",
     "output_type": "stream",
     "text": [
      "[4, 5] 4\n",
      "[4, 5] 5\n",
      "123\n",
      "['zealot.png', 'crystal.png'] zealot.png\n",
      "['zealot.png', 'crystal.png'] crystal.png\n",
      "123\n"
     ]
    },
    {
     "data": {
      "text/plain": [
       "unit         rank\n",
       "monkey.png   1       2\n",
       "             4       2\n",
       "crystal.png  2       2\n",
       "zealot.png   2       2\n",
       "dtype: int64"
      ]
     },
     "execution_count": 437,
     "metadata": {},
     "output_type": "execute_result"
    }
   ],
   "source": [
    "# Setup test\n",
    "multi_index=pd.MultiIndex.from_tuples([\n",
    "            ( 'monkey.png', 1),\n",
    "            ( 'monkey.png', 4),\n",
    "            ('crystal.png', 2),\n",
    "            ('crystal.png', 4),\n",
    "            ('zealot.png', 2),\n",
    "            ('zealot.png', 4),],\n",
    "           names=['unit', 'rank'])\n",
    "unit_series_test=pd.Series([2,2,2,2,2,2],index=multi_index)\n",
    "# Pre-condition\n",
    "merge_series = unit_series_test.copy()\n",
    "merge_series = bot_core.adv_filter_keys(merge_series,'empty.png',remove=True)\n",
    "merge_chemist = bot_core.adv_filter_keys(unit_series,'chemist.png',remove=False)\n",
    "if not merge_chemist.empty:\n",
    "    max_chemist = merge_chemist.index.max()\n",
    "    # Remove 1 count of highest rank chemist\n",
    "    merge_series[merge_series.index == max_chemist] = merge_series[merge_series.index == max_chemist] - 1\n",
    "## Select stuff to merge\n",
    "merge_series = merge_series[merge_series>=2] # At least 2 units ## ADD MIME to every count, use sample rank and check if mime exist\n",
    "# Remain\n",
    "#merge_series = bot_core.adv_filter_keys(merge_series,[[3,4,5],'crystal.png'],remove=True)\n",
    "bot_core.adv_filter_keys(merge_series,[[4,5],['zealot.png','crystal.png']],remove=True)\n",
    "\n",
    "#bot_core.adv_filter_keys(merge_series,[['zealot.png','crystal.png']],remove=True)\n"
   ]
  },
  {
   "cell_type": "code",
   "execution_count": null,
   "metadata": {},
   "outputs": [],
   "source": []
  },
  {
   "cell_type": "code",
   "execution_count": 427,
   "metadata": {},
   "outputs": [],
   "source": [
    "# Returns all elements which match tokens value with multiple levels\n",
    "# Either provide nested list of list, simple list or unit type/unit rank and if remove or not\n",
    "# Criteria example:  [[3,4,5],['zealot.png','crystal.png']]\n",
    "def adv_filter_keys(unit_series,tokens,remove=False):\n",
    "    if unit_series.empty:\n",
    "        return pd.Series(dtype=object)\n",
    "    if not isinstance(tokens, list): # Make token a list if not already\n",
    "        tokens = [tokens]\n",
    "    # Add detection of dimension in input tokens\n",
    "    merge_series= unit_series.copy()\n",
    "    for level in tokens:\n",
    "        merge_series_temp= merge_series.copy()\n",
    "        if not isinstance(level, list): # Make token a list if not already\n",
    "            level = [level]\n",
    "        series= []\n",
    "        for token in level:\n",
    "            print(level,token)\n",
    "            # check if given token is int, assume unit rank filter\n",
    "            if isinstance(token,int):\n",
    "                exists = merge_series.index.get_level_values('rank').isin([token]).any()\n",
    "                if exists:\n",
    "                    series.append(merge_series.xs(token, level='rank',drop_level=False))\n",
    "                else: continue # skip if nothing matches criteria\n",
    "            elif isinstance(token,str):\n",
    "                if token in merge_series: \n",
    "                    series.append(merge_series.xs(token, level='unit',drop_level=False))\n",
    "                else: continue\n",
    "        # Every iteration\n",
    "        # If any matches are found\n",
    "        if not len(series)==0:\n",
    "            merge_series = pd.concat(series)\n",
    "            # Select matches in previous matches \n",
    "            merge_series = merge_series_temp[merge_series_temp.index.isin(merge_series.index)]\n",
    "         # return empty list if empty and nothing matches criteria\n",
    "        elif not remove:\n",
    "            return pd.Series(dtype=object)\n",
    "        # if removing matches from initial series and no matches are found, do nothing this loop, keep list same\n",
    "        else: \n",
    "            continue\n",
    "    # LOOP DONE\n",
    "    if remove:\n",
    "        # Remove all matches found from original series\n",
    "        merge_series = unit_series[~unit_series.index.isin(merge_series.index)]\n",
    "    # Return matches found\n",
    "    return merge_series\n",
    "\n",
    "\n",
    "\n",
    "        # Otherwise Do next loop with unchanged merge series otherwise\n",
    "    # Return result of all criterias\n",
    "    print(555)\n",
    "    return merge_series\n",
    "#unit_series"
   ]
  },
  {
   "cell_type": "code",
   "execution_count": 331,
   "metadata": {},
   "outputs": [
    {
     "data": {
      "text/plain": [
       "unit         rank\n",
       "crystal.png  2       2\n",
       "chemist.png  2       1\n",
       "             3       0\n",
       "hunter.png   3       1\n",
       "             5       1\n",
       "zealot.png   4       1\n",
       "Name: unit, dtype: int64"
      ]
     },
     "metadata": {},
     "output_type": "display_data"
    },
    {
     "data": {
      "text/plain": [
       "unit         rank\n",
       "crystal.png  2       2\n",
       "Name: unit, dtype: int64"
      ]
     },
     "metadata": {},
     "output_type": "display_data"
    }
   ],
   "source": [
    "\n",
    "merge_series = unit_series.copy()\n",
    "merge_series = adv_filter_keys(merge_series,'empty.png',remove=True)\n",
    "merge_chemist = adv_filter_keys(unit_series,'chemist.png',remove=False)\n",
    "if not merge_chemist.empty:\n",
    "    max_chemist = merge_chemist.index.max()\n",
    "    # Remove 1 count of highest rank chemist\n",
    "    merge_series[merge_series.index == max_chemist] = merge_series[merge_series.index == max_chemist] - 1\n",
    "    display(merge_series)\n",
    "## Select stuff to merge\n",
    "merge_series = merge_series[merge_series>=2] # At least 2 units ## ADD MIME to every count, use sample rank and check if mime exist\n",
    "merge_prio = adv_filter_keys(merge_series,[['chemist.png','monkey.png']],remove=True)\n",
    "#if not merge_prio.empty:\n",
    "#    print('merge!')\n",
    "display(merge_prio)"
   ]
  },
  {
   "cell_type": "code",
   "execution_count": 311,
   "metadata": {},
   "outputs": [
    {
     "data": {
      "text/plain": [
       "unit         rank\n",
       "crystal.png  2       2\n",
       "Name: unit, dtype: int64"
      ]
     },
     "execution_count": 311,
     "metadata": {},
     "output_type": "execute_result"
    }
   ],
   "source": [
    "merge_series"
   ]
  },
  {
   "cell_type": "code",
   "execution_count": 287,
   "metadata": {},
   "outputs": [
    {
     "data": {
      "text/plain": [
       "unit         rank\n",
       "empty.png    0       8\n",
       "crystal.png  2       2\n",
       "chemist.png  2       1\n",
       "             3       1\n",
       "hunter.png   3       1\n",
       "             5       1\n",
       "zealot.png   4       1\n",
       "Name: unit, dtype: int64"
      ]
     },
     "execution_count": 287,
     "metadata": {},
     "output_type": "execute_result"
    }
   ],
   "source": [
    "unit_series"
   ]
  },
  {
   "cell_type": "code",
   "execution_count": 205,
   "metadata": {},
   "outputs": [
    {
     "data": {
      "text/plain": [
       "unit         rank\n",
       "monkey.png   1       2\n",
       "crystal.png  2       2\n",
       "             4       2\n",
       "zealot.png   2       2\n",
       "             4       2\n",
       "dtype: int64"
      ]
     },
     "execution_count": 205,
     "metadata": {},
     "output_type": "execute_result"
    }
   ],
   "source": [
    "merge_series = unit_series_test\n",
    "adv_filter_keys(merge_series,[[3,4,5],['zealot.png','crystal.png']],remove=True)\n"
   ]
  },
  {
   "cell_type": "code",
   "execution_count": null,
   "metadata": {},
   "outputs": [],
   "source": [
    "bot_core.adv_filter_keys(merge_series,[\n",
    "    [3,4,5],\n",
    "    ['crystal.png','zealot.png']\n",
    "    ],remove=True)"
   ]
  },
  {
   "cell_type": "code",
   "execution_count": 97,
   "metadata": {},
   "outputs": [
    {
     "data": {
      "text/plain": [
       "unit         rank\n",
       "chemist.png  4       0\n",
       "Name: unit, dtype: int64"
      ]
     },
     "execution_count": 97,
     "metadata": {},
     "output_type": "execute_result"
    }
   ],
   "source": [
    "# Find highest chemist rank\n",
    "merge_series = adv_filter_keys(unit_series,'chemist.png',remove=False)\n",
    "max_chemist = merge_series.index.max()\n",
    "# Remove 1 count of highest rank chemist\n",
    "merge_series[merge_series.index == max_chemist] = merge_series[merge_series.index == max_chemist] - 1\n",
    "merge_series"
   ]
  },
  {
   "cell_type": "code",
   "execution_count": 34,
   "metadata": {},
   "outputs": [
    {
     "data": {
      "text/plain": [
       "array([False,  True, False,  True, False, False, False, False, False,\n",
       "       False, False])"
      ]
     },
     "execution_count": 34,
     "metadata": {},
     "output_type": "execute_result"
    }
   ],
   "source": [
    "# Remove tuple tokens from unit series\n",
    "def remove_keys(unit_series,tokens = [('empty.png', 0)]):\n",
    "    return unit_series[~unit_series.index.isin([tokens])]\n",
    "merge_series "
   ]
  },
  {
   "cell_type": "code",
   "execution_count": 37,
   "metadata": {},
   "outputs": [
    {
     "data": {
      "text/plain": [
       "unit         rank\n",
       "dryad.png    2       3\n",
       "empty.png    0       2\n",
       "crystal.png  3       1\n",
       "dryad.png    1       1\n",
       "hunter.png   1       1\n",
       "             3       1\n",
       "monkey.png   1       1\n",
       "             2       1\n",
       "             3       1\n",
       "Name: unit, dtype: int64"
      ]
     },
     "execution_count": 37,
     "metadata": {},
     "output_type": "execute_result"
    }
   ],
   "source": [
    "merge_series[~merge_series.index.isin([('crystal.png', 1),('crystal.png', 2)])]"
   ]
  }
 ],
 "metadata": {
  "kernelspec": {
   "display_name": "Python 3.9.12 ('Rush-Royale-Bot')",
   "language": "python",
   "name": "python3"
  },
  "language_info": {
   "codemirror_mode": {
    "name": "ipython",
    "version": 3
   },
   "file_extension": ".py",
   "mimetype": "text/x-python",
   "name": "python",
   "nbconvert_exporter": "python",
   "pygments_lexer": "ipython3",
   "version": "3.9.12"
  },
  "orig_nbformat": 4,
  "vscode": {
   "interpreter": {
    "hash": "222f52f3d4ea82340b8e438915cd2cce29310e9a34a09f1d931c12bfa7062449"
   }
  }
 },
 "nbformat": 4,
 "nbformat_minor": 2
}
