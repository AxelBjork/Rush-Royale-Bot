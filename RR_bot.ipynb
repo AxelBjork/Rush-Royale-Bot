{
 "cells": [
  {
   "cell_type": "markdown",
   "metadata": {},
   "source": [
    "##SETUP"
   ]
  },
  {
   "cell_type": "code",
   "execution_count": 2,
   "metadata": {},
   "outputs": [
    {
     "ename": "OSError",
     "evalue": "[Errno subprocess] c:\\Users\\a430180\\AppData\\Local\\Programs\\Python\\Python39\\lib\\site-packages\\adbutils\\binaries\\adb.exe -s emulator-5554 push c:\\Users\\a430180\\AppData\\Local\\Programs\\Python\\Python39\\lib\\site-packages\\scrcpy\\scrcpy-server-v1.24.jar /data/local/tmp/: \"adb: error: failed to get feature set: device 'emulator-5554' not found\\r\\n\"",
     "output_type": "error",
     "traceback": [
      "\u001b[1;31m---------------------------------------------------------------------------\u001b[0m",
      "\u001b[1;31mCalledProcessError\u001b[0m                        Traceback (most recent call last)",
      "File \u001b[1;32mc:\\Users\\a430180\\AppData\\Local\\Programs\\Python\\Python39\\lib\\site-packages\\adbutils\\__init__.py:568\u001b[0m, in \u001b[0;36mAdbDevice.adb_output\u001b[1;34m(self, *args, **kwargs)\u001b[0m\n\u001b[0;32m    <a href='file:///c%3A/Users/a430180/AppData/Local/Programs/Python/Python39/lib/site-packages/adbutils/__init__.py?line=566'>567</a>\u001b[0m \u001b[39mtry\u001b[39;00m:\n\u001b[1;32m--> <a href='file:///c%3A/Users/a430180/AppData/Local/Programs/Python/Python39/lib/site-packages/adbutils/__init__.py?line=567'>568</a>\u001b[0m     \u001b[39mreturn\u001b[39;00m subprocess\u001b[39m.\u001b[39;49mcheck_output(cmdline,\n\u001b[0;32m    <a href='file:///c%3A/Users/a430180/AppData/Local/Programs/Python/Python39/lib/site-packages/adbutils/__init__.py?line=568'>569</a>\u001b[0m                                    stdin\u001b[39m=\u001b[39;49msubprocess\u001b[39m.\u001b[39;49mDEVNULL,\n\u001b[0;32m    <a href='file:///c%3A/Users/a430180/AppData/Local/Programs/Python/Python39/lib/site-packages/adbutils/__init__.py?line=569'>570</a>\u001b[0m                                    stderr\u001b[39m=\u001b[39;49msubprocess\u001b[39m.\u001b[39;49mSTDOUT,\n\u001b[0;32m    <a href='file:///c%3A/Users/a430180/AppData/Local/Programs/Python/Python39/lib/site-packages/adbutils/__init__.py?line=570'>571</a>\u001b[0m                                    shell\u001b[39m=\u001b[39;49m\u001b[39mTrue\u001b[39;49;00m)\u001b[39m.\u001b[39mdecode(\u001b[39m'\u001b[39m\u001b[39mutf-8\u001b[39m\u001b[39m'\u001b[39m)\n\u001b[0;32m    <a href='file:///c%3A/Users/a430180/AppData/Local/Programs/Python/Python39/lib/site-packages/adbutils/__init__.py?line=571'>572</a>\u001b[0m \u001b[39mexcept\u001b[39;00m subprocess\u001b[39m.\u001b[39mCalledProcessError \u001b[39mas\u001b[39;00m e:\n",
      "File \u001b[1;32mc:\\Users\\a430180\\AppData\\Local\\Programs\\Python\\Python39\\lib\\subprocess.py:424\u001b[0m, in \u001b[0;36mcheck_output\u001b[1;34m(timeout, *popenargs, **kwargs)\u001b[0m\n\u001b[0;32m    <a href='file:///c%3A/Users/a430180/AppData/Local/Programs/Python/Python39/lib/subprocess.py?line=421'>422</a>\u001b[0m     kwargs[\u001b[39m'\u001b[39m\u001b[39minput\u001b[39m\u001b[39m'\u001b[39m] \u001b[39m=\u001b[39m empty\n\u001b[1;32m--> <a href='file:///c%3A/Users/a430180/AppData/Local/Programs/Python/Python39/lib/subprocess.py?line=423'>424</a>\u001b[0m \u001b[39mreturn\u001b[39;00m run(\u001b[39m*\u001b[39mpopenargs, stdout\u001b[39m=\u001b[39mPIPE, timeout\u001b[39m=\u001b[39mtimeout, check\u001b[39m=\u001b[39m\u001b[39mTrue\u001b[39;00m,\n\u001b[0;32m    <a href='file:///c%3A/Users/a430180/AppData/Local/Programs/Python/Python39/lib/subprocess.py?line=424'>425</a>\u001b[0m            \u001b[39m*\u001b[39m\u001b[39m*\u001b[39mkwargs)\u001b[39m.\u001b[39mstdout\n",
      "File \u001b[1;32mc:\\Users\\a430180\\AppData\\Local\\Programs\\Python\\Python39\\lib\\subprocess.py:528\u001b[0m, in \u001b[0;36mrun\u001b[1;34m(input, capture_output, timeout, check, *popenargs, **kwargs)\u001b[0m\n\u001b[0;32m    <a href='file:///c%3A/Users/a430180/AppData/Local/Programs/Python/Python39/lib/subprocess.py?line=526'>527</a>\u001b[0m     \u001b[39mif\u001b[39;00m check \u001b[39mand\u001b[39;00m retcode:\n\u001b[1;32m--> <a href='file:///c%3A/Users/a430180/AppData/Local/Programs/Python/Python39/lib/subprocess.py?line=527'>528</a>\u001b[0m         \u001b[39mraise\u001b[39;00m CalledProcessError(retcode, process\u001b[39m.\u001b[39margs,\n\u001b[0;32m    <a href='file:///c%3A/Users/a430180/AppData/Local/Programs/Python/Python39/lib/subprocess.py?line=528'>529</a>\u001b[0m                                  output\u001b[39m=\u001b[39mstdout, stderr\u001b[39m=\u001b[39mstderr)\n\u001b[0;32m    <a href='file:///c%3A/Users/a430180/AppData/Local/Programs/Python/Python39/lib/subprocess.py?line=529'>530</a>\u001b[0m \u001b[39mreturn\u001b[39;00m CompletedProcess(process\u001b[39m.\u001b[39margs, retcode, stdout, stderr)\n",
      "\u001b[1;31mCalledProcessError\u001b[0m: Command 'c:\\Users\\a430180\\AppData\\Local\\Programs\\Python\\Python39\\lib\\site-packages\\adbutils\\binaries\\adb.exe -s emulator-5554 push c:\\Users\\a430180\\AppData\\Local\\Programs\\Python\\Python39\\lib\\site-packages\\scrcpy\\scrcpy-server-v1.24.jar /data/local/tmp/' returned non-zero exit status 1.",
      "\nDuring handling of the above exception, another exception occurred:\n",
      "\u001b[1;31mOSError\u001b[0m                                   Traceback (most recent call last)",
      "\u001b[1;32mc:\\Code\\RR_bot\\RR_bot\\RR_bot.ipynb Cell 2'\u001b[0m in \u001b[0;36m<cell line: 34>\u001b[1;34m()\u001b[0m\n\u001b[0;32m     <a href='vscode-notebook-cell:/c%3A/Code/RR_bot/RR_bot/RR_bot.ipynb#ch0000001?line=29'>30</a>\u001b[0m     time\u001b[39m.\u001b[39msleep(\u001b[39m6\u001b[39m) \u001b[39m# <-- sleep for 6''\u001b[39;00m\n\u001b[0;32m     <a href='vscode-notebook-cell:/c%3A/Code/RR_bot/RR_bot/RR_bot.ipynb#ch0000001?line=30'>31</a>\u001b[0m     proc\u001b[39m.\u001b[39mterminate() \u001b[39m# <-- terminate the process\u001b[39;00m\n\u001b[1;32m---> <a href='vscode-notebook-cell:/c%3A/Code/RR_bot/RR_bot/RR_bot.ipynb#ch0000001?line=33'>34</a>\u001b[0m bot \u001b[39m=\u001b[39m bot_core\u001b[39m.\u001b[39;49mBot()\n",
      "File \u001b[1;32mc:\\Code\\RR_bot\\RR_bot\\bot_core.py:23\u001b[0m, in \u001b[0;36mBot.__init__\u001b[1;34m(self)\u001b[0m\n\u001b[0;32m     <a href='file:///c%3A/Code/RR_bot/RR_bot/bot_core.py?line=20'>21</a>\u001b[0m \u001b[39mself\u001b[39m\u001b[39m.\u001b[39mclient \u001b[39m=\u001b[39m Client(device\u001b[39m=\u001b[39m\u001b[39mself\u001b[39m\u001b[39m.\u001b[39mdevice)\n\u001b[0;32m     <a href='file:///c%3A/Code/RR_bot/RR_bot/bot_core.py?line=21'>22</a>\u001b[0m \u001b[39m# Start scrcpy client\u001b[39;00m\n\u001b[1;32m---> <a href='file:///c%3A/Code/RR_bot/RR_bot/bot_core.py?line=22'>23</a>\u001b[0m \u001b[39mself\u001b[39;49m\u001b[39m.\u001b[39;49mclient\u001b[39m.\u001b[39;49mstart(threaded\u001b[39m=\u001b[39;49m\u001b[39mTrue\u001b[39;49;00m)\n\u001b[0;32m     <a href='file:///c%3A/Code/RR_bot/RR_bot/bot_core.py?line=23'>24</a>\u001b[0m time\u001b[39m.\u001b[39msleep(\u001b[39m0.5\u001b[39m)\n\u001b[0;32m     <a href='file:///c%3A/Code/RR_bot/RR_bot/bot_core.py?line=24'>25</a>\u001b[0m \u001b[39m# Turn off video stream (spammy)\u001b[39;00m\n",
      "File \u001b[1;32mc:\\Users\\a430180\\AppData\\Local\\Programs\\Python\\Python39\\lib\\site-packages\\scrcpy\\core.py:154\u001b[0m, in \u001b[0;36mClient.start\u001b[1;34m(self, threaded)\u001b[0m\n\u001b[0;32m    <a href='file:///c%3A/Users/a430180/AppData/Local/Programs/Python/Python39/lib/site-packages/scrcpy/core.py?line=145'>146</a>\u001b[0m \u001b[39m\"\"\"\u001b[39;00m\n\u001b[0;32m    <a href='file:///c%3A/Users/a430180/AppData/Local/Programs/Python/Python39/lib/site-packages/scrcpy/core.py?line=146'>147</a>\u001b[0m \u001b[39mStart listening video stream\u001b[39;00m\n\u001b[0;32m    <a href='file:///c%3A/Users/a430180/AppData/Local/Programs/Python/Python39/lib/site-packages/scrcpy/core.py?line=147'>148</a>\u001b[0m \n\u001b[0;32m    <a href='file:///c%3A/Users/a430180/AppData/Local/Programs/Python/Python39/lib/site-packages/scrcpy/core.py?line=148'>149</a>\u001b[0m \u001b[39mArgs:\u001b[39;00m\n\u001b[0;32m    <a href='file:///c%3A/Users/a430180/AppData/Local/Programs/Python/Python39/lib/site-packages/scrcpy/core.py?line=149'>150</a>\u001b[0m \u001b[39m    threaded: Run stream loop in a different thread to avoid blocking\u001b[39;00m\n\u001b[0;32m    <a href='file:///c%3A/Users/a430180/AppData/Local/Programs/Python/Python39/lib/site-packages/scrcpy/core.py?line=150'>151</a>\u001b[0m \u001b[39m\"\"\"\u001b[39;00m\n\u001b[0;32m    <a href='file:///c%3A/Users/a430180/AppData/Local/Programs/Python/Python39/lib/site-packages/scrcpy/core.py?line=151'>152</a>\u001b[0m \u001b[39massert\u001b[39;00m \u001b[39mself\u001b[39m\u001b[39m.\u001b[39malive \u001b[39mis\u001b[39;00m \u001b[39mFalse\u001b[39;00m\n\u001b[1;32m--> <a href='file:///c%3A/Users/a430180/AppData/Local/Programs/Python/Python39/lib/site-packages/scrcpy/core.py?line=153'>154</a>\u001b[0m \u001b[39mself\u001b[39;49m\u001b[39m.\u001b[39;49m__deploy_server()\n\u001b[0;32m    <a href='file:///c%3A/Users/a430180/AppData/Local/Programs/Python/Python39/lib/site-packages/scrcpy/core.py?line=154'>155</a>\u001b[0m \u001b[39mself\u001b[39m\u001b[39m.\u001b[39m__init_server_connection()\n\u001b[0;32m    <a href='file:///c%3A/Users/a430180/AppData/Local/Programs/Python/Python39/lib/site-packages/scrcpy/core.py?line=155'>156</a>\u001b[0m \u001b[39mself\u001b[39m\u001b[39m.\u001b[39malive \u001b[39m=\u001b[39m \u001b[39mTrue\u001b[39;00m\n",
      "File \u001b[1;32mc:\\Users\\a430180\\AppData\\Local\\Programs\\Python\\Python39\\lib\\site-packages\\scrcpy\\core.py:118\u001b[0m, in \u001b[0;36mClient.__deploy_server\u001b[1;34m(self)\u001b[0m\n\u001b[0;32m    <a href='file:///c%3A/Users/a430180/AppData/Local/Programs/Python/Python39/lib/site-packages/scrcpy/core.py?line=113'>114</a>\u001b[0m jar_name \u001b[39m=\u001b[39m \u001b[39m\"\u001b[39m\u001b[39mscrcpy-server-v1.24.jar\u001b[39m\u001b[39m\"\u001b[39m\n\u001b[0;32m    <a href='file:///c%3A/Users/a430180/AppData/Local/Programs/Python/Python39/lib/site-packages/scrcpy/core.py?line=114'>115</a>\u001b[0m server_file_path \u001b[39m=\u001b[39m os\u001b[39m.\u001b[39mpath\u001b[39m.\u001b[39mjoin(\n\u001b[0;32m    <a href='file:///c%3A/Users/a430180/AppData/Local/Programs/Python/Python39/lib/site-packages/scrcpy/core.py?line=115'>116</a>\u001b[0m     os\u001b[39m.\u001b[39mpath\u001b[39m.\u001b[39mabspath(os\u001b[39m.\u001b[39mpath\u001b[39m.\u001b[39mdirname(\u001b[39m__file__\u001b[39m)), jar_name\n\u001b[0;32m    <a href='file:///c%3A/Users/a430180/AppData/Local/Programs/Python/Python39/lib/site-packages/scrcpy/core.py?line=116'>117</a>\u001b[0m )\n\u001b[1;32m--> <a href='file:///c%3A/Users/a430180/AppData/Local/Programs/Python/Python39/lib/site-packages/scrcpy/core.py?line=117'>118</a>\u001b[0m \u001b[39mself\u001b[39;49m\u001b[39m.\u001b[39;49mdevice\u001b[39m.\u001b[39;49mpush(server_file_path, \u001b[39m\"\u001b[39;49m\u001b[39m/data/local/tmp/\u001b[39;49m\u001b[39m\"\u001b[39;49m)\n\u001b[0;32m    <a href='file:///c%3A/Users/a430180/AppData/Local/Programs/Python/Python39/lib/site-packages/scrcpy/core.py?line=118'>119</a>\u001b[0m commands \u001b[39m=\u001b[39m [\n\u001b[0;32m    <a href='file:///c%3A/Users/a430180/AppData/Local/Programs/Python/Python39/lib/site-packages/scrcpy/core.py?line=119'>120</a>\u001b[0m     \u001b[39mf\u001b[39m\u001b[39m\"\u001b[39m\u001b[39mCLASSPATH=/data/local/tmp/\u001b[39m\u001b[39m{\u001b[39;00mjar_name\u001b[39m}\u001b[39;00m\u001b[39m\"\u001b[39m,\n\u001b[0;32m    <a href='file:///c%3A/Users/a430180/AppData/Local/Programs/Python/Python39/lib/site-packages/scrcpy/core.py?line=120'>121</a>\u001b[0m     \u001b[39m\"\u001b[39m\u001b[39mapp_process\u001b[39m\u001b[39m\"\u001b[39m,\n\u001b[1;32m   (...)\u001b[0m\n\u001b[0;32m    <a href='file:///c%3A/Users/a430180/AppData/Local/Programs/Python/Python39/lib/site-packages/scrcpy/core.py?line=134'>135</a>\u001b[0m     \u001b[39m\"\u001b[39m\u001b[39mclipboard_autosync=false\u001b[39m\u001b[39m\"\u001b[39m,  \u001b[39m# Disable Clipboard autosync\u001b[39;00m\n\u001b[0;32m    <a href='file:///c%3A/Users/a430180/AppData/Local/Programs/Python/Python39/lib/site-packages/scrcpy/core.py?line=135'>136</a>\u001b[0m ]\n\u001b[0;32m    <a href='file:///c%3A/Users/a430180/AppData/Local/Programs/Python/Python39/lib/site-packages/scrcpy/core.py?line=136'>137</a>\u001b[0m \u001b[39mself\u001b[39m\u001b[39m.\u001b[39m__server_stream: _AdbStreamConnection \u001b[39m=\u001b[39m \u001b[39mself\u001b[39m\u001b[39m.\u001b[39mdevice\u001b[39m.\u001b[39mshell(\n\u001b[0;32m    <a href='file:///c%3A/Users/a430180/AppData/Local/Programs/Python/Python39/lib/site-packages/scrcpy/core.py?line=137'>138</a>\u001b[0m     commands,\n\u001b[0;32m    <a href='file:///c%3A/Users/a430180/AppData/Local/Programs/Python/Python39/lib/site-packages/scrcpy/core.py?line=138'>139</a>\u001b[0m     stream\u001b[39m=\u001b[39m\u001b[39mTrue\u001b[39;00m,\n\u001b[0;32m    <a href='file:///c%3A/Users/a430180/AppData/Local/Programs/Python/Python39/lib/site-packages/scrcpy/core.py?line=139'>140</a>\u001b[0m )\n",
      "File \u001b[1;32mc:\\Users\\a430180\\AppData\\Local\\Programs\\Python\\Python39\\lib\\site-packages\\adbutils\\__init__.py:639\u001b[0m, in \u001b[0;36mAdbDevice.push\u001b[1;34m(self, local, remote)\u001b[0m\n\u001b[0;32m    <a href='file:///c%3A/Users/a430180/AppData/Local/Programs/Python/Python39/lib/site-packages/adbutils/__init__.py?line=637'>638</a>\u001b[0m \u001b[39mdef\u001b[39;00m \u001b[39mpush\u001b[39m(\u001b[39mself\u001b[39m, local: \u001b[39mstr\u001b[39m, remote: \u001b[39mstr\u001b[39m):\n\u001b[1;32m--> <a href='file:///c%3A/Users/a430180/AppData/Local/Programs/Python/Python39/lib/site-packages/adbutils/__init__.py?line=638'>639</a>\u001b[0m     \u001b[39mself\u001b[39;49m\u001b[39m.\u001b[39;49madb_output(\u001b[39m\"\u001b[39;49m\u001b[39mpush\u001b[39;49m\u001b[39m\"\u001b[39;49m, local, remote)\n",
      "File \u001b[1;32mc:\\Users\\a430180\\AppData\\Local\\Programs\\Python\\Python39\\lib\\site-packages\\adbutils\\__init__.py:574\u001b[0m, in \u001b[0;36mAdbDevice.adb_output\u001b[1;34m(self, *args, **kwargs)\u001b[0m\n\u001b[0;32m    <a href='file:///c%3A/Users/a430180/AppData/Local/Programs/Python/Python39/lib/site-packages/adbutils/__init__.py?line=571'>572</a>\u001b[0m \u001b[39mexcept\u001b[39;00m subprocess\u001b[39m.\u001b[39mCalledProcessError \u001b[39mas\u001b[39;00m e:\n\u001b[0;32m    <a href='file:///c%3A/Users/a430180/AppData/Local/Programs/Python/Python39/lib/site-packages/adbutils/__init__.py?line=572'>573</a>\u001b[0m     \u001b[39mif\u001b[39;00m kwargs\u001b[39m.\u001b[39mget(\u001b[39m'\u001b[39m\u001b[39mraise_error\u001b[39m\u001b[39m'\u001b[39m, \u001b[39mTrue\u001b[39;00m):\n\u001b[1;32m--> <a href='file:///c%3A/Users/a430180/AppData/Local/Programs/Python/Python39/lib/site-packages/adbutils/__init__.py?line=573'>574</a>\u001b[0m         \u001b[39mraise\u001b[39;00m \u001b[39mEnvironmentError\u001b[39;00m(\n\u001b[0;32m    <a href='file:///c%3A/Users/a430180/AppData/Local/Programs/Python/Python39/lib/site-packages/adbutils/__init__.py?line=574'>575</a>\u001b[0m             \u001b[39m\"\u001b[39m\u001b[39msubprocess\u001b[39m\u001b[39m\"\u001b[39m, cmdline,\n\u001b[0;32m    <a href='file:///c%3A/Users/a430180/AppData/Local/Programs/Python/Python39/lib/site-packages/adbutils/__init__.py?line=575'>576</a>\u001b[0m             e\u001b[39m.\u001b[39moutput\u001b[39m.\u001b[39mdecode(\u001b[39m'\u001b[39m\u001b[39mutf-8\u001b[39m\u001b[39m'\u001b[39m, errors\u001b[39m=\u001b[39m\u001b[39m'\u001b[39m\u001b[39mignore\u001b[39m\u001b[39m'\u001b[39m))\n",
      "\u001b[1;31mOSError\u001b[0m: [Errno subprocess] c:\\Users\\a430180\\AppData\\Local\\Programs\\Python\\Python39\\lib\\site-packages\\adbutils\\binaries\\adb.exe -s emulator-5554 push c:\\Users\\a430180\\AppData\\Local\\Programs\\Python\\Python39\\lib\\site-packages\\scrcpy\\scrcpy-server-v1.24.jar /data/local/tmp/: \"adb: error: failed to get feature set: device 'emulator-5554' not found\\r\\n\""
     ]
    }
   ],
   "source": [
    "import os\n",
    "import time\n",
    "import timeit\n",
    "import pandas as pd\n",
    "import random\n",
    "import numpy as np\n",
    "# Android ADB\n",
    "from scrcpy import Client, const\n",
    "from subprocess import check_output,Popen\n",
    "import threading\n",
    "\n",
    "# Image processing\n",
    "from PIL import Image\n",
    "import cv2\n",
    "import pytesseract\n",
    "# Notebook\n",
    "from IPython.display import display,clear_output\n",
    "from tqdm.notebook import trange, tqdm\n",
    "# internal\n",
    "import bot_core\n",
    "import importlib\n",
    "importlib.reload(bot_core)\n",
    "\n",
    "SLEEP_DELAY=0.1\n",
    "\n",
    "# Start Scrcpy (once after PC restart)\n",
    "start_scrcpy=True\n",
    "if start_scrcpy:\n",
    "    proc = Popen(['C:\\Programs\\Scrcpy\\scrcpy'], shell=True)\n",
    "    time.sleep(6) # <-- sleep for 6''\n",
    "    proc.terminate() # <-- terminate the process\n",
    "\n",
    "\n",
    "bot = bot_core.Bot()"
   ]
  },
  {
   "cell_type": "code",
   "execution_count": 19,
   "metadata": {},
   "outputs": [
    {
     "data": {
      "text/plain": [
       "b'\\x01\\x00\\x00\\x00\\x04test'"
      ]
     },
     "execution_count": 19,
     "metadata": {},
     "output_type": "execute_result"
    }
   ],
   "source": [
    "bot.client.control.text(\"test\")\n"
   ]
  },
  {
   "cell_type": "markdown",
   "metadata": {},
   "source": [
    "## Game stats"
   ]
  },
  {
   "cell_type": "code",
   "execution_count": 159,
   "metadata": {},
   "outputs": [
    {
     "data": {
      "text/plain": [
       "'70'"
      ]
     },
     "execution_count": 159,
     "metadata": {},
     "output_type": "execute_result"
    }
   ],
   "source": [
    "# get stored mana \n",
    "#bot.getText(220,1360,90,50,new=False,digits=True)\n",
    "\n",
    "# get unit mana \n",
    "bot.getText(450,1360,90,50,new=False,digits=True)\n",
    "\n",
    "# Get upgrade mana\n",
    "#bot.getText(20,1540,700,50,new=False,digits=True).split('6')\n"
   ]
  },
  {
   "cell_type": "markdown",
   "metadata": {},
   "source": [
    "# Play Game"
   ]
  },
  {
   "cell_type": "code",
   "execution_count": 4,
   "metadata": {},
   "outputs": [],
   "source": [
    "# Kill the game and restart\n",
    "def restart_RR():\n",
    "        bot.shell(f'input keyevent {const.KEYCODE_APP_SWITCH}') #Go app switch\n",
    "        time.sleep(1)\n",
    "        bot.click(781,80)# Clear all apps\n",
    "        time.sleep(2)\n",
    "        bot.shell(f'input tap 420 350') # re-open RR\n",
    "        time.sleep(10)\n",
    "\n",
    "def spam_unit():\n",
    "    bot.getScreen()\n",
    "    for i in range(200):\n",
    "        bot.getScreen()\n",
    "        print(\"Step,\", i)\n",
    "        # get stored mana \n",
    "        mana=bot.getText(220,1360,90,50,new=False,digits=True)\n",
    "        if mana=='': mana=0\n",
    "        # get unit mana \n",
    "        mana_cost=bot.getText(450,1360,90,50,new=False,digits=True)\n",
    "        print(mana,mana_cost)\n",
    "        if mana_cost=='' and  mana==0:\n",
    "            time.sleep(1)\n",
    "            continue\n",
    "        if int(mana)>int(mana_cost):\n",
    "            print(f\"Bought for {mana_cost}!\")\n",
    "            bot.click(450,1360)\n",
    "            time.sleep(0.1)\n",
    "        else: time.sleep(1)\n",
    "\n",
    "#battle_screen(start=True)\n",
    "#spam_unit()"
   ]
  },
  {
   "cell_type": "code",
   "execution_count": 40,
   "metadata": {},
   "outputs": [],
   "source": [
    "bot.getScreen()"
   ]
  },
  {
   "cell_type": "code",
   "execution_count": 5,
   "metadata": {},
   "outputs": [],
   "source": [
    "restart_RR()"
   ]
  },
  {
   "cell_type": "code",
   "execution_count": 246,
   "metadata": {},
   "outputs": [
    {
     "name": "stdout",
     "output_type": "stream",
     "text": [
      "[669, 1359]\n"
     ]
    }
   ],
   "source": [
    "pos=bot.getXYByImage('fighting',new=False)\n",
    "print(pos)\n",
    "#if pos!=None:\n",
    " #   return\n"
   ]
  },
  {
   "cell_type": "markdown",
   "metadata": {},
   "source": [
    "## Extra unit logic "
   ]
  },
  {
   "cell_type": "code",
   "execution_count": null,
   "metadata": {},
   "outputs": [],
   "source": [
    "##Extra unit logic \n",
    "# Try to merge any priestess\n",
    "#if 'priest.png' in unit_list:\n",
    "#    if df_groups['priest.png']<1:\n",
    "#        bot.merge_unit(grid_df,'priest.png')"
   ]
  },
  {
   "cell_type": "markdown",
   "metadata": {},
   "source": [
    "# Basic Loop"
   ]
  },
  {
   "cell_type": "code",
   "execution_count": 24,
   "metadata": {},
   "outputs": [
    {
     "data": {
      "text/plain": [
       "(              icon  available    pos [X,Y]\n",
       " 0  battle_icon.png       True  (359, 1419)\n",
       " 1   pvp_button.png       True  (140, 1259),\n",
       " 'menu')"
      ]
     },
     "execution_count": 24,
     "metadata": {},
     "output_type": "execute_result"
    }
   ],
   "source": [
    "def try_merge():\n",
    "    info=''\n",
    "    names=bot.scan_grid(new=True)\n",
    "    grid_df=bot_core.grid_status(names)\n",
    "    df_split, df_groups, unit_list = bot_core.get_unit_count(grid_df)\n",
    "    df_groups = df_groups.sort_values(ascending=False)\n",
    "    # check if grid full\n",
    "    if 'empty.png' in unit_list:\n",
    "        # Merge if full board\n",
    "        if df_groups['empty.png']<3:\n",
    "            info='Merging!'\n",
    "            unit_list.remove('empty.png')\n",
    "            if 'hunter.png' in unit_list: unit_list.remove('hunter.png')\n",
    "            for i in range(3):\n",
    "                merge_tar = random.choice(unit_list)\n",
    "                for j in range(3):\n",
    "                    bot.merge_unit(grid_df,merge_tar)\n",
    "                    time.sleep(0.2)\n",
    "        else: info= 'need more units!'\n",
    "    # If grid seems full, merge any\n",
    "    else:\n",
    "        info = 'Full Grid - Merging!'\n",
    "        merge_tar = random.choice(unit_list)\n",
    "        bot.merge_unit(grid_df,merge_tar)\n",
    "    return grid_df,df_groups,info\n",
    "    \n",
    "def get_button_pos(df,button):\n",
    "    button=button+'.png'\n",
    "    pos=df[df['icon']==button]['pos [X,Y]'].reset_index(drop=True)[0]\n",
    "    return pos\n",
    "\n",
    "def battle_screen(start=False):\n",
    "    # Scan screen for any key buttons\n",
    "    button_df = bot.get_current_icons()\n",
    "    avail_buttons=button_df[button_df['available']==True].reset_index(drop=True)\n",
    "    if not avail_buttons.empty:\n",
    "        # list of buttons\n",
    "        button_names=avail_buttons['icon'].tolist()\n",
    "        if 'fighting.png' in button_names and not '0cont_button.png' in button_names:\n",
    "            return avail_buttons,'fighting'\n",
    "        # Start pvp if homescreen\n",
    "        if start and 'pvp_button.png' in button_names and 'battle_icon.png' in button_names:\n",
    "            pvp_pos = get_button_pos(button_df,'pvp_button')\n",
    "            bot.click_button(pvp_pos)\n",
    "            return avail_buttons, 'home'\n",
    "        # Check first button is clickable\n",
    "        first_button=button_names[0].split('.')[0]\n",
    "        if first_button in ['back_button','battle_icon','0cont_button','1quit']:\n",
    "            button_pos=avail_buttons['pos [X,Y]'].tolist()[0]\n",
    "            bot.click_button(button_pos)\n",
    "            return avail_buttons,'menu'\n",
    "    else:\n",
    "        bot.shell(f'input keyevent {const.KEYCODE_BACK}') #Force back\n",
    "        return button_df,'lost'\n",
    "        # add recursive call to restart last recorse?\n",
    "battle_screen()"
   ]
  },
  {
   "cell_type": "code",
   "execution_count": 25,
   "metadata": {},
   "outputs": [
    {
     "data": {
      "text/plain": [
       "['10/10',\n",
       " 'fighting',\n",
       " 'need more units!',\n",
       "     grid_id           unit  probability position\n",
       " 0    icon_0  cold_mage.png        557.0   [0, 0]\n",
       " 1    icon_1      empty.png        999.0   [0, 1]\n",
       " 2    icon_2      empty.png        999.0   [0, 2]\n",
       " 3    icon_3  lightning.png        463.0   [0, 3]\n",
       " 4    icon_4      empty.png        999.0   [0, 4]\n",
       " 5    icon_5      empty.png        700.0   [1, 0]\n",
       " 6    icon_6  lightning.png        444.0   [1, 1]\n",
       " 7    icon_7   poisoner.png        477.0   [1, 2]\n",
       " 8    icon_8      empty.png        700.0   [1, 3]\n",
       " 9    icon_9      empty.png        700.0   [1, 4]\n",
       " 10  icon_10  cold_mage.png        700.0   [2, 0]\n",
       " 11  icon_11  cold_mage.png        700.0   [2, 1]\n",
       " 12  icon_12      empty.png        700.0   [2, 2]\n",
       " 13  icon_13      empty.png        700.0   [2, 3]\n",
       " 14  icon_14  cold_mage.png        700.0   [2, 4],\n",
       " unit\n",
       " empty.png        8\n",
       " cold_mage.png    4\n",
       " lightning.png    2\n",
       " poisoner.png     1\n",
       " Name: unit, dtype: int64]"
      ]
     },
     "metadata": {},
     "output_type": "display_data"
    },
    {
     "name": "stdout",
     "output_type": "stream",
     "text": [
      "menu wait count: 1\n",
      "menu wait count: 2\n",
      "lost wait count: 3\n",
      "home wait count: 4\n"
     ]
    },
    {
     "ename": "KeyboardInterrupt",
     "evalue": "",
     "output_type": "error",
     "traceback": [
      "\u001b[1;31m---------------------------------------------------------------------------\u001b[0m",
      "\u001b[1;31mKeyboardInterrupt\u001b[0m                         Traceback (most recent call last)",
      "\u001b[1;32mc:\\Code\\RR_bot\\RR_bot\\RR_bot.ipynb Cell 15'\u001b[0m in \u001b[0;36m<cell line: 4>\u001b[1;34m()\u001b[0m\n\u001b[0;32m      <a href='vscode-notebook-cell:/c%3A/Code/RR_bot/RR_bot/RR_bot.ipynb#ch0000016?line=1'>2</a>\u001b[0m \u001b[39m# Main loop\u001b[39;00m\n\u001b[0;32m      <a href='vscode-notebook-cell:/c%3A/Code/RR_bot/RR_bot/RR_bot.ipynb#ch0000016?line=2'>3</a>\u001b[0m \u001b[39mwhile\u001b[39;00m(\u001b[39m1\u001b[39m):\n\u001b[1;32m----> <a href='vscode-notebook-cell:/c%3A/Code/RR_bot/RR_bot/RR_bot.ipynb#ch0000016?line=3'>4</a>\u001b[0m     output \u001b[39m=\u001b[39m battle_screen(start\u001b[39m=\u001b[39;49m\u001b[39mTrue\u001b[39;49;00m)\n\u001b[0;32m      <a href='vscode-notebook-cell:/c%3A/Code/RR_bot/RR_bot/RR_bot.ipynb#ch0000016?line=4'>5</a>\u001b[0m     \u001b[39mif\u001b[39;00m output[\u001b[39m1\u001b[39m]\u001b[39m==\u001b[39m\u001b[39m'\u001b[39m\u001b[39mfighting\u001b[39m\u001b[39m'\u001b[39m:\n\u001b[0;32m      <a href='vscode-notebook-cell:/c%3A/Code/RR_bot/RR_bot/RR_bot.ipynb#ch0000016?line=5'>6</a>\u001b[0m         wait \u001b[39m=\u001b[39m \u001b[39m0\u001b[39m\n",
      "\u001b[1;32mc:\\Code\\RR_bot\\RR_bot\\RR_bot.ipynb Cell 14'\u001b[0m in \u001b[0;36mbattle_screen\u001b[1;34m(start)\u001b[0m\n\u001b[0;32m     <a href='vscode-notebook-cell:/c%3A/Code/RR_bot/RR_bot/RR_bot.ipynb#ch0000015?line=31'>32</a>\u001b[0m \u001b[39mdef\u001b[39;00m \u001b[39mbattle_screen\u001b[39m(start\u001b[39m=\u001b[39m\u001b[39mFalse\u001b[39;00m):\n\u001b[0;32m     <a href='vscode-notebook-cell:/c%3A/Code/RR_bot/RR_bot/RR_bot.ipynb#ch0000015?line=32'>33</a>\u001b[0m     \u001b[39m# Scan screen for any key buttons\u001b[39;00m\n\u001b[1;32m---> <a href='vscode-notebook-cell:/c%3A/Code/RR_bot/RR_bot/RR_bot.ipynb#ch0000015?line=33'>34</a>\u001b[0m     button_df \u001b[39m=\u001b[39m bot\u001b[39m.\u001b[39;49mget_current_icons()\n\u001b[0;32m     <a href='vscode-notebook-cell:/c%3A/Code/RR_bot/RR_bot/RR_bot.ipynb#ch0000015?line=34'>35</a>\u001b[0m     avail_buttons\u001b[39m=\u001b[39mbutton_df[button_df[\u001b[39m'\u001b[39m\u001b[39mavailable\u001b[39m\u001b[39m'\u001b[39m]\u001b[39m==\u001b[39m\u001b[39mTrue\u001b[39;00m]\u001b[39m.\u001b[39mreset_index(drop\u001b[39m=\u001b[39m\u001b[39mTrue\u001b[39;00m)\n\u001b[0;32m     <a href='vscode-notebook-cell:/c%3A/Code/RR_bot/RR_bot/RR_bot.ipynb#ch0000015?line=35'>36</a>\u001b[0m     \u001b[39mif\u001b[39;00m \u001b[39mnot\u001b[39;00m avail_buttons\u001b[39m.\u001b[39mempty:\n\u001b[0;32m     <a href='vscode-notebook-cell:/c%3A/Code/RR_bot/RR_bot/RR_bot.ipynb#ch0000015?line=36'>37</a>\u001b[0m         \u001b[39m# list of buttons\u001b[39;00m\n",
      "File \u001b[1;32mc:\\Code\\RR_bot\\RR_bot\\bot_core.py:103\u001b[0m, in \u001b[0;36mBot.get_current_icons\u001b[1;34m(self, new)\u001b[0m\n\u001b[0;32m    <a href='file:///c%3A/Code/RR_bot/RR_bot/bot_core.py?line=100'>101</a>\u001b[0m current_icons\u001b[39m=\u001b[39m[]\n\u001b[0;32m    <a href='file:///c%3A/Code/RR_bot/RR_bot/bot_core.py?line=101'>102</a>\u001b[0m \u001b[39m# Update screen and load screenshot as grayscale\u001b[39;00m\n\u001b[1;32m--> <a href='file:///c%3A/Code/RR_bot/RR_bot/bot_core.py?line=102'>103</a>\u001b[0m \u001b[39mif\u001b[39;00m new: \u001b[39mself\u001b[39;49m\u001b[39m.\u001b[39;49mgetScreen()\n\u001b[0;32m    <a href='file:///c%3A/Code/RR_bot/RR_bot/bot_core.py?line=103'>104</a>\u001b[0m img_rgb \u001b[39m=\u001b[39m cv2\u001b[39m.\u001b[39mimread(\u001b[39mf\u001b[39m\u001b[39m\"\u001b[39m\u001b[39m{\u001b[39;00m\u001b[39mself\u001b[39m\u001b[39m.\u001b[39mscreenshotName\u001b[39m}\u001b[39;00m\u001b[39m\"\u001b[39m)\n\u001b[0;32m    <a href='file:///c%3A/Code/RR_bot/RR_bot/bot_core.py?line=104'>105</a>\u001b[0m img_gray \u001b[39m=\u001b[39m cv2\u001b[39m.\u001b[39mcvtColor(img_rgb, cv2\u001b[39m.\u001b[39mCOLOR_BGR2GRAY)\n",
      "File \u001b[1;32mc:\\Code\\RR_bot\\RR_bot\\bot_core.py:60\u001b[0m, in \u001b[0;36mBot.getScreen\u001b[1;34m(self)\u001b[0m\n\u001b[0;32m     <a href='file:///c%3A/Code/RR_bot/RR_bot/bot_core.py?line=57'>58</a>\u001b[0m \u001b[39mself\u001b[39m\u001b[39m.\u001b[39mshell(\u001b[39mf\u001b[39m\u001b[39m'\u001b[39m\u001b[39m/system/bin/screencap -p /sdcard/\u001b[39m\u001b[39m{\u001b[39;00m\u001b[39mself\u001b[39m\u001b[39m.\u001b[39mscreenshotName\u001b[39m}\u001b[39;00m\u001b[39m'\u001b[39m)\n\u001b[0;32m     <a href='file:///c%3A/Code/RR_bot/RR_bot/bot_core.py?line=58'>59</a>\u001b[0m \u001b[39m# Using the adb command to upload the screenshot of the mobile phone to the current directory\u001b[39;00m\n\u001b[1;32m---> <a href='file:///c%3A/Code/RR_bot/RR_bot/bot_core.py?line=59'>60</a>\u001b[0m os\u001b[39m.\u001b[39;49msystem(\u001b[39mf\u001b[39;49m\u001b[39m'\u001b[39;49m\u001b[39m\"\u001b[39;49m\u001b[39mC:/Programs/Scrcpy/adb\u001b[39;49m\u001b[39m\"\u001b[39;49m\u001b[39m -s \u001b[39;49m\u001b[39m{\u001b[39;49;00m\u001b[39mself\u001b[39;49m\u001b[39m.\u001b[39;49mdevice\u001b[39m}\u001b[39;49;00m\u001b[39m pull /sdcard/\u001b[39;49m\u001b[39m{\u001b[39;49;00m\u001b[39mself\u001b[39;49m\u001b[39m.\u001b[39;49mscreenshotName\u001b[39m}\u001b[39;49;00m\u001b[39m'\u001b[39;49m)\n",
      "\u001b[1;31mKeyboardInterrupt\u001b[0m: "
     ]
    }
   ],
   "source": [
    "wait=0\n",
    "# Main loop\n",
    "while(1):\n",
    "    output = battle_screen(start=True)\n",
    "    if output[1]=='fighting':\n",
    "        wait = 0\n",
    "        battle_bar=trange(10)\n",
    "        for i in battle_bar:\n",
    "                time.sleep(0.2)\n",
    "                bot.click(450,1360)\n",
    "                # Upgrade units\n",
    "                bot.click(500,1500,delay_mult=4)\n",
    "                #bot.click(200,1500)\n",
    "                #bot.click(650,1500,delay_mult=4)\n",
    "                grid_df,df_groups,info = try_merge()\n",
    "                clear_output()\n",
    "                display([f'{i+1}/10',output[1],info,grid_df,df_groups])\n",
    "    else: \n",
    "        wait+=1\n",
    "        if wait>40:\n",
    "            output[1] = 'RESTARTING'\n",
    "            restart_RR()\n",
    "        print(output[1],'wait count:',wait)"
   ]
  },
  {
   "cell_type": "code",
   "execution_count": 93,
   "metadata": {},
   "outputs": [],
   "source": [
    "bot.click(460,1560)"
   ]
  },
  {
   "cell_type": "code",
   "execution_count": 243,
   "metadata": {},
   "outputs": [],
   "source": [
    "#bot.getScreen()\n",
    "# Battle icon\n",
    "#bot.crop_img(360,1420,180,180,name='battle_icon.png')\n",
    "# PVP button\n",
    "#bot.crop_img(140,1260,200,80,name='pvp_button.png')\n",
    "#back button\n",
    "#bot.crop_img(60,1480,70,70,name='back_button.png')\n",
    "#continue button\n",
    "#bot.crop_img(380,1460,70,70,name='cont_button.png')\n",
    "#fight_portal\n",
    "bot.crop_img(670,1360,60,60,name='fighting.png')\n"
   ]
  },
  {
   "cell_type": "code",
   "execution_count": 78,
   "metadata": {},
   "outputs": [],
   "source": [
    "bot.getXYByImage('battle_icon')"
   ]
  }
 ],
 "metadata": {
  "interpreter": {
   "hash": "13bbb372ad656f0e9428bcc15788f8a0cab57aa3560e0d6212e03898d0e11d82"
  },
  "kernelspec": {
   "display_name": "Python 3.9.13 64-bit",
   "language": "python",
   "name": "python3"
  },
  "language_info": {
   "codemirror_mode": {
    "name": "ipython",
    "version": 3
   },
   "file_extension": ".py",
   "mimetype": "text/x-python",
   "name": "python",
   "nbconvert_exporter": "python",
   "pygments_lexer": "ipython3",
   "version": "3.9.13"
  },
  "orig_nbformat": 4
 },
 "nbformat": 4,
 "nbformat_minor": 2
}
