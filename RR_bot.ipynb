{
 "cells": [
  {
   "cell_type": "markdown",
   "metadata": {},
   "source": [
    "##SETUP"
   ]
  },
  {
   "cell_type": "code",
   "execution_count": 267,
   "metadata": {},
   "outputs": [],
   "source": [
    "import os\n",
    "import time\n",
    "import timeit\n",
    "import pandas as pd\n",
    "import random\n",
    "import numpy as np\n",
    "# Android ADB\n",
    "from scrcpy import Client, const\n",
    "from subprocess import check_output,Popen\n",
    "import threading\n",
    "\n",
    "# Image processing\n",
    "from PIL import Image\n",
    "import cv2\n",
    "import pytesseract\n",
    "# Notebook\n",
    "from IPython.display import display,clear_output\n",
    "from tqdm.notebook import trange, tqdm\n",
    "# internal\n",
    "import bot_core\n",
    "import bot_perception\n",
    "\n",
    "import importlib\n",
    "importlib.reload(bot_core)\n",
    "importlib.reload(bot_perception)\n",
    "\n",
    "\n",
    "SLEEP_DELAY=0.1\n",
    "\n",
    "# Start Scrcpy (once after PC restart)\n",
    "start_scrcpy=False\n",
    "if start_scrcpy:\n",
    "    proc = Popen(['C:\\Programs\\Scrcpy\\scrcpy'], shell=True)\n",
    "    time.sleep(6) # <-- sleep for 6''\n",
    "    proc.terminate() # <-- terminate the process\n",
    "\n",
    "\n",
    "bot = bot_core.Bot()"
   ]
  },
  {
   "cell_type": "code",
   "execution_count": 2,
   "metadata": {},
   "outputs": [
    {
     "data": {
      "text/plain": [
       "b'\\x01\\x00\\x00\\x00\\x04test'"
      ]
     },
     "execution_count": 2,
     "metadata": {},
     "output_type": "execute_result"
    }
   ],
   "source": [
    "bot.client.control.text(\"test\")\n"
   ]
  },
  {
   "cell_type": "markdown",
   "metadata": {},
   "source": [
    "## Game stats"
   ]
  },
  {
   "cell_type": "code",
   "execution_count": 159,
   "metadata": {},
   "outputs": [
    {
     "data": {
      "text/plain": [
       "'70'"
      ]
     },
     "execution_count": 159,
     "metadata": {},
     "output_type": "execute_result"
    }
   ],
   "source": [
    "# get stored mana \n",
    "#bot.getText(220,1360,90,50,new=False,digits=True)\n",
    "\n",
    "# get unit mana \n",
    "bot.getText(450,1360,90,50,new=False,digits=True)\n",
    "\n",
    "# Get upgrade mana\n",
    "#bot.getText(20,1540,700,50,new=False,digits=True).split('6')\n"
   ]
  },
  {
   "cell_type": "code",
   "execution_count": 44,
   "metadata": {},
   "outputs": [
    {
     "data": {
      "text/html": [
       "<div>\n",
       "<style scoped>\n",
       "    .dataframe tbody tr th:only-of-type {\n",
       "        vertical-align: middle;\n",
       "    }\n",
       "\n",
       "    .dataframe tbody tr th {\n",
       "        vertical-align: top;\n",
       "    }\n",
       "\n",
       "    .dataframe thead th {\n",
       "        text-align: right;\n",
       "    }\n",
       "</style>\n",
       "<table border=\"1\" class=\"dataframe\">\n",
       "  <thead>\n",
       "    <tr style=\"text-align: right;\">\n",
       "      <th></th>\n",
       "      <th>grid_id</th>\n",
       "      <th>unit</th>\n",
       "      <th>probability</th>\n",
       "      <th>rank</th>\n",
       "      <th>rank_error</th>\n",
       "      <th>position</th>\n",
       "      <th>Age</th>\n",
       "    </tr>\n",
       "  </thead>\n",
       "  <tbody>\n",
       "    <tr>\n",
       "      <th>0</th>\n",
       "      <td>icon_0</td>\n",
       "      <td>hunter.png</td>\n",
       "      <td>364.0</td>\n",
       "      <td>2</td>\n",
       "      <td>605.0</td>\n",
       "      <td>[0, 0]</td>\n",
       "      <td>1.0</td>\n",
       "    </tr>\n",
       "    <tr>\n",
       "      <th>1</th>\n",
       "      <td>icon_1</td>\n",
       "      <td>alchemist.png</td>\n",
       "      <td>200.0</td>\n",
       "      <td>4</td>\n",
       "      <td>282.0</td>\n",
       "      <td>[0, 1]</td>\n",
       "      <td>1.0</td>\n",
       "    </tr>\n",
       "    <tr>\n",
       "      <th>2</th>\n",
       "      <td>icon_2</td>\n",
       "      <td>empty.png</td>\n",
       "      <td>700.0</td>\n",
       "      <td>0</td>\n",
       "      <td>0.0</td>\n",
       "      <td>[0, 2]</td>\n",
       "      <td>1.0</td>\n",
       "    </tr>\n",
       "    <tr>\n",
       "      <th>3</th>\n",
       "      <td>icon_3</td>\n",
       "      <td>lightning.png</td>\n",
       "      <td>391.0</td>\n",
       "      <td>1</td>\n",
       "      <td>1683.0</td>\n",
       "      <td>[0, 3]</td>\n",
       "      <td>1.0</td>\n",
       "    </tr>\n",
       "    <tr>\n",
       "      <th>4</th>\n",
       "      <td>icon_4</td>\n",
       "      <td>empty.png</td>\n",
       "      <td>999.0</td>\n",
       "      <td>0</td>\n",
       "      <td>0.0</td>\n",
       "      <td>[0, 4]</td>\n",
       "      <td>1.0</td>\n",
       "    </tr>\n",
       "    <tr>\n",
       "      <th>5</th>\n",
       "      <td>icon_5</td>\n",
       "      <td>empty.png</td>\n",
       "      <td>999.0</td>\n",
       "      <td>0</td>\n",
       "      <td>0.0</td>\n",
       "      <td>[1, 0]</td>\n",
       "      <td>1.0</td>\n",
       "    </tr>\n",
       "    <tr>\n",
       "      <th>6</th>\n",
       "      <td>icon_6</td>\n",
       "      <td>hunter.png</td>\n",
       "      <td>169.0</td>\n",
       "      <td>2</td>\n",
       "      <td>610.0</td>\n",
       "      <td>[1, 1]</td>\n",
       "      <td>1.0</td>\n",
       "    </tr>\n",
       "    <tr>\n",
       "      <th>7</th>\n",
       "      <td>icon_7</td>\n",
       "      <td>sharpshooter.png</td>\n",
       "      <td>224.0</td>\n",
       "      <td>3</td>\n",
       "      <td>180.0</td>\n",
       "      <td>[1, 2]</td>\n",
       "      <td>1.0</td>\n",
       "    </tr>\n",
       "    <tr>\n",
       "      <th>8</th>\n",
       "      <td>icon_8</td>\n",
       "      <td>hunter.png</td>\n",
       "      <td>224.0</td>\n",
       "      <td>1</td>\n",
       "      <td>1159.0</td>\n",
       "      <td>[1, 3]</td>\n",
       "      <td>1.0</td>\n",
       "    </tr>\n",
       "    <tr>\n",
       "      <th>9</th>\n",
       "      <td>icon_9</td>\n",
       "      <td>empty.png</td>\n",
       "      <td>999.0</td>\n",
       "      <td>0</td>\n",
       "      <td>0.0</td>\n",
       "      <td>[1, 4]</td>\n",
       "      <td>1.0</td>\n",
       "    </tr>\n",
       "    <tr>\n",
       "      <th>10</th>\n",
       "      <td>icon_10</td>\n",
       "      <td>lightning.png</td>\n",
       "      <td>224.0</td>\n",
       "      <td>2</td>\n",
       "      <td>535.0</td>\n",
       "      <td>[2, 0]</td>\n",
       "      <td>1.0</td>\n",
       "    </tr>\n",
       "    <tr>\n",
       "      <th>11</th>\n",
       "      <td>icon_11</td>\n",
       "      <td>priest.png</td>\n",
       "      <td>163.0</td>\n",
       "      <td>5</td>\n",
       "      <td>159.5</td>\n",
       "      <td>[2, 1]</td>\n",
       "      <td>1.0</td>\n",
       "    </tr>\n",
       "    <tr>\n",
       "      <th>12</th>\n",
       "      <td>icon_12</td>\n",
       "      <td>alchemist.png</td>\n",
       "      <td>314.0</td>\n",
       "      <td>3</td>\n",
       "      <td>370.5</td>\n",
       "      <td>[2, 2]</td>\n",
       "      <td>1.0</td>\n",
       "    </tr>\n",
       "    <tr>\n",
       "      <th>13</th>\n",
       "      <td>icon_13</td>\n",
       "      <td>empty.png</td>\n",
       "      <td>999.0</td>\n",
       "      <td>0</td>\n",
       "      <td>0.0</td>\n",
       "      <td>[2, 3]</td>\n",
       "      <td>1.0</td>\n",
       "    </tr>\n",
       "    <tr>\n",
       "      <th>14</th>\n",
       "      <td>icon_14</td>\n",
       "      <td>empty.png</td>\n",
       "      <td>999.0</td>\n",
       "      <td>0</td>\n",
       "      <td>0.0</td>\n",
       "      <td>[2, 4]</td>\n",
       "      <td>1.0</td>\n",
       "    </tr>\n",
       "  </tbody>\n",
       "</table>\n",
       "</div>"
      ],
      "text/plain": [
       "    grid_id              unit  probability  rank  rank_error position  Age\n",
       "0    icon_0        hunter.png        364.0     2       605.0   [0, 0]  1.0\n",
       "1    icon_1     alchemist.png        200.0     4       282.0   [0, 1]  1.0\n",
       "2    icon_2         empty.png        700.0     0         0.0   [0, 2]  1.0\n",
       "3    icon_3     lightning.png        391.0     1      1683.0   [0, 3]  1.0\n",
       "4    icon_4         empty.png        999.0     0         0.0   [0, 4]  1.0\n",
       "5    icon_5         empty.png        999.0     0         0.0   [1, 0]  1.0\n",
       "6    icon_6        hunter.png        169.0     2       610.0   [1, 1]  1.0\n",
       "7    icon_7  sharpshooter.png        224.0     3       180.0   [1, 2]  1.0\n",
       "8    icon_8        hunter.png        224.0     1      1159.0   [1, 3]  1.0\n",
       "9    icon_9         empty.png        999.0     0         0.0   [1, 4]  1.0\n",
       "10  icon_10     lightning.png        224.0     2       535.0   [2, 0]  1.0\n",
       "11  icon_11        priest.png        163.0     5       159.5   [2, 1]  1.0\n",
       "12  icon_12     alchemist.png        314.0     3       370.5   [2, 2]  1.0\n",
       "13  icon_13         empty.png        999.0     0         0.0   [2, 3]  1.0\n",
       "14  icon_14         empty.png        999.0     0         0.0   [2, 4]  1.0"
      ]
     },
     "metadata": {},
     "output_type": "display_data"
    }
   ],
   "source": [
    "names=bot.scan_grid()\n",
    "grid_df=bot_perception.grid_status(names)\n",
    "grid_df=bot_perception.grid_status(names,grid_df)\n",
    "display(grid_df)\n",
    "prev_grid= grid_df.copy()\n",
    "#cache_grid= grid_df.copy()"
   ]
  },
  {
   "cell_type": "code",
   "execution_count": null,
   "metadata": {},
   "outputs": [],
   "source": [
    "def try_merge(prev_grid=None):\n",
    "    info=''\n",
    "    names=bot.scan_grid(new=True)\n",
    "    grid_df=bot_perception.grid_status(names,prev_grid=prev_grid)\n",
    "    df_split,unit_series, df_groups, group_keys=bot_core.grid_meta_info(grid_df)\n",
    "    # check if grid full\n",
    "    if ('empty.png',0) in group_keys:\n",
    "        # Merge if full board\n",
    "        if df_groups['empty.png']<3:\n",
    "            info='Merging!'\n",
    "            group_keys.remove(('empty.png',0))\n",
    "            if 'hunter.png' in unit_list: unit_list.remove('hunter.png')\n",
    "            for i in range(3):\n",
    "                merge_tar = random.choice(unit_list)\n",
    "                for j in range(3):\n",
    "                    bot.merge_unit(grid_df,merge_tar)\n",
    "                    time.sleep(0.2)\n",
    "        else: info= 'need more units!'\n",
    "    # If grid seems full, merge any\n",
    "    else:\n",
    "        info = 'Full Grid - Merging!'\n",
    "        merge_tar = random.choice(unit_list)\n",
    "        bot.merge_unit(grid_df,merge_tar)\n",
    "    return grid_df,df_groups,info\n",
    "\n"
   ]
  },
  {
   "cell_type": "code",
   "execution_count": 363,
   "metadata": {},
   "outputs": [
    {
     "data": {
      "text/plain": [
       "[('hunter.png', 1),\n",
       " ('priest.png', 1),\n",
       " ('alchemist.png', 3),\n",
       " ('hunter.png', 2),\n",
       " ('lightning.png', 1),\n",
       " ('sharpshooter.png', 1),\n",
       " ('sharpshooter.png', 2),\n",
       " ('sharpshooter.png', 3)]"
      ]
     },
     "execution_count": 363,
     "metadata": {},
     "output_type": "execute_result"
    }
   ],
   "source": [
    "df_split,unit_series, df_groups, group_keys=bot_core.grid_meta_info(grid_df)\n",
    "group_keys.remove(('empty.png',0))\n",
    "group_keys"
   ]
  },
  {
   "cell_type": "code",
   "execution_count": 494,
   "metadata": {},
   "outputs": [
    {
     "data": {
      "text/plain": [
       "unit           rank\n",
       "lightning.png  1       1\n",
       "Name: unit, dtype: int64"
      ]
     },
     "execution_count": 494,
     "metadata": {},
     "output_type": "execute_result"
    }
   ],
   "source": [
    "# Returns all elements which match tokens value\n",
    "def filter_keys(unit_series,tokens):\n",
    "    series= []\n",
    "    for token in tokens:\n",
    "        # check if given token is int, assume unit rank filter\n",
    "        if isinstance(token,int):\n",
    "            exists = unit_series.index.get_level_values('rank').isin([token]).any()\n",
    "            series.append(unit_series.xs(token, level='rank',drop_level=False) if exists else None)\n",
    "        else:\n",
    "            series.append(unit_series.xs(token, level='unit',drop_level=False) if token in unit_series else None)\n",
    "            #unit_series.loc[['priest.png']]\n",
    "    return pd.concat(series)\n",
    "\n",
    "# Select stuff to merge\n",
    "merge_series = filter_keys(unit_series,[1,'priest.png'])\n",
    "# drop duplicated indices\n",
    "merge_series[~merge_series.index.duplicated()]\n",
    "# Take random sample\n",
    "merge_target =  merge_series.sample()\n",
    "merge_target\n"
   ]
  },
  {
   "cell_type": "code",
   "execution_count": 482,
   "metadata": {},
   "outputs": [
    {
     "data": {
      "text/plain": [
       "rank\n",
       "1    3\n",
       "1    3\n",
       "Name: unit, dtype: int64"
      ]
     },
     "execution_count": 482,
     "metadata": {},
     "output_type": "execute_result"
    }
   ],
   "source": [
    "merge_tar.loc['priest.png']"
   ]
  },
  {
   "cell_type": "code",
   "execution_count": 485,
   "metadata": {},
   "outputs": [
    {
     "data": {
      "text/plain": [
       "unit              rank\n",
       "hunter.png        1       5\n",
       "priest.png        1       3\n",
       "lightning.png     1       1\n",
       "sharpshooter.png  1       1\n",
       "Name: unit, dtype: int64"
      ]
     },
     "execution_count": 485,
     "metadata": {},
     "output_type": "execute_result"
    }
   ],
   "source": [
    "merge_tar[~merge_tar.index.duplicated()]\n",
    "\n",
    "#.index.drop_duplicates()"
   ]
  },
  {
   "cell_type": "markdown",
   "metadata": {},
   "source": [
    "# Play Game"
   ]
  },
  {
   "cell_type": "code",
   "execution_count": 40,
   "metadata": {},
   "outputs": [],
   "source": [
    "bot.getScreen()"
   ]
  },
  {
   "cell_type": "code",
   "execution_count": 5,
   "metadata": {},
   "outputs": [],
   "source": [
    "bot.restart_RR()"
   ]
  },
  {
   "cell_type": "markdown",
   "metadata": {},
   "source": [
    "## Extra unit logic "
   ]
  },
  {
   "cell_type": "code",
   "execution_count": null,
   "metadata": {},
   "outputs": [],
   "source": [
    "##Extra unit logic \n",
    "# Try to merge any priestess\n",
    "#if 'priest.png' in unit_list:\n",
    "#    if df_groups['priest.png']<1:\n",
    "#        bot.merge_unit(grid_df,'priest.png')"
   ]
  },
  {
   "cell_type": "markdown",
   "metadata": {},
   "source": [
    "# Basic Loop"
   ]
  },
  {
   "cell_type": "code",
   "execution_count": 3,
   "metadata": {},
   "outputs": [
    {
     "data": {
      "text/plain": [
       "(           icon  available    pos [X,Y]\n",
       " 0  fighting.png       True  (669, 1359),\n",
       " 'fighting')"
      ]
     },
     "execution_count": 3,
     "metadata": {},
     "output_type": "execute_result"
    }
   ],
   "source": [
    "def try_merge(prev_grid=None):\n",
    "    info=''\n",
    "    names=bot.scan_grid(new=True)\n",
    "    grid_df=bot_perception.grid_status(names,prev_grid=prev_grid)\n",
    "    df_split, df_groups, unit_list = bot_core.get_unit_count(grid_df)\n",
    "    df_groups = df_groups.sort_values(ascending=False)\n",
    "    # check if grid full\n",
    "    if 'empty.png' in unit_list:\n",
    "        # Merge if full board\n",
    "        if df_groups['empty.png']<3:\n",
    "            info='Merging!'\n",
    "            unit_list.remove('empty.png')\n",
    "            if 'hunter.png' in unit_list: unit_list.remove('hunter.png')\n",
    "            for i in range(3):\n",
    "                merge_tar = random.choice(unit_list)\n",
    "                for j in range(3):\n",
    "                    bot.merge_unit(grid_df,merge_tar)\n",
    "                    time.sleep(0.2)\n",
    "        else: info= 'need more units!'\n",
    "    # If grid seems full, merge any\n",
    "    else:\n",
    "        info = 'Full Grid - Merging!'\n",
    "        merge_tar = random.choice(unit_list)\n",
    "        bot.merge_unit(grid_df,merge_tar)\n",
    "    return grid_df,df_groups,info\n",
    "    \n",
    "def get_button_pos(df,button):\n",
    "    button=button+'.png'\n",
    "    pos=df[df['icon']==button]['pos [X,Y]'].reset_index(drop=True)[0]\n",
    "    return pos\n",
    "\n",
    "def battle_screen(start=False):\n",
    "    # Scan screen for any key buttons\n",
    "    button_df = bot.get_current_icons()\n",
    "    avail_buttons=button_df[button_df['available']==True].reset_index(drop=True)\n",
    "    if not avail_buttons.empty:\n",
    "        # list of buttons\n",
    "        button_names=avail_buttons['icon'].tolist()\n",
    "        if 'fighting.png' in button_names and not '0cont_button.png' in button_names:\n",
    "            return avail_buttons,'fighting'\n",
    "        # Start pvp if homescreen\n",
    "        if start and 'pvp_button.png' in button_names and 'battle_icon.png' in button_names:\n",
    "            pvp_pos = get_button_pos(button_df,'pvp_button')\n",
    "            bot.click_button(pvp_pos)\n",
    "            return avail_buttons, 'home'\n",
    "        # Check first button is clickable\n",
    "        first_button=button_names[0].split('.')[0]\n",
    "        if first_button in ['back_button','battle_icon','0cont_button','1quit']:\n",
    "            button_pos=avail_buttons['pos [X,Y]'].tolist()[0]\n",
    "            bot.click_button(button_pos)\n",
    "            return avail_buttons,'menu'\n",
    "    else:\n",
    "        bot.shell(f'input keyevent {const.KEYCODE_BACK}') #Force back\n",
    "        return button_df,'lost'\n",
    "        # add recursive call to restart last recorse?\n",
    "battle_screen()"
   ]
  },
  {
   "cell_type": "code",
   "execution_count": 4,
   "metadata": {},
   "outputs": [
    {
     "data": {
      "text/plain": [
       "['6/10',\n",
       " 'fighting',\n",
       " 'Merging!',\n",
       "     grid_id              unit  probability  rank  rank_error position   Age\n",
       " 0    icon_0     lightning.png        280.0     1      1276.0   [0, 0]   5.0\n",
       " 1    icon_1        hunter.png        170.0     1      1633.0   [0, 1]  14.0\n",
       " 2    icon_2        hunter.png        182.0     1      1278.0   [0, 2]   0.0\n",
       " 3    icon_3  sharpshooter.png        295.0     2       445.0   [0, 3]   0.0\n",
       " 4    icon_4  sharpshooter.png        289.0     3       270.0   [0, 4]   6.0\n",
       " 5    icon_5        hunter.png        246.0     1      1244.0   [1, 0]  14.0\n",
       " 6    icon_6        hunter.png        169.0     1      1854.5   [1, 1]   1.0\n",
       " 7    icon_7         empty.png        999.0     0         0.0   [1, 2]   6.0\n",
       " 8    icon_8     alchemist.png        180.0     3       226.5   [1, 3]   0.0\n",
       " 9    icon_9  sharpshooter.png        227.0     1      1628.5   [1, 4]  12.0\n",
       " 10  icon_10        priest.png        180.0     1      1422.5   [2, 0]   1.0\n",
       " 11  icon_11        hunter.png        231.0     1      1978.0   [2, 1]   7.0\n",
       " 12  icon_12        priest.png        175.0     1      2068.5   [2, 2]   0.0\n",
       " 13  icon_13        priest.png        200.0     1      1269.5   [2, 3]   4.0\n",
       " 14  icon_14        hunter.png        183.0     2       895.0   [2, 4]   1.0,\n",
       " unit\n",
       " hunter.png          6\n",
       " priest.png          3\n",
       " sharpshooter.png    3\n",
       " alchemist.png       1\n",
       " empty.png           1\n",
       " lightning.png       1\n",
       " Name: unit, dtype: int64]"
      ]
     },
     "metadata": {},
     "output_type": "display_data"
    },
    {
     "ename": "KeyboardInterrupt",
     "evalue": "",
     "output_type": "error",
     "traceback": [
      "\u001b[1;31m---------------------------------------------------------------------------\u001b[0m",
      "\u001b[1;31mKeyboardInterrupt\u001b[0m                         Traceback (most recent call last)",
      "\u001b[1;32mc:\\Code\\Rush-Royale-Bot\\RR_bot.ipynb Cell 15'\u001b[0m in \u001b[0;36m<cell line: 5>\u001b[1;34m()\u001b[0m\n\u001b[0;32m     <a href='vscode-notebook-cell:/c%3A/Code/Rush-Royale-Bot/RR_bot.ipynb#ch0000014?line=12'>13</a>\u001b[0m bot\u001b[39m.\u001b[39mclick(\u001b[39m500\u001b[39m,\u001b[39m1500\u001b[39m,delay_mult\u001b[39m=\u001b[39m\u001b[39m4\u001b[39m)\n\u001b[0;32m     <a href='vscode-notebook-cell:/c%3A/Code/Rush-Royale-Bot/RR_bot.ipynb#ch0000014?line=13'>14</a>\u001b[0m \u001b[39m#bot.click(200,1500)\u001b[39;00m\n\u001b[0;32m     <a href='vscode-notebook-cell:/c%3A/Code/Rush-Royale-Bot/RR_bot.ipynb#ch0000014?line=14'>15</a>\u001b[0m \u001b[39m#bot.click(650,1500,delay_mult=4)\u001b[39;00m\n\u001b[1;32m---> <a href='vscode-notebook-cell:/c%3A/Code/Rush-Royale-Bot/RR_bot.ipynb#ch0000014?line=15'>16</a>\u001b[0m grid_df,df_groups,info \u001b[39m=\u001b[39m try_merge(grid_df)\n\u001b[0;32m     <a href='vscode-notebook-cell:/c%3A/Code/Rush-Royale-Bot/RR_bot.ipynb#ch0000014?line=16'>17</a>\u001b[0m clear_output()\n\u001b[0;32m     <a href='vscode-notebook-cell:/c%3A/Code/Rush-Royale-Bot/RR_bot.ipynb#ch0000014?line=17'>18</a>\u001b[0m display([\u001b[39mf\u001b[39m\u001b[39m'\u001b[39m\u001b[39m{\u001b[39;00mi\u001b[39m+\u001b[39m\u001b[39m1\u001b[39m\u001b[39m}\u001b[39;00m\u001b[39m/10\u001b[39m\u001b[39m'\u001b[39m,output[\u001b[39m1\u001b[39m],info,grid_df,df_groups])\n",
      "\u001b[1;32mc:\\Code\\Rush-Royale-Bot\\RR_bot.ipynb Cell 14'\u001b[0m in \u001b[0;36mtry_merge\u001b[1;34m(prev_grid)\u001b[0m\n\u001b[0;32m      <a href='vscode-notebook-cell:/c%3A/Code/Rush-Royale-Bot/RR_bot.ipynb#ch0000013?line=0'>1</a>\u001b[0m \u001b[39mdef\u001b[39;00m \u001b[39mtry_merge\u001b[39m(prev_grid\u001b[39m=\u001b[39m\u001b[39mNone\u001b[39;00m):\n\u001b[0;32m      <a href='vscode-notebook-cell:/c%3A/Code/Rush-Royale-Bot/RR_bot.ipynb#ch0000013?line=1'>2</a>\u001b[0m     info\u001b[39m=\u001b[39m\u001b[39m'\u001b[39m\u001b[39m'\u001b[39m\n\u001b[1;32m----> <a href='vscode-notebook-cell:/c%3A/Code/Rush-Royale-Bot/RR_bot.ipynb#ch0000013?line=2'>3</a>\u001b[0m     names\u001b[39m=\u001b[39mbot\u001b[39m.\u001b[39;49mscan_grid(new\u001b[39m=\u001b[39;49m\u001b[39mTrue\u001b[39;49;00m)\n\u001b[0;32m      <a href='vscode-notebook-cell:/c%3A/Code/Rush-Royale-Bot/RR_bot.ipynb#ch0000013?line=3'>4</a>\u001b[0m     grid_df\u001b[39m=\u001b[39mbot_perception\u001b[39m.\u001b[39mgrid_status(names,prev_grid\u001b[39m=\u001b[39mprev_grid)\n\u001b[0;32m      <a href='vscode-notebook-cell:/c%3A/Code/Rush-Royale-Bot/RR_bot.ipynb#ch0000013?line=4'>5</a>\u001b[0m     df_split, df_groups, unit_list \u001b[39m=\u001b[39m bot_core\u001b[39m.\u001b[39mget_unit_count(grid_df)\n",
      "File \u001b[1;32mc:\\Code\\Rush-Royale-Bot\\bot_core.py:137\u001b[0m, in \u001b[0;36mBot.scan_grid\u001b[1;34m(self, new)\u001b[0m\n\u001b[0;32m    <a href='file:///c%3A/Code/Rush-Royale-Bot/bot_core.py?line=134'>135</a>\u001b[0m \u001b[39mfor\u001b[39;00m i \u001b[39min\u001b[39;00m \u001b[39mrange\u001b[39m(\u001b[39mlen\u001b[39m(box_list)):\n\u001b[0;32m    <a href='file:///c%3A/Code/Rush-Royale-Bot/bot_core.py?line=135'>136</a>\u001b[0m     file_name \u001b[39m=\u001b[39m \u001b[39mf\u001b[39m\u001b[39m'\u001b[39m\u001b[39mOCR_inputs/icon_\u001b[39m\u001b[39m{\u001b[39;00m\u001b[39mstr\u001b[39m(i)\u001b[39m}\u001b[39;00m\u001b[39m.png\u001b[39m\u001b[39m'\u001b[39m\n\u001b[1;32m--> <a href='file:///c%3A/Code/Rush-Royale-Bot/bot_core.py?line=136'>137</a>\u001b[0m     \u001b[39mself\u001b[39;49m\u001b[39m.\u001b[39;49mcrop_img(\u001b[39m*\u001b[39;49mbox_list[i],\u001b[39m*\u001b[39;49mbox_size,name\u001b[39m=\u001b[39;49mfile_name)\n\u001b[0;32m    <a href='file:///c%3A/Code/Rush-Royale-Bot/bot_core.py?line=137'>138</a>\u001b[0m     names\u001b[39m.\u001b[39mappend(file_name)\n\u001b[0;32m    <a href='file:///c%3A/Code/Rush-Royale-Bot/bot_core.py?line=138'>139</a>\u001b[0m \u001b[39mreturn\u001b[39;00m names\n",
      "File \u001b[1;32mc:\\Code\\Rush-Royale-Bot\\bot_core.py:67\u001b[0m, in \u001b[0;36mBot.crop_img\u001b[1;34m(self, x, y, dx, dy, name)\u001b[0m\n\u001b[0;32m     <a href='file:///c%3A/Code/Rush-Royale-Bot/bot_core.py?line=64'>65</a>\u001b[0m \u001b[39mdef\u001b[39;00m \u001b[39mcrop_img\u001b[39m(\u001b[39mself\u001b[39m, x, y, dx, dy, name\u001b[39m=\u001b[39m\u001b[39m'\u001b[39m\u001b[39micon.png\u001b[39m\u001b[39m'\u001b[39m):\n\u001b[0;32m     <a href='file:///c%3A/Code/Rush-Royale-Bot/bot_core.py?line=65'>66</a>\u001b[0m     \u001b[39m# Load screen\u001b[39;00m\n\u001b[1;32m---> <a href='file:///c%3A/Code/Rush-Royale-Bot/bot_core.py?line=66'>67</a>\u001b[0m     img_rgb \u001b[39m=\u001b[39m cv2\u001b[39m.\u001b[39;49mimread(\u001b[39mself\u001b[39;49m\u001b[39m.\u001b[39;49mscreenshotName)\n\u001b[0;32m     <a href='file:///c%3A/Code/Rush-Royale-Bot/bot_core.py?line=67'>68</a>\u001b[0m     img_rgb \u001b[39m=\u001b[39m img_rgb[y:y \u001b[39m+\u001b[39m dy, x:x \u001b[39m+\u001b[39m dx]\n\u001b[0;32m     <a href='file:///c%3A/Code/Rush-Royale-Bot/bot_core.py?line=68'>69</a>\u001b[0m     \u001b[39m# Convert to grayscale (done internally by tessarct )\u001b[39;00m\n\u001b[0;32m     <a href='file:///c%3A/Code/Rush-Royale-Bot/bot_core.py?line=69'>70</a>\u001b[0m     \u001b[39m#img_rgb = cv2.cvtColor(img_rgb, cv2.COLOR_BGR2GRAY)\u001b[39;00m\n\u001b[0;32m     <a href='file:///c%3A/Code/Rush-Royale-Bot/bot_core.py?line=70'>71</a>\u001b[0m     \u001b[39m#(a, img_gray) = cv2.threshold(img_rgb, 127, 255, cv2.THRESH_BINARY)\u001b[39;00m\n",
      "\u001b[1;31mKeyboardInterrupt\u001b[0m: "
     ]
    }
   ],
   "source": [
    "wait=0\n",
    "grid_df =None\n",
    "# Main loop\n",
    "while(1):\n",
    "    output = battle_screen(start=True)\n",
    "    if output[1]=='fighting':\n",
    "        wait = 0\n",
    "        battle_bar=trange(10)\n",
    "        for i in battle_bar:\n",
    "                time.sleep(0.2)\n",
    "                bot.click(450,1360)\n",
    "                # Upgrade units\n",
    "                bot.click(500,1500,delay_mult=4)\n",
    "                #bot.click(200,1500)\n",
    "                #bot.click(650,1500,delay_mult=4)\n",
    "                grid_df,df_groups,info = try_merge(grid_df)\n",
    "                clear_output()\n",
    "                display([f'{i+1}/10',output[1],info,grid_df,df_groups])\n",
    "    else: \n",
    "        wait+=1\n",
    "        if wait>40:\n",
    "            output[1] = 'RESTARTING'\n",
    "            bot.restart_RR()\n",
    "        print(output[1],'wait count:',wait)"
   ]
  },
  {
   "cell_type": "code",
   "execution_count": null,
   "metadata": {},
   "outputs": [],
   "source": []
  }
 ],
 "metadata": {
  "interpreter": {
   "hash": "222f52f3d4ea82340b8e438915cd2cce29310e9a34a09f1d931c12bfa7062449"
  },
  "kernelspec": {
   "display_name": "Python 3.9.12 ('Rush-Royale-Bot')",
   "language": "python",
   "name": "python3"
  },
  "language_info": {
   "codemirror_mode": {
    "name": "ipython",
    "version": 3
   },
   "file_extension": ".py",
   "mimetype": "text/x-python",
   "name": "python",
   "nbconvert_exporter": "python",
   "pygments_lexer": "ipython3",
   "version": "3.9.12"
  },
  "orig_nbformat": 4
 },
 "nbformat": 4,
 "nbformat_minor": 2
}
