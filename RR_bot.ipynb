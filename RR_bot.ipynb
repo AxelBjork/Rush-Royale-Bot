{
 "cells": [
  {
   "cell_type": "markdown",
   "metadata": {},
   "source": [
    "##SETUP"
   ]
  },
  {
   "cell_type": "code",
   "execution_count": 15,
   "metadata": {},
   "outputs": [],
   "source": [
    "import time\n",
    "import pandas as pd\n",
    "# Android ADB\n",
    "from subprocess import check_output,Popen\n",
    "# Notebook\n",
    "from IPython.display import display,clear_output\n",
    "from tqdm.notebook import trange, tqdm\n",
    "\n",
    "import sys\n",
    "# Start Scrcpy once per restart\n",
    "if 'started_scrcpy' not in vars():\n",
    "    started_scrcpy=True\n",
    "    proc = Popen(['C:\\Programs\\Scrcpy\\scrcpy'], shell=True)\n",
    "    time.sleep(3) # <-- sleep for 6''\n",
    "    proc.terminate() # <-- terminate the process (Scrcpy window can be closed)\n",
    "# internal\n",
    "sys.path.append('./src')\n",
    "import bot_core\n",
    "import bot_perception\n",
    "\n",
    "import importlib\n",
    "[importlib.reload(lib) for lib in [bot_core,bot_perception] ]\n",
    "\n",
    "\n",
    "# Selected units in deck (order does not matter)\n",
    "#sel_units= ['crystal.png','chemist.png','monkey.png','dryad.png','hunter.png']\n",
    "sel_units= ['chemist.png','knight_statue.png','harlequin.png','dryad.png','demon_hunter.png']\n",
    "bot_core.select_units(sel_units,show=False)\n",
    "\n",
    "bot = bot_core.Bot()"
   ]
  },
  {
   "cell_type": "code",
   "execution_count": 7,
   "metadata": {},
   "outputs": [
    {
     "name": "stdout",
     "output_type": "stream",
     "text": [
      "['alchemist.png', 'archer.png', 'banner.png', 'blade_dancer.png', 'bruser.png', 'catapult.png', 'cauldron.png', 'chemist.png', 'clock.png', 'cold_mage.png', 'corsair.png', 'crystal.png', 'cultist.png', 'cultist_off.png', 'demo.png', 'demon_hunter.png', 'dryad.png', 'empty.png', 'engineer.png', 'executioner.png', 'fire_mage.png', 'flinger.png', 'gargoyle.png', 'harlequin.png', 'hex.png', 'hunter.png', 'inquisitor.png', 'ivy.png', 'knight_statue.png', 'lightning.png', 'meteor.png', 'mime.png', 'monkey.png', 'old', 'old_icon', 'poisoner.png', 'portal_keeper.png', 'portal_mage.png', 'priest.png', 'pyro.png', 'reaper.png', 'rogue.png', 'sentry.png', 'shaman.png', 'sharpshooter.png', 'sharpstone.png', 'summoner.png', 'thunder.png', 'time_keeper.png', 'trapper.png', 'unit_rank', 'vampire.png', 'wind_arch.png', 'witch_doc.png', 'zealot.png']\n",
      "Chosen:\n",
      " ['cauldron.png', 'knight_statue.png', 'harlequin.png', 'dryad.png', 'zealot.png']\n"
     ]
    }
   ],
   "source": [
    "bot_core.select_units(sel_units,show=True)"
   ]
  },
  {
   "cell_type": "markdown",
   "metadata": {},
   "source": [
    "## RUN BOT"
   ]
  },
  {
   "cell_type": "code",
   "execution_count": 18,
   "metadata": {},
   "outputs": [
    {
     "data": {
      "text/plain": [
       "['7, 7/8 fighting, not enough rank 1 targets!',\n",
       " 'Average age: 5.8',\n",
       "    grid_pos               unit  probability  rank  rank_prob   Age\n",
       " 0    [0, 0]      harlequin.png        0.835     1   1.000000   1.0\n",
       " 1    [0, 1]        chemist.png        0.912     2   0.999996   4.0\n",
       " 2    [0, 2]          dryad.png        0.908     2   0.999995   4.0\n",
       " 3    [0, 3]  knight_statue.png        0.868     1   1.000000   4.0\n",
       " 4    [0, 4]          dryad.png        0.885     2   0.999999   9.0\n",
       " 5    [1, 0]      harlequin.png        0.858     2   0.999998   1.0\n",
       " 6    [1, 1]          dryad.png        0.868     2   0.999974   8.0\n",
       " 7    [1, 2]  knight_statue.png        0.862     2   0.999999  13.0\n",
       " 8    [1, 3]  knight_statue.png        0.911     2   1.000000   8.0\n",
       " 9    [1, 4]          empty.png        0.000     0   0.999904   4.0\n",
       " 10   [2, 0]      harlequin.png        0.917     2   0.999992   1.0\n",
       " 11   [2, 1]        chemist.png        0.907     1   0.999976   8.0\n",
       " 12   [2, 2]   demon_hunter.png        0.830     1   1.000000   5.0\n",
       " 13   [2, 3]        chemist.png        0.934     3   0.999993   8.0\n",
       " 14   [2, 4]          empty.png        0.000     0   1.000000   9.0,\n",
       " unit               rank\n",
       " dryad.png          2       3\n",
       " empty.png          0       2\n",
       " knight_statue.png  2       2\n",
       " chemist.png        1       1\n",
       "                    2       1\n",
       "                    3       1\n",
       " demon_hunter.png   1       1\n",
       " knight_statue.png  1       1\n",
       " Name: unit, dtype: int64,\n",
       " None]"
      ]
     },
     "metadata": {},
     "output_type": "display_data"
    },
    {
     "ename": "KeyboardInterrupt",
     "evalue": "",
     "output_type": "error",
     "traceback": [
      "\u001b[1;31m---------------------------------------------------------------------------\u001b[0m",
      "\u001b[1;31mKeyboardInterrupt\u001b[0m                         Traceback (most recent call last)",
      "\u001b[1;32mc:\\Code\\Rush-Royale-Bot\\RR_bot.ipynb Cell 5\u001b[0m in \u001b[0;36m<cell line: 8>\u001b[1;34m()\u001b[0m\n\u001b[0;32m     <a href='vscode-notebook-cell:/c%3A/Code/Rush-Royale-Bot/RR_bot.ipynb#ch0000004?line=22'>23</a>\u001b[0m bot\u001b[39m.\u001b[39mclick(\u001b[39m450\u001b[39m,\u001b[39m1360\u001b[39m)\n\u001b[0;32m     <a href='vscode-notebook-cell:/c%3A/Code/Rush-Royale-Bot/RR_bot.ipynb#ch0000004?line=23'>24</a>\u001b[0m \u001b[39m# Try to merge units\u001b[39;00m\n\u001b[1;32m---> <a href='vscode-notebook-cell:/c%3A/Code/Rush-Royale-Bot/RR_bot.ipynb#ch0000004?line=24'>25</a>\u001b[0m grid_df,unit_series,merge_series,df_groups,info \u001b[39m=\u001b[39m bot\u001b[39m.\u001b[39;49mtry_merge(prev_grid\u001b[39m=\u001b[39;49mgrid_df,merge_target\u001b[39m=\u001b[39;49m\u001b[39m'\u001b[39;49m\u001b[39mdemon_hunter.png\u001b[39;49m\u001b[39m'\u001b[39;49m)\n\u001b[0;32m     <a href='vscode-notebook-cell:/c%3A/Code/Rush-Royale-Bot/RR_bot.ipynb#ch0000004?line=25'>26</a>\u001b[0m clear_output()\n\u001b[0;32m     <a href='vscode-notebook-cell:/c%3A/Code/Rush-Royale-Bot/RR_bot.ipynb#ch0000004?line=26'>27</a>\u001b[0m display([\u001b[39mf\u001b[39m\u001b[39m'\u001b[39m\u001b[39m{\u001b[39;00mcombat\u001b[39m}\u001b[39;00m\u001b[39m, \u001b[39m\u001b[39m{\u001b[39;00mi\u001b[39m+\u001b[39m\u001b[39m1\u001b[39m\u001b[39m}\u001b[39;00m\u001b[39m/8 \u001b[39m\u001b[39m{\u001b[39;00moutput[\u001b[39m1\u001b[39m]\u001b[39m}\u001b[39;00m\u001b[39m, \u001b[39m\u001b[39m{\u001b[39;00minfo\u001b[39m}\u001b[39;00m\u001b[39m'\u001b[39m, \u001b[39m'\u001b[39m\u001b[39mAverage age: \u001b[39m\u001b[39m'\u001b[39m\u001b[39m+\u001b[39m \u001b[39mstr\u001b[39m(grid_df[\u001b[39m'\u001b[39m\u001b[39mAge\u001b[39m\u001b[39m'\u001b[39m]\u001b[39m.\u001b[39mmean()\u001b[39m.\u001b[39mround(\u001b[39m2\u001b[39m)),grid_df,unit_series,df_groups])\n",
      "File \u001b[1;32mc:\\Code\\Rush-Royale-Bot\\./src\\bot_core.py:226\u001b[0m, in \u001b[0;36mBot.try_merge\u001b[1;34m(self, rank, prev_grid, merge_target)\u001b[0m\n\u001b[0;32m    224\u001b[0m info\u001b[39m=\u001b[39m\u001b[39m'\u001b[39m\u001b[39m'\u001b[39m\n\u001b[0;32m    225\u001b[0m merge_df \u001b[39m=\u001b[39m\u001b[39mNone\u001b[39;00m\n\u001b[1;32m--> 226\u001b[0m names\u001b[39m=\u001b[39m\u001b[39mself\u001b[39;49m\u001b[39m.\u001b[39;49mscan_grid(new\u001b[39m=\u001b[39;49m\u001b[39mTrue\u001b[39;49;00m)\n\u001b[0;32m    227\u001b[0m grid_df\u001b[39m=\u001b[39mbot_perception\u001b[39m.\u001b[39mgrid_status(names,prev_grid\u001b[39m=\u001b[39mprev_grid)\n\u001b[0;32m    228\u001b[0m df_split,unit_series, df_groups, group_keys\u001b[39m=\u001b[39mgrid_meta_info(grid_df)\n",
      "File \u001b[1;32mc:\\Code\\Rush-Royale-Bot\\./src\\bot_core.py:161\u001b[0m, in \u001b[0;36mBot.scan_grid\u001b[1;34m(self, new)\u001b[0m\n\u001b[0;32m    159\u001b[0m boxes,box_size \u001b[39m=\u001b[39m get_grid()\n\u001b[0;32m    160\u001b[0m \u001b[39m# should be enabled by default\u001b[39;00m\n\u001b[1;32m--> 161\u001b[0m \u001b[39mif\u001b[39;00m new: \u001b[39mself\u001b[39;49m\u001b[39m.\u001b[39;49mgetScreen()\n\u001b[0;32m    162\u001b[0m box_list \u001b[39m=\u001b[39m boxes\u001b[39m.\u001b[39mreshape(\u001b[39m15\u001b[39m,\u001b[39m2\u001b[39m)\n\u001b[0;32m    163\u001b[0m names\u001b[39m=\u001b[39m[]\n",
      "File \u001b[1;32mc:\\Code\\Rush-Royale-Bot\\./src\\bot_core.py:75\u001b[0m, in \u001b[0;36mBot.getScreen\u001b[1;34m(self)\u001b[0m\n\u001b[0;32m     73\u001b[0m \u001b[39mdef\u001b[39;00m \u001b[39mgetScreen\u001b[39m(\u001b[39mself\u001b[39m):\n\u001b[0;32m     74\u001b[0m     p\u001b[39m=\u001b[39mPopen([\u001b[39m'\u001b[39m\u001b[39mC:/Programs/Scrcpy/adb\u001b[39m\u001b[39m'\u001b[39m, \u001b[39m'\u001b[39m\u001b[39mshell\u001b[39m\u001b[39m'\u001b[39m,\u001b[39m'\u001b[39m\u001b[39m/system/bin/screencap\u001b[39m\u001b[39m'\u001b[39m, \u001b[39m'\u001b[39m\u001b[39m-p\u001b[39m\u001b[39m'\u001b[39m, \u001b[39mf\u001b[39m\u001b[39m'\u001b[39m\u001b[39m/sdcard/\u001b[39m\u001b[39m{\u001b[39;00m\u001b[39mself\u001b[39m\u001b[39m.\u001b[39mscreenshotName\u001b[39m}\u001b[39;00m\u001b[39m'\u001b[39m])\n\u001b[1;32m---> 75\u001b[0m     p\u001b[39m.\u001b[39;49mwait()\n\u001b[0;32m     76\u001b[0m     \u001b[39m# Using the adb command to upload the screenshot of the mobile phone to the current directory\u001b[39;00m\n\u001b[0;32m     77\u001b[0m     p\u001b[39m=\u001b[39mPopen([\u001b[39m'\u001b[39m\u001b[39mC:/Programs/Scrcpy/adb\u001b[39m\u001b[39m'\u001b[39m, \u001b[39m'\u001b[39m\u001b[39mpull\u001b[39m\u001b[39m'\u001b[39m, \u001b[39mf\u001b[39m\u001b[39m'\u001b[39m\u001b[39m/sdcard/\u001b[39m\u001b[39m{\u001b[39;00m\u001b[39mself\u001b[39m\u001b[39m.\u001b[39mscreenshotName\u001b[39m}\u001b[39;00m\u001b[39m'\u001b[39m])\n",
      "File \u001b[1;32mc:\\Users\\axelb\\.conda\\envs\\Rush-Royale-Bot\\lib\\subprocess.py:1189\u001b[0m, in \u001b[0;36mPopen.wait\u001b[1;34m(self, timeout)\u001b[0m\n\u001b[0;32m   1187\u001b[0m     endtime \u001b[39m=\u001b[39m _time() \u001b[39m+\u001b[39m timeout\n\u001b[0;32m   1188\u001b[0m \u001b[39mtry\u001b[39;00m:\n\u001b[1;32m-> 1189\u001b[0m     \u001b[39mreturn\u001b[39;00m \u001b[39mself\u001b[39;49m\u001b[39m.\u001b[39;49m_wait(timeout\u001b[39m=\u001b[39;49mtimeout)\n\u001b[0;32m   1190\u001b[0m \u001b[39mexcept\u001b[39;00m \u001b[39mKeyboardInterrupt\u001b[39;00m:\n\u001b[0;32m   1191\u001b[0m     \u001b[39m# https://bugs.python.org/issue25942\u001b[39;00m\n\u001b[0;32m   1192\u001b[0m     \u001b[39m# The first keyboard interrupt waits briefly for the child to\u001b[39;00m\n\u001b[0;32m   1193\u001b[0m     \u001b[39m# exit under the common assumption that it also received the ^C\u001b[39;00m\n\u001b[0;32m   1194\u001b[0m     \u001b[39m# generated SIGINT and will exit rapidly.\u001b[39;00m\n\u001b[0;32m   1195\u001b[0m     \u001b[39mif\u001b[39;00m timeout \u001b[39mis\u001b[39;00m \u001b[39mnot\u001b[39;00m \u001b[39mNone\u001b[39;00m:\n",
      "File \u001b[1;32mc:\\Users\\axelb\\.conda\\envs\\Rush-Royale-Bot\\lib\\subprocess.py:1470\u001b[0m, in \u001b[0;36mPopen._wait\u001b[1;34m(self, timeout)\u001b[0m\n\u001b[0;32m   1467\u001b[0m     timeout_millis \u001b[39m=\u001b[39m \u001b[39mint\u001b[39m(timeout \u001b[39m*\u001b[39m \u001b[39m1000\u001b[39m)\n\u001b[0;32m   1468\u001b[0m \u001b[39mif\u001b[39;00m \u001b[39mself\u001b[39m\u001b[39m.\u001b[39mreturncode \u001b[39mis\u001b[39;00m \u001b[39mNone\u001b[39;00m:\n\u001b[0;32m   1469\u001b[0m     \u001b[39m# API note: Returns immediately if timeout_millis == 0.\u001b[39;00m\n\u001b[1;32m-> 1470\u001b[0m     result \u001b[39m=\u001b[39m _winapi\u001b[39m.\u001b[39;49mWaitForSingleObject(\u001b[39mself\u001b[39;49m\u001b[39m.\u001b[39;49m_handle,\n\u001b[0;32m   1471\u001b[0m                                          timeout_millis)\n\u001b[0;32m   1472\u001b[0m     \u001b[39mif\u001b[39;00m result \u001b[39m==\u001b[39m _winapi\u001b[39m.\u001b[39mWAIT_TIMEOUT:\n\u001b[0;32m   1473\u001b[0m         \u001b[39mraise\u001b[39;00m TimeoutExpired(\u001b[39mself\u001b[39m\u001b[39m.\u001b[39margs, timeout)\n",
      "\u001b[1;31mKeyboardInterrupt\u001b[0m: "
     ]
    }
   ],
   "source": [
    "wait=0\n",
    "combat = 0\n",
    "grid_df =None\n",
    "watch_ad = False\n",
    "train_ai = False\n",
    "# Main loop\n",
    "while(1):\n",
    "    output = bot.battle_screen(start=False)\n",
    "    if output[1]=='fighting':\n",
    "        watch_ad = True \n",
    "        wait = 0\n",
    "        combat+=1\n",
    "        if combat>50:\n",
    "            bot.restart_RR()\n",
    "            combat = 0\n",
    "            continue\n",
    "        battle_bar=trange(8)\n",
    "        for i in battle_bar:\n",
    "                time.sleep(0.2)\n",
    "                # Upgrade units\n",
    "                bot.mana_level([2,3,5],hero_power=True)\n",
    "                # Spawn units\n",
    "                bot.click(450,1360)\n",
    "                # Try to merge units\n",
    "                grid_df,unit_series,merge_series,df_groups,info = bot.try_merge(prev_grid=grid_df,merge_target='demon_hunter.png')\n",
    "                clear_output()\n",
    "                display([f'{combat}, {i+1}/8 {output[1]}, {info}', 'Average age: '+ str(grid_df['Age'].mean().round(2)),grid_df,unit_series,df_groups])\n",
    "        # Wait until late stage in combat and if consistency is ok, not stagnate save all units for ML model\n",
    "        if combat==25 and 5<grid_df['Age'].mean()<50 and train_ai:\n",
    "            bot_perception.add_grid_to_dataset()\n",
    "    elif output[1]=='home' and watch_ad:\n",
    "        for i in range(3):\n",
    "            bot.watch_ads()\n",
    "        watch_ad = False\n",
    "    else:\n",
    "        combat=0\n",
    "        output = bot.battle_screen(start=True,pve=True,floor=7)\n",
    "        wait+=1\n",
    "        if wait>40:\n",
    "            print('RESTARTING')\n",
    "            bot.restart_RR(),\n",
    "            \n",
    "            wait=0\n",
    "        print(output[1],'wait count:',wait)"
   ]
  },
  {
   "cell_type": "markdown",
   "metadata": {},
   "source": [
    "## Quick restart"
   ]
  },
  {
   "cell_type": "code",
   "execution_count": 17,
   "metadata": {},
   "outputs": [],
   "source": [
    "# Drop co-op game\n",
    "bot.restart_RR(quick_disconnect=True)"
   ]
  },
  {
   "cell_type": "code",
   "execution_count": 2,
   "metadata": {},
   "outputs": [],
   "source": [
    "# Restart game\n",
    "bot.restart_RR()"
   ]
  }
 ],
 "metadata": {
  "interpreter": {
   "hash": "222f52f3d4ea82340b8e438915cd2cce29310e9a34a09f1d931c12bfa7062449"
  },
  "kernelspec": {
   "display_name": "Python 3.9.12 ('Rush-Royale-Bot')",
   "language": "python",
   "name": "python3"
  },
  "language_info": {
   "codemirror_mode": {
    "name": "ipython",
    "version": 3
   },
   "file_extension": ".py",
   "mimetype": "text/x-python",
   "name": "python",
   "nbconvert_exporter": "python",
   "pygments_lexer": "ipython3",
   "version": "3.9.12"
  },
  "orig_nbformat": 4
 },
 "nbformat": 4,
 "nbformat_minor": 2
}
