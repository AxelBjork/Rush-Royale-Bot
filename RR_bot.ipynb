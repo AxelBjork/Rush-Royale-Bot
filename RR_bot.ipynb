{
 "cells": [
  {
   "cell_type": "markdown",
   "metadata": {},
   "source": [
    "##SETUP"
   ]
  },
  {
   "cell_type": "code",
   "execution_count": 37,
   "metadata": {},
   "outputs": [],
   "source": [
    "import os\n",
    "import time\n",
    "import timeit\n",
    "import pandas as pd\n",
    "import random\n",
    "import numpy as np\n",
    "# Android ADB\n",
    "from scrcpy import Client, const\n",
    "from subprocess import check_output,Popen\n",
    "import threading\n",
    "\n",
    "# Image processing\n",
    "from PIL import Image\n",
    "import cv2\n",
    "import pytesseract\n",
    "# Notebook\n",
    "from IPython.display import display,clear_output\n",
    "from tqdm.notebook import trange, tqdm\n",
    "\n",
    "import sys\n",
    "# Start Scrcpy once per restart\n",
    "if 'importlib' not in sys.modules:  \n",
    "    start_scrcpy=True\n",
    "    if start_scrcpy:\n",
    "        proc = Popen(['C:\\Programs\\Scrcpy\\scrcpy'], shell=True)\n",
    "        time.sleep(6) # <-- sleep for 6''\n",
    "        proc.terminate() # <-- terminate the process\n",
    "# internal\n",
    "import bot_core\n",
    "import bot_perception\n",
    "\n",
    "import importlib\n",
    "importlib.reload(bot_core)\n",
    "importlib.reload(bot_perception)\n",
    "\n",
    "\n",
    "SLEEP_DELAY=0.1\n",
    "\n",
    "\n",
    "bot = bot_core.Bot()"
   ]
  },
  {
   "cell_type": "code",
   "execution_count": 20,
   "metadata": {},
   "outputs": [
    {
     "name": "stdout",
     "output_type": "stream",
     "text": [
      "AD TIME 0 lost\n",
      "AD TIME 1 lost\n",
      "AD TIME 2 lost\n",
      "AD TIME 3 lost\n",
      "AD TIME 4 lost\n",
      "AD TIME 5 lost\n",
      "AD TIME 6 lost\n",
      "AD TIME 7 lost\n",
      "AD TIME 8 lost\n",
      "AD TIME 9 lost\n",
      "AD TIME 10 lost\n",
      "AD TIME 11 lost\n",
      "AD TIME 12 lost\n",
      "AD TIME 13 lost\n",
      "AD TIME 14 lost\n",
      "AD TIME 15 lost\n",
      "FINISHED AD\n"
     ]
    }
   ],
   "source": [
    "def refresh_shop(self):\n",
    "    self.click_button((100,1500)) # Click store button\n",
    "    [self.swipe([0,0],[2,0]) for i in range(20)] # swipe to top\n",
    "    self.swipe([2,0],[0,0]) # Swipe down once\n",
    "    time.sleep(1)\n",
    "    self.click(30,150) # stop scroll\n",
    "    avail_buttons = self.get_current_icons(available=True)\n",
    "    if (avail_buttons == 'refresh_button.png').any(axis=None):\n",
    "        pos = bot_core.get_button_pos(avail_buttons,'refresh_button.png')\n",
    "        # Buy first and last item (possible legendary) before refresh\n",
    "        self.click_button(pos-[300,820]) # Click first (free) item\n",
    "        self.click(400,1150) # buy\n",
    "        self.click(30,150) # remove pop-up\n",
    "        self.click_button(pos+[400,-400]) # Click first (free) item\n",
    "        self.click(400,1150) # buy\n",
    "        print('Bought!')\n",
    "        self.click_button(pos)\n",
    "        print('refreshed!')\n",
    "    return avail_buttons\n",
    "\n",
    "def watch_ads(self):\n",
    "    avail_buttons = self.get_current_icons(available=True)\n",
    "    # Watch ad if available\n",
    "    if (avail_buttons == 'quest_done.png').any(axis=None):\n",
    "        pos = bot_core.get_button_pos(avail_buttons,'quest_done.png')\n",
    "        self.click_button(pos)\n",
    "        self.click(700,600) # collect second completed quest\n",
    "        self.click(700,400) # collect second completed quest\n",
    "        [self.click(150,250) for i in range(2)] # click dailies twice\n",
    "        self.click(420,420) # collect ad chest\n",
    "    elif (avail_buttons == 'ad_season.png').any(axis=None):\n",
    "        pos = bot_core.get_button_pos(avail_buttons,'ad_season.png')\n",
    "        self.click_button(pos)\n",
    "    elif (avail_buttons == 'ad_pve.png').any(axis=None):\n",
    "        pos = bot_core.get_button_pos(avail_buttons,'ad_pve.png')\n",
    "        self.click_button(pos)\n",
    "    elif (avail_buttons == 'store_refresh.png').any(axis=None):\n",
    "        refresh_shop(self)\n",
    "    elif (avail_buttons == 'refresh_button.png').any(axis=None):\n",
    "        refresh_shop(self,buy=True)\n",
    "    else:\n",
    "        print('Watched all ads!')\n",
    "        return\n",
    "    # Keep watching until back in menu\n",
    "    for i in range(40):\n",
    "        avail_buttons,status = self.battle_screen()\n",
    "        if status =='menu':\n",
    "            print('FINISHED AD')\n",
    "            return\n",
    "        self.click(870,30) # skip forward/click X\n",
    "        self.click(870,100) # click X playstore popup\n",
    "        print('AD TIME',i,status)\n",
    "    # Restart game if can't escape ad\n",
    "    self.restart_RR()\n",
    "watch_ads(bot)"
   ]
  },
  {
   "cell_type": "markdown",
   "metadata": {},
   "source": [
    "## RUN BOT"
   ]
  },
  {
   "cell_type": "code",
   "execution_count": 38,
   "metadata": {},
   "outputs": [
    {
     "data": {
      "text/plain": [
       "['9, 4/8 fighting, Merging High Priority!',\n",
       " 'Average age: 13.0',\n",
       "     grid_id         unit  probability  rank  rank_error position   Age\n",
       " 0    icon_0  chemist.png        201.0     2       350.0   [0, 0]  22.0\n",
       " 1    icon_1   hunter.png        282.0     4       255.0   [0, 1]   0.0\n",
       " 2    icon_2   zealot.png        450.0     5       374.5   [0, 2]   0.0\n",
       " 3    icon_3  crystal.png        316.0     3       106.5   [0, 3]   1.0\n",
       " 4    icon_4  crystal.png        240.0     4       265.0   [0, 4]  22.0\n",
       " 5    icon_5  crystal.png        302.0     2       430.0   [1, 0]   6.0\n",
       " 6    icon_6   zealot.png        624.0     3       106.5   [1, 1]   1.0\n",
       " 7    icon_7    empty.png        999.0     0         0.0   [1, 2]  46.0\n",
       " 8    icon_8   monkey.png        261.0     4       257.0   [1, 3]  67.0\n",
       " 9    icon_9    empty.png        999.0     0         0.0   [1, 4]   9.0\n",
       " 10  icon_10   hunter.png        513.0     3       166.5   [2, 0]   7.0\n",
       " 11  icon_11  crystal.png        375.0     1     12322.0   [2, 1]   2.0\n",
       " 12  icon_12    empty.png        999.0     0         0.0   [2, 2]   2.0\n",
       " 13  icon_13  crystal.png        299.0     5       507.5   [2, 3]   3.0\n",
       " 14  icon_14   monkey.png        219.0     1      5608.0   [2, 4]   7.0,\n",
       " unit         rank\n",
       " empty.png    0       3\n",
       " chemist.png  2       0\n",
       " crystal.png  1       1\n",
       "              2       1\n",
       "              3       1\n",
       " Name: unit, dtype: int64,\n",
       "   grid_id       unit  probability  rank  rank_error position   Age\n",
       " 7  icon_7  empty.png        999.0     0         0.0   [1, 2]  46.0\n",
       " 9  icon_9  empty.png        999.0     0         0.0   [1, 4]   9.0]"
      ]
     },
     "metadata": {},
     "output_type": "display_data"
    },
    {
     "ename": "KeyboardInterrupt",
     "evalue": "",
     "output_type": "error",
     "traceback": [
      "\u001b[1;31m---------------------------------------------------------------------------\u001b[0m",
      "\u001b[1;31mKeyboardInterrupt\u001b[0m                         Traceback (most recent call last)",
      "\u001b[1;32mc:\\Code\\Rush-Royale-Bot\\RR_bot.ipynb Cell 5'\u001b[0m in \u001b[0;36m<cell line: 7>\u001b[1;34m()\u001b[0m\n\u001b[0;32m     <a href='vscode-notebook-cell:/c%3A/Code/Rush-Royale-Bot/RR_bot.ipynb#ch0000004?line=21'>22</a>\u001b[0m bot\u001b[39m.\u001b[39mmana_level([\u001b[39m3\u001b[39m,\u001b[39m1\u001b[39m,\u001b[39m5\u001b[39m,\u001b[39m4\u001b[39m],hero_power\u001b[39m=\u001b[39m\u001b[39mTrue\u001b[39;00m)\n\u001b[0;32m     <a href='vscode-notebook-cell:/c%3A/Code/Rush-Royale-Bot/RR_bot.ipynb#ch0000004?line=22'>23</a>\u001b[0m \u001b[39m# Try to merge units\u001b[39;00m\n\u001b[1;32m---> <a href='vscode-notebook-cell:/c%3A/Code/Rush-Royale-Bot/RR_bot.ipynb#ch0000004?line=23'>24</a>\u001b[0m grid_df,unit_series,df_groups,info \u001b[39m=\u001b[39m bot\u001b[39m.\u001b[39;49mtry_merge(prev_grid\u001b[39m=\u001b[39;49mgrid_df)\n\u001b[0;32m     <a href='vscode-notebook-cell:/c%3A/Code/Rush-Royale-Bot/RR_bot.ipynb#ch0000004?line=24'>25</a>\u001b[0m clear_output()\n\u001b[0;32m     <a href='vscode-notebook-cell:/c%3A/Code/Rush-Royale-Bot/RR_bot.ipynb#ch0000004?line=25'>26</a>\u001b[0m display([\u001b[39mf\u001b[39m\u001b[39m'\u001b[39m\u001b[39m{\u001b[39;00mcombat\u001b[39m}\u001b[39;00m\u001b[39m, \u001b[39m\u001b[39m{\u001b[39;00mi\u001b[39m+\u001b[39m\u001b[39m1\u001b[39m\u001b[39m}\u001b[39;00m\u001b[39m/8 \u001b[39m\u001b[39m{\u001b[39;00moutput[\u001b[39m1\u001b[39m]\u001b[39m}\u001b[39;00m\u001b[39m, \u001b[39m\u001b[39m{\u001b[39;00minfo\u001b[39m}\u001b[39;00m\u001b[39m'\u001b[39m, \u001b[39m'\u001b[39m\u001b[39mAverage age: \u001b[39m\u001b[39m'\u001b[39m\u001b[39m+\u001b[39m \u001b[39mstr\u001b[39m(grid_df[\u001b[39m'\u001b[39m\u001b[39mAge\u001b[39m\u001b[39m'\u001b[39m]\u001b[39m.\u001b[39mmean()\u001b[39m.\u001b[39mround(\u001b[39m2\u001b[39m)),grid_df,unit_series[\u001b[39m0\u001b[39m:\u001b[39m5\u001b[39m],df_groups])\n",
      "File \u001b[1;32mc:\\Code\\Rush-Royale-Bot\\bot_core.py:181\u001b[0m, in \u001b[0;36mBot.try_merge\u001b[1;34m(self, rank, prev_grid)\u001b[0m\n\u001b[0;32m    <a href='file:///c%3A/Code/Rush-Royale-Bot/bot_core.py?line=178'>179</a>\u001b[0m info\u001b[39m=\u001b[39m\u001b[39m'\u001b[39m\u001b[39m'\u001b[39m\n\u001b[0;32m    <a href='file:///c%3A/Code/Rush-Royale-Bot/bot_core.py?line=179'>180</a>\u001b[0m merge_df \u001b[39m=\u001b[39m\u001b[39mNone\u001b[39;00m\n\u001b[1;32m--> <a href='file:///c%3A/Code/Rush-Royale-Bot/bot_core.py?line=180'>181</a>\u001b[0m names\u001b[39m=\u001b[39m\u001b[39mself\u001b[39;49m\u001b[39m.\u001b[39;49mscan_grid(new\u001b[39m=\u001b[39;49m\u001b[39mTrue\u001b[39;49;00m)\n\u001b[0;32m    <a href='file:///c%3A/Code/Rush-Royale-Bot/bot_core.py?line=181'>182</a>\u001b[0m grid_df\u001b[39m=\u001b[39mbot_perception\u001b[39m.\u001b[39mgrid_status(names,prev_grid\u001b[39m=\u001b[39mprev_grid)\n\u001b[0;32m    <a href='file:///c%3A/Code/Rush-Royale-Bot/bot_core.py?line=182'>183</a>\u001b[0m df_split,unit_series, df_groups, group_keys\u001b[39m=\u001b[39mgrid_meta_info(grid_df)\n",
      "File \u001b[1;32mc:\\Code\\Rush-Royale-Bot\\bot_core.py:150\u001b[0m, in \u001b[0;36mBot.scan_grid\u001b[1;34m(self, new)\u001b[0m\n\u001b[0;32m    <a href='file:///c%3A/Code/Rush-Royale-Bot/bot_core.py?line=147'>148</a>\u001b[0m boxes,box_size \u001b[39m=\u001b[39m get_grid()\n\u001b[0;32m    <a href='file:///c%3A/Code/Rush-Royale-Bot/bot_core.py?line=148'>149</a>\u001b[0m \u001b[39m# should be enabled by default\u001b[39;00m\n\u001b[1;32m--> <a href='file:///c%3A/Code/Rush-Royale-Bot/bot_core.py?line=149'>150</a>\u001b[0m \u001b[39mif\u001b[39;00m new: \u001b[39mself\u001b[39;49m\u001b[39m.\u001b[39;49mgetScreen()\n\u001b[0;32m    <a href='file:///c%3A/Code/Rush-Royale-Bot/bot_core.py?line=150'>151</a>\u001b[0m box_list \u001b[39m=\u001b[39m boxes\u001b[39m.\u001b[39mreshape(\u001b[39m15\u001b[39m,\u001b[39m2\u001b[39m)\n\u001b[0;32m    <a href='file:///c%3A/Code/Rush-Royale-Bot/bot_core.py?line=151'>152</a>\u001b[0m names\u001b[39m=\u001b[39m[]\n",
      "File \u001b[1;32mc:\\Code\\Rush-Royale-Bot\\bot_core.py:76\u001b[0m, in \u001b[0;36mBot.getScreen\u001b[1;34m(self)\u001b[0m\n\u001b[0;32m     <a href='file:///c%3A/Code/Rush-Royale-Bot/bot_core.py?line=74'>75</a>\u001b[0m \u001b[39mdef\u001b[39;00m \u001b[39mgetScreen\u001b[39m(\u001b[39mself\u001b[39m):\n\u001b[1;32m---> <a href='file:///c%3A/Code/Rush-Royale-Bot/bot_core.py?line=75'>76</a>\u001b[0m     \u001b[39mself\u001b[39;49m\u001b[39m.\u001b[39;49mshell(\u001b[39mf\u001b[39;49m\u001b[39m'\u001b[39;49m\u001b[39m/system/bin/screencap -p /sdcard/\u001b[39;49m\u001b[39m{\u001b[39;49;00m\u001b[39mself\u001b[39;49m\u001b[39m.\u001b[39;49mscreenshotName\u001b[39m}\u001b[39;49;00m\u001b[39m'\u001b[39;49m)\n\u001b[0;32m     <a href='file:///c%3A/Code/Rush-Royale-Bot/bot_core.py?line=76'>77</a>\u001b[0m     \u001b[39m# Using the adb command to upload the screenshot of the mobile phone to the current directory\u001b[39;00m\n\u001b[0;32m     <a href='file:///c%3A/Code/Rush-Royale-Bot/bot_core.py?line=77'>78</a>\u001b[0m     os\u001b[39m.\u001b[39msystem(\u001b[39mf\u001b[39m\u001b[39m'\u001b[39m\u001b[39m\"\u001b[39m\u001b[39mC:/Programs/Scrcpy/adb\u001b[39m\u001b[39m\"\u001b[39m\u001b[39m -s \u001b[39m\u001b[39m{\u001b[39;00m\u001b[39mself\u001b[39m\u001b[39m.\u001b[39mdevice\u001b[39m}\u001b[39;00m\u001b[39m pull /sdcard/\u001b[39m\u001b[39m{\u001b[39;00m\u001b[39mself\u001b[39m\u001b[39m.\u001b[39mscreenshotName\u001b[39m}\u001b[39;00m\u001b[39m'\u001b[39m)\n",
      "File \u001b[1;32mc:\\Code\\Rush-Royale-Bot\\bot_core.py:39\u001b[0m, in \u001b[0;36mBot.shell\u001b[1;34m(self, cmd)\u001b[0m\n\u001b[0;32m     <a href='file:///c%3A/Code/Rush-Royale-Bot/bot_core.py?line=37'>38</a>\u001b[0m \u001b[39mdef\u001b[39;00m \u001b[39mshell\u001b[39m(\u001b[39mself\u001b[39m, cmd):\n\u001b[1;32m---> <a href='file:///c%3A/Code/Rush-Royale-Bot/bot_core.py?line=38'>39</a>\u001b[0m     os\u001b[39m.\u001b[39;49msystem(\u001b[39mf\u001b[39;49m\u001b[39m'\u001b[39;49m\u001b[39m\"\u001b[39;49m\u001b[39mC:/Programs/Scrcpy/adb\u001b[39;49m\u001b[39m\"\u001b[39;49m\u001b[39m -s \u001b[39;49m\u001b[39m{\u001b[39;49;00m\u001b[39mself\u001b[39;49m\u001b[39m.\u001b[39;49mdevice\u001b[39m}\u001b[39;49;00m\u001b[39m shell \u001b[39;49m\u001b[39m{\u001b[39;49;00mcmd\u001b[39m}\u001b[39;49;00m\u001b[39m'\u001b[39;49m)\n",
      "\u001b[1;31mKeyboardInterrupt\u001b[0m: "
     ]
    }
   ],
   "source": [
    "wait=0\n",
    "combat = 0\n",
    "grid_df =None\n",
    "watch_ad = True\n",
    "# Main loop\n",
    "while(1):\n",
    "    output = bot.battle_screen(True,True,floor=5)\n",
    "    if output[1]=='fighting':\n",
    "        watch_ad = True \n",
    "        wait = 0\n",
    "        combat+=1\n",
    "        if combat>50:\n",
    "            bot.restart_RR()\n",
    "            combat = 0\n",
    "            continue\n",
    "        battle_bar=trange(8)\n",
    "        for i in battle_bar:\n",
    "                time.sleep(0.2)\n",
    "                # Spawn units\n",
    "                bot.click(450,1360)\n",
    "                # Upgrade units\n",
    "                bot.mana_level([3,1,5,4],hero_power=True)\n",
    "                # Try to merge units\n",
    "                grid_df,unit_series,df_groups,info = bot.try_merge(prev_grid=grid_df)\n",
    "                clear_output()\n",
    "                display([f'{combat}, {i+1}/8 {output[1]}, {info}', 'Average age: '+ str(grid_df['Age'].mean().round(2)),grid_df,unit_series[0:5],df_groups])\n",
    "    else:\n",
    "        combat=0\n",
    "        wait+=1\n",
    "        if wait>40:\n",
    "            print('RESTARTING')\n",
    "            bot.restart_RR()\n",
    "            watch_ad = False\n",
    "            wait=0\n",
    "        print(output[1],'wait count:',wait)"
   ]
  },
  {
   "cell_type": "markdown",
   "metadata": {},
   "source": [
    "# Play Game"
   ]
  },
  {
   "cell_type": "code",
   "execution_count": 2,
   "metadata": {},
   "outputs": [],
   "source": [
    "# Restart game\n",
    "bot.restart_RR()"
   ]
  },
  {
   "cell_type": "markdown",
   "metadata": {},
   "source": [
    "## Quick restart"
   ]
  },
  {
   "cell_type": "code",
   "execution_count": 35,
   "metadata": {},
   "outputs": [
    {
     "ename": "KeyboardInterrupt",
     "evalue": "",
     "output_type": "error",
     "traceback": [
      "\u001b[1;31m---------------------------------------------------------------------------\u001b[0m",
      "\u001b[1;31mKeyboardInterrupt\u001b[0m                         Traceback (most recent call last)",
      "\u001b[1;32mc:\\Code\\Rush-Royale-Bot\\RR_bot.ipynb Cell 8'\u001b[0m in \u001b[0;36m<cell line: 2>\u001b[1;34m()\u001b[0m\n\u001b[0;32m      <a href='vscode-notebook-cell:/c%3A/Code/Rush-Royale-Bot/RR_bot.ipynb#ch0000025?line=0'>1</a>\u001b[0m \u001b[39m# Drop co-op game\u001b[39;00m\n\u001b[0;32m      <a href='vscode-notebook-cell:/c%3A/Code/Rush-Royale-Bot/RR_bot.ipynb#ch0000025?line=1'>2</a>\u001b[0m \u001b[39mfor\u001b[39;00m i \u001b[39min\u001b[39;00m \u001b[39mrange\u001b[39m(\u001b[39m30\u001b[39m):\n\u001b[1;32m----> <a href='vscode-notebook-cell:/c%3A/Code/Rush-Royale-Bot/RR_bot.ipynb#ch0000025?line=2'>3</a>\u001b[0m     bot\u001b[39m.\u001b[39;49mrestart_RR(\u001b[39mTrue\u001b[39;49;00m)\n",
      "File \u001b[1;32mc:\\Code\\Rush-Royale-Bot\\bot_core.py:66\u001b[0m, in \u001b[0;36mBot.restart_RR\u001b[1;34m(self, quick_disconnect)\u001b[0m\n\u001b[0;32m     <a href='file:///c%3A/Code/Rush-Royale-Bot/bot_core.py?line=63'>64</a>\u001b[0m \u001b[39mif\u001b[39;00m quick_disconnect:\n\u001b[0;32m     <a href='file:///c%3A/Code/Rush-Royale-Bot/bot_core.py?line=64'>65</a>\u001b[0m     \u001b[39mfor\u001b[39;00m i \u001b[39min\u001b[39;00m \u001b[39mrange\u001b[39m(\u001b[39m40\u001b[39m):\n\u001b[1;32m---> <a href='file:///c%3A/Code/Rush-Royale-Bot/bot_core.py?line=65'>66</a>\u001b[0m         \u001b[39mself\u001b[39;49m\u001b[39m.\u001b[39;49mshell(\u001b[39mf\u001b[39;49m\u001b[39m'\u001b[39;49m\u001b[39minput keyevent \u001b[39;49m\u001b[39m{\u001b[39;49;00mconst\u001b[39m.\u001b[39;49mKEYCODE_APP_SWITCH\u001b[39m}\u001b[39;49;00m\u001b[39m'\u001b[39;49m) \u001b[39m#Go app switch\u001b[39;00m\n\u001b[0;32m     <a href='file:///c%3A/Code/Rush-Royale-Bot/bot_core.py?line=66'>67</a>\u001b[0m         \u001b[39mreturn\u001b[39;00m\n\u001b[0;32m     <a href='file:///c%3A/Code/Rush-Royale-Bot/bot_core.py?line=67'>68</a>\u001b[0m \u001b[39m# Force kill game through ADB shell\u001b[39;00m\n",
      "File \u001b[1;32mc:\\Code\\Rush-Royale-Bot\\bot_core.py:39\u001b[0m, in \u001b[0;36mBot.shell\u001b[1;34m(self, cmd)\u001b[0m\n\u001b[0;32m     <a href='file:///c%3A/Code/Rush-Royale-Bot/bot_core.py?line=37'>38</a>\u001b[0m \u001b[39mdef\u001b[39;00m \u001b[39mshell\u001b[39m(\u001b[39mself\u001b[39m, cmd):\n\u001b[1;32m---> <a href='file:///c%3A/Code/Rush-Royale-Bot/bot_core.py?line=38'>39</a>\u001b[0m     os\u001b[39m.\u001b[39;49msystem(\u001b[39mf\u001b[39;49m\u001b[39m'\u001b[39;49m\u001b[39m\"\u001b[39;49m\u001b[39mC:/Programs/Scrcpy/adb\u001b[39;49m\u001b[39m\"\u001b[39;49m\u001b[39m -s \u001b[39;49m\u001b[39m{\u001b[39;49;00m\u001b[39mself\u001b[39;49m\u001b[39m.\u001b[39;49mdevice\u001b[39m}\u001b[39;49;00m\u001b[39m shell \u001b[39;49m\u001b[39m{\u001b[39;49;00mcmd\u001b[39m}\u001b[39;49;00m\u001b[39m'\u001b[39;49m)\n",
      "\u001b[1;31mKeyboardInterrupt\u001b[0m: "
     ]
    }
   ],
   "source": [
    "# Drop co-op game\n",
    "for i in range(30):\n",
    "    bot.restart_RR(True)"
   ]
  }
 ],
 "metadata": {
  "interpreter": {
   "hash": "222f52f3d4ea82340b8e438915cd2cce29310e9a34a09f1d931c12bfa7062449"
  },
  "kernelspec": {
   "display_name": "Python 3.9.12 ('Rush-Royale-Bot')",
   "language": "python",
   "name": "python3"
  },
  "language_info": {
   "codemirror_mode": {
    "name": "ipython",
    "version": 3
   },
   "file_extension": ".py",
   "mimetype": "text/x-python",
   "name": "python",
   "nbconvert_exporter": "python",
   "pygments_lexer": "ipython3",
   "version": "3.9.12"
  },
  "orig_nbformat": 4
 },
 "nbformat": 4,
 "nbformat_minor": 2
}
