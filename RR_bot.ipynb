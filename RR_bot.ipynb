{
 "cells": [
  {
   "cell_type": "markdown",
   "metadata": {},
   "source": [
    "##SETUP"
   ]
  },
  {
   "cell_type": "code",
   "execution_count": 4,
   "metadata": {},
   "outputs": [],
   "source": [
    "import os\n",
    "import time\n",
    "import timeit\n",
    "import pandas as pd\n",
    "import random\n",
    "import numpy as np\n",
    "# Android ADB\n",
    "from scrcpy import Client, const\n",
    "from subprocess import check_output,Popen\n",
    "import threading\n",
    "\n",
    "# Image processing\n",
    "from PIL import Image\n",
    "import cv2\n",
    "import pytesseract\n",
    "# Notebook\n",
    "from IPython.display import display,clear_output\n",
    "from tqdm.notebook import trange, tqdm\n",
    "\n",
    "import sys\n",
    "# Start Scrcpy once per restart\n",
    "if 'importlib' not in sys.modules:  \n",
    "    start_scrcpy=True\n",
    "    if start_scrcpy:\n",
    "        proc = Popen(['C:\\Programs\\Scrcpy\\scrcpy'], shell=True)\n",
    "        time.sleep(6) # <-- sleep for 6''\n",
    "        proc.terminate() # <-- terminate the process\n",
    "# internal\n",
    "import bot_core\n",
    "import bot_perception\n",
    "\n",
    "import importlib\n",
    "importlib.reload(bot_core)\n",
    "importlib.reload(bot_perception)\n",
    "\n",
    "\n",
    "SLEEP_DELAY=0.1\n",
    "\n",
    "\n",
    "bot = bot_core.Bot()"
   ]
  },
  {
   "cell_type": "code",
   "execution_count": 19,
   "metadata": {},
   "outputs": [
    {
     "data": {
      "text/plain": [
       "b'\\x01\\x00\\x00\\x00\\x04test'"
      ]
     },
     "execution_count": 19,
     "metadata": {},
     "output_type": "execute_result"
    }
   ],
   "source": [
    "bot.client.control.text(\"test\")\n"
   ]
  },
  {
   "cell_type": "markdown",
   "metadata": {},
   "source": [
    "## Game stats"
   ]
  },
  {
   "cell_type": "code",
   "execution_count": 159,
   "metadata": {},
   "outputs": [
    {
     "data": {
      "text/plain": [
       "'70'"
      ]
     },
     "execution_count": 159,
     "metadata": {},
     "output_type": "execute_result"
    }
   ],
   "source": [
    "# get stored mana \n",
    "#bot.getText(220,1360,90,50,new=False,digits=True)\n",
    "\n",
    "# get unit mana \n",
    "bot.getText(450,1360,90,50,new=False,digits=True)\n",
    "\n",
    "# Get upgrade mana\n",
    "#bot.getText(20,1540,700,50,new=False,digits=True).split('6')\n"
   ]
  },
  {
   "cell_type": "code",
   "execution_count": 3,
   "metadata": {},
   "outputs": [
    {
     "data": {
      "text/html": [
       "<div>\n",
       "<style scoped>\n",
       "    .dataframe tbody tr th:only-of-type {\n",
       "        vertical-align: middle;\n",
       "    }\n",
       "\n",
       "    .dataframe tbody tr th {\n",
       "        vertical-align: top;\n",
       "    }\n",
       "\n",
       "    .dataframe thead th {\n",
       "        text-align: right;\n",
       "    }\n",
       "</style>\n",
       "<table border=\"1\" class=\"dataframe\">\n",
       "  <thead>\n",
       "    <tr style=\"text-align: right;\">\n",
       "      <th></th>\n",
       "      <th>grid_id</th>\n",
       "      <th>unit</th>\n",
       "      <th>probability</th>\n",
       "      <th>rank</th>\n",
       "      <th>rank_error</th>\n",
       "      <th>position</th>\n",
       "      <th>Age</th>\n",
       "    </tr>\n",
       "  </thead>\n",
       "  <tbody>\n",
       "    <tr>\n",
       "      <th>0</th>\n",
       "      <td>icon_0</td>\n",
       "      <td>empty.png</td>\n",
       "      <td>999.0</td>\n",
       "      <td>0</td>\n",
       "      <td>0.0</td>\n",
       "      <td>[0, 0]</td>\n",
       "      <td>1.0</td>\n",
       "    </tr>\n",
       "    <tr>\n",
       "      <th>1</th>\n",
       "      <td>icon_1</td>\n",
       "      <td>alchemist.png</td>\n",
       "      <td>700.0</td>\n",
       "      <td>1</td>\n",
       "      <td>16184.5</td>\n",
       "      <td>[0, 1]</td>\n",
       "      <td>1.0</td>\n",
       "    </tr>\n",
       "    <tr>\n",
       "      <th>2</th>\n",
       "      <td>icon_2</td>\n",
       "      <td>sharpshooter.png</td>\n",
       "      <td>335.0</td>\n",
       "      <td>2</td>\n",
       "      <td>940.0</td>\n",
       "      <td>[0, 2]</td>\n",
       "      <td>1.0</td>\n",
       "    </tr>\n",
       "    <tr>\n",
       "      <th>3</th>\n",
       "      <td>icon_3</td>\n",
       "      <td>alchemist.png</td>\n",
       "      <td>228.0</td>\n",
       "      <td>1</td>\n",
       "      <td>1577.5</td>\n",
       "      <td>[0, 3]</td>\n",
       "      <td>1.0</td>\n",
       "    </tr>\n",
       "    <tr>\n",
       "      <th>4</th>\n",
       "      <td>icon_4</td>\n",
       "      <td>vampire.png</td>\n",
       "      <td>187.0</td>\n",
       "      <td>1</td>\n",
       "      <td>1459.5</td>\n",
       "      <td>[0, 4]</td>\n",
       "      <td>1.0</td>\n",
       "    </tr>\n",
       "    <tr>\n",
       "      <th>5</th>\n",
       "      <td>icon_5</td>\n",
       "      <td>empty.png</td>\n",
       "      <td>999.0</td>\n",
       "      <td>0</td>\n",
       "      <td>0.0</td>\n",
       "      <td>[1, 0]</td>\n",
       "      <td>1.0</td>\n",
       "    </tr>\n",
       "    <tr>\n",
       "      <th>6</th>\n",
       "      <td>icon_6</td>\n",
       "      <td>empty.png</td>\n",
       "      <td>999.0</td>\n",
       "      <td>0</td>\n",
       "      <td>0.0</td>\n",
       "      <td>[1, 1]</td>\n",
       "      <td>1.0</td>\n",
       "    </tr>\n",
       "    <tr>\n",
       "      <th>7</th>\n",
       "      <td>icon_7</td>\n",
       "      <td>vampire.png</td>\n",
       "      <td>179.0</td>\n",
       "      <td>1</td>\n",
       "      <td>4235.5</td>\n",
       "      <td>[1, 2]</td>\n",
       "      <td>1.0</td>\n",
       "    </tr>\n",
       "    <tr>\n",
       "      <th>8</th>\n",
       "      <td>icon_8</td>\n",
       "      <td>lightning.png</td>\n",
       "      <td>190.0</td>\n",
       "      <td>1</td>\n",
       "      <td>2373.0</td>\n",
       "      <td>[1, 3]</td>\n",
       "      <td>1.0</td>\n",
       "    </tr>\n",
       "    <tr>\n",
       "      <th>9</th>\n",
       "      <td>icon_9</td>\n",
       "      <td>lightning.png</td>\n",
       "      <td>178.0</td>\n",
       "      <td>1</td>\n",
       "      <td>1476.5</td>\n",
       "      <td>[1, 4]</td>\n",
       "      <td>1.0</td>\n",
       "    </tr>\n",
       "    <tr>\n",
       "      <th>10</th>\n",
       "      <td>icon_10</td>\n",
       "      <td>empty.png</td>\n",
       "      <td>999.0</td>\n",
       "      <td>0</td>\n",
       "      <td>0.0</td>\n",
       "      <td>[2, 0]</td>\n",
       "      <td>1.0</td>\n",
       "    </tr>\n",
       "    <tr>\n",
       "      <th>11</th>\n",
       "      <td>icon_11</td>\n",
       "      <td>cold_mage.png</td>\n",
       "      <td>376.0</td>\n",
       "      <td>2</td>\n",
       "      <td>515.0</td>\n",
       "      <td>[2, 1]</td>\n",
       "      <td>1.0</td>\n",
       "    </tr>\n",
       "    <tr>\n",
       "      <th>12</th>\n",
       "      <td>icon_12</td>\n",
       "      <td>alchemist.png</td>\n",
       "      <td>354.0</td>\n",
       "      <td>1</td>\n",
       "      <td>1827.0</td>\n",
       "      <td>[2, 2]</td>\n",
       "      <td>1.0</td>\n",
       "    </tr>\n",
       "    <tr>\n",
       "      <th>13</th>\n",
       "      <td>icon_13</td>\n",
       "      <td>empty.png</td>\n",
       "      <td>999.0</td>\n",
       "      <td>0</td>\n",
       "      <td>0.0</td>\n",
       "      <td>[2, 3]</td>\n",
       "      <td>1.0</td>\n",
       "    </tr>\n",
       "    <tr>\n",
       "      <th>14</th>\n",
       "      <td>icon_14</td>\n",
       "      <td>empty.png</td>\n",
       "      <td>999.0</td>\n",
       "      <td>0</td>\n",
       "      <td>0.0</td>\n",
       "      <td>[2, 4]</td>\n",
       "      <td>1.0</td>\n",
       "    </tr>\n",
       "  </tbody>\n",
       "</table>\n",
       "</div>"
      ],
      "text/plain": [
       "    grid_id              unit  probability  rank  rank_error position  Age\n",
       "0    icon_0         empty.png        999.0     0         0.0   [0, 0]  1.0\n",
       "1    icon_1     alchemist.png        700.0     1     16184.5   [0, 1]  1.0\n",
       "2    icon_2  sharpshooter.png        335.0     2       940.0   [0, 2]  1.0\n",
       "3    icon_3     alchemist.png        228.0     1      1577.5   [0, 3]  1.0\n",
       "4    icon_4       vampire.png        187.0     1      1459.5   [0, 4]  1.0\n",
       "5    icon_5         empty.png        999.0     0         0.0   [1, 0]  1.0\n",
       "6    icon_6         empty.png        999.0     0         0.0   [1, 1]  1.0\n",
       "7    icon_7       vampire.png        179.0     1      4235.5   [1, 2]  1.0\n",
       "8    icon_8     lightning.png        190.0     1      2373.0   [1, 3]  1.0\n",
       "9    icon_9     lightning.png        178.0     1      1476.5   [1, 4]  1.0\n",
       "10  icon_10         empty.png        999.0     0         0.0   [2, 0]  1.0\n",
       "11  icon_11     cold_mage.png        376.0     2       515.0   [2, 1]  1.0\n",
       "12  icon_12     alchemist.png        354.0     1      1827.0   [2, 2]  1.0\n",
       "13  icon_13         empty.png        999.0     0         0.0   [2, 3]  1.0\n",
       "14  icon_14         empty.png        999.0     0         0.0   [2, 4]  1.0"
      ]
     },
     "metadata": {},
     "output_type": "display_data"
    }
   ],
   "source": [
    "names=bot.scan_grid()\n",
    "grid_df=bot_perception.grid_status(names)\n",
    "grid_df=bot_perception.grid_status(names,grid_df)\n",
    "display(grid_df)\n",
    "prev_grid= grid_df.copy()\n",
    "#cache_grid= grid_df.copy()"
   ]
  },
  {
   "cell_type": "code",
   "execution_count": 6,
   "metadata": {},
   "outputs": [
    {
     "data": {
      "text/html": [
       "<div>\n",
       "<style scoped>\n",
       "    .dataframe tbody tr th:only-of-type {\n",
       "        vertical-align: middle;\n",
       "    }\n",
       "\n",
       "    .dataframe tbody tr th {\n",
       "        vertical-align: top;\n",
       "    }\n",
       "\n",
       "    .dataframe thead th {\n",
       "        text-align: right;\n",
       "    }\n",
       "</style>\n",
       "<table border=\"1\" class=\"dataframe\">\n",
       "  <thead>\n",
       "    <tr style=\"text-align: right;\">\n",
       "      <th></th>\n",
       "      <th>grid_id</th>\n",
       "      <th>unit</th>\n",
       "      <th>probability</th>\n",
       "      <th>rank</th>\n",
       "      <th>rank_error</th>\n",
       "      <th>position</th>\n",
       "      <th>Age</th>\n",
       "    </tr>\n",
       "  </thead>\n",
       "  <tbody>\n",
       "    <tr>\n",
       "      <th>7</th>\n",
       "      <td>icon_7</td>\n",
       "      <td>crystal.png</td>\n",
       "      <td>163.0</td>\n",
       "      <td>1</td>\n",
       "      <td>1631.0</td>\n",
       "      <td>[1, 2]</td>\n",
       "      <td>5.0</td>\n",
       "    </tr>\n",
       "    <tr>\n",
       "      <th>9</th>\n",
       "      <td>icon_9</td>\n",
       "      <td>crystal.png</td>\n",
       "      <td>216.0</td>\n",
       "      <td>1</td>\n",
       "      <td>1632.5</td>\n",
       "      <td>[1, 4]</td>\n",
       "      <td>5.0</td>\n",
       "    </tr>\n",
       "  </tbody>\n",
       "</table>\n",
       "</div>"
      ],
      "text/plain": [
       "  grid_id         unit  probability  rank  rank_error position  Age\n",
       "7  icon_7  crystal.png        163.0     1      1631.0   [1, 2]  5.0\n",
       "9  icon_9  crystal.png        216.0     1      1632.5   [1, 4]  5.0"
      ]
     },
     "execution_count": 6,
     "metadata": {},
     "output_type": "execute_result"
    }
   ],
   "source": [
    "df_split,unit_series, df_groups, group_keys=bot_core.grid_meta_info(grid_df)\n",
    "#unit_series.drop(labels='empty.png',level=0)\n",
    "merge_series = unit_series[unit_series>2]\n",
    "merge_target =  merge_series.sample().index[0]\n",
    "merge_df=df_split.get_group(merge_target)\n",
    "merge_df.sample(n=2)"
   ]
  },
  {
   "cell_type": "code",
   "execution_count": 110,
   "metadata": {},
   "outputs": [
    {
     "data": {
      "text/html": [
       "<div>\n",
       "<style scoped>\n",
       "    .dataframe tbody tr th:only-of-type {\n",
       "        vertical-align: middle;\n",
       "    }\n",
       "\n",
       "    .dataframe tbody tr th {\n",
       "        vertical-align: top;\n",
       "    }\n",
       "\n",
       "    .dataframe thead th {\n",
       "        text-align: right;\n",
       "    }\n",
       "</style>\n",
       "<table border=\"1\" class=\"dataframe\">\n",
       "  <thead>\n",
       "    <tr style=\"text-align: right;\">\n",
       "      <th></th>\n",
       "      <th>icon</th>\n",
       "      <th>available</th>\n",
       "      <th>pos [X,Y]</th>\n",
       "    </tr>\n",
       "  </thead>\n",
       "  <tbody>\n",
       "  </tbody>\n",
       "</table>\n",
       "</div>"
      ],
      "text/plain": [
       "Empty DataFrame\n",
       "Columns: [icon, available, pos [X,Y]]\n",
       "Index: []"
      ]
     },
     "execution_count": 110,
     "metadata": {},
     "output_type": "execute_result"
    }
   ],
   "source": [
    "button_df = bot.get_current_icons()\n",
    "avail_buttons=button_df[button_df['available']==True].reset_index(drop=True)\n",
    "avail_buttons"
   ]
  },
  {
   "cell_type": "code",
   "execution_count": 8,
   "metadata": {},
   "outputs": [
    {
     "data": {
      "text/plain": [
       "unit         rank\n",
       "chemist.png  1       3\n",
       "crystal.png  1       3\n",
       "empty.png    0       3\n",
       "hunter.png   1       3\n",
       "crystal.png  2       1\n",
       "hunter.png   3       1\n",
       "monkey.png   2       1\n",
       "Name: unit, dtype: int64"
      ]
     },
     "execution_count": 8,
     "metadata": {},
     "output_type": "execute_result"
    }
   ],
   "source": [
    "bot_core.adv_filter_keys(unit_series,[\n",
    "                            [3,4,5],\n",
    "                            ['crystal.png']\n",
    "                            ],remove=True)"
   ]
  },
  {
   "cell_type": "markdown",
   "metadata": {},
   "source": [
    "# Play Game"
   ]
  },
  {
   "cell_type": "code",
   "execution_count": 67,
   "metadata": {},
   "outputs": [],
   "source": [
    "bot.getScreen()"
   ]
  },
  {
   "cell_type": "code",
   "execution_count": 3,
   "metadata": {},
   "outputs": [],
   "source": [
    "bot.restart_RR()\n",
    "# Drop co-op game\n",
    "#for i in range(30):\n",
    "#    bot.restart_RR(True)"
   ]
  },
  {
   "cell_type": "markdown",
   "metadata": {},
   "source": [
    "## Extra unit logic "
   ]
  },
  {
   "cell_type": "code",
   "execution_count": 41,
   "metadata": {},
   "outputs": [],
   "source": [
    "##Extra unit logic \n",
    "# Try to merge any priestess\n",
    "#if 'priest.png' in unit_list:\n",
    "#    if df_groups['priest.png']<1:\n",
    "#        bot.merge_unit(grid_df,'priest.png')"
   ]
  },
  {
   "cell_type": "markdown",
   "metadata": {},
   "source": [
    "# Basic Loop"
   ]
  },
  {
   "cell_type": "code",
   "execution_count": 11,
   "metadata": {},
   "outputs": [
    {
     "data": {
      "text/plain": [
       "(           icon  available    pos [X,Y]\n",
       " 0  fighting.png       True  (669, 1359),\n",
       " 'fighting')"
      ]
     },
     "execution_count": 11,
     "metadata": {},
     "output_type": "execute_result"
    }
   ],
   "source": [
    "def try_merge(rank=1,prev_grid=None):\n",
    "    info=''\n",
    "    merge_df =None\n",
    "    names=bot.scan_grid(new=True)\n",
    "    grid_df=bot_perception.grid_status(names,prev_grid=prev_grid)\n",
    "    df_split,unit_series, df_groups, group_keys=bot_core.grid_meta_info(grid_df)\n",
    "    # Select stuff to merge\n",
    "    merge_series = unit_series[unit_series>=2] # At least 2 units ## ADD MIME to every count, use sample rank and check if mime exist\n",
    "    # check if grid full\n",
    "    if ('empty.png',0) in group_keys:\n",
    "        # Try to merge priest\n",
    "        merge_priest = bot_core.filter_keys(merge_series,['priest.png'])\n",
    "        if not merge_priest.empty:\n",
    "            merge_df = bot.merge_unit(df_split,merge_priest)\n",
    "        # Merge if full board\n",
    "        if df_groups['empty.png']<=2:\n",
    "            info='Merging!'\n",
    "            # Add criteria\n",
    "            merge_series = bot_core.filter_keys(merge_series,[rank,'priest.png'])\n",
    "            if not merge_series.empty:\n",
    "                # drop duplicated indices\n",
    "                merge_series = merge_series[~merge_series.index.duplicated()]\n",
    "                # Take index name of random sample\n",
    "                merge_target =  merge_series.sample().index[0] \n",
    "                # Retrieve group    \n",
    "                merge_df=df_split.get_group(merge_target)\n",
    "                #merge_df=merge_df.sort_values(by='Age',ascending=False).reset_index(drop=True)\n",
    "                # Send merge command\n",
    "                merge_df = bot.merge_unit(df_split,merge_series)\n",
    "            else:\n",
    "                info='not enough filtered targets!'\n",
    "        else: info= 'need more units!'\n",
    "    # If grid seems full, merge any\n",
    "    else:\n",
    "        info = 'Full Grid - Merging!'\n",
    "        # Remove all high level crystals\n",
    "\n",
    "        merge_df = bot.merge_unit(df_split,merge_series)\n",
    "    return grid_df,unit_series,merge_df,info\n",
    "    \n",
    "def get_button_pos(df,button):\n",
    "    #button=button+'.png'\n",
    "    pos=df[df['icon']==button]['pos [X,Y]'].reset_index(drop=True)[0]\n",
    "    return np.array(pos)\n",
    "# Mana level cards\n",
    "def mana_level(cards, hero_power=False):\n",
    "    upgrade_pos_dict={\n",
    "    1:[100,1500], 2:[200,1500],\n",
    "    3:[350,1500], 4:[500,1500],\n",
    "    5:[650,1500] }\n",
    "    # Level each card\n",
    "    for card in cards:\n",
    "        bot.click(*upgrade_pos_dict[card])\n",
    "    if hero_power:\n",
    "        bot.click(800,1500)\n",
    "# Start a dungeon floor from PvE page\n",
    "def play_dungeon(floor=5):\n",
    "    # Divide by 3 and take ceiling of floor as int\n",
    "    target_chapter = f'chapter_{int(np.ceil(floor/3))}.png'\n",
    "    expanded=0\n",
    "    avail_buttons = bot.get_current_icons(available=True)\n",
    "    # Check if on dungeon page\n",
    "    if (avail_buttons == 'dungeon_page.png').any(axis=None):\n",
    "        # Swipe to the top\n",
    "        [bot.swipe([0,0],[2,0]) for i in range(10)]\n",
    "        bot.click(30,600,5) # stop scroll and scan screen for buttons\n",
    "        # Keep swiping until floor is found\n",
    "        for i in range(10):\n",
    "            avail_buttons = bot.get_current_icons(available=True)\n",
    "            # Look for correct chapter\n",
    "            if (avail_buttons == target_chapter).any(axis=None):\n",
    "                pos = get_button_pos(avail_buttons,target_chapter)\n",
    "                if not expanded:\n",
    "                    expanded = 1\n",
    "                    bot.click_button(pos+[480,90])\n",
    "                # check button is near top of screen\n",
    "                if pos[1] < 550:\n",
    "                    # Stop scrolling\n",
    "                    break\n",
    "            # Swipe down (change to swipe up for floor 10 cleared)\n",
    "            [bot.swipe([2,0],[0,0]) for i in range(1)]\n",
    "            bot.click(30,600) # stop scroll and scan screen for buttons\n",
    "        # Maybe add check if it worked? alt just check for fight page\n",
    "        ## Click play floor\n",
    "        bot.click_button(pos+[0,85+400*(floor%3)]) #(only 1,2, 4,5, 7, 8 possible)\n",
    "        bot.click_button((130,950))        \n",
    "\n",
    "# Locate game home screen and try to start fight is chosen\n",
    "def battle_screen(start=False,pve=True,floor=5):\n",
    "    # Scan screen for any key buttons\n",
    "    button_df = bot.get_current_icons()\n",
    "    # filter relevant buttons\n",
    "    button_df = button_df[button_df['icon'].isin(['back_button.png','battle_icon.png','0cont_button.png','1quit.png', 'fighting.png','pvp_button.png'])]\n",
    "    avail_buttons=button_df[button_df['available']==True].reset_index(drop=True)\n",
    "    if not avail_buttons.empty:\n",
    "        # list of buttons\n",
    "        button_names=avail_buttons['icon'].tolist()\n",
    "        if 'fighting.png' in button_names and not '0cont_button.png' in button_names:\n",
    "            return avail_buttons,'fighting'\n",
    "        # Start pvp if homescreen\n",
    "        if start and 'pvp_button.png' in button_names and 'battle_icon.png' in button_names:\n",
    "            pvp_pos = get_button_pos(button_df,'pvp_button.png')\n",
    "            if pve:\n",
    "                # Add a 500 pixel offset for PvE button\n",
    "                bot.click_button(pvp_pos+[500,0])\n",
    "                play_dungeon(floor=floor)\n",
    "            else: bot.click_button(pvp_pos)\n",
    "            time.sleep(1)\n",
    "            return avail_buttons, 'home'\n",
    "        # Check first button is clickable\n",
    "        first_button=button_names[0].split('.')[0]\n",
    "        if first_button in ['back_button','battle_icon','0cont_button','1quit']:\n",
    "            button_pos=avail_buttons['pos [X,Y]'].tolist()[0]\n",
    "            bot.click_button(button_pos)\n",
    "            return avail_buttons,'menu'\n",
    "    else:\n",
    "        bot.shell(f'input keyevent {const.KEYCODE_BACK}') #Force back\n",
    "        return button_df,'lost'\n",
    "\n",
    "battle_screen() "
   ]
  },
  {
   "cell_type": "code",
   "execution_count": 50,
   "metadata": {},
   "outputs": [],
   "source": [
    "df_split,unit_series, df_groups, group_keys=bot_core.grid_meta_info(grid_df)\n",
    "# Select stuff to merge\n",
    "merge_series = unit_series[unit_series>=2] # At least 2 units ## ADD MIME to every count, use sample rank and check if mime exist\n",
    "# check if grid full\n",
    "if ('empty.png',0) in group_keys:\n",
    "    # Try to merge priest\n",
    "    merge_priest = bot_core.filter_keys(merge_series,['priest.png'])"
   ]
  },
  {
   "cell_type": "code",
   "execution_count": 13,
   "metadata": {},
   "outputs": [
    {
     "data": {
      "text/plain": [
       "unit           rank\n",
       "lightning.png  1       3\n",
       "alchemist.png  1       2\n",
       "empty.png      0       2\n",
       "priest.png     2       2\n",
       "Name: unit, dtype: int64"
      ]
     },
     "execution_count": 13,
     "metadata": {},
     "output_type": "execute_result"
    }
   ],
   "source": [
    "df_split,unit_series, df_groups, group_keys=bot_core.grid_meta_info(grid_df)\n",
    "# Select stuff to merge\n",
    "merge_series = unit_series[unit_series>=2] # at least 2 units \n",
    "merge_series"
   ]
  },
  {
   "cell_type": "markdown",
   "metadata": {},
   "source": [
    "## RUN BOT"
   ]
  },
  {
   "cell_type": "code",
   "execution_count": 12,
   "metadata": {},
   "outputs": [
    {
     "data": {
      "text/plain": [
       "['29, 3/8 fighting  Merging!',\n",
       "     grid_id         unit  probability  rank  rank_error position   Age\n",
       " 0    icon_0  crystal.png        308.0     3       576.0   [0, 0]   0.0\n",
       " 1    icon_1   monkey.png        289.0     2       630.0   [0, 1]  21.0\n",
       " 2    icon_2   monkey.png        208.0     1      1208.0   [0, 2]  11.0\n",
       " 3    icon_3  chemist.png        210.0     1      1333.0   [0, 3]   2.0\n",
       " 4    icon_4   monkey.png        299.0     4       544.0   [0, 4]  16.0\n",
       " 5    icon_5  crystal.png        214.0     2       575.0   [1, 0]  19.0\n",
       " 6    icon_6    empty.png        700.0     0         0.0   [1, 1]   5.0\n",
       " 7    icon_7  chemist.png        189.0     1      1151.0   [1, 2]   0.0\n",
       " 8    icon_8   hunter.png        232.0     1      3242.5   [1, 3]  14.0\n",
       " 9    icon_9  crystal.png        344.0     4       311.0   [1, 4]  10.0\n",
       " 10  icon_10    dr5ad.png        673.0     5       442.5   [2, 0]   0.0\n",
       " 11  icon_11  chemist.png        404.0     1      2972.5   [2, 1]   2.0\n",
       " 12  icon_12  crystal.png        256.0     1      2785.5   [2, 2]   0.0\n",
       " 13  icon_13   hunter.png        186.0     1      2535.0   [2, 3]   1.0\n",
       " 14  icon_14   hunter.png        162.0     1      1351.0   [2, 4]   0.0,\n",
       " unit         rank\n",
       " chemist.png  1       3\n",
       " hunter.png   1       3\n",
       " crystal.png  1       1\n",
       "              2       1\n",
       "              3       1\n",
       " Name: unit, dtype: int64,\n",
       "     grid_id        unit  probability  rank  rank_error position   Age\n",
       " 8    icon_8  hunter.png        232.0     1      3242.5   [1, 3]  14.0\n",
       " 13  icon_13  hunter.png        186.0     1      2535.0   [2, 3]   1.0]"
      ]
     },
     "metadata": {},
     "output_type": "display_data"
    },
    {
     "ename": "ValueError",
     "evalue": "a must be greater than 0 unless no samples are taken",
     "output_type": "error",
     "traceback": [
      "\u001b[1;31m---------------------------------------------------------------------------\u001b[0m",
      "\u001b[1;31mValueError\u001b[0m                                Traceback (most recent call last)",
      "\u001b[1;32mc:\\Code\\Rush-Royale-Bot\\RR_bot.ipynb Cell 20'\u001b[0m in \u001b[0;36m<cell line: 6>\u001b[1;34m()\u001b[0m\n\u001b[0;32m     <a href='vscode-notebook-cell:/c%3A/Code/Rush-Royale-Bot/RR_bot.ipynb#ch0000019?line=19'>20</a>\u001b[0m mana_level([\u001b[39m3\u001b[39m,\u001b[39m1\u001b[39m,\u001b[39m5\u001b[39m],hero_power\u001b[39m=\u001b[39m\u001b[39mTrue\u001b[39;00m)\n\u001b[0;32m     <a href='vscode-notebook-cell:/c%3A/Code/Rush-Royale-Bot/RR_bot.ipynb#ch0000019?line=20'>21</a>\u001b[0m \u001b[39m# Try to merge units\u001b[39;00m\n\u001b[1;32m---> <a href='vscode-notebook-cell:/c%3A/Code/Rush-Royale-Bot/RR_bot.ipynb#ch0000019?line=21'>22</a>\u001b[0m grid_df,unit_series,df_groups,info \u001b[39m=\u001b[39m try_merge(prev_grid\u001b[39m=\u001b[39;49mgrid_df)\n\u001b[0;32m     <a href='vscode-notebook-cell:/c%3A/Code/Rush-Royale-Bot/RR_bot.ipynb#ch0000019?line=22'>23</a>\u001b[0m clear_output()\n\u001b[0;32m     <a href='vscode-notebook-cell:/c%3A/Code/Rush-Royale-Bot/RR_bot.ipynb#ch0000019?line=23'>24</a>\u001b[0m display([\u001b[39mf\u001b[39m\u001b[39m'\u001b[39m\u001b[39m{\u001b[39;00mcombat\u001b[39m}\u001b[39;00m\u001b[39m, \u001b[39m\u001b[39m{\u001b[39;00mi\u001b[39m+\u001b[39m\u001b[39m1\u001b[39m\u001b[39m}\u001b[39;00m\u001b[39m/8 \u001b[39m\u001b[39m'\u001b[39m\u001b[39m+\u001b[39moutput[\u001b[39m1\u001b[39m] \u001b[39m+\u001b[39m\u001b[39m'\u001b[39m\u001b[39m  \u001b[39m\u001b[39m'\u001b[39m\u001b[39m+\u001b[39minfo,grid_df,unit_series[\u001b[39m0\u001b[39m:\u001b[39m5\u001b[39m],df_groups])\n",
      "\u001b[1;32mc:\\Code\\Rush-Royale-Bot\\RR_bot.ipynb Cell 16'\u001b[0m in \u001b[0;36mtry_merge\u001b[1;34m(rank, prev_grid)\u001b[0m\n\u001b[0;32m     <a href='vscode-notebook-cell:/c%3A/Code/Rush-Royale-Bot/RR_bot.ipynb#ch0000013?line=34'>35</a>\u001b[0m     info \u001b[39m=\u001b[39m \u001b[39m'\u001b[39m\u001b[39mFull Grid - Merging!\u001b[39m\u001b[39m'\u001b[39m\n\u001b[0;32m     <a href='vscode-notebook-cell:/c%3A/Code/Rush-Royale-Bot/RR_bot.ipynb#ch0000013?line=35'>36</a>\u001b[0m     \u001b[39m# Remove all high level crystals\u001b[39;00m\n\u001b[1;32m---> <a href='vscode-notebook-cell:/c%3A/Code/Rush-Royale-Bot/RR_bot.ipynb#ch0000013?line=37'>38</a>\u001b[0m     merge_df \u001b[39m=\u001b[39m bot\u001b[39m.\u001b[39;49mmerge_unit(df_split,merge_series)\n\u001b[0;32m     <a href='vscode-notebook-cell:/c%3A/Code/Rush-Royale-Bot/RR_bot.ipynb#ch0000013?line=38'>39</a>\u001b[0m \u001b[39mreturn\u001b[39;00m grid_df,unit_series,merge_df,info\n",
      "File \u001b[1;32mc:\\Code\\Rush-Royale-Bot\\bot_core.py:161\u001b[0m, in \u001b[0;36mBot.merge_unit\u001b[1;34m(self, df_split, merge_series)\u001b[0m\n\u001b[0;32m    <a href='file:///c%3A/Code/Rush-Royale-Bot/bot_core.py?line=158'>159</a>\u001b[0m \u001b[39mdef\u001b[39;00m \u001b[39mmerge_unit\u001b[39m(\u001b[39mself\u001b[39m,df_split,merge_series):\n\u001b[0;32m    <a href='file:///c%3A/Code/Rush-Royale-Bot/bot_core.py?line=159'>160</a>\u001b[0m     \u001b[39m# Pick a random filtered target\u001b[39;00m\n\u001b[1;32m--> <a href='file:///c%3A/Code/Rush-Royale-Bot/bot_core.py?line=160'>161</a>\u001b[0m     merge_target \u001b[39m=\u001b[39m  merge_series\u001b[39m.\u001b[39;49msample()\u001b[39m.\u001b[39mindex[\u001b[39m0\u001b[39m]\n\u001b[0;32m    <a href='file:///c%3A/Code/Rush-Royale-Bot/bot_core.py?line=161'>162</a>\u001b[0m     \u001b[39m# Collect unit dataframe\u001b[39;00m\n\u001b[0;32m    <a href='file:///c%3A/Code/Rush-Royale-Bot/bot_core.py?line=162'>163</a>\u001b[0m     merge_df\u001b[39m=\u001b[39mdf_split\u001b[39m.\u001b[39mget_group(merge_target)\u001b[39m.\u001b[39msample(n\u001b[39m=\u001b[39m\u001b[39m2\u001b[39m)\n",
      "File \u001b[1;32mc:\\Users\\axelb\\.conda\\envs\\Rush-Royale-Bot\\lib\\site-packages\\pandas\\core\\generic.py:5446\u001b[0m, in \u001b[0;36mNDFrame.sample\u001b[1;34m(self, n, frac, replace, weights, random_state, axis, ignore_index)\u001b[0m\n\u001b[0;32m   <a href='file:///c%3A/Users/axelb/.conda/envs/Rush-Royale-Bot/lib/site-packages/pandas/core/generic.py?line=5442'>5443</a>\u001b[0m \u001b[39mif\u001b[39;00m weights \u001b[39mis\u001b[39;00m \u001b[39mnot\u001b[39;00m \u001b[39mNone\u001b[39;00m:\n\u001b[0;32m   <a href='file:///c%3A/Users/axelb/.conda/envs/Rush-Royale-Bot/lib/site-packages/pandas/core/generic.py?line=5443'>5444</a>\u001b[0m     weights \u001b[39m=\u001b[39m sample\u001b[39m.\u001b[39mpreprocess_weights(\u001b[39mself\u001b[39m, weights, axis)\n\u001b[1;32m-> <a href='file:///c%3A/Users/axelb/.conda/envs/Rush-Royale-Bot/lib/site-packages/pandas/core/generic.py?line=5445'>5446</a>\u001b[0m sampled_indices \u001b[39m=\u001b[39m sample\u001b[39m.\u001b[39;49msample(obj_len, size, replace, weights, rs)\n\u001b[0;32m   <a href='file:///c%3A/Users/axelb/.conda/envs/Rush-Royale-Bot/lib/site-packages/pandas/core/generic.py?line=5446'>5447</a>\u001b[0m result \u001b[39m=\u001b[39m \u001b[39mself\u001b[39m\u001b[39m.\u001b[39mtake(sampled_indices, axis\u001b[39m=\u001b[39maxis)\n\u001b[0;32m   <a href='file:///c%3A/Users/axelb/.conda/envs/Rush-Royale-Bot/lib/site-packages/pandas/core/generic.py?line=5448'>5449</a>\u001b[0m \u001b[39mif\u001b[39;00m ignore_index:\n",
      "File \u001b[1;32mc:\\Users\\axelb\\.conda\\envs\\Rush-Royale-Bot\\lib\\site-packages\\pandas\\core\\sample.py:150\u001b[0m, in \u001b[0;36msample\u001b[1;34m(obj_len, size, replace, weights, random_state)\u001b[0m\n\u001b[0;32m    <a href='file:///c%3A/Users/axelb/.conda/envs/Rush-Royale-Bot/lib/site-packages/pandas/core/sample.py?line=146'>147</a>\u001b[0m     \u001b[39melse\u001b[39;00m:\n\u001b[0;32m    <a href='file:///c%3A/Users/axelb/.conda/envs/Rush-Royale-Bot/lib/site-packages/pandas/core/sample.py?line=147'>148</a>\u001b[0m         \u001b[39mraise\u001b[39;00m \u001b[39mValueError\u001b[39;00m(\u001b[39m\"\u001b[39m\u001b[39mInvalid weights: weights sum to zero\u001b[39m\u001b[39m\"\u001b[39m)\n\u001b[1;32m--> <a href='file:///c%3A/Users/axelb/.conda/envs/Rush-Royale-Bot/lib/site-packages/pandas/core/sample.py?line=149'>150</a>\u001b[0m \u001b[39mreturn\u001b[39;00m random_state\u001b[39m.\u001b[39;49mchoice(obj_len, size\u001b[39m=\u001b[39;49msize, replace\u001b[39m=\u001b[39;49mreplace, p\u001b[39m=\u001b[39;49mweights)\u001b[39m.\u001b[39mastype(\n\u001b[0;32m    <a href='file:///c%3A/Users/axelb/.conda/envs/Rush-Royale-Bot/lib/site-packages/pandas/core/sample.py?line=150'>151</a>\u001b[0m     np\u001b[39m.\u001b[39mintp, copy\u001b[39m=\u001b[39m\u001b[39mFalse\u001b[39;00m\n\u001b[0;32m    <a href='file:///c%3A/Users/axelb/.conda/envs/Rush-Royale-Bot/lib/site-packages/pandas/core/sample.py?line=151'>152</a>\u001b[0m )\n",
      "File \u001b[1;32mmtrand.pyx:909\u001b[0m, in \u001b[0;36mnumpy.random.mtrand.RandomState.choice\u001b[1;34m()\u001b[0m\n",
      "\u001b[1;31mValueError\u001b[0m: a must be greater than 0 unless no samples are taken"
     ]
    }
   ],
   "source": [
    "wait=0\n",
    "combat = 0\n",
    "grid_df =None\n",
    "# Main loop\n",
    "while(1):\n",
    "    output = battle_screen(True,True,5)\n",
    "    if output[1]=='fighting':\n",
    "        wait = 0\n",
    "        combat+=1\n",
    "        if combat>50:\n",
    "            bot.restart_RR()\n",
    "            combat = 0\n",
    "            continue\n",
    "        battle_bar=trange(8)\n",
    "        for i in battle_bar:\n",
    "                time.sleep(0.2)\n",
    "                # Spawn units\n",
    "                bot.click(450,1360)\n",
    "                # Upgrade units\n",
    "                mana_level([3,1,5],hero_power=True)\n",
    "                # Try to merge units\n",
    "                grid_df,unit_series,df_groups,info = try_merge(prev_grid=grid_df)\n",
    "                clear_output()\n",
    "                display([f'{combat}, {i+1}/8 '+output[1] +'  '+info,grid_df,unit_series[0:5],df_groups])\n",
    "    else:\n",
    "        combat=0\n",
    "        wait+=1\n",
    "        if wait>40:\n",
    "            print('RESTARTING')\n",
    "            bot.restart_RR()\n",
    "            wait=0\n",
    "        print(output[1],'wait count:',wait)"
   ]
  },
  {
   "cell_type": "code",
   "execution_count": null,
   "metadata": {},
   "outputs": [],
   "source": []
  }
 ],
 "metadata": {
  "interpreter": {
   "hash": "222f52f3d4ea82340b8e438915cd2cce29310e9a34a09f1d931c12bfa7062449"
  },
  "kernelspec": {
   "display_name": "Python 3.9.12 ('Rush-Royale-Bot')",
   "language": "python",
   "name": "python3"
  },
  "language_info": {
   "codemirror_mode": {
    "name": "ipython",
    "version": 3
   },
   "file_extension": ".py",
   "mimetype": "text/x-python",
   "name": "python",
   "nbconvert_exporter": "python",
   "pygments_lexer": "ipython3",
   "version": "3.9.12"
  },
  "orig_nbformat": 4
 },
 "nbformat": 4,
 "nbformat_minor": 2
}
