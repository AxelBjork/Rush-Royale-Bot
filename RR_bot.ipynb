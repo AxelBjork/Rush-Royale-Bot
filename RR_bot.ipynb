{
 "cells": [
  {
   "cell_type": "markdown",
   "metadata": {},
   "source": [
    "##SETUP"
   ]
  },
  {
   "cell_type": "code",
   "execution_count": 2,
   "metadata": {},
   "outputs": [],
   "source": [
    "import time\n",
    "import pandas as pd\n",
    "# Android ADB\n",
    "from subprocess import check_output,Popen\n",
    "# Notebook\n",
    "from IPython.display import display,clear_output\n",
    "from tqdm.notebook import trange, tqdm\n",
    "\n",
    "import sys\n",
    "# Start Scrcpy once per restart\n",
    "if 'started_scrcpy' not in vars():\n",
    "    started_scrcpy=True\n",
    "    proc = Popen(['C:\\Programs\\Scrcpy\\scrcpy'], shell=True)\n",
    "    time.sleep(6) # <-- sleep for 6''\n",
    "    proc.terminate() # <-- terminate the process (Scrcpy window can be closed)\n",
    "# internal\n",
    "import bot_core\n",
    "import bot_perception\n",
    "\n",
    "import importlib\n",
    "[importlib.reload(lib) for lib in [bot_core,bot_perception] ]\n",
    "\n",
    "\n",
    "# Selected units in deck (order does not matter)\n",
    "sel_units= ['crystal.png','chemist.png','monkey.png','dryad.png','hunter.png']\n",
    "bot_core.select_units(sel_units,show=False)\n",
    "\n",
    "bot = bot_core.Bot()"
   ]
  },
  {
   "cell_type": "markdown",
   "metadata": {},
   "source": [
    "## RUN BOT"
   ]
  },
  {
   "cell_type": "code",
   "execution_count": 4,
   "metadata": {},
   "outputs": [
    {
     "data": {
      "text/plain": [
       "['23, 4/8 fighting, need more units!',\n",
       " 'Average age: 43.93',\n",
       "     grid_id         unit  probability  rank  rank_error position   Age\n",
       " 0    icon_0  chemist.png        653.0     1      6286.0   [0, 0]  46.0\n",
       " 1    icon_1    empty.png        999.0     0         0.0   [0, 1]  50.0\n",
       " 2    icon_2    empty.png        700.0     0         0.0   [0, 2]  41.0\n",
       " 3    icon_3    empty.png        700.0     0         0.0   [0, 3]  41.0\n",
       " 4    icon_4    empty.png        700.0     0         0.0   [0, 4]  41.0\n",
       " 5    icon_5    empty.png        700.0     0         0.0   [1, 0]  41.0\n",
       " 6    icon_6    empty.png        999.0     0         0.0   [1, 1]  61.0\n",
       " 7    icon_7    empty.png        700.0     0         0.0   [1, 2]  41.0\n",
       " 8    icon_8  chemist.png        677.0     4       477.0   [1, 3]  46.0\n",
       " 9    icon_9    empty.png        999.0     0         0.0   [1, 4]  46.0\n",
       " 10  icon_10    empty.png        700.0     0         0.0   [2, 0]  41.0\n",
       " 11  icon_11    empty.png        700.0     0         0.0   [2, 1]  41.0\n",
       " 12  icon_12    empty.png        999.0     0         0.0   [2, 2]  41.0\n",
       " 13  icon_13    empty.png        700.0     0         0.0   [2, 3]  41.0\n",
       " 14  icon_14    empty.png        700.0     0         0.0   [2, 4]  41.0,\n",
       " unit       rank\n",
       " empty.png  0       13\n",
       " Name: unit, dtype: int64,\n",
       " None]"
      ]
     },
     "metadata": {},
     "output_type": "display_data"
    },
    {
     "ename": "KeyboardInterrupt",
     "evalue": "",
     "output_type": "error",
     "traceback": [
      "\u001b[1;31m---------------------------------------------------------------------------\u001b[0m",
      "\u001b[1;31mKeyboardInterrupt\u001b[0m                         Traceback (most recent call last)",
      "\u001b[1;32mc:\\Code\\Rush-Royale-Bot\\RR_bot.ipynb Cell 4'\u001b[0m in \u001b[0;36m<cell line: 7>\u001b[1;34m()\u001b[0m\n\u001b[0;32m     <a href='vscode-notebook-cell:/c%3A/Code/Rush-Royale-Bot/RR_bot.ipynb#ch0000003?line=21'>22</a>\u001b[0m bot\u001b[39m.\u001b[39mmana_level([\u001b[39m5\u001b[39m,\u001b[39m3\u001b[39m,\u001b[39m1\u001b[39m],hero_power\u001b[39m=\u001b[39m\u001b[39mTrue\u001b[39;00m)\n\u001b[0;32m     <a href='vscode-notebook-cell:/c%3A/Code/Rush-Royale-Bot/RR_bot.ipynb#ch0000003?line=22'>23</a>\u001b[0m \u001b[39m# Try to merge units\u001b[39;00m\n\u001b[1;32m---> <a href='vscode-notebook-cell:/c%3A/Code/Rush-Royale-Bot/RR_bot.ipynb#ch0000003?line=23'>24</a>\u001b[0m grid_df,unit_series,merge_series,df_groups,info \u001b[39m=\u001b[39m bot\u001b[39m.\u001b[39;49mtry_merge(prev_grid\u001b[39m=\u001b[39;49mgrid_df)\n\u001b[0;32m     <a href='vscode-notebook-cell:/c%3A/Code/Rush-Royale-Bot/RR_bot.ipynb#ch0000003?line=24'>25</a>\u001b[0m clear_output()\n\u001b[0;32m     <a href='vscode-notebook-cell:/c%3A/Code/Rush-Royale-Bot/RR_bot.ipynb#ch0000003?line=25'>26</a>\u001b[0m display([\u001b[39mf\u001b[39m\u001b[39m'\u001b[39m\u001b[39m{\u001b[39;00mcombat\u001b[39m}\u001b[39;00m\u001b[39m, \u001b[39m\u001b[39m{\u001b[39;00mi\u001b[39m+\u001b[39m\u001b[39m1\u001b[39m\u001b[39m}\u001b[39;00m\u001b[39m/8 \u001b[39m\u001b[39m{\u001b[39;00moutput[\u001b[39m1\u001b[39m]\u001b[39m}\u001b[39;00m\u001b[39m, \u001b[39m\u001b[39m{\u001b[39;00minfo\u001b[39m}\u001b[39;00m\u001b[39m'\u001b[39m, \u001b[39m'\u001b[39m\u001b[39mAverage age: \u001b[39m\u001b[39m'\u001b[39m\u001b[39m+\u001b[39m \u001b[39mstr\u001b[39m(grid_df[\u001b[39m'\u001b[39m\u001b[39mAge\u001b[39m\u001b[39m'\u001b[39m]\u001b[39m.\u001b[39mmean()\u001b[39m.\u001b[39mround(\u001b[39m2\u001b[39m)),grid_df,merge_series,df_groups])\n",
      "File \u001b[1;32mc:\\Code\\Rush-Royale-Bot\\bot_core.py:227\u001b[0m, in \u001b[0;36mBot.try_merge\u001b[1;34m(self, rank, prev_grid)\u001b[0m\n\u001b[0;32m    225\u001b[0m info\u001b[39m=\u001b[39m\u001b[39m'\u001b[39m\u001b[39m'\u001b[39m\n\u001b[0;32m    226\u001b[0m merge_df \u001b[39m=\u001b[39m\u001b[39mNone\u001b[39;00m\n\u001b[1;32m--> 227\u001b[0m names\u001b[39m=\u001b[39m\u001b[39mself\u001b[39;49m\u001b[39m.\u001b[39;49mscan_grid(new\u001b[39m=\u001b[39;49m\u001b[39mTrue\u001b[39;49;00m)\n\u001b[0;32m    228\u001b[0m grid_df\u001b[39m=\u001b[39mbot_perception\u001b[39m.\u001b[39mgrid_status(names,prev_grid\u001b[39m=\u001b[39mprev_grid)\n\u001b[0;32m    229\u001b[0m df_split,unit_series, df_groups, group_keys\u001b[39m=\u001b[39mgrid_meta_info(grid_df)\n",
      "File \u001b[1;32mc:\\Code\\Rush-Royale-Bot\\bot_core.py:150\u001b[0m, in \u001b[0;36mBot.scan_grid\u001b[1;34m(self, new)\u001b[0m\n\u001b[0;32m    148\u001b[0m boxes,box_size \u001b[39m=\u001b[39m get_grid()\n\u001b[0;32m    149\u001b[0m \u001b[39m# should be enabled by default\u001b[39;00m\n\u001b[1;32m--> 150\u001b[0m \u001b[39mif\u001b[39;00m new: \u001b[39mself\u001b[39;49m\u001b[39m.\u001b[39;49mgetScreen()\n\u001b[0;32m    151\u001b[0m box_list \u001b[39m=\u001b[39m boxes\u001b[39m.\u001b[39mreshape(\u001b[39m15\u001b[39m,\u001b[39m2\u001b[39m)\n\u001b[0;32m    152\u001b[0m names\u001b[39m=\u001b[39m[]\n",
      "File \u001b[1;32mc:\\Code\\Rush-Royale-Bot\\bot_core.py:76\u001b[0m, in \u001b[0;36mBot.getScreen\u001b[1;34m(self)\u001b[0m\n\u001b[0;32m     75\u001b[0m \u001b[39mdef\u001b[39;00m \u001b[39mgetScreen\u001b[39m(\u001b[39mself\u001b[39m):\n\u001b[1;32m---> 76\u001b[0m     \u001b[39mself\u001b[39;49m\u001b[39m.\u001b[39;49mshell(\u001b[39mf\u001b[39;49m\u001b[39m'\u001b[39;49m\u001b[39m/system/bin/screencap -p /sdcard/\u001b[39;49m\u001b[39m{\u001b[39;49;00m\u001b[39mself\u001b[39;49m\u001b[39m.\u001b[39;49mscreenshotName\u001b[39m}\u001b[39;49;00m\u001b[39m'\u001b[39;49m)\n\u001b[0;32m     77\u001b[0m     \u001b[39m# Using the adb command to upload the screenshot of the mobile phone to the current directory\u001b[39;00m\n\u001b[0;32m     78\u001b[0m     os\u001b[39m.\u001b[39msystem(\u001b[39mf\u001b[39m\u001b[39m'\u001b[39m\u001b[39m\"\u001b[39m\u001b[39mC:/Programs/Scrcpy/adb\u001b[39m\u001b[39m\"\u001b[39m\u001b[39m -s \u001b[39m\u001b[39m{\u001b[39;00m\u001b[39mself\u001b[39m\u001b[39m.\u001b[39mdevice\u001b[39m}\u001b[39;00m\u001b[39m pull /sdcard/\u001b[39m\u001b[39m{\u001b[39;00m\u001b[39mself\u001b[39m\u001b[39m.\u001b[39mscreenshotName\u001b[39m}\u001b[39;00m\u001b[39m'\u001b[39m)\n",
      "File \u001b[1;32mc:\\Code\\Rush-Royale-Bot\\bot_core.py:39\u001b[0m, in \u001b[0;36mBot.shell\u001b[1;34m(self, cmd)\u001b[0m\n\u001b[0;32m     38\u001b[0m \u001b[39mdef\u001b[39;00m \u001b[39mshell\u001b[39m(\u001b[39mself\u001b[39m, cmd):\n\u001b[1;32m---> 39\u001b[0m     os\u001b[39m.\u001b[39;49msystem(\u001b[39mf\u001b[39;49m\u001b[39m'\u001b[39;49m\u001b[39m\"\u001b[39;49m\u001b[39mC:/Programs/Scrcpy/adb\u001b[39;49m\u001b[39m\"\u001b[39;49m\u001b[39m -s \u001b[39;49m\u001b[39m{\u001b[39;49;00m\u001b[39mself\u001b[39;49m\u001b[39m.\u001b[39;49mdevice\u001b[39m}\u001b[39;49;00m\u001b[39m shell \u001b[39;49m\u001b[39m{\u001b[39;49;00mcmd\u001b[39m}\u001b[39;49;00m\u001b[39m'\u001b[39;49m)\n",
      "\u001b[1;31mKeyboardInterrupt\u001b[0m: "
     ]
    }
   ],
   "source": [
    "wait=0\n",
    "combat = 0\n",
    "grid_df =None\n",
    "watch_ad = True\n",
    "# Main loop\n",
    "while(1):\n",
    "    output = bot.battle_screen(True,True,floor=5)\n",
    "    if output[1]=='fighting':\n",
    "        watch_ad = True \n",
    "        wait = 0\n",
    "        combat+=1\n",
    "        if combat>50:\n",
    "            bot.restart_RR()\n",
    "            combat = 0\n",
    "            continue\n",
    "        battle_bar=trange(8)\n",
    "        for i in battle_bar:\n",
    "                time.sleep(0.2)\n",
    "                # Spawn units\n",
    "                bot.click(450,1360)\n",
    "                # Upgrade units\n",
    "                bot.mana_level([5,3,1],hero_power=True)\n",
    "                # Try to merge units\n",
    "                grid_df,unit_series,merge_series,df_groups,info = bot.try_merge(prev_grid=grid_df)\n",
    "                clear_output()\n",
    "                display([f'{combat}, {i+1}/8 {output[1]}, {info}', 'Average age: '+ str(grid_df['Age'].mean().round(2)),grid_df,merge_series,df_groups])\n",
    "    else:\n",
    "        if watch_ad:\n",
    "            for i in range(5):\n",
    "                bot.watch_ads()\n",
    "            watch_ad = False\n",
    "        combat=0\n",
    "        wait+=1\n",
    "        if wait>40:\n",
    "            print('RESTARTING')\n",
    "            bot.restart_RR()\n",
    "            wait=0\n",
    "        print(output[1],'wait count:',wait)"
   ]
  },
  {
   "cell_type": "markdown",
   "metadata": {},
   "source": [
    "# Play Game"
   ]
  },
  {
   "cell_type": "code",
   "execution_count": 2,
   "metadata": {},
   "outputs": [],
   "source": [
    "# Restart game\n",
    "bot.restart_RR()"
   ]
  },
  {
   "cell_type": "markdown",
   "metadata": {},
   "source": [
    "## Quick restart"
   ]
  },
  {
   "cell_type": "code",
   "execution_count": 2,
   "metadata": {},
   "outputs": [],
   "source": [
    "# Drop co-op game\n",
    "bot.restart_RR(quick_disconnect=True)"
   ]
  },
  {
   "cell_type": "code",
   "execution_count": null,
   "metadata": {},
   "outputs": [],
   "source": []
  }
 ],
 "metadata": {
  "interpreter": {
   "hash": "222f52f3d4ea82340b8e438915cd2cce29310e9a34a09f1d931c12bfa7062449"
  },
  "kernelspec": {
   "display_name": "Python 3.9.12 ('Rush-Royale-Bot')",
   "language": "python",
   "name": "python3"
  },
  "language_info": {
   "codemirror_mode": {
    "name": "ipython",
    "version": 3
   },
   "file_extension": ".py",
   "mimetype": "text/x-python",
   "name": "python",
   "nbconvert_exporter": "python",
   "pygments_lexer": "ipython3",
   "version": "3.9.12"
  },
  "orig_nbformat": 4
 },
 "nbformat": 4,
 "nbformat_minor": 2
}
