{
 "cells": [
  {
   "cell_type": "markdown",
   "metadata": {},
   "source": [
    "##SETUP"
   ]
  },
  {
   "cell_type": "code",
   "execution_count": 1,
   "metadata": {},
   "outputs": [],
   "source": [
    "import os\n",
    "import time\n",
    "import timeit\n",
    "import pandas as pd\n",
    "import random\n",
    "import numpy as np\n",
    "# Android ADB\n",
    "from scrcpy import Client, const\n",
    "from subprocess import check_output,Popen\n",
    "import threading\n",
    "\n",
    "# Image processing\n",
    "from PIL import Image\n",
    "import cv2\n",
    "import pytesseract\n",
    "# Notebook\n",
    "from IPython.display import display,clear_output\n",
    "from tqdm.notebook import trange, tqdm\n",
    "# internal\n",
    "import bot_core\n",
    "import bot_perception\n",
    "\n",
    "import importlib\n",
    "importlib.reload(bot_core)\n",
    "importlib.reload(bot_perception)\n",
    "\n",
    "\n",
    "SLEEP_DELAY=0.1\n",
    "\n",
    "# Start Scrcpy (once after PC restart)\n",
    "start_scrcpy=False\n",
    "if start_scrcpy:\n",
    "    proc = Popen(['C:\\Programs\\Scrcpy\\scrcpy'], shell=True)\n",
    "    time.sleep(6) # <-- sleep for 6''\n",
    "    proc.terminate() # <-- terminate the process\n",
    "\n",
    "\n",
    "bot = bot_core.Bot()"
   ]
  },
  {
   "cell_type": "code",
   "execution_count": 2,
   "metadata": {},
   "outputs": [
    {
     "data": {
      "text/plain": [
       "b'\\x01\\x00\\x00\\x00\\x04test'"
      ]
     },
     "execution_count": 2,
     "metadata": {},
     "output_type": "execute_result"
    }
   ],
   "source": [
    "bot.client.control.text(\"test\")\n"
   ]
  },
  {
   "cell_type": "markdown",
   "metadata": {},
   "source": [
    "## Game stats"
   ]
  },
  {
   "cell_type": "code",
   "execution_count": 159,
   "metadata": {},
   "outputs": [
    {
     "data": {
      "text/plain": [
       "'70'"
      ]
     },
     "execution_count": 159,
     "metadata": {},
     "output_type": "execute_result"
    }
   ],
   "source": [
    "# get stored mana \n",
    "#bot.getText(220,1360,90,50,new=False,digits=True)\n",
    "\n",
    "# get unit mana \n",
    "bot.getText(450,1360,90,50,new=False,digits=True)\n",
    "\n",
    "# Get upgrade mana\n",
    "#bot.getText(20,1540,700,50,new=False,digits=True).split('6')\n"
   ]
  },
  {
   "cell_type": "code",
   "execution_count": 3,
   "metadata": {},
   "outputs": [
    {
     "data": {
      "text/html": [
       "<div>\n",
       "<style scoped>\n",
       "    .dataframe tbody tr th:only-of-type {\n",
       "        vertical-align: middle;\n",
       "    }\n",
       "\n",
       "    .dataframe tbody tr th {\n",
       "        vertical-align: top;\n",
       "    }\n",
       "\n",
       "    .dataframe thead th {\n",
       "        text-align: right;\n",
       "    }\n",
       "</style>\n",
       "<table border=\"1\" class=\"dataframe\">\n",
       "  <thead>\n",
       "    <tr style=\"text-align: right;\">\n",
       "      <th></th>\n",
       "      <th>grid_id</th>\n",
       "      <th>unit</th>\n",
       "      <th>probability</th>\n",
       "      <th>rank</th>\n",
       "      <th>rank_error</th>\n",
       "      <th>position</th>\n",
       "      <th>Age</th>\n",
       "    </tr>\n",
       "  </thead>\n",
       "  <tbody>\n",
       "    <tr>\n",
       "      <th>0</th>\n",
       "      <td>icon_0</td>\n",
       "      <td>empty.png</td>\n",
       "      <td>999.0</td>\n",
       "      <td>0</td>\n",
       "      <td>0.0</td>\n",
       "      <td>[0, 0]</td>\n",
       "      <td>1.0</td>\n",
       "    </tr>\n",
       "    <tr>\n",
       "      <th>1</th>\n",
       "      <td>icon_1</td>\n",
       "      <td>alchemist.png</td>\n",
       "      <td>700.0</td>\n",
       "      <td>1</td>\n",
       "      <td>16184.5</td>\n",
       "      <td>[0, 1]</td>\n",
       "      <td>1.0</td>\n",
       "    </tr>\n",
       "    <tr>\n",
       "      <th>2</th>\n",
       "      <td>icon_2</td>\n",
       "      <td>sharpshooter.png</td>\n",
       "      <td>335.0</td>\n",
       "      <td>2</td>\n",
       "      <td>940.0</td>\n",
       "      <td>[0, 2]</td>\n",
       "      <td>1.0</td>\n",
       "    </tr>\n",
       "    <tr>\n",
       "      <th>3</th>\n",
       "      <td>icon_3</td>\n",
       "      <td>alchemist.png</td>\n",
       "      <td>228.0</td>\n",
       "      <td>1</td>\n",
       "      <td>1577.5</td>\n",
       "      <td>[0, 3]</td>\n",
       "      <td>1.0</td>\n",
       "    </tr>\n",
       "    <tr>\n",
       "      <th>4</th>\n",
       "      <td>icon_4</td>\n",
       "      <td>vampire.png</td>\n",
       "      <td>187.0</td>\n",
       "      <td>1</td>\n",
       "      <td>1459.5</td>\n",
       "      <td>[0, 4]</td>\n",
       "      <td>1.0</td>\n",
       "    </tr>\n",
       "    <tr>\n",
       "      <th>5</th>\n",
       "      <td>icon_5</td>\n",
       "      <td>empty.png</td>\n",
       "      <td>999.0</td>\n",
       "      <td>0</td>\n",
       "      <td>0.0</td>\n",
       "      <td>[1, 0]</td>\n",
       "      <td>1.0</td>\n",
       "    </tr>\n",
       "    <tr>\n",
       "      <th>6</th>\n",
       "      <td>icon_6</td>\n",
       "      <td>empty.png</td>\n",
       "      <td>999.0</td>\n",
       "      <td>0</td>\n",
       "      <td>0.0</td>\n",
       "      <td>[1, 1]</td>\n",
       "      <td>1.0</td>\n",
       "    </tr>\n",
       "    <tr>\n",
       "      <th>7</th>\n",
       "      <td>icon_7</td>\n",
       "      <td>vampire.png</td>\n",
       "      <td>179.0</td>\n",
       "      <td>1</td>\n",
       "      <td>4235.5</td>\n",
       "      <td>[1, 2]</td>\n",
       "      <td>1.0</td>\n",
       "    </tr>\n",
       "    <tr>\n",
       "      <th>8</th>\n",
       "      <td>icon_8</td>\n",
       "      <td>lightning.png</td>\n",
       "      <td>190.0</td>\n",
       "      <td>1</td>\n",
       "      <td>2373.0</td>\n",
       "      <td>[1, 3]</td>\n",
       "      <td>1.0</td>\n",
       "    </tr>\n",
       "    <tr>\n",
       "      <th>9</th>\n",
       "      <td>icon_9</td>\n",
       "      <td>lightning.png</td>\n",
       "      <td>178.0</td>\n",
       "      <td>1</td>\n",
       "      <td>1476.5</td>\n",
       "      <td>[1, 4]</td>\n",
       "      <td>1.0</td>\n",
       "    </tr>\n",
       "    <tr>\n",
       "      <th>10</th>\n",
       "      <td>icon_10</td>\n",
       "      <td>empty.png</td>\n",
       "      <td>999.0</td>\n",
       "      <td>0</td>\n",
       "      <td>0.0</td>\n",
       "      <td>[2, 0]</td>\n",
       "      <td>1.0</td>\n",
       "    </tr>\n",
       "    <tr>\n",
       "      <th>11</th>\n",
       "      <td>icon_11</td>\n",
       "      <td>cold_mage.png</td>\n",
       "      <td>376.0</td>\n",
       "      <td>2</td>\n",
       "      <td>515.0</td>\n",
       "      <td>[2, 1]</td>\n",
       "      <td>1.0</td>\n",
       "    </tr>\n",
       "    <tr>\n",
       "      <th>12</th>\n",
       "      <td>icon_12</td>\n",
       "      <td>alchemist.png</td>\n",
       "      <td>354.0</td>\n",
       "      <td>1</td>\n",
       "      <td>1827.0</td>\n",
       "      <td>[2, 2]</td>\n",
       "      <td>1.0</td>\n",
       "    </tr>\n",
       "    <tr>\n",
       "      <th>13</th>\n",
       "      <td>icon_13</td>\n",
       "      <td>empty.png</td>\n",
       "      <td>999.0</td>\n",
       "      <td>0</td>\n",
       "      <td>0.0</td>\n",
       "      <td>[2, 3]</td>\n",
       "      <td>1.0</td>\n",
       "    </tr>\n",
       "    <tr>\n",
       "      <th>14</th>\n",
       "      <td>icon_14</td>\n",
       "      <td>empty.png</td>\n",
       "      <td>999.0</td>\n",
       "      <td>0</td>\n",
       "      <td>0.0</td>\n",
       "      <td>[2, 4]</td>\n",
       "      <td>1.0</td>\n",
       "    </tr>\n",
       "  </tbody>\n",
       "</table>\n",
       "</div>"
      ],
      "text/plain": [
       "    grid_id              unit  probability  rank  rank_error position  Age\n",
       "0    icon_0         empty.png        999.0     0         0.0   [0, 0]  1.0\n",
       "1    icon_1     alchemist.png        700.0     1     16184.5   [0, 1]  1.0\n",
       "2    icon_2  sharpshooter.png        335.0     2       940.0   [0, 2]  1.0\n",
       "3    icon_3     alchemist.png        228.0     1      1577.5   [0, 3]  1.0\n",
       "4    icon_4       vampire.png        187.0     1      1459.5   [0, 4]  1.0\n",
       "5    icon_5         empty.png        999.0     0         0.0   [1, 0]  1.0\n",
       "6    icon_6         empty.png        999.0     0         0.0   [1, 1]  1.0\n",
       "7    icon_7       vampire.png        179.0     1      4235.5   [1, 2]  1.0\n",
       "8    icon_8     lightning.png        190.0     1      2373.0   [1, 3]  1.0\n",
       "9    icon_9     lightning.png        178.0     1      1476.5   [1, 4]  1.0\n",
       "10  icon_10         empty.png        999.0     0         0.0   [2, 0]  1.0\n",
       "11  icon_11     cold_mage.png        376.0     2       515.0   [2, 1]  1.0\n",
       "12  icon_12     alchemist.png        354.0     1      1827.0   [2, 2]  1.0\n",
       "13  icon_13         empty.png        999.0     0         0.0   [2, 3]  1.0\n",
       "14  icon_14         empty.png        999.0     0         0.0   [2, 4]  1.0"
      ]
     },
     "metadata": {},
     "output_type": "display_data"
    }
   ],
   "source": [
    "names=bot.scan_grid()\n",
    "grid_df=bot_perception.grid_status(names)\n",
    "grid_df=bot_perception.grid_status(names,grid_df)\n",
    "display(grid_df)\n",
    "prev_grid= grid_df.copy()\n",
    "#cache_grid= grid_df.copy()"
   ]
  },
  {
   "cell_type": "code",
   "execution_count": 709,
   "metadata": {},
   "outputs": [
    {
     "data": {
      "text/html": [
       "<div>\n",
       "<style scoped>\n",
       "    .dataframe tbody tr th:only-of-type {\n",
       "        vertical-align: middle;\n",
       "    }\n",
       "\n",
       "    .dataframe tbody tr th {\n",
       "        vertical-align: top;\n",
       "    }\n",
       "\n",
       "    .dataframe thead th {\n",
       "        text-align: right;\n",
       "    }\n",
       "</style>\n",
       "<table border=\"1\" class=\"dataframe\">\n",
       "  <thead>\n",
       "    <tr style=\"text-align: right;\">\n",
       "      <th></th>\n",
       "      <th>grid_id</th>\n",
       "      <th>unit</th>\n",
       "      <th>probability</th>\n",
       "      <th>rank</th>\n",
       "      <th>rank_error</th>\n",
       "      <th>position</th>\n",
       "      <th>Age</th>\n",
       "    </tr>\n",
       "  </thead>\n",
       "  <tbody>\n",
       "    <tr>\n",
       "      <th>12</th>\n",
       "      <td>icon_12</td>\n",
       "      <td>priest.png</td>\n",
       "      <td>175.0</td>\n",
       "      <td>1</td>\n",
       "      <td>2068.5</td>\n",
       "      <td>[2, 2]</td>\n",
       "      <td>0.0</td>\n",
       "    </tr>\n",
       "    <tr>\n",
       "      <th>13</th>\n",
       "      <td>icon_13</td>\n",
       "      <td>priest.png</td>\n",
       "      <td>200.0</td>\n",
       "      <td>1</td>\n",
       "      <td>1269.5</td>\n",
       "      <td>[2, 3]</td>\n",
       "      <td>4.0</td>\n",
       "    </tr>\n",
       "  </tbody>\n",
       "</table>\n",
       "</div>"
      ],
      "text/plain": [
       "    grid_id        unit  probability  rank  rank_error position  Age\n",
       "12  icon_12  priest.png        175.0     1      2068.5   [2, 2]  0.0\n",
       "13  icon_13  priest.png        200.0     1      1269.5   [2, 3]  4.0"
      ]
     },
     "execution_count": 709,
     "metadata": {},
     "output_type": "execute_result"
    }
   ],
   "source": [
    "df_split,unit_series, df_groups, group_keys=bot_core.grid_meta_info(grid_df)\n",
    "group_keys.remove(('empty.png',0))\n",
    "#unit_series.drop(labels='empty.png',level=0)\n",
    "merge_series = unit_series[unit_series>2]\n",
    "merge_target =  merge_series.sample().index[0]\n",
    "merge_df=df_split.get_group(merge_target)\n",
    "merge_df.sample(n=2)"
   ]
  },
  {
   "cell_type": "markdown",
   "metadata": {},
   "source": [
    "# Play Game"
   ]
  },
  {
   "cell_type": "code",
   "execution_count": 116,
   "metadata": {},
   "outputs": [],
   "source": [
    "bot.getScreen()"
   ]
  },
  {
   "cell_type": "code",
   "execution_count": 3,
   "metadata": {},
   "outputs": [],
   "source": [
    "bot.restart_RR()"
   ]
  },
  {
   "cell_type": "markdown",
   "metadata": {},
   "source": [
    "## Extra unit logic "
   ]
  },
  {
   "cell_type": "code",
   "execution_count": 41,
   "metadata": {},
   "outputs": [],
   "source": [
    "##Extra unit logic \n",
    "# Try to merge any priestess\n",
    "#if 'priest.png' in unit_list:\n",
    "#    if df_groups['priest.png']<1:\n",
    "#        bot.merge_unit(grid_df,'priest.png')"
   ]
  },
  {
   "cell_type": "markdown",
   "metadata": {},
   "source": [
    "# Basic Loop"
   ]
  },
  {
   "cell_type": "code",
   "execution_count": 52,
   "metadata": {},
   "outputs": [
    {
     "data": {
      "text/plain": [
       "(              icon  available   pos [X,Y]\n",
       " 0  back_button.png       True  (62, 1480),\n",
       " 'menu')"
      ]
     },
     "execution_count": 52,
     "metadata": {},
     "output_type": "execute_result"
    }
   ],
   "source": [
    "def try_merge(rank=1,prev_grid=None):\n",
    "    info=''\n",
    "    merge_df =None\n",
    "    names=bot.scan_grid(new=True)\n",
    "    grid_df=bot_perception.grid_status(names,prev_grid=prev_grid)\n",
    "    df_split,unit_series, df_groups, group_keys=bot_core.grid_meta_info(grid_df)\n",
    "    # Select stuff to merge\n",
    "    merge_series = unit_series[unit_series>=2] # At least 2 units ## ADD MIME to every count, use sample rank and check if mime exist\n",
    "    # check if grid full\n",
    "    if ('empty.png',0) in group_keys:\n",
    "        # Try to merge priest\n",
    "        merge_priest = bot_core.filter_keys(merge_series,['priest.png'])\n",
    "        if not merge_priest.empty:\n",
    "            merge_df = bot.merge_unit(df_split,merge_priest)\n",
    "        # Merge if full board\n",
    "        if df_groups['empty.png']<=2:\n",
    "            info='Merging!'\n",
    "            # Add criteria\n",
    "            merge_series = bot_core.filter_keys(merge_series,[rank,'priest.png'])\n",
    "            if not merge_series.empty:\n",
    "                # drop duplicated indices\n",
    "                merge_series = merge_series[~merge_series.index.duplicated()]\n",
    "                # Take index name of random sample\n",
    "                merge_target =  merge_series.sample().index[0] \n",
    "                # Retrieve group    \n",
    "                merge_df=df_split.get_group(merge_target)\n",
    "                #merge_df=merge_df.sort_values(by='Age',ascending=False).reset_index(drop=True)\n",
    "                # Send merge command\n",
    "                merge_df = bot.merge_unit(df_split,merge_series)\n",
    "            else:\n",
    "                info='not enough filtered targets!'\n",
    "        else: info= 'need more units!'\n",
    "    # If grid seems full, merge any\n",
    "    else:\n",
    "        info = 'Full Grid - Merging!'\n",
    "        merge_df = bot.merge_unit(df_split,merge_series)\n",
    "    return grid_df,unit_series,merge_df,info\n",
    "    \n",
    "def get_button_pos(df,button):\n",
    "    button=button+'.png'\n",
    "    pos=df[df['icon']==button]['pos [X,Y]'].reset_index(drop=True)[0]\n",
    "    return pos\n",
    "# Mana level cards\n",
    "def mana_level(cards, hero_power=False):\n",
    "    upgrade_pos_dict={\n",
    "    1:[100,1500], 2:[200,1500],\n",
    "    3:[350,1500], 4:[500,1500],\n",
    "    5:[650,1500] }\n",
    "    # Level each card\n",
    "    for card in cards:\n",
    "        bot.click(*upgrade_pos_dict[card])\n",
    "    if hero_power:\n",
    "        bot.click(800,1500)\n",
    "\n",
    "def battle_screen(start=False):\n",
    "    # Scan screen for any key buttons\n",
    "    button_df = bot.get_current_icons()\n",
    "    # filter relevant buttons\n",
    "    button_df = button_df[button_df['icon'].isin(['back_button.png','battle_icon.png','0cont_button.png','1quit.png', 'fighting.png','pvp_button.png'])]\n",
    "    avail_buttons=button_df[button_df['available']==True].reset_index(drop=True)\n",
    "    if not avail_buttons.empty:\n",
    "        # list of buttons\n",
    "        button_names=avail_buttons['icon'].tolist()\n",
    "        if 'fighting.png' in button_names and not '0cont_button.png' in button_names:\n",
    "            return avail_buttons,'fighting'\n",
    "        # Start pvp if homescreen\n",
    "        if start and 'pvp_button.png' in button_names and 'battle_icon.png' in button_names:\n",
    "            pvp_pos = get_button_pos(button_df,'pvp_button')\n",
    "            bot.click_button(pvp_pos)\n",
    "            time.sleep(1)\n",
    "            return avail_buttons, 'home'\n",
    "        # Check first button is clickable\n",
    "        first_button=button_names[0].split('.')[0]\n",
    "        if first_button in ['back_button','battle_icon','0cont_button','1quit']:\n",
    "            button_pos=avail_buttons['pos [X,Y]'].tolist()[0]\n",
    "            bot.click_button(button_pos)\n",
    "            return avail_buttons,'menu'\n",
    "    else:\n",
    "        bot.shell(f'input keyevent {const.KEYCODE_BACK}') #Force back\n",
    "        return button_df,'lost'\n",
    "        # add recursive call to restart last recorse?\n",
    "battle_screen()"
   ]
  },
  {
   "cell_type": "code",
   "execution_count": 129,
   "metadata": {},
   "outputs": [
    {
     "ename": "KeyboardInterrupt",
     "evalue": "",
     "output_type": "error",
     "traceback": [
      "\u001b[1;31m---------------------------------------------------------------------------\u001b[0m",
      "\u001b[1;31mKeyboardInterrupt\u001b[0m                         Traceback (most recent call last)",
      "\u001b[1;32mc:\\Code\\Rush-Royale-Bot\\RR_bot.ipynb Cell 15'\u001b[0m in \u001b[0;36m<cell line: 10>\u001b[1;34m()\u001b[0m\n\u001b[0;32m     <a href='vscode-notebook-cell:/c%3A/Code/Rush-Royale-Bot/RR_bot.ipynb#ch0000024?line=11'>12</a>\u001b[0m [bot\u001b[39m.\u001b[39mswipe([\u001b[39m2\u001b[39m,\u001b[39m0\u001b[39m],[\u001b[39m0\u001b[39m,\u001b[39m0\u001b[39m]) \u001b[39mfor\u001b[39;00m i \u001b[39min\u001b[39;00m \u001b[39mrange\u001b[39m(\u001b[39m3\u001b[39m)]\n\u001b[0;32m     <a href='vscode-notebook-cell:/c%3A/Code/Rush-Royale-Bot/RR_bot.ipynb#ch0000024?line=12'>13</a>\u001b[0m bot\u001b[39m.\u001b[39mclick(\u001b[39m30\u001b[39m,\u001b[39m600\u001b[39m) \u001b[39m# stop scroll and scan screen for buttons\u001b[39;00m\n\u001b[1;32m---> <a href='vscode-notebook-cell:/c%3A/Code/Rush-Royale-Bot/RR_bot.ipynb#ch0000024?line=13'>14</a>\u001b[0m button_df \u001b[39m=\u001b[39m bot\u001b[39m.\u001b[39;49mget_current_icons()\n\u001b[0;32m     <a href='vscode-notebook-cell:/c%3A/Code/Rush-Royale-Bot/RR_bot.ipynb#ch0000024?line=14'>15</a>\u001b[0m avail_buttons\u001b[39m=\u001b[39mbutton_df[button_df[\u001b[39m'\u001b[39m\u001b[39mavailable\u001b[39m\u001b[39m'\u001b[39m]\u001b[39m==\u001b[39m\u001b[39mTrue\u001b[39;00m]\u001b[39m.\u001b[39mreset_index(drop\u001b[39m=\u001b[39m\u001b[39mTrue\u001b[39;00m)\n\u001b[0;32m     <a href='vscode-notebook-cell:/c%3A/Code/Rush-Royale-Bot/RR_bot.ipynb#ch0000024?line=15'>16</a>\u001b[0m \u001b[39m# Look for chapter\u001b[39;00m\n",
      "File \u001b[1;32mc:\\Code\\Rush-Royale-Bot\\bot_core.py:130\u001b[0m, in \u001b[0;36mBot.get_current_icons\u001b[1;34m(self, new)\u001b[0m\n\u001b[0;32m    <a href='file:///c%3A/Code/Rush-Royale-Bot/bot_core.py?line=127'>128</a>\u001b[0m template \u001b[39m=\u001b[39m cv2\u001b[39m.\u001b[39mimread(imgSrc, \u001b[39m0\u001b[39m)\n\u001b[0;32m    <a href='file:///c%3A/Code/Rush-Royale-Bot/bot_core.py?line=128'>129</a>\u001b[0m \u001b[39m# Compare images\u001b[39;00m\n\u001b[1;32m--> <a href='file:///c%3A/Code/Rush-Royale-Bot/bot_core.py?line=129'>130</a>\u001b[0m res \u001b[39m=\u001b[39m cv2\u001b[39m.\u001b[39;49mmatchTemplate(img_gray, template, cv2\u001b[39m.\u001b[39;49mTM_CCOEFF_NORMED)\n\u001b[0;32m    <a href='file:///c%3A/Code/Rush-Royale-Bot/bot_core.py?line=130'>131</a>\u001b[0m min_val, max_val, min_loc, max_loc \u001b[39m=\u001b[39m cv2\u001b[39m.\u001b[39mminMaxLoc(res)\n\u001b[0;32m    <a href='file:///c%3A/Code/Rush-Royale-Bot/bot_core.py?line=131'>132</a>\u001b[0m threshold \u001b[39m=\u001b[39m \u001b[39m0.8\u001b[39m\n",
      "\u001b[1;31mKeyboardInterrupt\u001b[0m: "
     ]
    }
   ],
   "source": [
    "#def play_dungeon(floor=5):\n",
    "floor = 5\n",
    "button_df = bot.get_current_icons()\n",
    "avail_buttons=button_df[button_df['available']==True].reset_index(drop=True)\n",
    "\n",
    "if (avail_buttons == 'dungeon_page.png').any(axis=None):\n",
    "    print('Dungeon Page')\n",
    "avail_buttons\n",
    "\n",
    "for i in range(3):\n",
    "    # Swipe down (change to swipe up for floor 10 cleared)\n",
    "    [bot.swipe([2,0],[0,0]) for i in range(3)]\n",
    "    bot.click(30,600) # stop scroll and scan screen for buttons\n",
    "    button_df = bot.get_current_icons()\n",
    "    avail_buttons=button_df[button_df['available']==True].reset_index(drop=True)\n",
    "    # Look for correct chapter\n",
    "    chapter_banner = avail_buttons[avail_buttons['icon'] == f'chapter_{int(np.ceil(floor/3))}.png']\n",
    "    if not chapter_banner.empty: \n",
    "        pos = chapter_banner['pos [X,Y]'].iloc[0]\n",
    "        # check button is near top of screen\n",
    "        if pos[1] < 550:\n",
    "            break\n",
    "        continue\n",
    "# Expand chapter\n",
    "bot.click(pos[0]+450,pos[1])\n",
    "# Click play floor only 1,2, 4,5, 7, 8 possible \n",
    "bot.click(pos[0],pos[1]+80+340*(floor%3))\n",
    "\n",
    "    #button_df=button_df[button_df.isin({'icon':['back_button.png','battle_icon.png','0cont_button.png','1quit.png', 'fighting.png','pvp_button.png']})]\n",
    "#420 pixel down offset for 1st floor in chapter\n",
    "#760 pixel down offset for 2nd floor in chapter\n",
    "\n",
    "#400-500 pixel offset right for expand chapter button\n",
    "floor//3+1"
   ]
  },
  {
   "cell_type": "code",
   "execution_count": 51,
   "metadata": {},
   "outputs": [
    {
     "ename": "TypeError",
     "evalue": "list indices must be integers or slices, not str",
     "output_type": "error",
     "traceback": [
      "\u001b[1;31m---------------------------------------------------------------------------\u001b[0m",
      "\u001b[1;31mTypeError\u001b[0m                                 Traceback (most recent call last)",
      "\u001b[1;32mc:\\Code\\Rush-Royale-Bot\\RR_bot.ipynb Cell 16'\u001b[0m in \u001b[0;36m<cell line: 2>\u001b[1;34m()\u001b[0m\n\u001b[0;32m      <a href='vscode-notebook-cell:/c%3A/Code/Rush-Royale-Bot/RR_bot.ipynb#ch0000025?line=0'>1</a>\u001b[0m \u001b[39m#button_df[button_df.isin(['back_button.png','battle_icon.png','0cont_button.png','1quit.png', 'fighting.png','pvp_button.png'])]\u001b[39;00m\n\u001b[1;32m----> <a href='vscode-notebook-cell:/c%3A/Code/Rush-Royale-Bot/RR_bot.ipynb#ch0000025?line=1'>2</a>\u001b[0m button_df[\u001b[39m'\u001b[39;49m\u001b[39micon\u001b[39;49m\u001b[39m'\u001b[39;49m]\u001b[39m.\u001b[39misin([\u001b[39m'\u001b[39m\u001b[39mback_button.png\u001b[39m\u001b[39m'\u001b[39m,\u001b[39m'\u001b[39m\u001b[39mbattle_icon.png\u001b[39m\u001b[39m'\u001b[39m,\u001b[39m'\u001b[39m\u001b[39m0cont_button.png\u001b[39m\u001b[39m'\u001b[39m,\u001b[39m'\u001b[39m\u001b[39m1quit.png\u001b[39m\u001b[39m'\u001b[39m, \u001b[39m'\u001b[39m\u001b[39mfighting.png\u001b[39m\u001b[39m'\u001b[39m,\u001b[39m'\u001b[39m\u001b[39mpvp_button.png\u001b[39m\u001b[39m'\u001b[39m])\n",
      "\u001b[1;31mTypeError\u001b[0m: list indices must be integers or slices, not str"
     ]
    }
   ],
   "source": [
    "#button_df[button_df.isin(['back_button.png','battle_icon.png','0cont_button.png','1quit.png', 'fighting.png','pvp_button.png'])]\n",
    "button_df = button_df[button_df['icon'].isin(['back_button.png','battle_icon.png','0cont_button.png','1quit.png', 'fighting.png','pvp_button.png'])]"
   ]
  },
  {
   "cell_type": "code",
   "execution_count": 50,
   "metadata": {},
   "outputs": [],
   "source": [
    "df_split,unit_series, df_groups, group_keys=bot_core.grid_meta_info(grid_df)\n",
    "# Select stuff to merge\n",
    "merge_series = unit_series[unit_series>=2] # At least 2 units ## ADD MIME to every count, use sample rank and check if mime exist\n",
    "# check if grid full\n",
    "if ('empty.png',0) in group_keys:\n",
    "    # Try to merge priest\n",
    "    merge_priest = bot_core.filter_keys(merge_series,['priest.png'])"
   ]
  },
  {
   "cell_type": "code",
   "execution_count": 13,
   "metadata": {},
   "outputs": [
    {
     "data": {
      "text/plain": [
       "unit           rank\n",
       "lightning.png  1       3\n",
       "alchemist.png  1       2\n",
       "empty.png      0       2\n",
       "priest.png     2       2\n",
       "Name: unit, dtype: int64"
      ]
     },
     "execution_count": 13,
     "metadata": {},
     "output_type": "execute_result"
    }
   ],
   "source": [
    "df_split,unit_series, df_groups, group_keys=bot_core.grid_meta_info(grid_df)\n",
    "# Select stuff to merge\n",
    "merge_series = unit_series[unit_series>=2] # at least 2 units \n",
    "merge_series"
   ]
  },
  {
   "cell_type": "markdown",
   "metadata": {},
   "source": [
    "## RUN BOT"
   ]
  },
  {
   "cell_type": "code",
   "execution_count": 9,
   "metadata": {},
   "outputs": [
    {
     "data": {
      "text/plain": [
       "['19, 5/8 fighting  Merging!',\n",
       "     grid_id             unit  probability  rank  rank_error position  Age\n",
       " 0    icon_0       priest.png        258.0     3       327.0   [0, 0]  1.0\n",
       " 1    icon_1    alchemist.png        318.0     3       217.5   [0, 1]  1.0\n",
       " 2    icon_2      vampire.png        158.0     1      1193.5   [0, 2]  5.0\n",
       " 3    icon_3        empty.png        999.0     0         0.0   [0, 3]  7.0\n",
       " 4    icon_4      vampire.png        579.0     5       649.0   [0, 4]  0.0\n",
       " 5    icon_5    alchemist.png        225.0     2       620.0   [1, 0]  0.0\n",
       " 6    icon_6  executioner.png        256.0     1      2355.0   [1, 1]  2.0\n",
       " 7    icon_7  executioner.png        164.0     1      1642.5   [1, 2]  1.0\n",
       " 8    icon_8    alchemist.png        277.0     1      1757.0   [1, 3]  5.0\n",
       " 9    icon_9    alchemist.png        248.0     2       180.0   [1, 4]  0.0\n",
       " 10  icon_10    alchemist.png        339.0     2       535.0   [2, 0]  5.0\n",
       " 11  icon_11    alchemist.png        273.0     1      1978.0   [2, 1]  1.0\n",
       " 12  icon_12      vampire.png        182.0     4       665.0   [2, 2]  0.0\n",
       " 13  icon_13     engineer.png        467.0     3       211.5   [2, 3]  1.0\n",
       " 14  icon_14       priest.png        210.0     4       509.0   [2, 4]  0.0,\n",
       " unit             rank\n",
       " alchemist.png    2       3\n",
       "                  1       2\n",
       " executioner.png  1       2\n",
       " alchemist.png    3       1\n",
       " empty.png        0       1\n",
       " Name: unit, dtype: int64,\n",
       "   grid_id             unit  probability  rank  rank_error position  Age\n",
       " 6  icon_6  executioner.png        256.0     1      2355.0   [1, 1]  2.0\n",
       " 7  icon_7  executioner.png        164.0     1      1642.5   [1, 2]  1.0]"
      ]
     },
     "metadata": {},
     "output_type": "display_data"
    },
    {
     "ename": "KeyboardInterrupt",
     "evalue": "",
     "output_type": "error",
     "traceback": [
      "\u001b[1;31m---------------------------------------------------------------------------\u001b[0m",
      "\u001b[1;31mKeyboardInterrupt\u001b[0m                         Traceback (most recent call last)",
      "\u001b[1;32mc:\\Code\\Rush-Royale-Bot\\RR_bot.ipynb Cell 19'\u001b[0m in \u001b[0;36m<cell line: 6>\u001b[1;34m()\u001b[0m\n\u001b[0;32m     <a href='vscode-notebook-cell:/c%3A/Code/Rush-Royale-Bot/RR_bot.ipynb#ch0000016?line=16'>17</a>\u001b[0m bot\u001b[39m.\u001b[39mclick(\u001b[39m450\u001b[39m,\u001b[39m1360\u001b[39m)\n\u001b[0;32m     <a href='vscode-notebook-cell:/c%3A/Code/Rush-Royale-Bot/RR_bot.ipynb#ch0000016?line=17'>18</a>\u001b[0m \u001b[39m# Upgrade units\u001b[39;00m\n\u001b[1;32m---> <a href='vscode-notebook-cell:/c%3A/Code/Rush-Royale-Bot/RR_bot.ipynb#ch0000016?line=18'>19</a>\u001b[0m mana_level([\u001b[39m5\u001b[39;49m,\u001b[39m2\u001b[39;49m,\u001b[39m3\u001b[39;49m,\u001b[39m4\u001b[39;49m],hero_power\u001b[39m=\u001b[39;49m\u001b[39mTrue\u001b[39;49;00m)\n\u001b[0;32m     <a href='vscode-notebook-cell:/c%3A/Code/Rush-Royale-Bot/RR_bot.ipynb#ch0000016?line=19'>20</a>\u001b[0m \u001b[39m# Try to merge units\u001b[39;00m\n\u001b[0;32m     <a href='vscode-notebook-cell:/c%3A/Code/Rush-Royale-Bot/RR_bot.ipynb#ch0000016?line=20'>21</a>\u001b[0m grid_df,unit_series,df_groups,info \u001b[39m=\u001b[39m try_merge(prev_grid\u001b[39m=\u001b[39mgrid_df)\n",
      "\u001b[1;32mc:\\Code\\Rush-Royale-Bot\\RR_bot.ipynb Cell 14'\u001b[0m in \u001b[0;36mmana_level\u001b[1;34m(cards, hero_power)\u001b[0m\n\u001b[0;32m     <a href='vscode-notebook-cell:/c%3A/Code/Rush-Royale-Bot/RR_bot.ipynb#ch0000013?line=48'>49</a>\u001b[0m \u001b[39m# Level each card\u001b[39;00m\n\u001b[0;32m     <a href='vscode-notebook-cell:/c%3A/Code/Rush-Royale-Bot/RR_bot.ipynb#ch0000013?line=49'>50</a>\u001b[0m \u001b[39mfor\u001b[39;00m card \u001b[39min\u001b[39;00m cards:\n\u001b[1;32m---> <a href='vscode-notebook-cell:/c%3A/Code/Rush-Royale-Bot/RR_bot.ipynb#ch0000013?line=50'>51</a>\u001b[0m     bot\u001b[39m.\u001b[39;49mclick(\u001b[39m*\u001b[39;49mupgrade_pos_dict[card])\n\u001b[0;32m     <a href='vscode-notebook-cell:/c%3A/Code/Rush-Royale-Bot/RR_bot.ipynb#ch0000013?line=51'>52</a>\u001b[0m \u001b[39mif\u001b[39;00m hero_power:\n\u001b[0;32m     <a href='vscode-notebook-cell:/c%3A/Code/Rush-Royale-Bot/RR_bot.ipynb#ch0000013?line=52'>53</a>\u001b[0m     bot\u001b[39m.\u001b[39mclick(\u001b[39m800\u001b[39m,\u001b[39m1500\u001b[39m)\n",
      "File \u001b[1;32mc:\\Code\\Rush-Royale-Bot\\bot_core.py:41\u001b[0m, in \u001b[0;36mBot.click\u001b[1;34m(self, x, y, delay_mult)\u001b[0m\n\u001b[0;32m     <a href='file:///c%3A/Code/Rush-Royale-Bot/bot_core.py?line=38'>39</a>\u001b[0m \u001b[39mdef\u001b[39;00m \u001b[39mclick\u001b[39m(\u001b[39mself\u001b[39m, x, y,delay_mult\u001b[39m=\u001b[39m\u001b[39m1\u001b[39m):\n\u001b[0;32m     <a href='file:///c%3A/Code/Rush-Royale-Bot/bot_core.py?line=39'>40</a>\u001b[0m     \u001b[39mself\u001b[39m\u001b[39m.\u001b[39mclient\u001b[39m.\u001b[39mcontrol\u001b[39m.\u001b[39mtouch(x, y, const\u001b[39m.\u001b[39mACTION_DOWN)\n\u001b[1;32m---> <a href='file:///c%3A/Code/Rush-Royale-Bot/bot_core.py?line=40'>41</a>\u001b[0m     time\u001b[39m.\u001b[39;49msleep(SLEEP_DELAY\u001b[39m/\u001b[39;49m\u001b[39m2\u001b[39;49m\u001b[39m*\u001b[39;49mdelay_mult)\n\u001b[0;32m     <a href='file:///c%3A/Code/Rush-Royale-Bot/bot_core.py?line=41'>42</a>\u001b[0m     \u001b[39mself\u001b[39m\u001b[39m.\u001b[39mclient\u001b[39m.\u001b[39mcontrol\u001b[39m.\u001b[39mtouch(x, y, const\u001b[39m.\u001b[39mACTION_UP)\n\u001b[0;32m     <a href='file:///c%3A/Code/Rush-Royale-Bot/bot_core.py?line=42'>43</a>\u001b[0m     time\u001b[39m.\u001b[39msleep(SLEEP_DELAY\u001b[39m*\u001b[39mdelay_mult)\n",
      "\u001b[1;31mKeyboardInterrupt\u001b[0m: "
     ]
    }
   ],
   "source": [
    "wait=0\n",
    "combat = 0\n",
    "grid_df =None\n",
    "# Main loop\n",
    "while(1):\n",
    "    output = battle_screen(start=True)\n",
    "    if output[1]=='fighting':\n",
    "        wait = 0\n",
    "        combat+=1\n",
    "        if combat>20:\n",
    "            bot.restart_RR()\n",
    "            combat = 0\n",
    "        battle_bar=trange(8)\n",
    "        for i in battle_bar:\n",
    "                time.sleep(0.2)\n",
    "                # Spawn units\n",
    "                bot.click(450,1360)\n",
    "                # Upgrade units\n",
    "                mana_level([5,2,3,4],hero_power=True)\n",
    "                # Try to merge units\n",
    "                grid_df,unit_series,df_groups,info = try_merge(prev_grid=grid_df)\n",
    "                clear_output()\n",
    "                display([f'{combat}, {i+1}/8 '+output[1] +'  '+info,grid_df,unit_series[0:5],df_groups])\n",
    "    else:\n",
    "        combat=0\n",
    "        wait+=1\n",
    "        if wait>40:\n",
    "            print('RESTARTING')\n",
    "            bot.restart_RR()\n",
    "            wait=0\n",
    "        print(output[1],'wait count:',wait)"
   ]
  },
  {
   "cell_type": "code",
   "execution_count": null,
   "metadata": {},
   "outputs": [],
   "source": []
  }
 ],
 "metadata": {
  "interpreter": {
   "hash": "222f52f3d4ea82340b8e438915cd2cce29310e9a34a09f1d931c12bfa7062449"
  },
  "kernelspec": {
   "display_name": "Python 3.9.12 ('Rush-Royale-Bot')",
   "language": "python",
   "name": "python3"
  },
  "language_info": {
   "codemirror_mode": {
    "name": "ipython",
    "version": 3
   },
   "file_extension": ".py",
   "mimetype": "text/x-python",
   "name": "python",
   "nbconvert_exporter": "python",
   "pygments_lexer": "ipython3",
   "version": "3.9.12"
  },
  "orig_nbformat": 4
 },
 "nbformat": 4,
 "nbformat_minor": 2
}
