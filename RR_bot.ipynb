{
 "cells": [
  {
   "cell_type": "markdown",
   "metadata": {},
   "source": [
    "##SETUP"
   ]
  },
  {
   "cell_type": "code",
   "execution_count": 31,
   "metadata": {},
   "outputs": [],
   "source": [
    "import os\n",
    "import time\n",
    "import timeit\n",
    "import pandas as pd\n",
    "import random\n",
    "import numpy as np\n",
    "# Android ADB\n",
    "from scrcpy import Client, const\n",
    "from subprocess import check_output,Popen\n",
    "import threading\n",
    "\n",
    "# Image processing\n",
    "from PIL import Image\n",
    "import cv2\n",
    "import pytesseract\n",
    "# Notebook\n",
    "from IPython.display import display,clear_output\n",
    "from tqdm.notebook import trange, tqdm\n",
    "\n",
    "import sys\n",
    "# Start Scrcpy once per restart\n",
    "if 'importlib' not in sys.modules:  \n",
    "    start_scrcpy=True\n",
    "    if start_scrcpy:\n",
    "        proc = Popen(['C:\\Programs\\Scrcpy\\scrcpy'], shell=True)\n",
    "        time.sleep(6) # <-- sleep for 6''\n",
    "        proc.terminate() # <-- terminate the process\n",
    "# internal\n",
    "import bot_core\n",
    "import bot_perception\n",
    "\n",
    "import importlib\n",
    "importlib.reload(bot_core)\n",
    "importlib.reload(bot_perception)\n",
    "\n",
    "\n",
    "SLEEP_DELAY=0.1\n",
    "\n",
    "\n",
    "bot = bot_core.Bot()"
   ]
  },
  {
   "cell_type": "markdown",
   "metadata": {},
   "source": [
    "## RUN BOT"
   ]
  },
  {
   "cell_type": "code",
   "execution_count": 32,
   "metadata": {},
   "outputs": [
    {
     "data": {
      "text/plain": [
       "['8, 6/8 fighting, Full Grid - Merging!',\n",
       " 'Average age: 10.13',\n",
       "     grid_id         unit  probability  rank  rank_error position   Age\n",
       " 0    icon_0   monkey.png        249.0     2       365.0   [0, 0]  17.0\n",
       " 1    icon_1  crystal.png        230.0     2       205.0   [0, 1]   2.0\n",
       " 2    icon_2   hunter.png        233.0     2       345.0   [0, 2]   8.0\n",
       " 3    icon_3   zealot.png        340.0     1      7255.0   [0, 3]   0.0\n",
       " 4    icon_4   zealot.png        361.0     2       255.0   [0, 4]   7.0\n",
       " 5    icon_5  crystal.png        235.0     2       330.0   [1, 0]   4.0\n",
       " 6    icon_6  crystal.png        203.0     2       345.0   [1, 1]  16.0\n",
       " 7    icon_7  chemist.png        211.0     2       505.0   [1, 2]   5.0\n",
       " 8    icon_8  crystal.png        194.0     2       345.0   [1, 3]   8.0\n",
       " 9    icon_9   monkey.png        199.0     2       510.0   [1, 4]   9.0\n",
       " 10  icon_10  chemist.png        198.0     2       370.0   [2, 0]   9.0\n",
       " 11  icon_11   zealot.png        320.0     1      5605.5   [2, 1]   1.0\n",
       " 12  icon_12   zealot.png        393.0     2       510.0   [2, 2]  28.0\n",
       " 13  icon_13   monkey.png        215.0     1      5694.5   [2, 3]  38.0\n",
       " 14  icon_14   hunter.png        215.0     1      6378.0   [2, 4]   0.0,\n",
       " unit         rank\n",
       " crystal.png  2       4\n",
       " chemist.png  2       2\n",
       " monkey.png   2       2\n",
       " zealot.png   1       2\n",
       "              2       2\n",
       " Name: unit, dtype: int64,\n",
       "   grid_id         unit  probability  rank  rank_error position   Age\n",
       " 6  icon_6  crystal.png        203.0     2       345.0   [1, 1]  16.0\n",
       " 8  icon_8  crystal.png        194.0     2       345.0   [1, 3]   8.0]"
      ]
     },
     "metadata": {},
     "output_type": "display_data"
    }
   ],
   "source": [
    "wait=0\n",
    "combat = 0\n",
    "grid_df =None\n",
    "watch_ad = True\n",
    "# Main loop\n",
    "while(1):\n",
    "    output = bot.battle_screen(True,True,floor=5,ad=watch_ad)\n",
    "    if output[1]=='fighting':\n",
    "        watch_ad = True\n",
    "        wait = 0\n",
    "        combat+=1\n",
    "        if combat>50:\n",
    "            bot.restart_RR()\n",
    "            combat = 0\n",
    "            continue\n",
    "        battle_bar=trange(8)\n",
    "        for i in battle_bar:\n",
    "                time.sleep(0.2)\n",
    "                # Spawn units\n",
    "                bot.click(450,1360)\n",
    "                # Upgrade units\n",
    "                bot.mana_level([3,1,5,4],hero_power=True)\n",
    "                # Try to merge units\n",
    "                grid_df,unit_series,df_groups,info = bot.try_merge(prev_grid=grid_df)\n",
    "                clear_output()\n",
    "                display([f'{combat}, {i+1}/8 {output[1]}, {info}', 'Average age: '+ str(grid_df['Age'].mean().round(2)),grid_df,unit_series[0:5],df_groups])\n",
    "    else:\n",
    "        combat=0\n",
    "        wait+=1\n",
    "        if wait>40:\n",
    "            print('RESTARTING')\n",
    "            bot.restart_RR()\n",
    "            watch_ad = False\n",
    "            wait=0\n",
    "        print(output[1],'wait count:',wait)"
   ]
  },
  {
   "cell_type": "markdown",
   "metadata": {},
   "source": [
    "# Play Game"
   ]
  },
  {
   "cell_type": "code",
   "execution_count": 2,
   "metadata": {},
   "outputs": [],
   "source": [
    "# Restart game\n",
    "bot.restart_RR()"
   ]
  },
  {
   "cell_type": "markdown",
   "metadata": {},
   "source": [
    "## Quick restart"
   ]
  },
  {
   "cell_type": "code",
   "execution_count": null,
   "metadata": {},
   "outputs": [],
   "source": [
    "# Drop co-op game\n",
    "for i in range(30):\n",
    "    bot.restart_RR(True)"
   ]
  }
 ],
 "metadata": {
  "interpreter": {
   "hash": "222f52f3d4ea82340b8e438915cd2cce29310e9a34a09f1d931c12bfa7062449"
  },
  "kernelspec": {
   "display_name": "Python 3.9.12 ('Rush-Royale-Bot')",
   "language": "python",
   "name": "python3"
  },
  "language_info": {
   "codemirror_mode": {
    "name": "ipython",
    "version": 3
   },
   "file_extension": ".py",
   "mimetype": "text/x-python",
   "name": "python",
   "nbconvert_exporter": "python",
   "pygments_lexer": "ipython3",
   "version": "3.9.12"
  },
  "orig_nbformat": 4
 },
 "nbformat": 4,
 "nbformat_minor": 2
}
