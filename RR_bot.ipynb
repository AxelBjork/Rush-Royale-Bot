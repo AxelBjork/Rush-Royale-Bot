{
 "cells": [
  {
   "cell_type": "markdown",
   "metadata": {},
   "source": [
    "##SETUP"
   ]
  },
  {
   "cell_type": "code",
   "execution_count": 4,
   "metadata": {},
   "outputs": [],
   "source": [
    "import time\n",
    "import pandas as pd\n",
    "# Android ADB\n",
    "from subprocess import check_output,Popen\n",
    "# Notebook\n",
    "from IPython.display import display,clear_output\n",
    "from tqdm.notebook import trange, tqdm\n",
    "\n",
    "import sys\n",
    "# Start Scrcpy once per restart\n",
    "if 'started_scrcpy' not in vars():\n",
    "    started_scrcpy=True\n",
    "    proc = Popen(['C:\\Programs\\Scrcpy\\scrcpy'], shell=True)\n",
    "    time.sleep(6) # <-- sleep for 6''\n",
    "    proc.terminate() # <-- terminate the process (Scrcpy window can be closed)\n",
    "# internal\n",
    "import bot_core\n",
    "import bot_perception\n",
    "\n",
    "import importlib\n",
    "[importlib.reload(lib) for lib in [bot_core,bot_perception] ]\n",
    "\n",
    "\n",
    "# Selected units in deck (order does not matter)\n",
    "sel_units= ['crystal.png','chemist.png','monkey.png','dryad.png','hunter.png']\n",
    "bot_core.select_units(sel_units,show=False)\n",
    "\n",
    "bot = bot_core.Bot()"
   ]
  },
  {
   "cell_type": "markdown",
   "metadata": {},
   "source": [
    "## RUN BOT"
   ]
  },
  {
   "cell_type": "code",
   "execution_count": 5,
   "metadata": {},
   "outputs": [
    {
     "data": {
      "text/plain": [
       "['27, 8/8 fighting, not enough rank 1 targets!',\n",
       " 'Average age: 45.67',\n",
       "     grid_id         unit  probability  rank  rank_prob position    Age\n",
       " 0    icon_0   hunter.png        203.0     2   1.000000   [0, 0]  104.0\n",
       " 1    icon_1  crystal.png        255.0     2   1.000000   [0, 1]    2.0\n",
       " 2    icon_2    empty.png        700.0     0   1.000000   [0, 2]    6.0\n",
       " 3    icon_3   hunter.png        286.0     5   0.999969   [0, 3]   24.0\n",
       " 4    icon_4  crystal.png        464.0     3   0.999989   [0, 4]   55.0\n",
       " 5    icon_5  chemist.png        300.0     2   0.999982   [1, 0]   70.0\n",
       " 6    icon_6   monkey.png        262.0     5   1.000000   [1, 1]   13.0\n",
       " 7    icon_7  chemist.png        562.0     1   0.999984   [1, 2]   20.0\n",
       " 8    icon_8  crystal.png        276.0     3   1.000000   [1, 3]   46.0\n",
       " 9    icon_9  crystal.png        299.0     3   1.000000   [1, 4]  173.0\n",
       " 10  icon_10  chemist.png        243.0     3   1.000000   [2, 0]    6.0\n",
       " 11  icon_11  crystal.png        398.0     3   1.000000   [2, 1]   30.0\n",
       " 12  icon_12  crystal.png        336.0     4   1.000000   [2, 2]   91.0\n",
       " 13  icon_13   monkey.png        274.0     3   1.000000   [2, 3]    3.0\n",
       " 14  icon_14   monkey.png        502.0     2   1.000000   [2, 4]   42.0,\n",
       " Series([], dtype: object),\n",
       " None]"
      ]
     },
     "metadata": {},
     "output_type": "display_data"
    },
    {
     "ename": "KeyboardInterrupt",
     "evalue": "",
     "output_type": "error",
     "traceback": [
      "\u001b[1;31m---------------------------------------------------------------------------\u001b[0m",
      "\u001b[1;31mKeyboardInterrupt\u001b[0m                         Traceback (most recent call last)",
      "\u001b[1;32mc:\\Code\\Rush-Royale-Bot\\RR_bot.ipynb Cell 4\u001b[0m in \u001b[0;36m<cell line: 7>\u001b[1;34m()\u001b[0m\n\u001b[0;32m      <a href='vscode-notebook-cell:/c%3A/Code/Rush-Royale-Bot/RR_bot.ipynb#ch0000003?line=4'>5</a>\u001b[0m \u001b[39m# Main loop\u001b[39;00m\n\u001b[0;32m      <a href='vscode-notebook-cell:/c%3A/Code/Rush-Royale-Bot/RR_bot.ipynb#ch0000003?line=5'>6</a>\u001b[0m \u001b[39mwhile\u001b[39;00m(\u001b[39m1\u001b[39m):\n\u001b[1;32m----> <a href='vscode-notebook-cell:/c%3A/Code/Rush-Royale-Bot/RR_bot.ipynb#ch0000003?line=6'>7</a>\u001b[0m     output \u001b[39m=\u001b[39m bot\u001b[39m.\u001b[39;49mbattle_screen(\u001b[39mTrue\u001b[39;49;00m,\u001b[39mTrue\u001b[39;49;00m,floor\u001b[39m=\u001b[39;49m\u001b[39m5\u001b[39;49m)\n\u001b[0;32m      <a href='vscode-notebook-cell:/c%3A/Code/Rush-Royale-Bot/RR_bot.ipynb#ch0000003?line=7'>8</a>\u001b[0m     \u001b[39mif\u001b[39;00m output[\u001b[39m1\u001b[39m]\u001b[39m==\u001b[39m\u001b[39m'\u001b[39m\u001b[39mfighting\u001b[39m\u001b[39m'\u001b[39m:\n\u001b[0;32m      <a href='vscode-notebook-cell:/c%3A/Code/Rush-Royale-Bot/RR_bot.ipynb#ch0000003?line=8'>9</a>\u001b[0m         watch_ad \u001b[39m=\u001b[39m \u001b[39mTrue\u001b[39;00m \n",
      "File \u001b[1;32mc:\\Code\\Rush-Royale-Bot\\bot_core.py:347\u001b[0m, in \u001b[0;36mBot.battle_screen\u001b[1;34m(self, start, pve, floor)\u001b[0m\n\u001b[0;32m    345\u001b[0m     \u001b[39mif\u001b[39;00m \u001b[39mnot\u001b[39;00m df_click\u001b[39m.\u001b[39mempty:\n\u001b[0;32m    346\u001b[0m         button_pos\u001b[39m=\u001b[39mdf_click[\u001b[39m'\u001b[39m\u001b[39mpos [X,Y]\u001b[39m\u001b[39m'\u001b[39m]\u001b[39m.\u001b[39mtolist()[\u001b[39m0\u001b[39m]\n\u001b[1;32m--> 347\u001b[0m         \u001b[39mself\u001b[39;49m\u001b[39m.\u001b[39;49mclick_button(button_pos)\n\u001b[0;32m    348\u001b[0m         \u001b[39mreturn\u001b[39;00m df,\u001b[39m'\u001b[39m\u001b[39mmenu\u001b[39m\u001b[39m'\u001b[39m\n\u001b[0;32m    349\u001b[0m \u001b[39mself\u001b[39m\u001b[39m.\u001b[39mshell(\u001b[39mf\u001b[39m\u001b[39m'\u001b[39m\u001b[39minput keyevent \u001b[39m\u001b[39m{\u001b[39;00mconst\u001b[39m.\u001b[39mKEYCODE_BACK\u001b[39m}\u001b[39;00m\u001b[39m'\u001b[39m) \u001b[39m#Force back\u001b[39;00m\n",
      "File \u001b[1;32mc:\\Code\\Rush-Royale-Bot\\bot_core.py:50\u001b[0m, in \u001b[0;36mBot.click_button\u001b[1;34m(self, pos)\u001b[0m\n\u001b[0;32m     48\u001b[0m coords\u001b[39m=\u001b[39mnp\u001b[39m.\u001b[39marray(pos)\u001b[39m+\u001b[39m\u001b[39m10\u001b[39m\n\u001b[0;32m     49\u001b[0m \u001b[39mself\u001b[39m\u001b[39m.\u001b[39mclick(\u001b[39m*\u001b[39mcoords)\n\u001b[1;32m---> 50\u001b[0m time\u001b[39m.\u001b[39;49msleep(SLEEP_DELAY\u001b[39m*\u001b[39;49m\u001b[39m10\u001b[39;49m)\n",
      "\u001b[1;31mKeyboardInterrupt\u001b[0m: "
     ]
    }
   ],
   "source": [
    "wait=0\n",
    "combat = 0\n",
    "grid_df =None\n",
    "watch_ad = True\n",
    "train_ai = False\n",
    "# Main loop\n",
    "while(1):\n",
    "    output = bot.battle_screen(True,True,floor=5)\n",
    "    if output[1]=='fighting':\n",
    "        watch_ad = True \n",
    "        wait = 0\n",
    "        combat+=1\n",
    "        if combat>50:\n",
    "            bot.restart_RR()\n",
    "            combat = 0\n",
    "            continue\n",
    "        battle_bar=trange(8)\n",
    "        for i in battle_bar:\n",
    "                time.sleep(0.2)\n",
    "                # Spawn units\n",
    "                bot.click(450,1360)\n",
    "                # Upgrade units\n",
    "                bot.mana_level([5,3,1],hero_power=True)\n",
    "                # Try to merge units\n",
    "                grid_df,unit_series,merge_series,df_groups,info = bot.try_merge(prev_grid=grid_df)\n",
    "                clear_output()\n",
    "                display([f'{combat}, {i+1}/8 {output[1]}, {info}', 'Average age: '+ str(grid_df['Age'].mean().round(2)),grid_df,merge_series,df_groups])\n",
    "        # Wait until late stage in combat and if consistency is ok, not stagnate save all units for ML model\n",
    "        if combat==25 and 5<grid_df['Age'].mean()<50 and train_ai:\n",
    "            bot_perception.add_grid_to_dataset()\n",
    "    else:\n",
    "        if watch_ad:\n",
    "            for i in range(5):\n",
    "                bot.watch_ads()\n",
    "            watch_ad = False\n",
    "        combat=0\n",
    "        wait+=1\n",
    "        if wait>40:\n",
    "            print('RESTARTING')\n",
    "            bot.restart_RR(),\n",
    "            \n",
    "            wait=0\n",
    "        print(output[1],'wait count:',wait)"
   ]
  },
  {
   "cell_type": "code",
   "execution_count": null,
   "metadata": {},
   "outputs": [],
   "source": [
    "10<grid_df['Age'].mean()>40"
   ]
  },
  {
   "cell_type": "markdown",
   "metadata": {},
   "source": [
    "# Play Game"
   ]
  },
  {
   "cell_type": "code",
   "execution_count": 2,
   "metadata": {},
   "outputs": [],
   "source": [
    "# Restart game\n",
    "bot.restart_RR()"
   ]
  },
  {
   "cell_type": "markdown",
   "metadata": {},
   "source": [
    "## Quick restart"
   ]
  },
  {
   "cell_type": "code",
   "execution_count": 2,
   "metadata": {},
   "outputs": [],
   "source": [
    "# Drop co-op game\n",
    "bot.restart_RR(quick_disconnect=True)"
   ]
  },
  {
   "cell_type": "code",
   "execution_count": null,
   "metadata": {},
   "outputs": [],
   "source": []
  }
 ],
 "metadata": {
  "interpreter": {
   "hash": "222f52f3d4ea82340b8e438915cd2cce29310e9a34a09f1d931c12bfa7062449"
  },
  "kernelspec": {
   "display_name": "Python 3.9.12 ('Rush-Royale-Bot')",
   "language": "python",
   "name": "python3"
  },
  "language_info": {
   "codemirror_mode": {
    "name": "ipython",
    "version": 3
   },
   "file_extension": ".py",
   "mimetype": "text/x-python",
   "name": "python",
   "nbconvert_exporter": "python",
   "pygments_lexer": "ipython3",
   "version": "3.9.12"
  },
  "orig_nbformat": 4
 },
 "nbformat": 4,
 "nbformat_minor": 2
}
