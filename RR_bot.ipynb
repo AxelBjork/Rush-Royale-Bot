{
 "cells": [
  {
   "cell_type": "markdown",
   "metadata": {},
   "source": [
    "##SETUP"
   ]
  },
  {
   "cell_type": "code",
   "execution_count": 40,
   "metadata": {},
   "outputs": [],
   "source": [
    "import os\n",
    "import time\n",
    "import timeit\n",
    "import pandas as pd\n",
    "import random\n",
    "import numpy as np\n",
    "# Android ADB\n",
    "from scrcpy import Client, const\n",
    "from subprocess import check_output,Popen\n",
    "import threading\n",
    "\n",
    "# Image processing\n",
    "from PIL import Image\n",
    "import cv2\n",
    "import pytesseract\n",
    "# Notebook\n",
    "from IPython.display import display,clear_output\n",
    "from tqdm.notebook import trange, tqdm\n",
    "\n",
    "import sys\n",
    "# Start Scrcpy once per restart\n",
    "if 'importlib' not in sys.modules:  \n",
    "    start_scrcpy=True\n",
    "    if start_scrcpy:\n",
    "        proc = Popen(['C:\\Programs\\Scrcpy\\scrcpy'], shell=True)\n",
    "        time.sleep(6) # <-- sleep for 6''\n",
    "        proc.terminate() # <-- terminate the process\n",
    "# internal\n",
    "import bot_core\n",
    "import bot_perception\n",
    "\n",
    "import importlib\n",
    "importlib.reload(bot_core)\n",
    "importlib.reload(bot_perception)\n",
    "\n",
    "\n",
    "SLEEP_DELAY=0.1\n",
    "\n",
    "\n",
    "bot = bot_core.Bot()"
   ]
  },
  {
   "cell_type": "code",
   "execution_count": 28,
   "metadata": {},
   "outputs": [
    {
     "name": "stdout",
     "output_type": "stream",
     "text": [
      "Watched all ads!\n"
     ]
    }
   ],
   "source": [
    "def refresh_shop(self):\n",
    "    self.click_button((100,1500)) # Click store button\n",
    "    [self.swipe([0,0],[2,0]) for i in range(20)] # swipe to top\n",
    "    self.swipe([2,0],[0,0]) # Swipe down once\n",
    "    time.sleep(1)\n",
    "    self.click(30,150) # stop scroll\n",
    "    avail_buttons = self.get_current_icons(available=True)\n",
    "    if (avail_buttons == 'refresh_button.png').any(axis=None):\n",
    "        pos = bot_core.get_button_pos(avail_buttons,'refresh_button.png')\n",
    "        # Buy first and last item (possible legendary) before refresh\n",
    "        #self.click_button(pos-[300,820]) # Click first (free) item\n",
    "        #self.click(400,1150) # buy\n",
    "        #self.click(30,150) # remove pop-up\n",
    "        #self.click_button(pos+[400,-400]) # Click first (free) item\n",
    "        #self.click(400,1150) # buy\n",
    "        print('Bought!')\n",
    "        self.click_button(pos)\n",
    "        print('refreshed!')\n",
    "    return avail_buttons\n",
    "\n",
    "def watch_ads(self):\n",
    "    avail_buttons = self.get_current_icons(available=True)\n",
    "    # Watch ad if available\n",
    "    if (avail_buttons == 'quest_done.png').any(axis=None):\n",
    "        pos = bot_core.get_button_pos(avail_buttons,'quest_done.png')\n",
    "        self.click_button(pos)\n",
    "        self.click(700,600) # collect second completed quest\n",
    "        self.click(700,400) # collect second completed quest\n",
    "        [self.click(150,250) for i in range(2)] # click dailies twice\n",
    "        self.click(420,420) # collect ad chest\n",
    "    elif (avail_buttons == 'ad_season.png').any(axis=None):\n",
    "        pos = bot_core.get_button_pos(avail_buttons,'ad_season.png')\n",
    "        self.click_button(pos)\n",
    "    elif (avail_buttons == 'ad_pve.png').any(axis=None):\n",
    "        pos = bot_core.get_button_pos(avail_buttons,'ad_pve.png')\n",
    "        self.click_button(pos)\n",
    "    elif (avail_buttons == 'store_refresh.png').any(axis=None):\n",
    "        refresh_shop(self)\n",
    "    elif (avail_buttons == 'refresh_button.png').any(axis=None):\n",
    "        refresh_shop(self,buy=True)\n",
    "    else:\n",
    "        print('Watched all ads!')\n",
    "        return\n",
    "    # Keep watching until back in menu\n",
    "    for i in range(20):\n",
    "        avail_buttons,status = self.battle_screen()\n",
    "        if status =='menu':\n",
    "            print('FINISHED AD')\n",
    "            return\n",
    "        time.sleep(2)\n",
    "        self.click(870,30) # skip forward/click X\n",
    "        self.click(870,100) # click X playstore popup\n",
    "        self.shell(f'input keyevent {const.KEYCODE_BACK}') #Force back\n",
    "        print('AD TIME',i,status)\n",
    "    # Restart game if can't escape ad\n",
    "    self.restart_RR()\n",
    "watch_ads(bot)"
   ]
  },
  {
   "cell_type": "markdown",
   "metadata": {},
   "source": [
    "## RUN BOT"
   ]
  },
  {
   "cell_type": "code",
   "execution_count": 41,
   "metadata": {},
   "outputs": [
    {
     "data": {
      "text/plain": [
       "['1, 1/8 fighting, need more units!',\n",
       " 'Average age: 3.53',\n",
       "     grid_id        unit  probability  rank  rank_error position  Age\n",
       " 0    icon_0   empty.png        999.0     0         0.0   [0, 0]  4.0\n",
       " 1    icon_1   empty.png        999.0     0         0.0   [0, 1]  5.0\n",
       " 2    icon_2   empty.png        700.0     0         0.0   [0, 2]  5.0\n",
       " 3    icon_3  hunter.png        440.0     1     11860.0   [0, 3]  0.0\n",
       " 4    icon_4   empty.png        999.0     0         0.0   [0, 4]  5.0\n",
       " 5    icon_5   empty.png        999.0     0         0.0   [1, 0]  1.0\n",
       " 6    icon_6   empty.png        999.0     0         0.0   [1, 1]  1.0\n",
       " 7    icon_7   empty.png        999.0     0         0.0   [1, 2]  1.0\n",
       " 8    icon_8   empty.png        999.0     0         0.0   [1, 3]  5.0\n",
       " 9    icon_9   empty.png        999.0     0         0.0   [1, 4]  1.0\n",
       " 10  icon_10   empty.png        999.0     0         0.0   [2, 0]  5.0\n",
       " 11  icon_11   empty.png        999.0     0         0.0   [2, 1]  5.0\n",
       " 12  icon_12   empty.png        700.0     0         0.0   [2, 2]  5.0\n",
       " 13  icon_13   empty.png        999.0     0         0.0   [2, 3]  5.0\n",
       " 14  icon_14   empty.png        999.0     0         0.0   [2, 4]  5.0,\n",
       " unit       rank\n",
       " empty.png  0       14\n",
       " Name: unit, dtype: int64,\n",
       " None]"
      ]
     },
     "metadata": {},
     "output_type": "display_data"
    }
   ],
   "source": [
    "wait=0\n",
    "combat = 0\n",
    "grid_df =None\n",
    "watch_ad = True\n",
    "# Main loop\n",
    "while(1):\n",
    "    output = bot.battle_screen(True,True,floor=5)\n",
    "    if output[1]=='fighting':\n",
    "        watch_ad = True \n",
    "        wait = 0\n",
    "        combat+=1\n",
    "        if combat>50:\n",
    "            bot.restart_RR()\n",
    "            combat = 0\n",
    "            continue\n",
    "        battle_bar=trange(8)\n",
    "        for i in battle_bar:\n",
    "                time.sleep(0.2)\n",
    "                # Spawn units\n",
    "                bot.click(450,1360)\n",
    "                # Upgrade units\n",
    "                bot.mana_level([3,1,5,4],hero_power=True)\n",
    "                # Try to merge units\n",
    "                grid_df,unit_series,merge_series,df_groups,info = bot.try_merge(prev_grid=grid_df)\n",
    "                clear_output()\n",
    "                display([f'{combat}, {i+1}/8 {output[1]}, {info}', 'Average age: '+ str(grid_df['Age'].mean().round(2)),grid_df,merge_series,df_groups])\n",
    "    else:\n",
    "        if watch_ad:\n",
    "            for i in range(5):\n",
    "                watch_ads(bot)\n",
    "            watch_ad = False\n",
    "        combat=0\n",
    "        wait+=1\n",
    "        if wait>40:\n",
    "            print('RESTARTING')\n",
    "            bot.restart_RR()\n",
    "            wait=0\n",
    "        print(output[1],'wait count:',wait)"
   ]
  },
  {
   "cell_type": "markdown",
   "metadata": {},
   "source": [
    "# Play Game"
   ]
  },
  {
   "cell_type": "code",
   "execution_count": 2,
   "metadata": {},
   "outputs": [],
   "source": [
    "# Restart game\n",
    "bot.restart_RR()"
   ]
  },
  {
   "cell_type": "markdown",
   "metadata": {},
   "source": [
    "## Quick restart"
   ]
  },
  {
   "cell_type": "code",
   "execution_count": 20,
   "metadata": {},
   "outputs": [],
   "source": [
    "# Drop co-op game\n",
    "for i in range(30):\n",
    "    bot.restart_RR(True)"
   ]
  },
  {
   "cell_type": "code",
   "execution_count": null,
   "metadata": {},
   "outputs": [],
   "source": []
  }
 ],
 "metadata": {
  "interpreter": {
   "hash": "222f52f3d4ea82340b8e438915cd2cce29310e9a34a09f1d931c12bfa7062449"
  },
  "kernelspec": {
   "display_name": "Python 3.9.12 ('Rush-Royale-Bot')",
   "language": "python",
   "name": "python3"
  },
  "language_info": {
   "codemirror_mode": {
    "name": "ipython",
    "version": 3
   },
   "file_extension": ".py",
   "mimetype": "text/x-python",
   "name": "python",
   "nbconvert_exporter": "python",
   "pygments_lexer": "ipython3",
   "version": "3.9.12"
  },
  "orig_nbformat": 4
 },
 "nbformat": 4,
 "nbformat_minor": 2
}
