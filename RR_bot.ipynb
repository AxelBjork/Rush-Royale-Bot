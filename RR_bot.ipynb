{
 "cells": [
  {
   "cell_type": "markdown",
   "metadata": {},
   "source": [
    "##SETUP"
   ]
  },
  {
   "cell_type": "code",
   "execution_count": 21,
   "metadata": {},
   "outputs": [],
   "source": [
    "import time\n",
    "import pandas as pd\n",
    "# Android ADB\n",
    "from subprocess import check_output,Popen\n",
    "# Notebook\n",
    "from IPython.display import display,clear_output\n",
    "from tqdm.notebook import trange, tqdm\n",
    "\n",
    "import sys\n",
    "# Start Scrcpy once per restart\n",
    "if 'started_scrcpy' not in vars():\n",
    "    started_scrcpy=True\n",
    "    proc = Popen(['C:\\Programs\\Scrcpy\\scrcpy'], shell=True)\n",
    "    time.sleep(6) # <-- sleep for 6''\n",
    "    proc.terminate() # <-- terminate the process (Scrcpy window can be closed)\n",
    "# internal\n",
    "sys.path.append('./src')\n",
    "import bot_core\n",
    "import bot_perception\n",
    "\n",
    "import importlib\n",
    "[importlib.reload(lib) for lib in [bot_core,bot_perception] ]\n",
    "\n",
    "\n",
    "# Selected units in deck (order does not matter)\n",
    "#sel_units= ['crystal.png','chemist.png','monkey.png','dryad.png','hunter.png']\n",
    "sel_units= ['cauldron.png','bruser.png','harlequin.png','dryad.png','zealot.png']\n",
    "bot_core.select_units(sel_units,show=False)\n",
    "\n",
    "bot = bot_core.Bot()"
   ]
  },
  {
   "cell_type": "code",
   "execution_count": 7,
   "metadata": {},
   "outputs": [
    {
     "name": "stdout",
     "output_type": "stream",
     "text": [
      "['alchemist.png', 'archer.png', 'banner.png', 'blade_dancer.png', 'bruser.png', 'catapult.png', 'cauldron.png', 'chemist.png', 'clock.png', 'cold_mage.png', 'corsair.png', 'crystal.png', 'cultist.png', 'cultist_off.png', 'demo.png', 'demon_hunter.png', 'dryad.png', 'empty.png', 'engineer.png', 'executioner.png', 'fire_mage.png', 'flinger.png', 'gargoyle.png', 'harlequin.png', 'hex.png', 'hunter.png', 'inquisitor.png', 'ivy.png', 'knight_statue.png', 'lightning.png', 'meteor.png', 'mime.png', 'monkey.png', 'old', 'old_icon', 'poisoner.png', 'portal_keeper.png', 'portal_mage.png', 'priest.png', 'pyro.png', 'reaper.png', 'rogue.png', 'sentry.png', 'shaman.png', 'sharpshooter.png', 'sharpstone.png', 'summoner.png', 'thunder.png', 'time_keeper.png', 'trapper.png', 'unit_rank', 'vampire.png', 'wind_arch.png', 'witch_doc.png', 'zealot.png']\n",
      "Chosen:\n",
      " ['cauldron.png', 'knight_statue.png', 'harlequin.png', 'dryad.png', 'zealot.png']\n"
     ]
    }
   ],
   "source": [
    "bot_core.select_units(sel_units,show=True)"
   ]
  },
  {
   "cell_type": "markdown",
   "metadata": {},
   "source": [
    "## RUN BOT"
   ]
  },
  {
   "cell_type": "code",
   "execution_count": 23,
   "metadata": {},
   "outputs": [
    {
     "data": {
      "text/plain": [
       "['10, 1/8 fighting, need more units!',\n",
       " 'Average age: 10.93',\n",
       "    grid_pos           unit  probability  rank  rank_prob   Age\n",
       " 0    [0, 0]      empty.png        999.0     0   1.000000   4.0\n",
       " 1    [0, 1]     bruser.png        587.0     3   1.000000  24.0\n",
       " 2    [0, 2]     bruser.png        592.0     2   1.000000   7.0\n",
       " 3    [0, 3]      dryad.png        592.0     1   1.000000   3.0\n",
       " 4    [0, 4]      empty.png        700.0     1   0.999957   1.0\n",
       " 5    [1, 0]      dryad.png        589.0     1   0.999998   2.0\n",
       " 6    [1, 1]     zealot.png        349.0     3   1.000000   4.0\n",
       " 7    [1, 2]      empty.png        700.0     4   1.000000   0.0\n",
       " 8    [1, 3]     zealot.png        328.0     1   1.000000   0.0\n",
       " 9    [1, 4]      dryad.png        218.0     1   1.000000  16.0\n",
       " 10   [2, 0]  harlequin.png        173.0     3   1.000000  10.0\n",
       " 11   [2, 1]     bruser.png        621.0     3   1.000000  24.0\n",
       " 12   [2, 2]     zealot.png        404.0     4   1.000000  40.0\n",
       " 13   [2, 3]      empty.png        999.0     0   1.000000  10.0\n",
       " 14   [2, 4]     zealot.png        337.0     2   1.000000  19.0,\n",
       " unit        rank\n",
       " dryad.png   1       3\n",
       " bruser.png  3       2\n",
       " empty.png   0       2\n",
       " Name: unit, dtype: int64,\n",
       " None]"
      ]
     },
     "metadata": {},
     "output_type": "display_data"
    }
   ],
   "source": [
    "wait=0\n",
    "combat = 0\n",
    "grid_df =None\n",
    "watch_ad = True\n",
    "train_ai = False\n",
    "# Main loop\n",
    "while(1):\n",
    "    output = bot.battle_screen(start=False)\n",
    "    if output[1]=='fighting':\n",
    "        watch_ad = True \n",
    "        wait = 0\n",
    "        combat+=1\n",
    "        if combat>50:\n",
    "            bot.restart_RR()\n",
    "            combat = 0\n",
    "            continue\n",
    "        battle_bar=trange(8)\n",
    "        for i in battle_bar:\n",
    "                time.sleep(0.2)\n",
    "                # Upgrade units\n",
    "                bot.mana_level([5,2,1],hero_power=True)\n",
    "                # Spawn units\n",
    "                bot.click(450,1360)\n",
    "                # Try to merge units\n",
    "                grid_df,unit_series,merge_series,df_groups,info = bot.try_merge(prev_grid=grid_df)\n",
    "                clear_output()\n",
    "                display([f'{combat}, {i+1}/8 {output[1]}, {info}', 'Average age: '+ str(grid_df['Age'].mean().round(2)),grid_df,merge_series,df_groups])\n",
    "        # Wait until late stage in combat and if consistency is ok, not stagnate save all units for ML model\n",
    "        if combat==25 and 5<grid_df['Age'].mean()<50 and train_ai:\n",
    "            bot_perception.add_grid_to_dataset()\n",
    "    elif output[1]=='home' and watch_ad:\n",
    "        for i in range(5):\n",
    "            bot.watch_ads()\n",
    "        watch_ad = False\n",
    "    else:\n",
    "        combat=0\n",
    "        output = bot.battle_screen(start=True,pve=True,floor=5)\n",
    "        wait+=1\n",
    "        if wait>40:\n",
    "            print('RESTARTING')\n",
    "            bot.restart_RR(),\n",
    "            \n",
    "            wait=0\n",
    "        print(output[1],'wait count:',wait)"
   ]
  },
  {
   "cell_type": "code",
   "execution_count": null,
   "metadata": {},
   "outputs": [],
   "source": []
  },
  {
   "cell_type": "code",
   "execution_count": 18,
   "metadata": {},
   "outputs": [
    {
     "name": "stdout",
     "output_type": "stream",
     "text": [
      "Sat Jul 16 14:07:22 2022    profile.txt\n",
      "\n",
      "         47663 function calls (47194 primitive calls) in 0.133 seconds\n",
      "\n",
      "   Ordered by: internal time\n",
      "   List reduced from 939 to 5 due to restriction <5>\n",
      "\n",
      "   ncalls  tottime  percall  cumtime  percall filename:lineno(function)\n",
      "      110    0.051    0.000    0.051    0.000 {method 'detectAndCompute' of 'cv2.Feature2D' objects}\n",
      "       85    0.033    0.000    0.033    0.000 {imread}\n",
      "       15    0.003    0.000    0.003    0.000 {Canny}\n",
      "       50    0.003    0.000    0.003    0.000 {method 'match' of 'cv2.DescriptorMatcher' objects}\n",
      "       15    0.003    0.000    0.003    0.000 {built-in method _pickle.load}\n",
      "\n",
      "\n"
     ]
    },
    {
     "data": {
      "text/plain": [
       "<pstats.Stats at 0x204a824a100>"
      ]
     },
     "execution_count": 18,
     "metadata": {},
     "output_type": "execute_result"
    }
   ],
   "source": [
    "# profile bot.try_merge\n",
    "import cProfile\n",
    "cProfile.run('bot.try_merge(prev_grid=grid_df)','profile.txt')\n",
    "# sort by time\n",
    "import pstats\n",
    "p = pstats.Stats('profile.txt')\n",
    "p.sort_stats('time').print_stats(5)\n"
   ]
  },
  {
   "cell_type": "markdown",
   "metadata": {},
   "source": [
    "## View perception"
   ]
  },
  {
   "cell_type": "code",
   "execution_count": 46,
   "metadata": {},
   "outputs": [
    {
     "data": {
      "text/plain": [
       "['9 Average age: + 3.0',\n",
       "     grid_id           unit  probability  rank  rank_prob position  Age\n",
       " 0    icon_0      empty.png        700.0     0   0.610355   [0, 0]  9.0\n",
       " 1    icon_1      empty.png        700.0     3   0.550593   [0, 1]  1.0\n",
       " 2    icon_2      empty.png        700.0     3   0.318747   [0, 2]  1.0\n",
       " 3    icon_3      empty.png        700.0     0   0.547471   [0, 3]  1.0\n",
       " 4    icon_4      empty.png        700.0     0   0.475457   [0, 4]  9.0\n",
       " 5    icon_5  harlequin.png        699.0     1   0.236596   [1, 0]  1.0\n",
       " 6    icon_6      empty.png        999.0     4   0.193083   [1, 1]  1.0\n",
       " 7    icon_7      empty.png        999.0     0   0.496129   [1, 2]  5.0\n",
       " 8    icon_8      empty.png        700.0     0   0.970204   [1, 3]  2.0\n",
       " 9    icon_9      empty.png        700.0     5   0.466748   [1, 4]  1.0\n",
       " 10  icon_10      empty.png        700.0     4   0.388355   [2, 0]  1.0\n",
       " 11  icon_11      empty.png        999.0     0   0.235360   [2, 1]  9.0\n",
       " 12  icon_12      empty.png        999.0     3   0.222036   [2, 2]  1.0\n",
       " 13  icon_13      empty.png        700.0     2   0.356160   [2, 3]  1.0\n",
       " 14  icon_14      empty.png        999.0     0   0.927545   [2, 4]  2.0]"
      ]
     },
     "metadata": {},
     "output_type": "display_data"
    },
    {
     "ename": "KeyboardInterrupt",
     "evalue": "",
     "output_type": "error",
     "traceback": [
      "\u001b[1;31m---------------------------------------------------------------------------\u001b[0m",
      "\u001b[1;31mKeyboardInterrupt\u001b[0m                         Traceback (most recent call last)",
      "\u001b[1;32mc:\\Code\\Rush-Royale-Bot\\RR_bot.ipynb Cell 6\u001b[0m in \u001b[0;36m<cell line: 1>\u001b[1;34m()\u001b[0m\n\u001b[0;32m      <a href='vscode-notebook-cell:/c%3A/Code/Rush-Royale-Bot/RR_bot.ipynb#ch0000010?line=0'>1</a>\u001b[0m \u001b[39mfor\u001b[39;00m i \u001b[39min\u001b[39;00m \u001b[39mrange\u001b[39m(\u001b[39m200\u001b[39m):\n\u001b[1;32m----> <a href='vscode-notebook-cell:/c%3A/Code/Rush-Royale-Bot/RR_bot.ipynb#ch0000010?line=1'>2</a>\u001b[0m     names\u001b[39m=\u001b[39mbot\u001b[39m.\u001b[39;49mscan_grid(new\u001b[39m=\u001b[39;49m\u001b[39mTrue\u001b[39;49;00m)\n\u001b[0;32m      <a href='vscode-notebook-cell:/c%3A/Code/Rush-Royale-Bot/RR_bot.ipynb#ch0000010?line=2'>3</a>\u001b[0m     time\u001b[39m.\u001b[39msleep(\u001b[39m2\u001b[39m)\n\u001b[0;32m      <a href='vscode-notebook-cell:/c%3A/Code/Rush-Royale-Bot/RR_bot.ipynb#ch0000010?line=3'>4</a>\u001b[0m     grid_df\u001b[39m=\u001b[39mbot_perception\u001b[39m.\u001b[39mgrid_status(names,prev_grid\u001b[39m=\u001b[39mgrid_df)\n",
      "File \u001b[1;32mc:\\Code\\Rush-Royale-Bot\\bot_core.py:166\u001b[0m, in \u001b[0;36mBot.scan_grid\u001b[1;34m(self, new)\u001b[0m\n\u001b[0;32m    164\u001b[0m \u001b[39mfor\u001b[39;00m i \u001b[39min\u001b[39;00m \u001b[39mrange\u001b[39m(\u001b[39mlen\u001b[39m(box_list)):\n\u001b[0;32m    165\u001b[0m     file_name \u001b[39m=\u001b[39m \u001b[39mf\u001b[39m\u001b[39m'\u001b[39m\u001b[39mOCR_inputs/icon_\u001b[39m\u001b[39m{\u001b[39;00m\u001b[39mstr\u001b[39m(i)\u001b[39m}\u001b[39;00m\u001b[39m.png\u001b[39m\u001b[39m'\u001b[39m\n\u001b[1;32m--> 166\u001b[0m     \u001b[39mself\u001b[39;49m\u001b[39m.\u001b[39;49mcrop_img(\u001b[39m*\u001b[39;49mbox_list[i],\u001b[39m*\u001b[39;49mbox_size,name\u001b[39m=\u001b[39;49mfile_name)\n\u001b[0;32m    167\u001b[0m     names\u001b[39m.\u001b[39mappend(file_name)\n\u001b[0;32m    168\u001b[0m \u001b[39mreturn\u001b[39;00m names\n",
      "File \u001b[1;32mc:\\Code\\Rush-Royale-Bot\\bot_core.py:82\u001b[0m, in \u001b[0;36mBot.crop_img\u001b[1;34m(self, x, y, dx, dy, name)\u001b[0m\n\u001b[0;32m     80\u001b[0m \u001b[39mdef\u001b[39;00m \u001b[39mcrop_img\u001b[39m(\u001b[39mself\u001b[39m, x, y, dx, dy, name\u001b[39m=\u001b[39m\u001b[39m'\u001b[39m\u001b[39micon.png\u001b[39m\u001b[39m'\u001b[39m):\n\u001b[0;32m     81\u001b[0m     \u001b[39m# Load screen\u001b[39;00m\n\u001b[1;32m---> 82\u001b[0m     img_rgb \u001b[39m=\u001b[39m cv2\u001b[39m.\u001b[39;49mimread(\u001b[39mself\u001b[39;49m\u001b[39m.\u001b[39;49mscreenshotName)\n\u001b[0;32m     83\u001b[0m     img_rgb \u001b[39m=\u001b[39m img_rgb[y:y \u001b[39m+\u001b[39m dy, x:x \u001b[39m+\u001b[39m dx]\n\u001b[0;32m     84\u001b[0m     \u001b[39m# Convert to grayscale (done internally by tessarct )\u001b[39;00m\n\u001b[0;32m     85\u001b[0m     \u001b[39m#img_rgb = cv2.cvtColor(img_rgb, cv2.COLOR_BGR2GRAY)\u001b[39;00m\n\u001b[0;32m     86\u001b[0m     \u001b[39m#(a, img_gray) = cv2.threshold(img_rgb, 127, 255, cv2.THRESH_BINARY)\u001b[39;00m\n",
      "\u001b[1;31mKeyboardInterrupt\u001b[0m: "
     ]
    }
   ],
   "source": [
    "for i in range(200):\n",
    "    names=bot.scan_grid(new=True)\n",
    "    time.sleep(2)\n",
    "    grid_df=bot_perception.grid_status(names,prev_grid=grid_df)\n",
    "    clear_output()\n",
    "    display([f'{i} Average age: + {str(grid_df[\"Age\"].mean().round(2))}',grid_df])\n"
   ]
  },
  {
   "cell_type": "markdown",
   "metadata": {},
   "source": [
    "## Quick restart"
   ]
  },
  {
   "cell_type": "code",
   "execution_count": 3,
   "metadata": {},
   "outputs": [],
   "source": [
    "# Drop co-op game\n",
    "bot.restart_RR(quick_disconnect=True)"
   ]
  },
  {
   "cell_type": "code",
   "execution_count": 2,
   "metadata": {},
   "outputs": [],
   "source": [
    "# Restart game\n",
    "bot.restart_RR()"
   ]
  }
 ],
 "metadata": {
  "interpreter": {
   "hash": "222f52f3d4ea82340b8e438915cd2cce29310e9a34a09f1d931c12bfa7062449"
  },
  "kernelspec": {
   "display_name": "Python 3.9.12 ('Rush-Royale-Bot')",
   "language": "python",
   "name": "python3"
  },
  "language_info": {
   "codemirror_mode": {
    "name": "ipython",
    "version": 3
   },
   "file_extension": ".py",
   "mimetype": "text/x-python",
   "name": "python",
   "nbconvert_exporter": "python",
   "pygments_lexer": "ipython3",
   "version": "3.9.12"
  },
  "orig_nbformat": 4
 },
 "nbformat": 4,
 "nbformat_minor": 2
}
