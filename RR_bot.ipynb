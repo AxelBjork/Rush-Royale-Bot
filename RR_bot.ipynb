{
 "cells": [
  {
   "cell_type": "markdown",
   "metadata": {},
   "source": [
    "##SETUP"
   ]
  },
  {
   "cell_type": "code",
   "execution_count": 19,
   "metadata": {},
   "outputs": [
    {
     "name": "stdout",
     "output_type": "stream",
     "text": [
      "['alchemist.png', 'archer.png', 'banner.png', 'blade_dancer.png', 'bruser.png', 'catapult.png', 'cauldron.png', 'chemist.png', 'clock.png', 'cold_mage.png', 'corsair.png', 'crystal.png', 'cultist.png', 'cultist_off.png', 'demo.png', 'demon_hunter.png', 'dryad.png', 'empty.png', 'engineer.png', 'executioner.png', 'fire_mage.png', 'flinger.png', 'gargoyle.png', 'harlequin.png', 'hex.png', 'hunter.png', 'inquisitor.png', 'ivy.png', 'knight_statue.png', 'lightning.png', 'meteor.png', 'mime.png', 'monkey.png', 'old_icon', 'old_rank', 'poisoner.png', 'portal_keeper.png', 'portal_mage.png', 'priest.png', 'pyro.png', 'reaper.png', 'rogue.png', 'sentry.png', 'shaman.png', 'sharpshooter.png', 'sharpstone.png', 'summoner.png', 'thunder.png', 'time_keeper.png', 'trapper.png', 'vampire.png', 'wind_arch.png', 'witch_doc.png', 'zealot.png']\n",
      "Chosen:\n",
      " ['crystal.png', 'chemist.png', 'hex.png', 'dryad.png', 'hunter.png']\n"
     ]
    }
   ],
   "source": [
    "import time\n",
    "import pandas as pd\n",
    "# Android ADB\n",
    "from subprocess import check_output,Popen\n",
    "# Notebook\n",
    "from IPython.display import display,clear_output\n",
    "from tqdm.notebook import trange, tqdm\n",
    "\n",
    "import sys\n",
    "# Start Scrcpy once per restart\n",
    "if 'started_scrcpy' not in vars():\n",
    "    started_scrcpy=True\n",
    "    proc = Popen(['C:\\Programs\\Scrcpy\\scrcpy'], shell=True)\n",
    "    time.sleep(6) # <-- sleep for 6''\n",
    "    proc.terminate() # <-- terminate the process (Scrcpy window can be closed)\n",
    "# internal\n",
    "import bot_core\n",
    "import bot_perception\n",
    "\n",
    "import importlib\n",
    "[importlib.reload(lib) for lib in [bot_core,bot_perception] ]\n",
    "\n",
    "\n",
    "# Selected units in deck (order does not matter)\n",
    "sel_units= ['crystal.png','chemist.png','monkey.png','dryad.png','hunter.png']\n",
    "bot_core.select_units(sel_units)\n",
    "\n",
    "bot = bot_core.Bot()"
   ]
  },
  {
   "cell_type": "markdown",
   "metadata": {},
   "source": [
    "## RUN BOT"
   ]
  },
  {
   "cell_type": "code",
   "execution_count": 20,
   "metadata": {},
   "outputs": [
    {
     "data": {
      "text/plain": [
       "['30, 4/8 fighting, Full Grid - Merging!',\n",
       " 'Average age: 9.07',\n",
       "     grid_id         unit  probability  rank  rank_error position   Age\n",
       " 0    icon_0   hunter.png        203.0     2       365.0   [0, 0]   7.0\n",
       " 1    icon_1  chemist.png        503.0     1      6324.5   [0, 1]   1.0\n",
       " 2    icon_2  chemist.png        405.0     4       255.0   [0, 2]   8.0\n",
       " 3    icon_3   hunter.png        283.0     2       590.0   [0, 3]   0.0\n",
       " 4    icon_4   hunter.png        317.0     3        85.5   [0, 4]   0.0\n",
       " 5    icon_5   hunter.png        200.0     4       254.0   [1, 0]   6.0\n",
       " 6    icon_6   hunter.png        361.0     1      1115.5   [1, 1]   0.0\n",
       " 7    icon_7      hex.png        369.0     4       112.0   [1, 2]   8.0\n",
       " 8    icon_8  chemist.png        585.0     3       127.5   [1, 3]  89.0\n",
       " 9    icon_9      hex.png        287.0     5       568.5   [1, 4]   0.0\n",
       " 10  icon_10  crystal.png        325.0     3        88.5   [2, 0]   3.0\n",
       " 11  icon_11      hex.png        351.0     2       345.0   [2, 1]   3.0\n",
       " 12  icon_12   hunter.png        256.0     1      5251.0   [2, 2]   0.0\n",
       " 13  icon_13  crystal.png        256.0     3       118.5   [2, 3]  10.0\n",
       " 14  icon_14  crystal.png        313.0     5       109.5   [2, 4]   1.0,\n",
       " unit        rank\n",
       " hunter.png  1       2\n",
       "             2       2\n",
       " Name: unit, dtype: int64,\n",
       "     grid_id        unit  probability  rank  rank_error position  Age\n",
       " 12  icon_12  hunter.png        256.0     1      5251.0   [2, 2]  0.0\n",
       " 6    icon_6  hunter.png        361.0     1      1115.5   [1, 1]  0.0]"
      ]
     },
     "metadata": {},
     "output_type": "display_data"
    },
    {
     "ename": "KeyboardInterrupt",
     "evalue": "",
     "output_type": "error",
     "traceback": [
      "\u001b[1;31m---------------------------------------------------------------------------\u001b[0m",
      "\u001b[1;31mKeyboardInterrupt\u001b[0m                         Traceback (most recent call last)",
      "\u001b[1;32mc:\\Code\\Rush-Royale-Bot\\RR_bot.ipynb Cell 4'\u001b[0m in \u001b[0;36m<cell line: 7>\u001b[1;34m()\u001b[0m\n\u001b[0;32m     <a href='vscode-notebook-cell:/c%3A/Code/Rush-Royale-Bot/RR_bot.ipynb#ch0000003?line=21'>22</a>\u001b[0m bot\u001b[39m.\u001b[39mmana_level([\u001b[39m5\u001b[39m,\u001b[39m3\u001b[39m,\u001b[39m1\u001b[39m],hero_power\u001b[39m=\u001b[39m\u001b[39mTrue\u001b[39;00m)\n\u001b[0;32m     <a href='vscode-notebook-cell:/c%3A/Code/Rush-Royale-Bot/RR_bot.ipynb#ch0000003?line=22'>23</a>\u001b[0m \u001b[39m# Try to merge units\u001b[39;00m\n\u001b[1;32m---> <a href='vscode-notebook-cell:/c%3A/Code/Rush-Royale-Bot/RR_bot.ipynb#ch0000003?line=23'>24</a>\u001b[0m grid_df,unit_series,merge_series,df_groups,info \u001b[39m=\u001b[39m bot\u001b[39m.\u001b[39;49mtry_merge(prev_grid\u001b[39m=\u001b[39;49mgrid_df)\n\u001b[0;32m     <a href='vscode-notebook-cell:/c%3A/Code/Rush-Royale-Bot/RR_bot.ipynb#ch0000003?line=24'>25</a>\u001b[0m clear_output()\n\u001b[0;32m     <a href='vscode-notebook-cell:/c%3A/Code/Rush-Royale-Bot/RR_bot.ipynb#ch0000003?line=25'>26</a>\u001b[0m display([\u001b[39mf\u001b[39m\u001b[39m'\u001b[39m\u001b[39m{\u001b[39;00mcombat\u001b[39m}\u001b[39;00m\u001b[39m, \u001b[39m\u001b[39m{\u001b[39;00mi\u001b[39m+\u001b[39m\u001b[39m1\u001b[39m\u001b[39m}\u001b[39;00m\u001b[39m/8 \u001b[39m\u001b[39m{\u001b[39;00moutput[\u001b[39m1\u001b[39m]\u001b[39m}\u001b[39;00m\u001b[39m, \u001b[39m\u001b[39m{\u001b[39;00minfo\u001b[39m}\u001b[39;00m\u001b[39m'\u001b[39m, \u001b[39m'\u001b[39m\u001b[39mAverage age: \u001b[39m\u001b[39m'\u001b[39m\u001b[39m+\u001b[39m \u001b[39mstr\u001b[39m(grid_df[\u001b[39m'\u001b[39m\u001b[39mAge\u001b[39m\u001b[39m'\u001b[39m]\u001b[39m.\u001b[39mmean()\u001b[39m.\u001b[39mround(\u001b[39m2\u001b[39m)),grid_df,merge_series,df_groups])\n",
      "File \u001b[1;32mc:\\Code\\Rush-Royale-Bot\\bot_core.py:227\u001b[0m, in \u001b[0;36mBot.try_merge\u001b[1;34m(self, rank, prev_grid)\u001b[0m\n\u001b[0;32m    225\u001b[0m info\u001b[39m=\u001b[39m\u001b[39m'\u001b[39m\u001b[39m'\u001b[39m\n\u001b[0;32m    226\u001b[0m merge_df \u001b[39m=\u001b[39m\u001b[39mNone\u001b[39;00m\n\u001b[1;32m--> 227\u001b[0m names\u001b[39m=\u001b[39m\u001b[39mself\u001b[39;49m\u001b[39m.\u001b[39;49mscan_grid(new\u001b[39m=\u001b[39;49m\u001b[39mTrue\u001b[39;49;00m)\n\u001b[0;32m    228\u001b[0m grid_df\u001b[39m=\u001b[39mbot_perception\u001b[39m.\u001b[39mgrid_status(names,prev_grid\u001b[39m=\u001b[39mprev_grid)\n\u001b[0;32m    229\u001b[0m df_split,unit_series, df_groups, group_keys\u001b[39m=\u001b[39mgrid_meta_info(grid_df)\n",
      "File \u001b[1;32mc:\\Code\\Rush-Royale-Bot\\bot_core.py:155\u001b[0m, in \u001b[0;36mBot.scan_grid\u001b[1;34m(self, new)\u001b[0m\n\u001b[0;32m    153\u001b[0m \u001b[39mfor\u001b[39;00m i \u001b[39min\u001b[39;00m \u001b[39mrange\u001b[39m(\u001b[39mlen\u001b[39m(box_list)):\n\u001b[0;32m    154\u001b[0m     file_name \u001b[39m=\u001b[39m \u001b[39mf\u001b[39m\u001b[39m'\u001b[39m\u001b[39mOCR_inputs/icon_\u001b[39m\u001b[39m{\u001b[39;00m\u001b[39mstr\u001b[39m(i)\u001b[39m}\u001b[39;00m\u001b[39m.png\u001b[39m\u001b[39m'\u001b[39m\n\u001b[1;32m--> 155\u001b[0m     \u001b[39mself\u001b[39;49m\u001b[39m.\u001b[39;49mcrop_img(\u001b[39m*\u001b[39;49mbox_list[i],\u001b[39m*\u001b[39;49mbox_size,name\u001b[39m=\u001b[39;49mfile_name)\n\u001b[0;32m    156\u001b[0m     names\u001b[39m.\u001b[39mappend(file_name)\n\u001b[0;32m    157\u001b[0m \u001b[39mreturn\u001b[39;00m names\n",
      "File \u001b[1;32mc:\\Code\\Rush-Royale-Bot\\bot_core.py:82\u001b[0m, in \u001b[0;36mBot.crop_img\u001b[1;34m(self, x, y, dx, dy, name)\u001b[0m\n\u001b[0;32m     80\u001b[0m \u001b[39mdef\u001b[39;00m \u001b[39mcrop_img\u001b[39m(\u001b[39mself\u001b[39m, x, y, dx, dy, name\u001b[39m=\u001b[39m\u001b[39m'\u001b[39m\u001b[39micon.png\u001b[39m\u001b[39m'\u001b[39m):\n\u001b[0;32m     81\u001b[0m     \u001b[39m# Load screen\u001b[39;00m\n\u001b[1;32m---> 82\u001b[0m     img_rgb \u001b[39m=\u001b[39m cv2\u001b[39m.\u001b[39;49mimread(\u001b[39mself\u001b[39;49m\u001b[39m.\u001b[39;49mscreenshotName)\n\u001b[0;32m     83\u001b[0m     img_rgb \u001b[39m=\u001b[39m img_rgb[y:y \u001b[39m+\u001b[39m dy, x:x \u001b[39m+\u001b[39m dx]\n\u001b[0;32m     84\u001b[0m     \u001b[39m# Convert to grayscale (done internally by tessarct )\u001b[39;00m\n\u001b[0;32m     85\u001b[0m     \u001b[39m#img_rgb = cv2.cvtColor(img_rgb, cv2.COLOR_BGR2GRAY)\u001b[39;00m\n\u001b[0;32m     86\u001b[0m     \u001b[39m#(a, img_gray) = cv2.threshold(img_rgb, 127, 255, cv2.THRESH_BINARY)\u001b[39;00m\n",
      "\u001b[1;31mKeyboardInterrupt\u001b[0m: "
     ]
    }
   ],
   "source": [
    "wait=0\n",
    "combat = 0\n",
    "grid_df =None\n",
    "watch_ad = True\n",
    "# Main loop\n",
    "while(1):\n",
    "    output = bot.battle_screen(True,True,floor=5)\n",
    "    if output[1]=='fighting':\n",
    "        watch_ad = True \n",
    "        wait = 0\n",
    "        combat+=1\n",
    "        if combat>50:\n",
    "            bot.restart_RR()\n",
    "            combat = 0\n",
    "            continue\n",
    "        battle_bar=trange(8)\n",
    "        for i in battle_bar:\n",
    "                time.sleep(0.2)\n",
    "                # Spawn units\n",
    "                bot.click(450,1360)\n",
    "                # Upgrade units\n",
    "                bot.mana_level([5,3,1],hero_power=True)\n",
    "                # Try to merge units\n",
    "                grid_df,unit_series,merge_series,df_groups,info = bot.try_merge(prev_grid=grid_df)\n",
    "                clear_output()\n",
    "                display([f'{combat}, {i+1}/8 {output[1]}, {info}', 'Average age: '+ str(grid_df['Age'].mean().round(2)),grid_df,merge_series,df_groups])\n",
    "    else:\n",
    "        if watch_ad:\n",
    "            for i in range(5):\n",
    "                bot.watch_ads()\n",
    "            watch_ad = False\n",
    "        combat=0\n",
    "        wait+=1\n",
    "        if wait>40:\n",
    "            print('RESTARTING')\n",
    "            bot.restart_RR()\n",
    "            wait=0\n",
    "        print(output[1],'wait count:',wait)"
   ]
  },
  {
   "cell_type": "markdown",
   "metadata": {},
   "source": [
    "# Play Game"
   ]
  },
  {
   "cell_type": "code",
   "execution_count": 2,
   "metadata": {},
   "outputs": [],
   "source": [
    "# Restart game\n",
    "bot.restart_RR()"
   ]
  },
  {
   "cell_type": "markdown",
   "metadata": {},
   "source": [
    "## Quick restart"
   ]
  },
  {
   "cell_type": "code",
   "execution_count": 4,
   "metadata": {},
   "outputs": [],
   "source": [
    "# Drop co-op game\n",
    "bot.restart_RR(quick_disconnect=True)"
   ]
  },
  {
   "cell_type": "code",
   "execution_count": null,
   "metadata": {},
   "outputs": [],
   "source": []
  }
 ],
 "metadata": {
  "interpreter": {
   "hash": "222f52f3d4ea82340b8e438915cd2cce29310e9a34a09f1d931c12bfa7062449"
  },
  "kernelspec": {
   "display_name": "Python 3.9.12 ('Rush-Royale-Bot')",
   "language": "python",
   "name": "python3"
  },
  "language_info": {
   "codemirror_mode": {
    "name": "ipython",
    "version": 3
   },
   "file_extension": ".py",
   "mimetype": "text/x-python",
   "name": "python",
   "nbconvert_exporter": "python",
   "pygments_lexer": "ipython3",
   "version": "3.9.12"
  },
  "orig_nbformat": 4
 },
 "nbformat": 4,
 "nbformat_minor": 2
}
