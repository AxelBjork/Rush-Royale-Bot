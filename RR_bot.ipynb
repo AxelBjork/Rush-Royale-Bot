{
 "cells": [
  {
   "cell_type": "markdown",
   "metadata": {},
   "source": [
    "## SETUP"
   ]
  },
  {
   "cell_type": "code",
   "execution_count": 4,
   "metadata": {},
   "outputs": [
    {
     "data": {
      "application/vnd.jupyter.widget-view+json": {
       "model_id": "349765e30dad494da7c46ab355bc8df2",
       "version_major": 2,
       "version_minor": 0
      },
      "text/plain": [
       "  0%|          | 0/35639811 [00:00<?, ?it/s]"
      ]
     },
     "metadata": {},
     "output_type": "display_data"
    },
    {
     "name": "stdout",
     "output_type": "stream",
     "text": [
      "Scanning 127.0.0.1 Ports 48000 - 65000\n",
      "Started 5667 threads\n",
      "Ports Open: [49665, 49668, 49681, 49664, 50689, 50770, 51672, 53194, 54235, 55000, 56970, 57621, 61820, 49666, 49669, 54236, 49667]\n",
      "Found ADB device! emulator-5554\n"
     ]
    }
   ],
   "source": [
    "import time\n",
    "import pandas as pd\n",
    "# Android ADB\n",
    "from subprocess import check_output,Popen\n",
    "# Notebook\n",
    "from IPython.display import display,clear_output\n",
    "from tqdm.notebook import trange, tqdm\n",
    "import sys\n",
    "import logging\n",
    "import os\n",
    "# internal\n",
    "sys.path.append('./src')\n",
    "import bot_core\n",
    "import bot_perception\n",
    "import port_scan\n",
    "import bot_handler\n",
    "\n",
    "import importlib\n",
    "[importlib.reload(lib) for lib in [bot_core,bot_perception,port_scan,bot_handler]]\n",
    "\n",
    "logger = logging.getLogger(__name__)\n",
    "# Check if scrcpy is installed (or install it)\n",
    "if not bot_handler.check_scrcpy(logger):\n",
    "    raise Exception(\"Scrcpy could not be installed\")\n",
    "# Find device (should be emulator-5554 but some bluestacks installations are weird)\n",
    "device = port_scan.get_device()\n",
    "if device is None:\n",
    "    raise Exception(\"No device found!\")\n",
    "# Start Scrcpy once per restart\n",
    "if 'started_scrcpy' not in vars():\n",
    "    started_scrcpy=True\n",
    "    proc = Popen(['.scrcpy/scrcpy','-s',device], shell=True)\n",
    "    time.sleep(1) # <-- sleep for 1 second\n",
    "    proc.terminate() # <-- terminate the process (Scrcpy window can be closed)\n",
    "\n",
    "# Selected units in deck (order does not matter)\n",
    "#sel_units= ['crystal.png','chemist.png','monkey.png','dryad.png','hunter.png']\n",
    "sel_units= ['chemist.png','knight_statue.png','harlequin.png','dryad.png','demon_hunter.png']\n",
    "\n",
    "bot_handler.select_units(sel_units,show=False)\n",
    "bot = bot_core.Bot(device)"
   ]
  },
  {
   "cell_type": "code",
   "execution_count": 9,
   "metadata": {},
   "outputs": [
    {
     "name": "stdout",
     "output_type": "stream",
     "text": [
      "['alchemist.png', 'archer.png', 'banner.png', 'blade_dancer.png', 'bruser.png', 'bruser2.png', 'catapult.png', 'cauldron.png', 'chemist.png', 'clock.png', 'cold_mage.png', 'corsair.png', 'crystal.png', 'cultist.png', 'cultist_off.png', 'demo.png', 'demon_hunter.png', 'demon_hunter2.png', 'dryad.png', 'empty.png', 'engineer.png', 'executioner.png', 'fire_mage.png', 'flinger.png', 'gargoyle.png', 'harlequin.png', 'hex.png', 'hunter.png', 'inquisitor.png', 'ivy.png', 'knight_statue.png', 'lightning.png', 'meteor.png', 'mime.png', 'monkey.png', 'old_icon', 'poisoner.png', 'portal_keeper.png', 'portal_mage.png', 'priest.png', 'pyro.png', 'reaper.png', 'rogue.png', 'scrapper.png', 'sentry.png', 'shaman.png', 'sharpshooter.png', 'sharpstone.png', 'summoner.png', 'thunder.png', 'time_keeper.png', 'trapper.png', 'unit_rank', 'vampire.png', 'wind_arch.png', 'witch_doc.png', 'zealot.png']\n"
     ]
    }
   ],
   "source": [
    "print(os.listdir(\"all_units\"))"
   ]
  },
  {
   "cell_type": "markdown",
   "metadata": {},
   "source": [
    "## RUN BOT"
   ]
  },
  {
   "cell_type": "code",
   "execution_count": 6,
   "metadata": {},
   "outputs": [
    {
     "data": {
      "text/plain": [
       "['2, 8/8 fighting, need more units!',\n",
       " 'Average age: 9.53',\n",
       "    grid_pos              unit  u_prob  rank  r_prob   Age\n",
       " 0    [0, 0]         empty.png   0.000     0     1.0  15.0\n",
       " 1    [0, 1]         empty.png   0.000     0     1.0   2.0\n",
       " 2    [0, 2]         empty.png   0.000     0     1.0  15.0\n",
       " 3    [0, 3]     harlequin.png   0.925     1     1.0   7.0\n",
       " 4    [0, 4]  demon_hunter.png   0.827     1     1.0   5.0\n",
       " 5    [1, 0]       chemist.png   0.923     1     1.0  11.0\n",
       " 6    [1, 1]         dryad.png   0.901     1     1.0   9.0\n",
       " 7    [1, 2]         dryad.png   0.859     2     1.0   2.0\n",
       " 8    [1, 3]         dryad.png   0.903     1     1.0  12.0\n",
       " 9    [1, 4]       chemist.png   0.917     1     1.0   0.0\n",
       " 10   [2, 0]         empty.png   0.000     0     1.0  15.0\n",
       " 11   [2, 1]         empty.png   0.000     0     1.0  15.0\n",
       " 12   [2, 2]         empty.png   0.000     0     1.0  15.0\n",
       " 13   [2, 3]         dryad.png   0.866     1     1.0   6.0\n",
       " 14   [2, 4]  demon_hunter.png   0.834     1     1.0  14.0,\n",
       " unit              rank\n",
       " empty.png         0       6\n",
       " dryad.png         1       3\n",
       " chemist.png       1       2\n",
       " demon_hunter.png  1       2\n",
       " dryad.png         2       1\n",
       " harlequin.png     1       1\n",
       " Name: unit, dtype: int64,\n",
       " None]"
      ]
     },
     "metadata": {},
     "output_type": "display_data"
    },
    {
     "ename": "KeyboardInterrupt",
     "evalue": "",
     "output_type": "error",
     "traceback": [
      "\u001b[1;31m---------------------------------------------------------------------------\u001b[0m",
      "\u001b[1;31mKeyboardInterrupt\u001b[0m                         Traceback (most recent call last)",
      "\u001b[1;32mc:\\Code\\Rush-Royale-Bot\\RR_bot.ipynb Cell 5\u001b[0m in \u001b[0;36m<cell line: 8>\u001b[1;34m()\u001b[0m\n\u001b[0;32m      <a href='vscode-notebook-cell:/c%3A/Code/Rush-Royale-Bot/RR_bot.ipynb#W4sZmlsZQ%3D%3D?line=5'>6</a>\u001b[0m \u001b[39m# Main loop\u001b[39;00m\n\u001b[0;32m      <a href='vscode-notebook-cell:/c%3A/Code/Rush-Royale-Bot/RR_bot.ipynb#W4sZmlsZQ%3D%3D?line=6'>7</a>\u001b[0m \u001b[39mwhile\u001b[39;00m(\u001b[39m1\u001b[39m):\n\u001b[1;32m----> <a href='vscode-notebook-cell:/c%3A/Code/Rush-Royale-Bot/RR_bot.ipynb#W4sZmlsZQ%3D%3D?line=7'>8</a>\u001b[0m     output \u001b[39m=\u001b[39m bot\u001b[39m.\u001b[39;49mbattle_screen(start\u001b[39m=\u001b[39;49m\u001b[39mFalse\u001b[39;49;00m)\n\u001b[0;32m      <a href='vscode-notebook-cell:/c%3A/Code/Rush-Royale-Bot/RR_bot.ipynb#W4sZmlsZQ%3D%3D?line=8'>9</a>\u001b[0m     \u001b[39mif\u001b[39;00m output[\u001b[39m1\u001b[39m]\u001b[39m==\u001b[39m\u001b[39m'\u001b[39m\u001b[39mfighting\u001b[39m\u001b[39m'\u001b[39m:\n\u001b[0;32m     <a href='vscode-notebook-cell:/c%3A/Code/Rush-Royale-Bot/RR_bot.ipynb#W4sZmlsZQ%3D%3D?line=9'>10</a>\u001b[0m         watch_ad \u001b[39m=\u001b[39m \u001b[39mTrue\u001b[39;00m \n",
      "File \u001b[1;32mc:\\Code\\Rush-Royale-Bot\\./src\\bot_core.py:315\u001b[0m, in \u001b[0;36mBot.battle_screen\u001b[1;34m(self, start, pve, floor)\u001b[0m\n\u001b[0;32m    313\u001b[0m \u001b[39mdef\u001b[39;00m \u001b[39mbattle_screen\u001b[39m(\u001b[39mself\u001b[39m,start\u001b[39m=\u001b[39m\u001b[39mFalse\u001b[39;00m,pve\u001b[39m=\u001b[39m\u001b[39mTrue\u001b[39;00m,floor\u001b[39m=\u001b[39m\u001b[39m5\u001b[39m):\n\u001b[0;32m    314\u001b[0m     \u001b[39m# Scan screen for any key buttons\u001b[39;00m\n\u001b[1;32m--> 315\u001b[0m     df \u001b[39m=\u001b[39m \u001b[39mself\u001b[39;49m\u001b[39m.\u001b[39;49mget_current_icons(available\u001b[39m=\u001b[39;49m\u001b[39mTrue\u001b[39;49;00m)\n\u001b[0;32m    316\u001b[0m     \u001b[39mif\u001b[39;00m \u001b[39mnot\u001b[39;00m df\u001b[39m.\u001b[39mempty:\n\u001b[0;32m    317\u001b[0m         \u001b[39m# list of buttons\u001b[39;00m\n\u001b[0;32m    318\u001b[0m         \u001b[39mif\u001b[39;00m (df \u001b[39m==\u001b[39m \u001b[39m'\u001b[39m\u001b[39mfighting.png\u001b[39m\u001b[39m'\u001b[39m)\u001b[39m.\u001b[39many(axis\u001b[39m=\u001b[39m\u001b[39mNone\u001b[39;00m) \u001b[39mand\u001b[39;00m \u001b[39mnot\u001b[39;00m (df \u001b[39m==\u001b[39m \u001b[39m'\u001b[39m\u001b[39m0cont_button.png\u001b[39m\u001b[39m'\u001b[39m)\u001b[39m.\u001b[39many(axis\u001b[39m=\u001b[39m\u001b[39mNone\u001b[39;00m):\n",
      "File \u001b[1;32mc:\\Code\\Rush-Royale-Bot\\./src\\bot_core.py:129\u001b[0m, in \u001b[0;36mBot.get_current_icons\u001b[1;34m(self, new, available)\u001b[0m\n\u001b[0;32m    127\u001b[0m current_icons\u001b[39m=\u001b[39m[]\n\u001b[0;32m    128\u001b[0m \u001b[39m# Update screen and load screenshot as grayscale\u001b[39;00m\n\u001b[1;32m--> 129\u001b[0m \u001b[39mif\u001b[39;00m new: \u001b[39mself\u001b[39;49m\u001b[39m.\u001b[39;49mgetScreen()\n\u001b[0;32m    130\u001b[0m img_rgb \u001b[39m=\u001b[39m \u001b[39mself\u001b[39m\u001b[39m.\u001b[39mscreenRGB\n\u001b[0;32m    131\u001b[0m img_gray \u001b[39m=\u001b[39m cv2\u001b[39m.\u001b[39mcvtColor(img_rgb, cv2\u001b[39m.\u001b[39mCOLOR_BGR2GRAY)\n",
      "File \u001b[1;32mc:\\Code\\Rush-Royale-Bot\\./src\\bot_core.py:82\u001b[0m, in \u001b[0;36mBot.getScreen\u001b[1;34m(self)\u001b[0m\n\u001b[0;32m     80\u001b[0m \u001b[39mdef\u001b[39;00m \u001b[39mgetScreen\u001b[39m(\u001b[39mself\u001b[39m):\n\u001b[0;32m     81\u001b[0m     p\u001b[39m=\u001b[39mPopen([\u001b[39m\"\u001b[39m\u001b[39m.scrcpy/adb\u001b[39m\u001b[39m\"\u001b[39m,\u001b[39m'\u001b[39m\u001b[39m-s\u001b[39m\u001b[39m'\u001b[39m,\u001b[39mself\u001b[39m\u001b[39m.\u001b[39mdevice, \u001b[39m'\u001b[39m\u001b[39mshell\u001b[39m\u001b[39m'\u001b[39m,\u001b[39m'\u001b[39m\u001b[39m/system/bin/screencap\u001b[39m\u001b[39m'\u001b[39m, \u001b[39m'\u001b[39m\u001b[39m-p\u001b[39m\u001b[39m'\u001b[39m, \u001b[39m'\u001b[39m\u001b[39m/sdcard/bot_feed.png\u001b[39m\u001b[39m'\u001b[39m])\n\u001b[1;32m---> 82\u001b[0m     p\u001b[39m.\u001b[39;49mwait()\n\u001b[0;32m     83\u001b[0m     \u001b[39m# Using the adb command to upload the screenshot of the mobile phone to the current directory\u001b[39;00m\n\u001b[0;32m     84\u001b[0m     p\u001b[39m=\u001b[39mPopen([\u001b[39m\"\u001b[39m\u001b[39m.scrcpy/adb\u001b[39m\u001b[39m\"\u001b[39m,\u001b[39m'\u001b[39m\u001b[39m-s\u001b[39m\u001b[39m'\u001b[39m,\u001b[39mself\u001b[39m\u001b[39m.\u001b[39mdevice, \u001b[39m'\u001b[39m\u001b[39mpull\u001b[39m\u001b[39m'\u001b[39m, \u001b[39m'\u001b[39m\u001b[39m/sdcard/bot_feed.png\u001b[39m\u001b[39m'\u001b[39m])\n",
      "File \u001b[1;32m~\\AppData\\Local\\Programs\\Python\\Python39\\lib\\subprocess.py:1189\u001b[0m, in \u001b[0;36mPopen.wait\u001b[1;34m(self, timeout)\u001b[0m\n\u001b[0;32m   1187\u001b[0m     endtime \u001b[39m=\u001b[39m _time() \u001b[39m+\u001b[39m timeout\n\u001b[0;32m   1188\u001b[0m \u001b[39mtry\u001b[39;00m:\n\u001b[1;32m-> 1189\u001b[0m     \u001b[39mreturn\u001b[39;00m \u001b[39mself\u001b[39;49m\u001b[39m.\u001b[39;49m_wait(timeout\u001b[39m=\u001b[39;49mtimeout)\n\u001b[0;32m   1190\u001b[0m \u001b[39mexcept\u001b[39;00m \u001b[39mKeyboardInterrupt\u001b[39;00m:\n\u001b[0;32m   1191\u001b[0m     \u001b[39m# https://bugs.python.org/issue25942\u001b[39;00m\n\u001b[0;32m   1192\u001b[0m     \u001b[39m# The first keyboard interrupt waits briefly for the child to\u001b[39;00m\n\u001b[0;32m   1193\u001b[0m     \u001b[39m# exit under the common assumption that it also received the ^C\u001b[39;00m\n\u001b[0;32m   1194\u001b[0m     \u001b[39m# generated SIGINT and will exit rapidly.\u001b[39;00m\n\u001b[0;32m   1195\u001b[0m     \u001b[39mif\u001b[39;00m timeout \u001b[39mis\u001b[39;00m \u001b[39mnot\u001b[39;00m \u001b[39mNone\u001b[39;00m:\n",
      "File \u001b[1;32m~\\AppData\\Local\\Programs\\Python\\Python39\\lib\\subprocess.py:1470\u001b[0m, in \u001b[0;36mPopen._wait\u001b[1;34m(self, timeout)\u001b[0m\n\u001b[0;32m   1467\u001b[0m     timeout_millis \u001b[39m=\u001b[39m \u001b[39mint\u001b[39m(timeout \u001b[39m*\u001b[39m \u001b[39m1000\u001b[39m)\n\u001b[0;32m   1468\u001b[0m \u001b[39mif\u001b[39;00m \u001b[39mself\u001b[39m\u001b[39m.\u001b[39mreturncode \u001b[39mis\u001b[39;00m \u001b[39mNone\u001b[39;00m:\n\u001b[0;32m   1469\u001b[0m     \u001b[39m# API note: Returns immediately if timeout_millis == 0.\u001b[39;00m\n\u001b[1;32m-> 1470\u001b[0m     result \u001b[39m=\u001b[39m _winapi\u001b[39m.\u001b[39;49mWaitForSingleObject(\u001b[39mself\u001b[39;49m\u001b[39m.\u001b[39;49m_handle,\n\u001b[0;32m   1471\u001b[0m                                          timeout_millis)\n\u001b[0;32m   1472\u001b[0m     \u001b[39mif\u001b[39;00m result \u001b[39m==\u001b[39m _winapi\u001b[39m.\u001b[39mWAIT_TIMEOUT:\n\u001b[0;32m   1473\u001b[0m         \u001b[39mraise\u001b[39;00m TimeoutExpired(\u001b[39mself\u001b[39m\u001b[39m.\u001b[39margs, timeout)\n",
      "\u001b[1;31mKeyboardInterrupt\u001b[0m: "
     ]
    }
   ],
   "source": [
    "wait=0\n",
    "combat = 0\n",
    "grid_df =None\n",
    "watch_ad = False\n",
    "train_ai = False\n",
    "# Main loop\n",
    "while(1):\n",
    "    output = bot.battle_screen(start=False)\n",
    "    if output[1]=='fighting':\n",
    "        watch_ad = True \n",
    "        wait = 0\n",
    "        combat+=1\n",
    "        if combat>50:\n",
    "            bot.restart_RR()\n",
    "            combat = 0\n",
    "            continue\n",
    "        battle_bar=trange(8)\n",
    "        for i in battle_bar:\n",
    "                time.sleep(0.2)\n",
    "                # Upgrade units\n",
    "                bot.mana_level([2,3,5],hero_power=True)\n",
    "                # Spawn units\n",
    "                bot.click(450,1360)\n",
    "                # Try to merge units\n",
    "                grid_df,unit_series,merge_series,df_groups,info = bot.try_merge(prev_grid=grid_df,merge_target='demon_hunter.png')\n",
    "                clear_output()\n",
    "                display([f'{combat}, {i+1}/8 {output[1]}, {info}', 'Average age: '+ str(grid_df['Age'].mean().round(2)),grid_df,unit_series,df_groups])\n",
    "        # Wait until late stage in combat and if consistency is ok, not stagnate save all units for ML model\n",
    "        if combat==25 and 5<grid_df['Age'].mean()<50 and train_ai:\n",
    "            bot_perception.add_grid_to_dataset()\n",
    "    elif output[1]=='home' and watch_ad:\n",
    "        for i in range(3):\n",
    "            bot.watch_ads()\n",
    "        watch_ad = False\n",
    "    else:\n",
    "        combat=0\n",
    "        output = bot.battle_screen(start=True,pve=True,floor=5) #(only 1,2,4,5,7,8,10 possible)\n",
    "        wait+=1\n",
    "        if wait>40:\n",
    "            print('RESTARTING')\n",
    "            bot.restart_RR(),\n",
    "            \n",
    "            wait=0\n",
    "        print(output[1],'wait count:',wait)"
   ]
  },
  {
   "cell_type": "markdown",
   "metadata": {},
   "source": [
    "## Quick restart"
   ]
  },
  {
   "cell_type": "code",
   "execution_count": 1,
   "metadata": {},
   "outputs": [
    {
     "ename": "NameError",
     "evalue": "name 'bot' is not defined",
     "output_type": "error",
     "traceback": [
      "\u001b[1;31m---------------------------------------------------------------------------\u001b[0m",
      "\u001b[1;31mNameError\u001b[0m                                 Traceback (most recent call last)",
      "\u001b[1;32mc:\\Code\\Rush-Royale-Bot\\RR_bot.ipynb Cell 7\u001b[0m in \u001b[0;36m<cell line: 2>\u001b[1;34m()\u001b[0m\n\u001b[0;32m      <a href='vscode-notebook-cell:/c%3A/Code/Rush-Royale-Bot/RR_bot.ipynb#W6sZmlsZQ%3D%3D?line=0'>1</a>\u001b[0m \u001b[39m# Drop co-op game\u001b[39;00m\n\u001b[1;32m----> <a href='vscode-notebook-cell:/c%3A/Code/Rush-Royale-Bot/RR_bot.ipynb#W6sZmlsZQ%3D%3D?line=1'>2</a>\u001b[0m bot\u001b[39m.\u001b[39mrestart_RR(quick_disconnect\u001b[39m=\u001b[39m\u001b[39mTrue\u001b[39;00m)\n",
      "\u001b[1;31mNameError\u001b[0m: name 'bot' is not defined"
     ]
    }
   ],
   "source": [
    "# Drop co-op game\n",
    "bot.restart_RR(quick_disconnect=True)"
   ]
  },
  {
   "cell_type": "code",
   "execution_count": null,
   "metadata": {},
   "outputs": [],
   "source": [
    "# Restart game\n",
    "bot.restart_RR()"
   ]
  }
 ],
 "metadata": {
  "kernelspec": {
   "display_name": "Python 3.9.13 ('.bot_env': venv)",
   "language": "python",
   "name": "python3"
  },
  "language_info": {
   "codemirror_mode": {
    "name": "ipython",
    "version": 3
   },
   "file_extension": ".py",
   "mimetype": "text/x-python",
   "name": "python",
   "nbconvert_exporter": "python",
   "pygments_lexer": "ipython3",
   "version": "3.9.13"
  },
  "vscode": {
   "interpreter": {
    "hash": "9d99e115253c896585090469d72d484c7a3a8433f18841a0f78b1ad612fe21c3"
   }
  }
 },
 "nbformat": 4,
 "nbformat_minor": 2
}
