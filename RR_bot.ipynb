{
 "cells": [
  {
   "cell_type": "markdown",
   "metadata": {},
   "source": [
    "##SETUP"
   ]
  },
  {
   "cell_type": "code",
   "execution_count": 17,
   "metadata": {},
   "outputs": [],
   "source": [
    "import os\n",
    "import time\n",
    "import timeit\n",
    "import pandas as pd\n",
    "import random\n",
    "import numpy as np\n",
    "# Android ADB\n",
    "from scrcpy import Client, const\n",
    "from subprocess import check_output,Popen\n",
    "import threading\n",
    "\n",
    "# Image processing\n",
    "from PIL import Image\n",
    "import cv2\n",
    "import pytesseract\n",
    "# Notebook\n",
    "from IPython.display import display,clear_output\n",
    "from tqdm.notebook import trange, tqdm\n",
    "\n",
    "import sys\n",
    "# Start Scrcpy once per restart\n",
    "if 'importlib' not in sys.modules:  \n",
    "    start_scrcpy=True\n",
    "    if start_scrcpy:\n",
    "        proc = Popen(['C:\\Programs\\Scrcpy\\scrcpy'], shell=True)\n",
    "        time.sleep(6) # <-- sleep for 6''\n",
    "        proc.terminate() # <-- terminate the process\n",
    "# internal\n",
    "import bot_core\n",
    "import bot_perception\n",
    "\n",
    "import importlib\n",
    "importlib.reload(bot_core)\n",
    "importlib.reload(bot_perception)\n",
    "\n",
    "\n",
    "SLEEP_DELAY=0.1\n",
    "\n",
    "\n",
    "bot = bot_core.Bot()"
   ]
  },
  {
   "cell_type": "code",
   "execution_count": 14,
   "metadata": {},
   "outputs": [
    {
     "name": "stdout",
     "output_type": "stream",
     "text": [
      "Watched all ads!\n",
      "AD TIME 0 lost\n",
      "AD TIME 1 lost\n",
      "AD TIME 2 lost\n",
      "AD TIME 3 lost\n",
      "AD TIME 4 lost\n",
      "FINISHED AD\n"
     ]
    }
   ],
   "source": [
    "def refresh_shop(self):\n",
    "    self.click_button((100,1500)) # Click store button\n",
    "    [self.swipe([0,0],[2,0]) for i in range(20)] # swipe to top\n",
    "    self.swipe([2,0],[0,0]) # Swipe down once\n",
    "    time.sleep(1)\n",
    "    self.click(30,150) # stop scroll\n",
    "    avail_buttons = self.get_current_icons(available=True)\n",
    "    if (avail_buttons == 'refresh_button.png').any(axis=None):\n",
    "        pos = bot_core.get_button_pos(avail_buttons,'refresh_button.png')\n",
    "        # Buy first and last item (possible legendary) before refresh\n",
    "        #self.click_button(pos-[300,820]) # Click first (free) item\n",
    "        #self.click(400,1150) # buy\n",
    "        #self.click(30,150) # remove pop-up\n",
    "        #self.click_button(pos+[400,-400]) # Click first (free) item\n",
    "        #self.click(400,1150) # buy\n",
    "        print('Bought!')\n",
    "        self.click_button(pos)\n",
    "        print('refreshed!')\n",
    "    return avail_buttons\n",
    "\n",
    "def watch_ads(self):\n",
    "    avail_buttons = self.get_current_icons(available=True)\n",
    "    # Watch ad if available\n",
    "    if (avail_buttons == 'quest_done.png').any(axis=None):\n",
    "        pos = bot_core.get_button_pos(avail_buttons,'quest_done.png')\n",
    "        self.click_button(pos)\n",
    "        self.click(700,600) # collect second completed quest\n",
    "        self.click(700,400) # collect second completed quest\n",
    "        [self.click(150,250) for i in range(2)] # click dailies twice\n",
    "        self.click(420,420) # collect ad chest\n",
    "    #elif (avail_buttons == 'ad_season.png').any(axis=None):\n",
    "    #    pos = bot_core.get_button_pos(avail_buttons,'ad_season.png')\n",
    "    #    self.click_button(pos)\n",
    "    #elif (avail_buttons == 'ad_pve.png').any(axis=None):\n",
    "    #    pos = bot_core.get_button_pos(avail_buttons,'ad_pve.png')\n",
    "    #    self.click_button(pos)\n",
    "    elif (avail_buttons == 'store_refresh.png').any(axis=None):\n",
    "        refresh_shop(self)\n",
    "    elif (avail_buttons == 'refresh_button.png').any(axis=None):\n",
    "        refresh_shop(self,buy=True)\n",
    "    else:\n",
    "        print('Watched all ads!')\n",
    "        return\n",
    "    # Keep watching until back in menu\n",
    "    for i in range(20):\n",
    "        avail_buttons,status = self.battle_screen()\n",
    "        if status =='menu':\n",
    "            print('FINISHED AD')\n",
    "            return\n",
    "        time.sleep(2)\n",
    "        self.click(870,30) # skip forward/click X\n",
    "        self.click(870,100) # click X playstore popup\n",
    "        print('AD TIME',i,status)\n",
    "    # Restart game if can't escape ad\n",
    "    self.restart_RR()\n",
    "watch_ads(bot)"
   ]
  },
  {
   "cell_type": "markdown",
   "metadata": {},
   "source": [
    "## RUN BOT"
   ]
  },
  {
   "cell_type": "code",
   "execution_count": 18,
   "metadata": {},
   "outputs": [],
   "source": [
    "wait=0\n",
    "combat = 0\n",
    "grid_df =None\n",
    "watch_ad = True\n",
    "# Main loop\n",
    "while(1):\n",
    "    output = bot.battle_screen(True,True,floor=5)\n",
    "    if output[1]=='fighting':\n",
    "        watch_ad = True \n",
    "        wait = 0\n",
    "        combat+=1\n",
    "        if combat>50:\n",
    "            bot.restart_RR()\n",
    "            combat = 0\n",
    "            continue\n",
    "        battle_bar=trange(8)\n",
    "        for i in battle_bar:\n",
    "                time.sleep(0.2)\n",
    "                # Spawn units\n",
    "                bot.click(450,1360)\n",
    "                # Upgrade units\n",
    "                bot.mana_level([3,1,5,4],hero_power=True)\n",
    "                # Try to merge units\n",
    "                grid_df,unit_series,df_groups,info = bot.try_merge(prev_grid=grid_df)\n",
    "                clear_output()\n",
    "                display([f'{combat}, {i+1}/8 {output[1]}, {info}', 'Average age: '+ str(grid_df['Age'].mean().round(2)),grid_df,unit_series[0:5],df_groups])\n",
    "    else:\n",
    "        combat=0\n",
    "        wait+=1\n",
    "        if wait>40:\n",
    "            print('RESTARTING')\n",
    "            bot.restart_RR()\n",
    "            watch_ad = False\n",
    "            wait=0\n",
    "        print(output[1],'wait count:',wait)"
   ]
  },
  {
   "cell_type": "markdown",
   "metadata": {},
   "source": [
    "# Play Game"
   ]
  },
  {
   "cell_type": "code",
   "execution_count": 2,
   "metadata": {},
   "outputs": [],
   "source": [
    "# Restart game\n",
    "bot.restart_RR()"
   ]
  },
  {
   "cell_type": "markdown",
   "metadata": {},
   "source": [
    "## Quick restart"
   ]
  },
  {
   "cell_type": "code",
   "execution_count": 35,
   "metadata": {},
   "outputs": [
    {
     "ename": "KeyboardInterrupt",
     "evalue": "",
     "output_type": "error",
     "traceback": [
      "\u001b[1;31m---------------------------------------------------------------------------\u001b[0m",
      "\u001b[1;31mKeyboardInterrupt\u001b[0m                         Traceback (most recent call last)",
      "\u001b[1;32mc:\\Code\\Rush-Royale-Bot\\RR_bot.ipynb Cell 8'\u001b[0m in \u001b[0;36m<cell line: 2>\u001b[1;34m()\u001b[0m\n\u001b[0;32m      <a href='vscode-notebook-cell:/c%3A/Code/Rush-Royale-Bot/RR_bot.ipynb#ch0000025?line=0'>1</a>\u001b[0m \u001b[39m# Drop co-op game\u001b[39;00m\n\u001b[0;32m      <a href='vscode-notebook-cell:/c%3A/Code/Rush-Royale-Bot/RR_bot.ipynb#ch0000025?line=1'>2</a>\u001b[0m \u001b[39mfor\u001b[39;00m i \u001b[39min\u001b[39;00m \u001b[39mrange\u001b[39m(\u001b[39m30\u001b[39m):\n\u001b[1;32m----> <a href='vscode-notebook-cell:/c%3A/Code/Rush-Royale-Bot/RR_bot.ipynb#ch0000025?line=2'>3</a>\u001b[0m     bot\u001b[39m.\u001b[39;49mrestart_RR(\u001b[39mTrue\u001b[39;49;00m)\n",
      "File \u001b[1;32mc:\\Code\\Rush-Royale-Bot\\bot_core.py:66\u001b[0m, in \u001b[0;36mBot.restart_RR\u001b[1;34m(self, quick_disconnect)\u001b[0m\n\u001b[0;32m     <a href='file:///c%3A/Code/Rush-Royale-Bot/bot_core.py?line=63'>64</a>\u001b[0m \u001b[39mif\u001b[39;00m quick_disconnect:\n\u001b[0;32m     <a href='file:///c%3A/Code/Rush-Royale-Bot/bot_core.py?line=64'>65</a>\u001b[0m     \u001b[39mfor\u001b[39;00m i \u001b[39min\u001b[39;00m \u001b[39mrange\u001b[39m(\u001b[39m40\u001b[39m):\n\u001b[1;32m---> <a href='file:///c%3A/Code/Rush-Royale-Bot/bot_core.py?line=65'>66</a>\u001b[0m         \u001b[39mself\u001b[39;49m\u001b[39m.\u001b[39;49mshell(\u001b[39mf\u001b[39;49m\u001b[39m'\u001b[39;49m\u001b[39minput keyevent \u001b[39;49m\u001b[39m{\u001b[39;49;00mconst\u001b[39m.\u001b[39;49mKEYCODE_APP_SWITCH\u001b[39m}\u001b[39;49;00m\u001b[39m'\u001b[39;49m) \u001b[39m#Go app switch\u001b[39;00m\n\u001b[0;32m     <a href='file:///c%3A/Code/Rush-Royale-Bot/bot_core.py?line=66'>67</a>\u001b[0m         \u001b[39mreturn\u001b[39;00m\n\u001b[0;32m     <a href='file:///c%3A/Code/Rush-Royale-Bot/bot_core.py?line=67'>68</a>\u001b[0m \u001b[39m# Force kill game through ADB shell\u001b[39;00m\n",
      "File \u001b[1;32mc:\\Code\\Rush-Royale-Bot\\bot_core.py:39\u001b[0m, in \u001b[0;36mBot.shell\u001b[1;34m(self, cmd)\u001b[0m\n\u001b[0;32m     <a href='file:///c%3A/Code/Rush-Royale-Bot/bot_core.py?line=37'>38</a>\u001b[0m \u001b[39mdef\u001b[39;00m \u001b[39mshell\u001b[39m(\u001b[39mself\u001b[39m, cmd):\n\u001b[1;32m---> <a href='file:///c%3A/Code/Rush-Royale-Bot/bot_core.py?line=38'>39</a>\u001b[0m     os\u001b[39m.\u001b[39;49msystem(\u001b[39mf\u001b[39;49m\u001b[39m'\u001b[39;49m\u001b[39m\"\u001b[39;49m\u001b[39mC:/Programs/Scrcpy/adb\u001b[39;49m\u001b[39m\"\u001b[39;49m\u001b[39m -s \u001b[39;49m\u001b[39m{\u001b[39;49;00m\u001b[39mself\u001b[39;49m\u001b[39m.\u001b[39;49mdevice\u001b[39m}\u001b[39;49;00m\u001b[39m shell \u001b[39;49m\u001b[39m{\u001b[39;49;00mcmd\u001b[39m}\u001b[39;49;00m\u001b[39m'\u001b[39;49m)\n",
      "\u001b[1;31mKeyboardInterrupt\u001b[0m: "
     ]
    }
   ],
   "source": [
    "# Drop co-op game\n",
    "for i in range(30):\n",
    "    bot.restart_RR(True)"
   ]
  }
 ],
 "metadata": {
  "interpreter": {
   "hash": "222f52f3d4ea82340b8e438915cd2cce29310e9a34a09f1d931c12bfa7062449"
  },
  "kernelspec": {
   "display_name": "Python 3.9.12 ('Rush-Royale-Bot')",
   "language": "python",
   "name": "python3"
  },
  "language_info": {
   "codemirror_mode": {
    "name": "ipython",
    "version": 3
   },
   "file_extension": ".py",
   "mimetype": "text/x-python",
   "name": "python",
   "nbconvert_exporter": "python",
   "pygments_lexer": "ipython3",
   "version": "3.9.12"
  },
  "orig_nbformat": 4
 },
 "nbformat": 4,
 "nbformat_minor": 2
}
