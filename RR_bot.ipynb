{
 "cells": [
  {
   "cell_type": "markdown",
   "metadata": {},
   "source": [
    "##SETUP"
   ]
  },
  {
   "cell_type": "code",
   "execution_count": 44,
   "metadata": {},
   "outputs": [],
   "source": [
    "import time\n",
    "import pandas as pd\n",
    "# Android ADB\n",
    "from subprocess import check_output,Popen\n",
    "# Notebook\n",
    "from IPython.display import display,clear_output\n",
    "from tqdm.notebook import trange, tqdm\n",
    "\n",
    "import sys\n",
    "# Start Scrcpy once per restart\n",
    "if 'started_scrcpy' not in vars():\n",
    "    started_scrcpy=True\n",
    "    proc = Popen(['C:\\Programs\\Scrcpy\\scrcpy'], shell=True)\n",
    "    time.sleep(3) # <-- sleep for 6''\n",
    "    proc.terminate() # <-- terminate the process (Scrcpy window can be closed)\n",
    "# internal\n",
    "sys.path.append('./src')\n",
    "import bot_core\n",
    "import bot_perception\n",
    "\n",
    "import importlib\n",
    "[importlib.reload(lib) for lib in [bot_core,bot_perception] ]\n",
    "\n",
    "\n",
    "# Selected units in deck (order does not matter)\n",
    "#sel_units= ['crystal.png','chemist.png','monkey.png','dryad.png','hunter.png']\n",
    "sel_units= ['cauldron.png','chemist.png','harlequin.png','dryad.png','zealot.png']\n",
    "bot_core.select_units(sel_units,show=False)\n",
    "\n",
    "bot = bot_core.Bot()"
   ]
  },
  {
   "cell_type": "code",
   "execution_count": 7,
   "metadata": {},
   "outputs": [
    {
     "name": "stdout",
     "output_type": "stream",
     "text": [
      "['alchemist.png', 'archer.png', 'banner.png', 'blade_dancer.png', 'bruser.png', 'catapult.png', 'cauldron.png', 'chemist.png', 'clock.png', 'cold_mage.png', 'corsair.png', 'crystal.png', 'cultist.png', 'cultist_off.png', 'demo.png', 'demon_hunter.png', 'dryad.png', 'empty.png', 'engineer.png', 'executioner.png', 'fire_mage.png', 'flinger.png', 'gargoyle.png', 'harlequin.png', 'hex.png', 'hunter.png', 'inquisitor.png', 'ivy.png', 'knight_statue.png', 'lightning.png', 'meteor.png', 'mime.png', 'monkey.png', 'old', 'old_icon', 'poisoner.png', 'portal_keeper.png', 'portal_mage.png', 'priest.png', 'pyro.png', 'reaper.png', 'rogue.png', 'sentry.png', 'shaman.png', 'sharpshooter.png', 'sharpstone.png', 'summoner.png', 'thunder.png', 'time_keeper.png', 'trapper.png', 'unit_rank', 'vampire.png', 'wind_arch.png', 'witch_doc.png', 'zealot.png']\n",
      "Chosen:\n",
      " ['cauldron.png', 'knight_statue.png', 'harlequin.png', 'dryad.png', 'zealot.png']\n"
     ]
    }
   ],
   "source": [
    "bot_core.select_units(sel_units,show=True)"
   ]
  },
  {
   "cell_type": "markdown",
   "metadata": {},
   "source": [
    "## RUN BOT"
   ]
  },
  {
   "cell_type": "code",
   "execution_count": 46,
   "metadata": {},
   "outputs": [
    {
     "data": {
      "text/plain": [
       "['28, 2/8 fighting, Full Grid - Merging!',\n",
       " 'Average age: 43.07',\n",
       "    grid_pos           unit  probability  rank  rank_prob    Age\n",
       " 0    [0, 0]     zealot.png        0.884     4   0.999999    5.0\n",
       " 1    [0, 1]   cauldron.png        0.868     1   1.000000    6.0\n",
       " 2    [0, 2]     zealot.png        0.884     4   0.999927   19.0\n",
       " 3    [0, 3]   cauldron.png        0.844     1   0.999964   50.0\n",
       " 4    [0, 4]   cauldron.png        0.830     1   0.999991   14.0\n",
       " 5    [1, 0]    chemist.png        0.926     3   0.999999   34.0\n",
       " 6    [1, 1]     zealot.png        0.885     4   0.999977    2.0\n",
       " 7    [1, 2]     zealot.png        0.846     1   0.991222   52.0\n",
       " 8    [1, 3]   cauldron.png        0.904     1   0.996562    7.0\n",
       " 9    [1, 4]  harlequin.png        0.929     1   1.000000   37.0\n",
       " 10   [2, 0]   cauldron.png        0.838     1   1.000000   76.0\n",
       " 11   [2, 1]     zealot.png        0.891     3   0.962707   82.0\n",
       " 12   [2, 2]    chemist.png        0.916     4   1.000000  146.0\n",
       " 13   [2, 3]     zealot.png        0.863     4   0.997738   52.0\n",
       " 14   [2, 4]    chemist.png        0.922     1   0.999998   64.0,\n",
       " unit           rank\n",
       " cauldron.png   1       5\n",
       " zealot.png     4       3\n",
       " chemist.png    1       1\n",
       "                3       1\n",
       "                4       1\n",
       " harlequin.png  1       1\n",
       " zealot.png     1       1\n",
       "                3       1\n",
       " Name: unit, dtype: int64,\n",
       " None]"
      ]
     },
     "metadata": {},
     "output_type": "display_data"
    },
    {
     "ename": "KeyboardInterrupt",
     "evalue": "",
     "output_type": "error",
     "traceback": [
      "\u001b[1;31m---------------------------------------------------------------------------\u001b[0m",
      "\u001b[1;31mKeyboardInterrupt\u001b[0m                         Traceback (most recent call last)",
      "\u001b[1;32mc:\\Code\\Rush-Royale-Bot\\RR_bot.ipynb Cell 5\u001b[0m in \u001b[0;36m<cell line: 8>\u001b[1;34m()\u001b[0m\n\u001b[0;32m     <a href='vscode-notebook-cell:/c%3A/Code/Rush-Royale-Bot/RR_bot.ipynb#ch0000004?line=22'>23</a>\u001b[0m bot\u001b[39m.\u001b[39mclick(\u001b[39m450\u001b[39m,\u001b[39m1360\u001b[39m)\n\u001b[0;32m     <a href='vscode-notebook-cell:/c%3A/Code/Rush-Royale-Bot/RR_bot.ipynb#ch0000004?line=23'>24</a>\u001b[0m \u001b[39m# Try to merge units\u001b[39;00m\n\u001b[1;32m---> <a href='vscode-notebook-cell:/c%3A/Code/Rush-Royale-Bot/RR_bot.ipynb#ch0000004?line=24'>25</a>\u001b[0m grid_df,unit_series,merge_series,df_groups,info \u001b[39m=\u001b[39m bot\u001b[39m.\u001b[39;49mtry_merge(prev_grid\u001b[39m=\u001b[39;49mgrid_df)\n\u001b[0;32m     <a href='vscode-notebook-cell:/c%3A/Code/Rush-Royale-Bot/RR_bot.ipynb#ch0000004?line=25'>26</a>\u001b[0m clear_output()\n\u001b[0;32m     <a href='vscode-notebook-cell:/c%3A/Code/Rush-Royale-Bot/RR_bot.ipynb#ch0000004?line=26'>27</a>\u001b[0m display([\u001b[39mf\u001b[39m\u001b[39m'\u001b[39m\u001b[39m{\u001b[39;00mcombat\u001b[39m}\u001b[39;00m\u001b[39m, \u001b[39m\u001b[39m{\u001b[39;00mi\u001b[39m+\u001b[39m\u001b[39m1\u001b[39m\u001b[39m}\u001b[39;00m\u001b[39m/8 \u001b[39m\u001b[39m{\u001b[39;00moutput[\u001b[39m1\u001b[39m]\u001b[39m}\u001b[39;00m\u001b[39m, \u001b[39m\u001b[39m{\u001b[39;00minfo\u001b[39m}\u001b[39;00m\u001b[39m'\u001b[39m, \u001b[39m'\u001b[39m\u001b[39mAverage age: \u001b[39m\u001b[39m'\u001b[39m\u001b[39m+\u001b[39m \u001b[39mstr\u001b[39m(grid_df[\u001b[39m'\u001b[39m\u001b[39mAge\u001b[39m\u001b[39m'\u001b[39m]\u001b[39m.\u001b[39mmean()\u001b[39m.\u001b[39mround(\u001b[39m2\u001b[39m)),grid_df,unit_series,df_groups])\n",
      "File \u001b[1;32mc:\\Code\\Rush-Royale-Bot\\./src\\bot_core.py:241\u001b[0m, in \u001b[0;36mBot.try_merge\u001b[1;34m(self, rank, prev_grid)\u001b[0m\n\u001b[0;32m    239\u001b[0m merge_df \u001b[39m=\u001b[39m\u001b[39mNone\u001b[39;00m\n\u001b[0;32m    240\u001b[0m names\u001b[39m=\u001b[39m\u001b[39mself\u001b[39m\u001b[39m.\u001b[39mscan_grid(new\u001b[39m=\u001b[39m\u001b[39mTrue\u001b[39;00m)\n\u001b[1;32m--> 241\u001b[0m grid_df\u001b[39m=\u001b[39mbot_perception\u001b[39m.\u001b[39;49mgrid_status(names,prev_grid\u001b[39m=\u001b[39;49mprev_grid)\n\u001b[0;32m    242\u001b[0m df_split,unit_series, df_groups, group_keys\u001b[39m=\u001b[39mgrid_meta_info(grid_df)\n\u001b[0;32m    243\u001b[0m \u001b[39m# Select stuff to merge\u001b[39;00m\n",
      "File \u001b[1;32mc:\\Code\\Rush-Royale-Bot\\./src\\bot_perception.py:76\u001b[0m, in \u001b[0;36mgrid_status\u001b[1;34m(names, prev_grid)\u001b[0m\n\u001b[0;32m     74\u001b[0m \u001b[39mfor\u001b[39;00m filename \u001b[39min\u001b[39;00m names:\n\u001b[0;32m     75\u001b[0m     rank,rank_prob\u001b[39m=\u001b[39m match_rank(filename)\n\u001b[1;32m---> 76\u001b[0m     unit_guess\u001b[39m=\u001b[39m match_unit(filename) \u001b[39mif\u001b[39;00m rank \u001b[39m!=\u001b[39m\u001b[39m0\u001b[39m \u001b[39melse\u001b[39;00m [\u001b[39m'\u001b[39m\u001b[39mempty.png\u001b[39m\u001b[39m'\u001b[39m,\u001b[39m0\u001b[39m]\n\u001b[0;32m     77\u001b[0m     grid_stats\u001b[39m.\u001b[39mappend([\u001b[39m*\u001b[39munit_guess,rank,rank_prob])\n\u001b[0;32m     78\u001b[0m grid_df\u001b[39m=\u001b[39mpd\u001b[39m.\u001b[39mDataFrame(grid_stats, columns\u001b[39m=\u001b[39m[\u001b[39m'\u001b[39m\u001b[39munit\u001b[39m\u001b[39m'\u001b[39m,\u001b[39m'\u001b[39m\u001b[39mprobability\u001b[39m\u001b[39m'\u001b[39m,\u001b[39m'\u001b[39m\u001b[39mrank\u001b[39m\u001b[39m'\u001b[39m,\u001b[39m'\u001b[39m\u001b[39mrank_prob\u001b[39m\u001b[39m'\u001b[39m])\n",
      "File \u001b[1;32mc:\\Code\\Rush-Royale-Bot\\./src\\bot_perception.py:54\u001b[0m, in \u001b[0;36mmatch_unit\u001b[1;34m(filename, guess_unit)\u001b[0m\n\u001b[0;32m     52\u001b[0m img_color \u001b[39m=\u001b[39m img_rgb[:,:,color]\n\u001b[0;32m     53\u001b[0m \u001b[39m# Do feature detection\u001b[39;00m\n\u001b[1;32m---> 54\u001b[0m matches \u001b[39m=\u001b[39m feature_match(template,img_color)\n\u001b[0;32m     55\u001b[0m \u001b[39m# Check matches\u001b[39;00m\n\u001b[0;32m     56\u001b[0m \u001b[39mif\u001b[39;00m matches \u001b[39m==\u001b[39m \u001b[39m'\u001b[39m\u001b[39mNo Matches\u001b[39m\u001b[39m'\u001b[39m:\n",
      "File \u001b[1;32mc:\\Code\\Rush-Royale-Bot\\./src\\bot_perception.py:28\u001b[0m, in \u001b[0;36mfeature_match\u001b[1;34m(img_query, img_train)\u001b[0m\n\u001b[0;32m     26\u001b[0m \u001b[39m# find the keypoints and descriptors with ORB\u001b[39;00m\n\u001b[0;32m     27\u001b[0m kp1, des1 \u001b[39m=\u001b[39m orb\u001b[39m.\u001b[39mdetectAndCompute(img_query,\u001b[39mNone\u001b[39;00m) \u001b[39m# queryImage\u001b[39;00m\n\u001b[1;32m---> 28\u001b[0m kp2, des2 \u001b[39m=\u001b[39m orb\u001b[39m.\u001b[39;49mdetectAndCompute(img_train,\u001b[39mNone\u001b[39;49;00m) \u001b[39m# trainImage\u001b[39;00m\n\u001b[0;32m     29\u001b[0m \u001b[39mif\u001b[39;00m des2 \u001b[39mis\u001b[39;00m \u001b[39mNone\u001b[39;00m: \u001b[39m# if no features are found, return\u001b[39;00m\n\u001b[0;32m     30\u001b[0m     \u001b[39mreturn\u001b[39;00m \u001b[39m'\u001b[39m\u001b[39mNo Matches\u001b[39m\u001b[39m'\u001b[39m\n",
      "\u001b[1;31mKeyboardInterrupt\u001b[0m: "
     ]
    }
   ],
   "source": [
    "wait=0\n",
    "combat = 0\n",
    "grid_df =None\n",
    "watch_ad = True\n",
    "train_ai = False\n",
    "# Main loop\n",
    "while(1):\n",
    "    output = bot.battle_screen(start=False)\n",
    "    if output[1]=='fighting':\n",
    "        watch_ad = True \n",
    "        wait = 0\n",
    "        combat+=1\n",
    "        if combat>50:\n",
    "            bot.restart_RR()\n",
    "            combat = 0\n",
    "            continue\n",
    "        battle_bar=trange(8)\n",
    "        for i in battle_bar:\n",
    "                time.sleep(0.2)\n",
    "                # Upgrade units\n",
    "                bot.mana_level([5,2,1],hero_power=True)\n",
    "                # Spawn units\n",
    "                bot.click(450,1360)\n",
    "                # Try to merge units\n",
    "                grid_df,unit_series,merge_series,df_groups,info = bot.try_merge(prev_grid=grid_df)\n",
    "                clear_output()\n",
    "                display([f'{combat}, {i+1}/8 {output[1]}, {info}', 'Average age: '+ str(grid_df['Age'].mean().round(2)),grid_df,unit_series,df_groups])\n",
    "        # Wait until late stage in combat and if consistency is ok, not stagnate save all units for ML model\n",
    "        if combat==25 and 5<grid_df['Age'].mean()<50 and train_ai:\n",
    "            bot_perception.add_grid_to_dataset()\n",
    "    elif output[1]=='home' and watch_ad:\n",
    "        for i in range(3):\n",
    "            bot.watch_ads()\n",
    "        watch_ad = False\n",
    "    else:\n",
    "        combat=0\n",
    "        output = bot.battle_screen(start=True,pve=True,floor=7)\n",
    "        wait+=1\n",
    "        if wait>40:\n",
    "            print('RESTARTING')\n",
    "            bot.restart_RR(),\n",
    "            \n",
    "            wait=0\n",
    "        print(output[1],'wait count:',wait)"
   ]
  },
  {
   "cell_type": "markdown",
   "metadata": {},
   "source": [
    "## Quick restart"
   ]
  },
  {
   "cell_type": "code",
   "execution_count": 3,
   "metadata": {},
   "outputs": [],
   "source": [
    "# Drop co-op game\n",
    "bot.restart_RR(quick_disconnect=True)"
   ]
  },
  {
   "cell_type": "code",
   "execution_count": 2,
   "metadata": {},
   "outputs": [],
   "source": [
    "# Restart game\n",
    "bot.restart_RR()"
   ]
  }
 ],
 "metadata": {
  "interpreter": {
   "hash": "222f52f3d4ea82340b8e438915cd2cce29310e9a34a09f1d931c12bfa7062449"
  },
  "kernelspec": {
   "display_name": "Python 3.9.12 ('Rush-Royale-Bot')",
   "language": "python",
   "name": "python3"
  },
  "language_info": {
   "codemirror_mode": {
    "name": "ipython",
    "version": 3
   },
   "file_extension": ".py",
   "mimetype": "text/x-python",
   "name": "python",
   "nbconvert_exporter": "python",
   "pygments_lexer": "ipython3",
   "version": "3.9.12"
  },
  "orig_nbformat": 4
 },
 "nbformat": 4,
 "nbformat_minor": 2
}
