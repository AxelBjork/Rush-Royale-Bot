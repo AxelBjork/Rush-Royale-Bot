{
 "cells": [
  {
   "cell_type": "markdown",
   "metadata": {},
   "source": [
    "##SETUP"
   ]
  },
  {
   "cell_type": "code",
   "execution_count": 1,
   "metadata": {},
   "outputs": [
    {
     "data": {
      "text/html": [
       "<div>\n",
       "<style scoped>\n",
       "    .dataframe tbody tr th:only-of-type {\n",
       "        vertical-align: middle;\n",
       "    }\n",
       "\n",
       "    .dataframe tbody tr th {\n",
       "        vertical-align: top;\n",
       "    }\n",
       "\n",
       "    .dataframe thead th {\n",
       "        text-align: right;\n",
       "    }\n",
       "</style>\n",
       "<table border=\"1\" class=\"dataframe\">\n",
       "  <thead>\n",
       "    <tr style=\"text-align: right;\">\n",
       "      <th></th>\n",
       "      <th>grid_pos</th>\n",
       "      <th>unit</th>\n",
       "      <th>probability</th>\n",
       "      <th>rank</th>\n",
       "      <th>rank_prob</th>\n",
       "      <th>Age</th>\n",
       "    </tr>\n",
       "  </thead>\n",
       "  <tbody>\n",
       "    <tr>\n",
       "      <th>0</th>\n",
       "      <td>[0, 0]</td>\n",
       "      <td>dryad.png</td>\n",
       "      <td>0.826</td>\n",
       "      <td>5</td>\n",
       "      <td>0.503426</td>\n",
       "      <td>0.0</td>\n",
       "    </tr>\n",
       "    <tr>\n",
       "      <th>1</th>\n",
       "      <td>[0, 1]</td>\n",
       "      <td>empty.png</td>\n",
       "      <td>0.000</td>\n",
       "      <td>0</td>\n",
       "      <td>0.656029</td>\n",
       "      <td>0.0</td>\n",
       "    </tr>\n",
       "    <tr>\n",
       "      <th>2</th>\n",
       "      <td>[0, 2]</td>\n",
       "      <td>empty.png</td>\n",
       "      <td>0.000</td>\n",
       "      <td>0</td>\n",
       "      <td>0.744492</td>\n",
       "      <td>0.0</td>\n",
       "    </tr>\n",
       "    <tr>\n",
       "      <th>3</th>\n",
       "      <td>[0, 3]</td>\n",
       "      <td>dryad.png</td>\n",
       "      <td>0.814</td>\n",
       "      <td>4</td>\n",
       "      <td>0.356416</td>\n",
       "      <td>0.0</td>\n",
       "    </tr>\n",
       "    <tr>\n",
       "      <th>4</th>\n",
       "      <td>[0, 4]</td>\n",
       "      <td>empty.png</td>\n",
       "      <td>0.000</td>\n",
       "      <td>0</td>\n",
       "      <td>0.267806</td>\n",
       "      <td>0.0</td>\n",
       "    </tr>\n",
       "    <tr>\n",
       "      <th>5</th>\n",
       "      <td>[1, 0]</td>\n",
       "      <td>cauldron.png</td>\n",
       "      <td>1.000</td>\n",
       "      <td>1</td>\n",
       "      <td>0.382277</td>\n",
       "      <td>0.0</td>\n",
       "    </tr>\n",
       "    <tr>\n",
       "      <th>6</th>\n",
       "      <td>[1, 1]</td>\n",
       "      <td>empty.png</td>\n",
       "      <td>0.000</td>\n",
       "      <td>0</td>\n",
       "      <td>0.899970</td>\n",
       "      <td>0.0</td>\n",
       "    </tr>\n",
       "    <tr>\n",
       "      <th>7</th>\n",
       "      <td>[1, 2]</td>\n",
       "      <td>empty.png</td>\n",
       "      <td>0.000</td>\n",
       "      <td>0</td>\n",
       "      <td>0.954339</td>\n",
       "      <td>0.0</td>\n",
       "    </tr>\n",
       "    <tr>\n",
       "      <th>8</th>\n",
       "      <td>[1, 3]</td>\n",
       "      <td>empty.png</td>\n",
       "      <td>0.000</td>\n",
       "      <td>0</td>\n",
       "      <td>0.507696</td>\n",
       "      <td>0.0</td>\n",
       "    </tr>\n",
       "    <tr>\n",
       "      <th>9</th>\n",
       "      <td>[1, 4]</td>\n",
       "      <td>empty.png</td>\n",
       "      <td>0.000</td>\n",
       "      <td>0</td>\n",
       "      <td>0.709514</td>\n",
       "      <td>0.0</td>\n",
       "    </tr>\n",
       "    <tr>\n",
       "      <th>10</th>\n",
       "      <td>[2, 0]</td>\n",
       "      <td>empty.png</td>\n",
       "      <td>0.000</td>\n",
       "      <td>0</td>\n",
       "      <td>0.125001</td>\n",
       "      <td>0.0</td>\n",
       "    </tr>\n",
       "    <tr>\n",
       "      <th>11</th>\n",
       "      <td>[2, 1]</td>\n",
       "      <td>empty.png</td>\n",
       "      <td>0.000</td>\n",
       "      <td>0</td>\n",
       "      <td>0.357446</td>\n",
       "      <td>0.0</td>\n",
       "    </tr>\n",
       "    <tr>\n",
       "      <th>12</th>\n",
       "      <td>[2, 2]</td>\n",
       "      <td>empty.png</td>\n",
       "      <td>0.000</td>\n",
       "      <td>0</td>\n",
       "      <td>0.721138</td>\n",
       "      <td>0.0</td>\n",
       "    </tr>\n",
       "    <tr>\n",
       "      <th>13</th>\n",
       "      <td>[2, 3]</td>\n",
       "      <td>empty.png</td>\n",
       "      <td>0.000</td>\n",
       "      <td>0</td>\n",
       "      <td>0.390769</td>\n",
       "      <td>0.0</td>\n",
       "    </tr>\n",
       "    <tr>\n",
       "      <th>14</th>\n",
       "      <td>[2, 4]</td>\n",
       "      <td>empty.png</td>\n",
       "      <td>0.000</td>\n",
       "      <td>0</td>\n",
       "      <td>0.493354</td>\n",
       "      <td>0.0</td>\n",
       "    </tr>\n",
       "  </tbody>\n",
       "</table>\n",
       "</div>"
      ],
      "text/plain": [
       "   grid_pos          unit  probability  rank  rank_prob  Age\n",
       "0    [0, 0]     dryad.png        0.826     5   0.503426  0.0\n",
       "1    [0, 1]     empty.png        0.000     0   0.656029  0.0\n",
       "2    [0, 2]     empty.png        0.000     0   0.744492  0.0\n",
       "3    [0, 3]     dryad.png        0.814     4   0.356416  0.0\n",
       "4    [0, 4]     empty.png        0.000     0   0.267806  0.0\n",
       "5    [1, 0]  cauldron.png        1.000     1   0.382277  0.0\n",
       "6    [1, 1]     empty.png        0.000     0   0.899970  0.0\n",
       "7    [1, 2]     empty.png        0.000     0   0.954339  0.0\n",
       "8    [1, 3]     empty.png        0.000     0   0.507696  0.0\n",
       "9    [1, 4]     empty.png        0.000     0   0.709514  0.0\n",
       "10   [2, 0]     empty.png        0.000     0   0.125001  0.0\n",
       "11   [2, 1]     empty.png        0.000     0   0.357446  0.0\n",
       "12   [2, 2]     empty.png        0.000     0   0.721138  0.0\n",
       "13   [2, 3]     empty.png        0.000     0   0.390769  0.0\n",
       "14   [2, 4]     empty.png        0.000     0   0.493354  0.0"
      ]
     },
     "metadata": {},
     "output_type": "display_data"
    }
   ],
   "source": [
    "import os\n",
    "import sys\n",
    "import time\n",
    "import pandas as pd\n",
    "import numpy as np\n",
    "# Android ADB\n",
    "from scrcpy import Client, const\n",
    "\n",
    "# Image processing\n",
    "from PIL import Image\n",
    "import cv2\n",
    "import pytesseract\n",
    "# Notebook\n",
    "from IPython.display import display,clear_output\n",
    "from tqdm.notebook import trange, tqdm\n",
    "# internal\n",
    "sys.path.append('./src')\n",
    "import bot_core\n",
    "import bot_perception\n",
    "\n",
    "import importlib\n",
    "importlib.reload(bot_core)\n",
    "importlib.reload(bot_perception)\n",
    "\n",
    "bot = bot_core.Bot()\n",
    "\n",
    "# Convert to unit icon \n",
    "def crop_img(input, x, y, dx, dy, name='icon.png'):\n",
    "    # Load screen\n",
    "    img_rgb = cv2.imread(input)\n",
    "    img_rgb = img_rgb[y:y + dy, x:x + dx]\n",
    "    # Convert to grayscale (done internally by tessarct )\n",
    "    #img_rgb = cv2.cvtColor(img_rgb, cv2.COLOR_BGR2GRAY)\n",
    "    #(a, img_gray) = cv2.threshold(img_rgb, 127, 255, cv2.THRESH_BINARY)\n",
    "    cv2.imwrite(name, img_rgb)\n",
    "    img_rgb = cv2.cvtColor(img_rgb, cv2.COLOR_BGR2RGB)\n",
    "    display(Image.fromarray(img_rgb))\n",
    "\n",
    "\n",
    "# Evaluate grid to update OCR images\n",
    "names=bot.scan_grid()\n",
    "grid_df=bot_perception.grid_status(names)\n",
    "display(grid_df)"
   ]
  },
  {
   "cell_type": "code",
   "execution_count": 13,
   "metadata": {},
   "outputs": [
    {
     "data": {
      "text/plain": [
       "b'\\x01\\x00\\x00\\x00\\x04test'"
      ]
     },
     "execution_count": 13,
     "metadata": {},
     "output_type": "execute_result"
    }
   ],
   "source": [
    "# Check if alive\n",
    "bot.client.control.text(\"test\")\n"
   ]
  },
  {
   "cell_type": "markdown",
   "metadata": {},
   "source": [
    "## Look for icons"
   ]
  },
  {
   "cell_type": "code",
   "execution_count": 3,
   "metadata": {},
   "outputs": [],
   "source": [
    "bot.getScreen()\n",
    "names=bot.scan_grid()"
   ]
  },
  {
   "cell_type": "code",
   "execution_count": 81,
   "metadata": {},
   "outputs": [],
   "source": [
    "bot.restart_RR(quick_disconnect=True)"
   ]
  },
  {
   "cell_type": "markdown",
   "metadata": {},
   "source": [
    "# Add icon"
   ]
  },
  {
   "cell_type": "code",
   "execution_count": 5,
   "metadata": {},
   "outputs": [
    {
     "data": {
      "image/png": "[encoded data removed]",
      "text/plain": [
       "<PIL.Image.Image image mode=RGB size=90x90>"
      ]
     },
     "metadata": {},
     "output_type": "display_data"
    }
   ],
   "source": [
    "# Add unit\n",
    "name = 'scrapper.png'\n",
    "crop_img('OCR_inputs/icon_5.png',17,15,90,90,name)"
   ]
  },
  {
   "cell_type": "code",
   "execution_count": 36,
   "metadata": {},
   "outputs": [
    {
     "data": {
      "image/png": "[encoded data removed]",
      "text/plain": [
       "<PIL.Image.Image image mode=RGB size=115x40>"
      ]
     },
     "metadata": {},
     "output_type": "display_data"
    },
    {
     "data": {
      "text/plain": [
       "585"
      ]
     },
     "execution_count": 36,
     "metadata": {},
     "output_type": "execute_result"
    }
   ],
   "source": [
    "# Add button\n",
    "name = 'home_screen.png'\n",
    "crop_img('emulator-5554-screenshot.png',30,1020,70,70,name)\n"
   ]
  },
  {
   "cell_type": "code",
   "execution_count": 51,
   "metadata": {},
   "outputs": [],
   "source": [
    "bot.get_current_icons(new=False,available=True)"
   ]
  },
  {
   "cell_type": "code",
   "execution_count": 12,
   "metadata": {},
   "outputs": [
    {
     "data": {
      "image/png": "[encoded data removed]",
      "text/plain": [
       "<PIL.Image.Image image mode=RGB size=110x110>"
      ]
     },
     "metadata": {},
     "output_type": "display_data"
    }
   ],
   "source": [
    "# Add rank\n",
    "name = 'rank1.png'\n",
    "crop_img('OCR_inputs/icon_8.png',5,5,110,110,name)"
   ]
  },
  {
   "cell_type": "code",
   "execution_count": 60,
   "metadata": {},
   "outputs": [
    {
     "data": {
      "image/png": "[encoded data removed]",
      "text/plain": [
       "<PIL.Image.Image image mode=RGB size=60x60>"
      ]
     },
     "metadata": {},
     "output_type": "display_data"
    }
   ],
   "source": [
    "# Add rank\n",
    "name = 'rank1.png'\n",
    "crop_img('OCR_inputs/icon_8.png',5,5,60,60,name)"
   ]
  },
  {
   "cell_type": "code",
   "execution_count": 8,
   "metadata": {},
   "outputs": [
    {
     "data": {
      "image/png": "[encoded data removed]",
      "text/plain": [
       "<PIL.Image.Image image mode=RGB size=110x110>"
      ]
     },
     "metadata": {},
     "output_type": "display_data"
    }
   ],
   "source": [
    "# cuts out middle pixels from unit icon\n",
    "def crop_rank(input,name=input):\n",
    "    img_rgb = cv2.imread(input)\n",
    "    keep=18\n",
    "    img_rgb[keep:-keep,keep:-keep] = 0\n",
    "    cv2.imwrite(name, img_rgb)\n",
    "    #display\n",
    "    img_rgb = cv2.cvtColor(img_rgb, cv2.COLOR_BGR2RGB)\n",
    "    display(Image.fromarray(img_rgb))\n",
    "\n",
    "crop_rank('rank1.png','rank1_C.png')"
   ]
  },
  {
   "cell_type": "code",
   "execution_count": 34,
   "metadata": {},
   "outputs": [
    {
     "data": {
      "image/png": "[encoded data removed]",
      "text/plain": [
       "<PIL.Image.Image image mode=L size=120x120>"
      ]
     },
     "metadata": {},
     "output_type": "display_data"
    }
   ],
   "source": [
    "# cuts out middle pixels from unit icon\n",
    "def image_to_binary(input,name=input):\n",
    "    img = cv2.imread(input)\n",
    "    gray = cv2.cvtColor(img, cv2.COLOR_BGR2GRAY)\n",
    "    keep=30\n",
    "    #gray[keep:-keep,keep:-keep] = 255\n",
    "    #thresh = cv2.threshold(gray, 0, 255, cv2.THRESH_BINARY + cv2.THRESH_OTSU)[1]\n",
    "    thresh = cv2.threshold(gray,180,255,cv2.THRESH_BINARY)[1]\n",
    "    cv2.imwrite(name, thresh)\n",
    "    display(Image.fromarray(thresh))\n",
    "name = 'rank5.png'\n",
    "image_to_binary('OCR_inputs/icon_11.png',name)"
   ]
  },
  {
   "cell_type": "code",
   "execution_count": 103,
   "metadata": {},
   "outputs": [
    {
     "data": {
      "text/plain": [
       "unit\n",
       "lightning.png    5\n",
       "empty.png        3\n",
       "fire_mage.png    3\n",
       "archer.png       2\n",
       "cold_mage.png    2\n",
       "Name: unit, dtype: int64"
      ]
     },
     "execution_count": 103,
     "metadata": {},
     "output_type": "execute_result"
    }
   ],
   "source": [
    "df_split, df_groups, unit_list = bot_core.get_unit_count(grid_df)\n",
    "df_groups.sort_values(ascending=False)"
   ]
  },
  {
   "cell_type": "code",
   "execution_count": null,
   "metadata": {},
   "outputs": [],
   "source": []
  }
 ],
 "metadata": {
  "interpreter": {
   "hash": "222f52f3d4ea82340b8e438915cd2cce29310e9a34a09f1d931c12bfa7062449"
  },
  "kernelspec": {
   "display_name": "Python 3.9.12 ('Rush-Royale-Bot')",
   "language": "python",
   "name": "python3"
  },
  "language_info": {
   "codemirror_mode": {
    "name": "ipython",
    "version": 3
   },
   "file_extension": ".py",
   "mimetype": "text/x-python",
   "name": "python",
   "nbconvert_exporter": "python",
   "pygments_lexer": "ipython3",
   "version": "3.9.12"
  },
  "orig_nbformat": 4
 },
 "nbformat": 4,
 "nbformat_minor": 2
}
