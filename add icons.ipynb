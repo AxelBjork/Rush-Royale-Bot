{
 "cells": [
  {
   "cell_type": "markdown",
   "metadata": {},
   "source": [
    "##SETUP"
   ]
  },
  {
   "cell_type": "code",
   "execution_count": 9,
   "metadata": {},
   "outputs": [
    {
     "data": {
      "text/html": [
       "<div>\n",
       "<style scoped>\n",
       "    .dataframe tbody tr th:only-of-type {\n",
       "        vertical-align: middle;\n",
       "    }\n",
       "\n",
       "    .dataframe tbody tr th {\n",
       "        vertical-align: top;\n",
       "    }\n",
       "\n",
       "    .dataframe thead th {\n",
       "        text-align: right;\n",
       "    }\n",
       "</style>\n",
       "<table border=\"1\" class=\"dataframe\">\n",
       "  <thead>\n",
       "    <tr style=\"text-align: right;\">\n",
       "      <th></th>\n",
       "      <th>grid_id</th>\n",
       "      <th>unit</th>\n",
       "      <th>probability</th>\n",
       "      <th>rank</th>\n",
       "      <th>rank_error</th>\n",
       "      <th>position</th>\n",
       "      <th>Age</th>\n",
       "    </tr>\n",
       "  </thead>\n",
       "  <tbody>\n",
       "    <tr>\n",
       "      <th>0</th>\n",
       "      <td>icon_0</td>\n",
       "      <td>crystal.png</td>\n",
       "      <td>185.0</td>\n",
       "      <td>2</td>\n",
       "      <td>605.0</td>\n",
       "      <td>[0, 0]</td>\n",
       "      <td>0.0</td>\n",
       "    </tr>\n",
       "    <tr>\n",
       "      <th>1</th>\n",
       "      <td>icon_1</td>\n",
       "      <td>crystal.png</td>\n",
       "      <td>385.0</td>\n",
       "      <td>3</td>\n",
       "      <td>178.5</td>\n",
       "      <td>[0, 1]</td>\n",
       "      <td>0.0</td>\n",
       "    </tr>\n",
       "    <tr>\n",
       "      <th>2</th>\n",
       "      <td>icon_2</td>\n",
       "      <td>dryad.png</td>\n",
       "      <td>291.0</td>\n",
       "      <td>2</td>\n",
       "      <td>585.0</td>\n",
       "      <td>[0, 2]</td>\n",
       "      <td>0.0</td>\n",
       "    </tr>\n",
       "    <tr>\n",
       "      <th>3</th>\n",
       "      <td>icon_3</td>\n",
       "      <td>monkey.png</td>\n",
       "      <td>556.0</td>\n",
       "      <td>2</td>\n",
       "      <td>610.0</td>\n",
       "      <td>[0, 3]</td>\n",
       "      <td>0.0</td>\n",
       "    </tr>\n",
       "    <tr>\n",
       "      <th>4</th>\n",
       "      <td>icon_4</td>\n",
       "      <td>hunter.png</td>\n",
       "      <td>249.0</td>\n",
       "      <td>3</td>\n",
       "      <td>213.0</td>\n",
       "      <td>[0, 4]</td>\n",
       "      <td>0.0</td>\n",
       "    </tr>\n",
       "    <tr>\n",
       "      <th>5</th>\n",
       "      <td>icon_5</td>\n",
       "      <td>monkey.png</td>\n",
       "      <td>324.0</td>\n",
       "      <td>1</td>\n",
       "      <td>1217.0</td>\n",
       "      <td>[1, 0]</td>\n",
       "      <td>0.0</td>\n",
       "    </tr>\n",
       "    <tr>\n",
       "      <th>6</th>\n",
       "      <td>icon_6</td>\n",
       "      <td>dryad.png</td>\n",
       "      <td>664.0</td>\n",
       "      <td>2</td>\n",
       "      <td>275.0</td>\n",
       "      <td>[1, 1]</td>\n",
       "      <td>0.0</td>\n",
       "    </tr>\n",
       "    <tr>\n",
       "      <th>7</th>\n",
       "      <td>icon_7</td>\n",
       "      <td>empty.png</td>\n",
       "      <td>999.0</td>\n",
       "      <td>0</td>\n",
       "      <td>0.0</td>\n",
       "      <td>[1, 2]</td>\n",
       "      <td>0.0</td>\n",
       "    </tr>\n",
       "    <tr>\n",
       "      <th>8</th>\n",
       "      <td>icon_8</td>\n",
       "      <td>hunter.png</td>\n",
       "      <td>670.0</td>\n",
       "      <td>1</td>\n",
       "      <td>1489.0</td>\n",
       "      <td>[1, 3]</td>\n",
       "      <td>0.0</td>\n",
       "    </tr>\n",
       "    <tr>\n",
       "      <th>9</th>\n",
       "      <td>icon_9</td>\n",
       "      <td>crystal.png</td>\n",
       "      <td>270.0</td>\n",
       "      <td>2</td>\n",
       "      <td>605.0</td>\n",
       "      <td>[1, 4]</td>\n",
       "      <td>0.0</td>\n",
       "    </tr>\n",
       "    <tr>\n",
       "      <th>10</th>\n",
       "      <td>icon_10</td>\n",
       "      <td>dryad.png</td>\n",
       "      <td>319.0</td>\n",
       "      <td>2</td>\n",
       "      <td>580.0</td>\n",
       "      <td>[2, 0]</td>\n",
       "      <td>0.0</td>\n",
       "    </tr>\n",
       "    <tr>\n",
       "      <th>11</th>\n",
       "      <td>icon_11</td>\n",
       "      <td>empty.png</td>\n",
       "      <td>999.0</td>\n",
       "      <td>0</td>\n",
       "      <td>0.0</td>\n",
       "      <td>[2, 1]</td>\n",
       "      <td>0.0</td>\n",
       "    </tr>\n",
       "    <tr>\n",
       "      <th>12</th>\n",
       "      <td>icon_12</td>\n",
       "      <td>monkey.png</td>\n",
       "      <td>581.0</td>\n",
       "      <td>3</td>\n",
       "      <td>213.0</td>\n",
       "      <td>[2, 2]</td>\n",
       "      <td>0.0</td>\n",
       "    </tr>\n",
       "    <tr>\n",
       "      <th>13</th>\n",
       "      <td>icon_13</td>\n",
       "      <td>dryad.png</td>\n",
       "      <td>458.0</td>\n",
       "      <td>1</td>\n",
       "      <td>1982.5</td>\n",
       "      <td>[2, 3]</td>\n",
       "      <td>0.0</td>\n",
       "    </tr>\n",
       "    <tr>\n",
       "      <th>14</th>\n",
       "      <td>icon_14</td>\n",
       "      <td>crystal.png</td>\n",
       "      <td>368.0</td>\n",
       "      <td>1</td>\n",
       "      <td>2216.5</td>\n",
       "      <td>[2, 4]</td>\n",
       "      <td>0.0</td>\n",
       "    </tr>\n",
       "  </tbody>\n",
       "</table>\n",
       "</div>"
      ],
      "text/plain": [
       "    grid_id         unit  probability  rank  rank_error position  Age\n",
       "0    icon_0  crystal.png        185.0     2       605.0   [0, 0]  0.0\n",
       "1    icon_1  crystal.png        385.0     3       178.5   [0, 1]  0.0\n",
       "2    icon_2    dryad.png        291.0     2       585.0   [0, 2]  0.0\n",
       "3    icon_3   monkey.png        556.0     2       610.0   [0, 3]  0.0\n",
       "4    icon_4   hunter.png        249.0     3       213.0   [0, 4]  0.0\n",
       "5    icon_5   monkey.png        324.0     1      1217.0   [1, 0]  0.0\n",
       "6    icon_6    dryad.png        664.0     2       275.0   [1, 1]  0.0\n",
       "7    icon_7    empty.png        999.0     0         0.0   [1, 2]  0.0\n",
       "8    icon_8   hunter.png        670.0     1      1489.0   [1, 3]  0.0\n",
       "9    icon_9  crystal.png        270.0     2       605.0   [1, 4]  0.0\n",
       "10  icon_10    dryad.png        319.0     2       580.0   [2, 0]  0.0\n",
       "11  icon_11    empty.png        999.0     0         0.0   [2, 1]  0.0\n",
       "12  icon_12   monkey.png        581.0     3       213.0   [2, 2]  0.0\n",
       "13  icon_13    dryad.png        458.0     1      1982.5   [2, 3]  0.0\n",
       "14  icon_14  crystal.png        368.0     1      2216.5   [2, 4]  0.0"
      ]
     },
     "metadata": {},
     "output_type": "display_data"
    }
   ],
   "source": [
    "import os\n",
    "import time\n",
    "import pandas as pd\n",
    "import numpy as np\n",
    "# Android ADB\n",
    "from scrcpy import Client, const\n",
    "\n",
    "# Image processing\n",
    "from PIL import Image\n",
    "import cv2\n",
    "import pytesseract\n",
    "# Notebook\n",
    "from IPython.display import display,clear_output\n",
    "from tqdm.notebook import trange, tqdm\n",
    "# internal\n",
    "import bot_core\n",
    "import bot_perception\n",
    "\n",
    "import importlib\n",
    "importlib.reload(bot_core)\n",
    "importlib.reload(bot_perception)\n",
    "\n",
    "bot = bot_core.Bot()\n",
    "# Evaluate grid to update OCR images\n",
    "names=bot.scan_grid()\n",
    "grid_df=bot_perception.grid_status(names)\n",
    "display(grid_df)"
   ]
  },
  {
   "cell_type": "code",
   "execution_count": 13,
   "metadata": {},
   "outputs": [
    {
     "data": {
      "text/plain": [
       "b'\\x01\\x00\\x00\\x00\\x04test'"
      ]
     },
     "execution_count": 13,
     "metadata": {},
     "output_type": "execute_result"
    }
   ],
   "source": [
    "# Check if alive\n",
    "bot.client.control.text(\"test\")\n"
   ]
  },
  {
   "cell_type": "markdown",
   "metadata": {},
   "source": [
    "## Look for icons"
   ]
  },
  {
   "cell_type": "code",
   "execution_count": 51,
   "metadata": {},
   "outputs": [],
   "source": [
    "bot.getScreen()"
   ]
  },
  {
   "cell_type": "code",
   "execution_count": 106,
   "metadata": {},
   "outputs": [
    {
     "data": {
      "text/html": [
       "<div>\n",
       "<style scoped>\n",
       "    .dataframe tbody tr th:only-of-type {\n",
       "        vertical-align: middle;\n",
       "    }\n",
       "\n",
       "    .dataframe tbody tr th {\n",
       "        vertical-align: top;\n",
       "    }\n",
       "\n",
       "    .dataframe thead th {\n",
       "        text-align: right;\n",
       "    }\n",
       "</style>\n",
       "<table border=\"1\" class=\"dataframe\">\n",
       "  <thead>\n",
       "    <tr style=\"text-align: right;\">\n",
       "      <th></th>\n",
       "      <th>icon</th>\n",
       "      <th>available</th>\n",
       "      <th>pos [X,Y]</th>\n",
       "    </tr>\n",
       "  </thead>\n",
       "  <tbody>\n",
       "    <tr>\n",
       "      <th>0</th>\n",
       "      <td>0cont_button.png</td>\n",
       "      <td>False</td>\n",
       "      <td>(0, 0)</td>\n",
       "    </tr>\n",
       "    <tr>\n",
       "      <th>1</th>\n",
       "      <td>1quit.png</td>\n",
       "      <td>False</td>\n",
       "      <td>(0, 0)</td>\n",
       "    </tr>\n",
       "    <tr>\n",
       "      <th>2</th>\n",
       "      <td>back_button.png</td>\n",
       "      <td>False</td>\n",
       "      <td>(0, 0)</td>\n",
       "    </tr>\n",
       "    <tr>\n",
       "      <th>3</th>\n",
       "      <td>battle_icon.png</td>\n",
       "      <td>False</td>\n",
       "      <td>(0, 0)</td>\n",
       "    </tr>\n",
       "    <tr>\n",
       "      <th>4</th>\n",
       "      <td>fighting.png</td>\n",
       "      <td>True</td>\n",
       "      <td>(669, 1359)</td>\n",
       "    </tr>\n",
       "    <tr>\n",
       "      <th>5</th>\n",
       "      <td>pvp_button.png</td>\n",
       "      <td>False</td>\n",
       "      <td>(0, 0)</td>\n",
       "    </tr>\n",
       "  </tbody>\n",
       "</table>\n",
       "</div>"
      ],
      "text/plain": [
       "               icon  available    pos [X,Y]\n",
       "0  0cont_button.png      False       (0, 0)\n",
       "1         1quit.png      False       (0, 0)\n",
       "2   back_button.png      False       (0, 0)\n",
       "3   battle_icon.png      False       (0, 0)\n",
       "4      fighting.png       True  (669, 1359)\n",
       "5    pvp_button.png      False       (0, 0)"
      ]
     },
     "execution_count": 106,
     "metadata": {},
     "output_type": "execute_result"
    }
   ],
   "source": [
    "# Check current screen\n",
    "bot.get_current_icons(False)"
   ]
  },
  {
   "cell_type": "code",
   "execution_count": 16,
   "metadata": {},
   "outputs": [],
   "source": [
    "#bot.click_button(pos)\n",
    "#bot.click(460,1560)\n"
   ]
  },
  {
   "cell_type": "code",
   "execution_count": null,
   "metadata": {},
   "outputs": [],
   "source": [
    "#bot.getScreen()\n",
    "# Battle icon\n",
    "#bot.crop_img(360,1420,180,180,name='battle_icon.png')\n",
    "# PVP button\n",
    "#bot.crop_img(140,1260,200,80,name='pvp_button.png')\n",
    "#back button\n",
    "#bot.crop_img(60,1480,70,70,name='back_button.png')\n",
    "#continue button\n",
    "#bot.crop_img(380,1460,70,70,name='cont_button.png')\n",
    "#fight_portal\n",
    "bot.crop_img(670,1360,60,60,name='fighting.png')\n",
    "\n",
    "Image.open('fighting.png')\n",
    "\n"
   ]
  },
  {
   "cell_type": "markdown",
   "metadata": {},
   "source": [
    "## Parse Grid"
   ]
  },
  {
   "cell_type": "code",
   "execution_count": 87,
   "metadata": {},
   "outputs": [],
   "source": [
    "# great for unit type \n",
    "#top_box=(180,970)\n",
    "#box_size=(60,60)\n",
    "#gap=60\n",
    "\n",
    "#slightly cropped\n",
    "#top_box=(170,960)\n",
    "#box_size=(90,90)\n",
    "#gap=30c\n",
    "#full grid\n",
    "top_box=(153,945)\n",
    "box_size=(120,120)\n",
    "gap=0\n"
   ]
  },
  {
   "cell_type": "markdown",
   "metadata": {},
   "source": [
    "# Add icon"
   ]
  },
  {
   "cell_type": "code",
   "execution_count": 2,
   "metadata": {},
   "outputs": [],
   "source": [
    "# Convert to unit icon \n",
    "def crop_img(input, x, y, dx, dy, name='icon.png'):\n",
    "    # Load screen\n",
    "    img_rgb = cv2.imread(input)\n",
    "    img_rgb = img_rgb[y:y + dy, x:x + dx]\n",
    "    # Convert to grayscale (done internally by tessarct )\n",
    "    #img_rgb = cv2.cvtColor(img_rgb, cv2.COLOR_BGR2GRAY)\n",
    "    #(a, img_gray) = cv2.threshold(img_rgb, 127, 255, cv2.THRESH_BINARY)\n",
    "    cv2.imwrite(name, img_rgb)\n",
    "    img_rgb = cv2.cvtColor(img_rgb, cv2.COLOR_BGR2RGB)\n",
    "    display(Image.fromarray(img_rgb))"
   ]
  },
  {
   "cell_type": "code",
   "execution_count": 10,
   "metadata": {},
   "outputs": [
    {
     "data": {
      "image/png": "[encoded data removed]",
      "text/plain": [
       "<PIL.Image.Image image mode=RGB size=90x90>"
      ]
     },
     "metadata": {},
     "output_type": "display_data"
    }
   ],
   "source": [
    "# Add unit\n",
    "name = 'dr5ad.png'\n",
    "crop_img('OCR_inputs/icon_5.png',17,15,90,90,name)"
   ]
  },
  {
   "cell_type": "code",
   "execution_count": 6,
   "metadata": {},
   "outputs": [
    {
     "data": {
      "image/png": "[encoded data removed]",
      "text/plain": [
       "<PIL.Image.Image image mode=RGB size=80x80>"
      ]
     },
     "metadata": {},
     "output_type": "display_data"
    }
   ],
   "source": [
    "# Add button\n",
    "name = 'start_dungeon.png'\n",
    "crop_img('emulator-5554-screenshot.png',130,950,80,80,name)\n",
    "#420 pixel down offset for 1st floor in chapter\n",
    "#760 pixel down offset for 2nd floor in chapter\n",
    "\n",
    "#400-500 pixel offset right for expand chapter button"
   ]
  },
  {
   "cell_type": "code",
   "execution_count": 12,
   "metadata": {},
   "outputs": [
    {
     "data": {
      "image/png": "[encoded data removed]",
      "text/plain": [
       "<PIL.Image.Image image mode=RGB size=110x110>"
      ]
     },
     "metadata": {},
     "output_type": "display_data"
    }
   ],
   "source": [
    "# Add rank\n",
    "name = 'rank1.png'\n",
    "crop_img('OCR_inputs/icon_8.png',5,5,110,110,name)"
   ]
  },
  {
   "cell_type": "code",
   "execution_count": 60,
   "metadata": {},
   "outputs": [
    {
     "data": {
      "image/png": "[encoded data removed]",
      "text/plain": [
       "<PIL.Image.Image image mode=RGB size=60x60>"
      ]
     },
     "metadata": {},
     "output_type": "display_data"
    }
   ],
   "source": [
    "# Add rank\n",
    "name = 'rank1.png'\n",
    "crop_img('OCR_inputs/icon_8.png',5,5,60,60,name)"
   ]
  },
  {
   "cell_type": "code",
   "execution_count": 8,
   "metadata": {},
   "outputs": [
    {
     "data": {
      "image/png": "[encoded data removed]",
      "text/plain": [
       "<PIL.Image.Image image mode=RGB size=110x110>"
      ]
     },
     "metadata": {},
     "output_type": "display_data"
    }
   ],
   "source": [
    "# cuts out middle pixels from unit icon\n",
    "def crop_rank(input,name=input):\n",
    "    img_rgb = cv2.imread(input)\n",
    "    keep=18\n",
    "    img_rgb[keep:-keep,keep:-keep] = 0\n",
    "    cv2.imwrite(name, img_rgb)\n",
    "    #display\n",
    "    img_rgb = cv2.cvtColor(img_rgb, cv2.COLOR_BGR2RGB)\n",
    "    display(Image.fromarray(img_rgb))\n",
    "\n",
    "crop_rank('rank1.png','rank1_C.png')"
   ]
  },
  {
   "cell_type": "code",
   "execution_count": 34,
   "metadata": {},
   "outputs": [
    {
     "data": {
      "image/png": "[encoded data removed]",
      "text/plain": [
       "<PIL.Image.Image image mode=L size=120x120>"
      ]
     },
     "metadata": {},
     "output_type": "display_data"
    }
   ],
   "source": [
    "# cuts out middle pixels from unit icon\n",
    "def image_to_binary(input,name=input):\n",
    "    img = cv2.imread(input)\n",
    "    gray = cv2.cvtColor(img, cv2.COLOR_BGR2GRAY)\n",
    "    keep=30\n",
    "    #gray[keep:-keep,keep:-keep] = 255\n",
    "    #thresh = cv2.threshold(gray, 0, 255, cv2.THRESH_BINARY + cv2.THRESH_OTSU)[1]\n",
    "    thresh = cv2.threshold(gray,180,255,cv2.THRESH_BINARY)[1]\n",
    "    cv2.imwrite(name, thresh)\n",
    "    display(Image.fromarray(thresh))\n",
    "name = 'rank5.png'\n",
    "image_to_binary('OCR_inputs/icon_11.png',name)"
   ]
  },
  {
   "cell_type": "code",
   "execution_count": 103,
   "metadata": {},
   "outputs": [
    {
     "data": {
      "text/plain": [
       "unit\n",
       "lightning.png    5\n",
       "empty.png        3\n",
       "fire_mage.png    3\n",
       "archer.png       2\n",
       "cold_mage.png    2\n",
       "Name: unit, dtype: int64"
      ]
     },
     "execution_count": 103,
     "metadata": {},
     "output_type": "execute_result"
    }
   ],
   "source": [
    "df_split, df_groups, unit_list = bot_core.get_unit_count(grid_df)\n",
    "df_groups.sort_values(ascending=False)"
   ]
  },
  {
   "cell_type": "code",
   "execution_count": 11,
   "metadata": {},
   "outputs": [
    {
     "data": {
      "text/plain": [
       "(110, 110, 3)"
      ]
     },
     "execution_count": 11,
     "metadata": {},
     "output_type": "execute_result"
    }
   ],
   "source": [
    "np.shape(img_rgb[:,:,0])"
   ]
  },
  {
   "cell_type": "code",
   "execution_count": null,
   "metadata": {},
   "outputs": [],
   "source": []
  }
 ],
 "metadata": {
  "interpreter": {
   "hash": "222f52f3d4ea82340b8e438915cd2cce29310e9a34a09f1d931c12bfa7062449"
  },
  "kernelspec": {
   "display_name": "Python 3.9.12 ('Rush-Royale-Bot')",
   "language": "python",
   "name": "python3"
  },
  "language_info": {
   "codemirror_mode": {
    "name": "ipython",
    "version": 3
   },
   "file_extension": ".py",
   "mimetype": "text/x-python",
   "name": "python",
   "nbconvert_exporter": "python",
   "pygments_lexer": "ipython3",
   "version": "3.9.12"
  },
  "orig_nbformat": 4
 },
 "nbformat": 4,
 "nbformat_minor": 2
}
